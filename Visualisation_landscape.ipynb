{
 "cells": [
  {
   "cell_type": "code",
   "execution_count": 5,
   "metadata": {},
   "outputs": [],
   "source": [
    "\"\"\"\n",
    "METHOD\n",
    "\n",
    "1) Train a model fully with the leNet5 net and the mnist dataset\n",
    "2) Retrive it's weights (for each parameters and compute it's loss function)\n",
    "\n",
    "\"\"\"\n",
    "import torch\n",
    "import torch.nn as nn\n",
    "import torchvision.datasets as datasets\n",
    "import torchvision.transforms as transforms\n",
    "from torch.utils.data import DataLoader\n",
    "\n",
    "import matplotlib.pyplot as plt\n",
    "import numpy as np\n",
    "\n",
    "# Define the LeNet5 model\n",
    "class LeNet5(nn.Module):\n",
    "    def __init__(self):\n",
    "        super(LeNet5, self).__init__()\n",
    "        self.conv1 = nn.Conv2d(1, 6, kernel_size=5)\n",
    "        self.conv2 = nn.Conv2d(6, 16, kernel_size=5)\n",
    "        self.fc1 = nn.Linear(16*4*4, 120)\n",
    "        self.fc2 = nn.Linear(120, 84)\n",
    "        self.fc3 = nn.Linear(84, 10)\n",
    "\n",
    "    def forward(self, x):\n",
    "        x = nn.functional.relu(self.conv1(x))\n",
    "        x = nn.functional.max_pool2d(x, 2)\n",
    "        x = nn.functional.relu(self.conv2(x))\n",
    "        x = nn.functional.max_pool2d(x, 2)\n",
    "        x = x.view(-1, 16*4*4)\n",
    "        x = nn.functional.relu(self.fc1(x))\n",
    "        x = nn.functional.relu(self.fc2(x))\n",
    "        x = self.fc3(x)\n",
    "        return x\n",
    "\n",
    "# Load the MNIST dataset\n",
    "transform = transforms.Compose([transforms.ToTensor(), transforms.Normalize((0.1307,), (0.3081,))])\n",
    "train_dataset = datasets.MNIST(root='./data', train=True, download=True, transform=transform)\n",
    "train_loader = torch.utils.data.DataLoader(train_dataset, batch_size=32, shuffle=True)\n"
   ]
  },
  {
   "cell_type": "code",
   "execution_count": 2,
   "metadata": {},
   "outputs": [
    {
     "name": "stdout",
     "output_type": "stream",
     "text": [
      "Epoch: 1/5, Loss: 0.1958, Accuracy: 93.77%\n",
      "Epoch: 2/5, Loss: 0.0628, Accuracy: 98.08%\n",
      "Epoch: 3/5, Loss: 0.0471, Accuracy: 98.61%\n",
      "Epoch: 4/5, Loss: 0.0371, Accuracy: 98.82%\n",
      "Epoch: 5/5, Loss: 0.0301, Accuracy: 99.07%\n"
     ]
    }
   ],
   "source": [
    "# Training of the model\n",
    "\n",
    "# Define the loss function\n",
    "criterion = nn.CrossEntropyLoss()\n",
    "\n",
    "# Initialize a list to store the loss values\n",
    "loss_values = []\n",
    "\n",
    "# Train the model and store the loss values\n",
    "model = LeNet5()\n",
    "# parameters \n",
    "num_epochs = 5\n",
    "\n",
    "optimizer = torch.optim.Adam(model.parameters(), lr=0.001)\n",
    "for epoch in range(num_epochs):\n",
    "    total_loss = 0\n",
    "    correct = 0\n",
    "    total = 0\n",
    "    for i, (images, labels) in enumerate(train_loader):\n",
    "        optimizer.zero_grad()\n",
    "        outputs = model(images)\n",
    "        loss = criterion(outputs, labels)\n",
    "        loss.backward()\n",
    "        optimizer.step()\n",
    "        loss_values.append(loss.item())\n",
    "        \n",
    "        total_loss += loss.item()\n",
    "        _, predicted = torch.max(outputs, 1)\n",
    "        correct += (predicted == labels).sum().item()\n",
    "        total += labels.size(0)\n",
    "\n",
    "    accuracy = correct / total * 100\n",
    "    avg_loss = total_loss / (i + 1)\n",
    "    print(f'Epoch: {epoch + 1}/{num_epochs}, Loss: {avg_loss:.4f}, Accuracy: {accuracy:.2f}%')  \n",
    "\n",
    "# Save the trained model weights\n",
    "model_weights_path = 'models_weights/lenet5_mnist_weights.pth'\n",
    "torch.save(model.state_dict(), model_weights_path)"
   ]
  },
  {
   "cell_type": "code",
   "execution_count": 6,
   "metadata": {},
   "outputs": [
    {
     "data": {
      "text/plain": [
       "<All keys matched successfully>"
      ]
     },
     "execution_count": 6,
     "metadata": {},
     "output_type": "execute_result"
    }
   ],
   "source": [
    "# IF THE MODEL IS ALREADY TRAINED\n",
    "# Load the saved model\n",
    "model_weights_path = 'models_weights/lenet5_mnist_weights.pth'\n",
    "saved_weights = torch.load(model_weights_path)\n",
    "# Create a new model and load the saved weights\n",
    "learnt_net = LeNet5()\n",
    "learnt_net.load_state_dict(saved_weights)"
   ]
  },
  {
   "attachments": {},
   "cell_type": "markdown",
   "metadata": {},
   "source": [
    "# Ways of plotting th loss function \n",
    "Neural networks are trained on a corpus of feature vectors (e.g., images) {xi} and accompanying\n",
    "labels {yi} by minimizing a loss of the form L(θ) = sum (for i in dataset) Loss (xi, yi; θ), where θ denotes the\n",
    "parameters (weights) of the neural network, the function `(xi, yi; θ) measures how well the neural\n",
    "network with parameters θ predicts the label of a data sample, and m is the number of data samples.\n",
    "Neural nets contain many parameters, and so their loss functions live in a very high-dimensional\n",
    "space. Unfortunately, visualizations are only possible using low-dimensional 1D (line) or 2D (surface)\n",
    "plots. Several methods exist for closing this dimensionality gap.\n",
    "1-Dimensional Linear Interpolation One simple and lightweight way to plot loss functions is\n",
    "to choose two sets of parameters θ and θ\n",
    "0\n",
    ", and plot the values of the loss function along the line\n",
    "connecting these two points. We can parameterize this line by choosing a scalar parameter α, and\n",
    "defining the weighted average θ(α) = (1−α)θ+αθ0\n",
    ". Finally, we plot the function f(α) = L(θ(α)).\n",
    "This strategy was taken by Goodfellow et al. [13], who studied the loss surface along the line between\n",
    "a random initial guess, and a nearby minimizer obtained by stochastic gradient descent. This method\n",
    "has been widely used to study the “sharpness” and “flatness” of different minima, and the dependence. However there is some limitation in the plotting of such a 1D loss landscape.\n",
    "\n",
    "For 2D visulization : \n",
    "Contour Plots & Random Directions To use this approach, one chooses a center point θ in the graph, and chooses two direction vectors, δ and η. One then plots a function of the form\n",
    "f(α) = L(θ + αδ) in the 1D (line) case, or f(α, β) = L(θ∗ + αδ + βη)\n",
    "\n",
    "# Interesting approch : Filter-Wise Normalization\n",
    "\n",
    "\n"
   ]
  },
  {
   "cell_type": "code",
   "execution_count": 7,
   "metadata": {},
   "outputs": [],
   "source": [
    "from torch.nn.utils import (\n",
    "  parameters_to_vector as Params2Vec,\n",
    "  vector_to_parameters as Vec2Params\n",
    ")\n",
    "\n",
    "theta_ast = Params2Vec(learnt_net.parameters())\n",
    "\n",
    "infer_net = LeNet5()\n",
    "theta = Params2Vec(infer_net.parameters())\n",
    "\n",
    "loss_fn = torch.nn.NLLLoss()\n"
   ]
  },
  {
   "cell_type": "code",
   "execution_count": 16,
   "metadata": {},
   "outputs": [
    {
     "data": {
      "text/plain": [
       "'torch.FloatTensor'"
      ]
     },
     "execution_count": 16,
     "metadata": {},
     "output_type": "execute_result"
    }
   ],
   "source": [
    "theta_ast.type()"
   ]
  },
  {
   "cell_type": "code",
   "execution_count": null,
   "metadata": {},
   "outputs": [],
   "source": [
    "# Method to plot the loss fucntion from internet\n",
    "\n",
    "\"\"\"\n",
    "x = torch.linspace(-20, 20, 20)\n",
    "y = torch.linspace(-20, 20, 20)\n",
    "alpha, beta = torch.meshgrid(x, y)\n",
    "space = tau_2d(alpha, beta, theta_ast)\n",
    "\n",
    "losses = torch.empty_like(space[0, :, :])\n",
    "\n",
    "for a, _ in enumerate(x):\n",
    "  print(f'a = {a}')\n",
    "  for b, _ in enumerate(y):\n",
    "    Vec2Params(space[:, a, b], infer_net.parameters())\n",
    "    for _, (data, label) in enumerate(train_loader):\n",
    "      with torch.no_grad():\n",
    "        infer_net.eval()\n",
    "        losses[a][b] = loss_fn(infer_net(data), label).item()\n",
    "        \n",
    "\n",
    "\"\"\""
   ]
  },
  {
   "cell_type": "code",
   "execution_count": 8,
   "metadata": {},
   "outputs": [
    {
     "name": "stderr",
     "output_type": "stream",
     "text": [
      "c:\\Users\\Robin\\anaconda3\\lib\\site-packages\\torch\\functional.py:504: UserWarning: torch.meshgrid: in an upcoming release, it will be required to pass the indexing argument. (Triggered internally at ..\\aten\\src\\ATen\\native\\TensorShape.cpp:3484.)\n",
      "  return _VF.meshgrid(tensors, **kwargs)  # type: ignore[attr-defined]\n"
     ]
    }
   ],
   "source": [
    "def tau_2d(alpha, beta, theta_ast):\n",
    "  a = alpha * theta_ast[:,None,None]\n",
    "  b = beta * alpha * theta_ast[:,None,None]\n",
    "  return a + b\n",
    "\n",
    "# Define the range and step size\n",
    "x = torch.linspace(-100, 100, 10)\n",
    "y = torch.linspace(-100, 100, 10) \n",
    "\n",
    "alpha, beta = torch.meshgrid(x, y)\n",
    "space = tau_2d(alpha, beta, theta_ast)\n",
    "\n",
    "losses = torch.empty_like(space[0, :, :])\n",
    "\n",
    "# Set batch size and create data loader\n",
    "batch_size = 32\n",
    "train_loader = DataLoader(train_dataset, batch_size=batch_size, shuffle=True)\n",
    "\n",
    "# Making the loss landscape on only one batch\n",
    "\n",
    "data, label = next(iter(train_loader))\n",
    "\n",
    "# Maybe try to see it on one batch only\n",
    "for a, _ in enumerate(x):\n",
    "    #print(f'a = {a}')\n",
    "    for b, _ in enumerate(y):\n",
    "        Vec2Params(space[:, a, b], infer_net.parameters())\n",
    "        total_loss = 0\n",
    "        total_samples = 0\n",
    "        \n",
    "        with torch.no_grad():\n",
    "            infer_net.eval()\n",
    "            batch_size = data.size(0)\n",
    "            total_samples += batch_size\n",
    "            loss = loss_fn(infer_net(data), label)\n",
    "            total_loss += loss.item() * batch_size\n",
    "\n",
    "        losses[a][b] = total_loss / total_samples"
   ]
  },
  {
   "cell_type": "code",
   "execution_count": 9,
   "metadata": {},
   "outputs": [],
   "source": [
    "# Save the table to a file\n",
    "np.savetxt('loss_landscape.txt', losses)\n"
   ]
  },
  {
   "cell_type": "code",
   "execution_count": 10,
   "metadata": {},
   "outputs": [],
   "source": [
    "import numpy as np\n",
    "import matplotlib.pyplot as plt\n",
    "# Load the table from the file\n",
    "loadedTable = np.loadtxt('loss_landscape.txt')"
   ]
  },
  {
   "cell_type": "code",
   "execution_count": 11,
   "metadata": {},
   "outputs": [
    {
     "data": {
      "text/plain": [
       "array([[-9.95615836e+20, -2.79314533e+20, -5.05953646e+19,\n",
       "        -3.69971507e+18, -1.10639614e+16, -6.70278910e+16,\n",
       "        -1.22719659e+19, -1.48836843e+20, -7.80463471e+20,\n",
       "        -2.70358995e+21],\n",
       "       [-2.83380158e+20, -7.95007336e+19, -1.44008601e+19,\n",
       "        -1.05304256e+18, -3.14911324e+15, -1.90780300e+16,\n",
       "        -3.49294668e+18, -4.23631451e+19, -2.22141811e+20,\n",
       "        -7.69517402e+20],\n",
       "       [-5.26901321e+19, -1.47819256e+19, -2.67761565e+18,\n",
       "        -1.95796890e+17, -5.85528462e+14, -3.54726852e+15,\n",
       "        -6.49459391e+17, -7.87676991e+18, -4.13038272e+19,\n",
       "        -1.43079835e+20],\n",
       "       [-4.09718495e+18, -1.14944265e+18, -2.08211407e+17,\n",
       "        -1.52251662e+16, -4.55306505e+13, -2.75836456e+14,\n",
       "        -5.05020422e+16, -6.12498277e+17, -3.21178726e+18,\n",
       "        -1.11258955e+19],\n",
       "       [-1.68608551e+16, -4.73021928e+15, -8.56837520e+14,\n",
       "        -6.26549745e+13, -1.87368260e+11, -1.13514853e+12,\n",
       "        -2.07828720e+14, -2.52058048e+15, -1.32172830e+16,\n",
       "        -4.57857258e+16],\n",
       "       [-4.14285029e+16, -1.16225466e+16, -2.10532559e+15,\n",
       "        -1.53949496e+14, -4.60393611e+11, -4.61978698e+11,\n",
       "        -8.45829972e+13, -1.02584072e+15, -5.37925649e+15,\n",
       "        -1.86341902e+16],\n",
       "       [-1.00670900e+19, -2.82426769e+18, -5.11591559e+17,\n",
       "        -3.74094830e+16, -1.11873429e+14, -1.12261125e+14,\n",
       "        -2.05536777e+16, -2.49279180e+17, -1.30715866e+18,\n",
       "        -4.52810444e+18],\n",
       "       [-1.29463571e+20, -3.63202995e+19, -6.57910485e+18,\n",
       "        -4.81088186e+17, -1.43869593e+15, -1.44368843e+15,\n",
       "        -2.64321960e+17, -3.20575067e+18, -1.68101639e+19,\n",
       "        -5.82317983e+19],\n",
       "       [-6.96285846e+20, -1.95339201e+20, -3.53839840e+19,\n",
       "        -2.58740567e+18, -7.73763752e+15, -7.76450415e+15,\n",
       "        -1.42158676e+18, -1.72412934e+19, -9.04090852e+19,\n",
       "        -3.13184575e+20],\n",
       "       [-2.44630127e+21, -6.86296299e+20, -1.24316581e+20,\n",
       "        -9.09047682e+18, -2.71850621e+16, -2.72794826e+16,\n",
       "        -4.99454311e+18, -6.05748268e+19, -3.17639445e+20,\n",
       "        -1.10032938e+21]])"
      ]
     },
     "execution_count": 11,
     "metadata": {},
     "output_type": "execute_result"
    }
   ],
   "source": [
    "loadedTable"
   ]
  },
  {
   "cell_type": "code",
   "execution_count": 12,
   "metadata": {},
   "outputs": [
    {
     "data": {
      "image/png": "[encoded data removed]",
      "text/plain": [
       "<Figure size 640x480 with 2 Axes>"
      ]
     },
     "metadata": {},
     "output_type": "display_data"
    }
   ],
   "source": [
    "# without normalization\n",
    "type(loadedTable)\n",
    "def plot_2d_array(array):\n",
    "    plt.imshow(array, cmap='viridis')\n",
    "    plt.colorbar()\n",
    "    plt.show()\n",
    "    \n",
    "plot_2d_array(loadedTable)"
   ]
  },
  {
   "cell_type": "code",
   "execution_count": null,
   "metadata": {},
   "outputs": [],
   "source": [
    "# with normalization\n"
   ]
  },
  {
   "cell_type": "code",
   "execution_count": 2,
   "metadata": {},
   "outputs": [
    {
     "ename": "",
     "evalue": "",
     "output_type": "error",
     "traceback": [
      "\u001b[1;31mCanceled future for execute_request message before replies were done"
     ]
    },
    {
     "ename": "",
     "evalue": "",
     "output_type": "error",
     "traceback": [
      "\u001b[1;31mThe Kernel crashed while executing code in the the current cell or a previous cell. Please review the code in the cell(s) to identify a possible cause of the failure. Click <a href='https://aka.ms/vscodeJupyterKernelCrash'>here</a> for more info. View Jupyter <a href='command:jupyter.viewOutput'>log</a> for further details."
     ]
    }
   ],
   "source": [
    "import torch\n",
    "import numpy as np\n",
    "import matplotlib.pyplot as plt\n",
    "import copy\n",
    "\n",
    "def filterwise_normalize(direction, model):\n",
    "    norm_direction = []\n",
    "    idx = 0\n",
    "    for param in model.parameters():\n",
    "        param_size = param.size()\n",
    "        param_direction = direction[idx: idx + param.numel()].view(param_size)\n",
    "        norm_param_direction = param_direction * (param.norm() / param_direction.norm())\n",
    "        norm_direction.append(norm_param_direction)\n",
    "        idx += param.numel()\n",
    "    return norm_direction\n",
    "\n",
    "def loss_landscape(model, criterion, data, labels, center, alpha_range, beta_range, num_steps):\n",
    "    model.eval()\n",
    "    grid_loss = np.zeros((num_steps, num_steps))\n",
    "    random_direction1 = torch.normal(mean=0, std=1, size=(sum(p.numel() for p in model.parameters()),))\n",
    "    random_direction2 = torch.normal(mean=0, std=1, size=(sum(p.numel() for p in model.parameters()),))\n",
    "    \n",
    "    direction1 = filterwise_normalize(random_direction1, model)\n",
    "    direction2 = filterwise_normalize(random_direction2, model)\n",
    "    \n",
    "    original_params = [param.clone() for param in model.parameters()]\n",
    "    \n",
    "    with torch.no_grad():\n",
    "        for i, alpha in enumerate(alpha_range):\n",
    "            for j, beta in enumerate(beta_range):\n",
    "                for original_param, param, d1, d2 in zip(original_params, model.parameters(), direction1, direction2):\n",
    "                    param_size = param.size()\n",
    "                    update = (alpha * d1.view(-1) + beta * d2.view(-1)).view(param_size)\n",
    "                    param.data.copy_(original_param + update)\n",
    "                \n",
    "                temp_output = model(data)\n",
    "                grid_loss[j, i] = criterion(temp_output, labels).item()\n",
    "    \n",
    "    # Restore the original parameters\n",
    "    for original_param, param in zip(original_params, model.parameters()):\n",
    "        param.data.copy_(original_param)\n",
    "    \n",
    "    return grid_loss\n",
    "\n",
    "# Generate a random mini-batch from the train_loader\n",
    "data, labels = next(iter(train_loader))\n",
    "\n",
    "# Generate the alpha and beta range for the plot\n",
    "num_steps = 10\n",
    "alpha_range = np.linspace(-1, 1, num_steps)\n",
    "beta_range = np.linspace(-1, 1, num_steps)\n",
    "\n",
    "# Compute the loss landscape\n",
    "grid_loss = loss_landscape(model, criterion, data, labels, model.state_dict(), alpha_range, beta_range, num_steps)\n",
    "\n",
    "# Plot the loss landscape\n",
    "plt.contourf(alpha_range, beta_range, grid_loss, levels=100, cmap=\"viridis\")\n",
    "plt.xlabel(\"Alpha\")\n",
    "plt.ylabel(\"Beta\")\n",
    "plt.title(\"Loss Landscape with Filter-wise Normalization\")\n",
    "plt.colorbar()\n",
    "plt.show()\n"
   ]
  }
 ],
 "metadata": {
  "kernelspec": {
   "display_name": "base",
   "language": "python",
   "name": "python3"
  },
  "language_info": {
   "codemirror_mode": {
    "name": "ipython",
    "version": 3
   },
   "file_extension": ".py",
   "mimetype": "text/x-python",
   "name": "python",
   "nbconvert_exporter": "python",
   "pygments_lexer": "ipython3",
   "version": "3.10.9"
  },
  "orig_nbformat": 4
 },
 "nbformat": 4,
 "nbformat_minor": 2
}
