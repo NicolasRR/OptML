{
 "cells": [
  {
   "cell_type": "code",
   "execution_count": null,
   "id": "92d68101",
   "metadata": {
    "execution": {
     "iopub.execute_input": "2023-04-21T01:28:38.005224Z",
     "iopub.status.busy": "2023-04-21T01:28:38.004575Z",
     "iopub.status.idle": "2023-04-21T01:28:38.014953Z",
     "shell.execute_reply": "2023-04-21T01:28:38.014048Z"
    },
    "papermill": {
     "duration": 0.031346,
     "end_time": "2023-04-21T01:28:38.016437",
     "exception": false,
     "start_time": "2023-04-21T01:28:37.985091",
     "status": "completed"
    },
    "tags": [
     "parameters"
    ]
   },
   "outputs": [],
   "source": [
    "# Parameters\n",
    "model_classic = None\n",
    "model_sync = None\n",
    "model_async = None\n",
    "include_classification_report = None"
   ]
  },
  {
   "cell_type": "code",
   "execution_count": null,
   "id": "53649dfe",
   "metadata": {
    "execution": {
     "iopub.execute_input": "2023-04-21T01:28:38.056841Z",
     "iopub.status.busy": "2023-04-21T01:28:38.056587Z",
     "iopub.status.idle": "2023-04-21T01:28:38.452761Z",
     "shell.execute_reply": "2023-04-21T01:28:38.451715Z"
    },
    "papermill": {
     "duration": 0.40857,
     "end_time": "2023-04-21T01:28:38.454521",
     "exception": false,
     "start_time": "2023-04-21T01:28:38.045951",
     "status": "completed"
    },
    "tags": []
   },
   "outputs": [],
   "source": [
    "from IPython.display import display, HTML\n",
    "\n",
    "display(HTML(\"<style>.container { width:80% !important; }</style>\"))\n",
    "\n",
    "from datetime import datetime, timedelta\n",
    "import matplotlib.pyplot as plt\n",
    "from matplotlib.ticker import FuncFormatter\n",
    "import subprocess\n",
    "import os\n",
    "\n",
    "\n",
    "def format_timedelta(x, pos):\n",
    "    td = timedelta(seconds=x)\n",
    "    minutes, remainder = divmod(td.seconds, 60)\n",
    "    seconds = remainder\n",
    "    milliseconds = td.microseconds // 1000\n",
    "    return f\"{minutes:02d}:{seconds:02d}:{milliseconds:03d}\""
   ]
  },
  {
   "cell_type": "markdown",
   "id": "052e9821",
   "metadata": {
    "papermill": {
     "duration": 0.009915,
     "end_time": "2023-04-21T01:28:38.472395",
     "exception": false,
     "start_time": "2023-04-21T01:28:38.462480",
     "status": "completed"
    },
    "tags": []
   },
   "source": [
    "# Plots"
   ]
  },
  {
   "cell_type": "markdown",
   "id": "38ceed67",
   "metadata": {
    "papermill": {
     "duration": 0.009948,
     "end_time": "2023-04-21T01:28:38.492069",
     "exception": false,
     "start_time": "2023-04-21T01:28:38.482121",
     "status": "completed"
    },
    "tags": []
   },
   "source": [
    "## Classic SGD (non distributed)"
   ]
  },
  {
   "cell_type": "code",
   "execution_count": null,
   "id": "adc48865",
   "metadata": {
    "execution": {
     "iopub.execute_input": "2023-04-21T01:28:38.514770Z",
     "iopub.status.busy": "2023-04-21T01:28:38.514422Z",
     "iopub.status.idle": "2023-04-21T01:28:38.936312Z",
     "shell.execute_reply": "2023-04-21T01:28:38.935424Z"
    },
    "papermill": {
     "duration": 0.435345,
     "end_time": "2023-04-21T01:28:38.937974",
     "exception": false,
     "start_time": "2023-04-21T01:28:38.502629",
     "status": "completed"
    },
    "tags": []
   },
   "outputs": [],
   "source": [
    "file_name = \"log.log\"\n",
    "if (\n",
    "    os.path.exists(file_name) and model_classic is not None\n",
    "):  # remove model_classic condition if run from notebook\n",
    "    lines = []\n",
    "    with open(\"log.log\", \"r\") as log_file:\n",
    "        # Iterate through each line in the log file\n",
    "        for line in log_file:\n",
    "            lines.append(line.split(\" - __main__ - \"))\n",
    "\n",
    "    for i, line in enumerate(lines):\n",
    "        timestamp = datetime.strptime(line[0], \"%Y-%m-%d %H:%M:%S,%f\")\n",
    "        lines[i][0] = timestamp\n",
    "\n",
    "    del_list = []\n",
    "    for i, line in enumerate(lines):\n",
    "        if \"INFO\" in line[1]:\n",
    "            del_list.append(i)\n",
    "\n",
    "    del_list = sorted(del_list, reverse=True)\n",
    "    for idx in del_list:\n",
    "        if idx < len(lines):\n",
    "            lines.pop(idx)\n",
    "\n",
    "    start_time = lines[0][0]\n",
    "    end_time = lines[-1][0]\n",
    "    training_time_classic = end_time - start_time\n",
    "\n",
    "    minutes, remainder = divmod(training_time_classic.seconds, 60)\n",
    "    seconds = remainder\n",
    "    milliseconds = training_time_classic.microseconds // 1000\n",
    "    formatted_training_time_classic = f\"{minutes:02d}:{seconds:02d}:{milliseconds:03d}\"\n",
    "    print(\"Classic training time:\", formatted_training_time_classic)  # MM:SS:sss\n",
    "\n",
    "    for i, line in enumerate(lines):\n",
    "        lines[i][0] = line[0] - start_time\n",
    "        lines[i][1] = line[1].split(\"DEBUG - \")[1].strip()\n",
    "\n",
    "    model_update_lines = []\n",
    "    for line in lines:\n",
    "        splited_text = line[1].split(\",\")\n",
    "        model_update_lines.append(\n",
    "            (\n",
    "                line[0],\n",
    "                float(splited_text[0].split(\" \")[1]),\n",
    "                int(splited_text[1].split(\" \")[3][1:-1].split(\"/\")[0]),\n",
    "                int(splited_text[2].split(\" \")[2].split(\"/\")[0]),\n",
    "            )\n",
    "        )\n",
    "\n",
    "    ####### PLOTS #######\n",
    "    # Create a 1x2 grid of subplots\n",
    "    fig, axs = plt.subplots(nrows=1, ncols=2, figsize=(20, 5))\n",
    "\n",
    "    # First subplot (Model Loss vs Time)\n",
    "    timedeltas = [line[0].total_seconds() for line in model_update_lines]\n",
    "    losses = [line[1] for line in model_update_lines]\n",
    "\n",
    "    axs[0].scatter(timedeltas, losses, marker=\"o\")\n",
    "    axs[0].set_xlabel(\"Time (MM:SS:sss)\")\n",
    "    axs[0].set_ylabel(\"Model Loss\")\n",
    "    axs[0].set_title(\"Classic SGD evolution of the model loss in function of time\")\n",
    "\n",
    "    # Format x-axis tick labels\n",
    "    formatter = FuncFormatter(format_timedelta)\n",
    "    axs[0].xaxis.set_major_formatter(formatter)\n",
    "\n",
    "    # Second subplot (Cumulative Batch Update Count vs Time)\n",
    "    batches = [line[2] for line in model_update_lines]\n",
    "\n",
    "    axs[1].plot(timedeltas, batches)\n",
    "\n",
    "    axs[1].set_xlabel(\"Time (MM:SS:sss)\")\n",
    "    axs[1].set_ylabel(\"Cumulative Batch Update Count\")\n",
    "    axs[1].set_title(\"Classic SGD computation speed\")\n",
    "\n",
    "    # Format x-axis tick labels\n",
    "    axs[1].xaxis.set_major_formatter(formatter)\n",
    "\n",
    "    # Display the subplots\n",
    "    plt.show()"
   ]
  },
  {
   "cell_type": "markdown",
   "id": "2cb339f6",
   "metadata": {
    "papermill": {
     "duration": 0.010025,
     "end_time": "2023-04-21T01:28:38.957252",
     "exception": false,
     "start_time": "2023-04-21T01:28:38.947227",
     "status": "completed"
    },
    "tags": []
   },
   "source": [
    "## Synchronous SGD"
   ]
  },
  {
   "cell_type": "code",
   "execution_count": null,
   "id": "9923465c",
   "metadata": {
    "execution": {
     "iopub.execute_input": "2023-04-21T01:28:38.980254Z",
     "iopub.status.busy": "2023-04-21T01:28:38.979901Z",
     "iopub.status.idle": "2023-04-21T01:28:39.467894Z",
     "shell.execute_reply": "2023-04-21T01:28:39.466929Z"
    },
    "papermill": {
     "duration": 0.502578,
     "end_time": "2023-04-21T01:28:39.469492",
     "exception": false,
     "start_time": "2023-04-21T01:28:38.966914",
     "status": "completed"
    },
    "tags": []
   },
   "outputs": [],
   "source": [
    "file_name = \"log_sync.log\"\n",
    "if os.path.exists(file_name):\n",
    "    lines = []\n",
    "    with open(\"log_sync.log\", \"r\") as log_file:\n",
    "        # Iterate through each line in the log file\n",
    "        for line in log_file:\n",
    "            lines.append(line.split(\" - __mp_main__ - \"))\n",
    "\n",
    "    for i, line in enumerate(lines):\n",
    "        timestamp = datetime.strptime(line[0], \"%Y-%m-%d %H:%M:%S,%f\")\n",
    "        lines[i][0] = timestamp\n",
    "\n",
    "    nb_workers = int(\n",
    "        (lines[0][1].split(\"with \")[1]).split(\" workers\")[0]\n",
    "    )  # extract from first line\n",
    "\n",
    "    del_list = []\n",
    "    for i, line in enumerate(lines):\n",
    "        if \"INFO\" in line[1]:\n",
    "            del_list.append(i)\n",
    "\n",
    "    del_list = sorted(del_list, reverse=True)\n",
    "    for idx in del_list:\n",
    "        if idx < len(lines):\n",
    "            lines.pop(idx)\n",
    "\n",
    "    start_time = lines[0][0]\n",
    "    end_time = lines[-1][0]\n",
    "    training_time_sync = end_time - start_time\n",
    "\n",
    "    minutes, remainder = divmod(training_time_sync.seconds, 60)\n",
    "    seconds = remainder\n",
    "    milliseconds = training_time_sync.microseconds // 1000\n",
    "    formatted_training_time_sync = f\"{minutes:02d}:{seconds:02d}:{milliseconds:03d}\"\n",
    "    print(\"Synchronous training time:\", formatted_training_time_sync)  # MM:SS:sss\n",
    "\n",
    "    for i, line in enumerate(lines):\n",
    "        lines[i][0] = line[0] - start_time\n",
    "        lines[i][1] = line[1].split(\"DEBUG - \")[1].strip()\n",
    "\n",
    "    model_loss_lines = []\n",
    "    worker_update_lines = []\n",
    "    for i, line in enumerate(lines):\n",
    "        if i < nb_workers:\n",
    "            continue\n",
    "        if \"PS updated model, \" in line[1]:\n",
    "            # timedetla, model loss\n",
    "            model_loss_lines.append((line[0], float(line[1].split(\"is \")[1])))\n",
    "        elif \"PS got \" in line[1]:\n",
    "            splited_text = (line[1].split(\"from \")[1]).split(\" \")\n",
    "            # timedelta, worker id, batch count, epoch\n",
    "            worker_update_lines.append(\n",
    "                (\n",
    "                    line[0],\n",
    "                    int(splited_text[0].split(\"_\")[1][:-1]),\n",
    "                    int(splited_text[2].split(\"/\")[0][1:]),\n",
    "                    int(splited_text[-1].split(\"/\")[0]),\n",
    "                )\n",
    "            )\n",
    "\n",
    "    ####### PLOTS #######\n",
    "    # Create a 1x2 grid of subplots\n",
    "    fig, axs = plt.subplots(nrows=1, ncols=2, figsize=(20, 5))\n",
    "\n",
    "    # First subplot (Model Loss vs Time)\n",
    "    timedeltas = [line[0].total_seconds() for line in model_loss_lines]\n",
    "    losses = [line[1] for line in model_loss_lines]\n",
    "\n",
    "    axs[0].scatter(timedeltas, losses, marker=\"o\")\n",
    "    axs[0].set_xlabel(\"Time (MM:SS:sss)\")\n",
    "    axs[0].set_ylabel(\"Model Loss\")\n",
    "    axs[0].set_title(\"Synchronous SGD evolution of the model loss in function of time\")\n",
    "\n",
    "    # Format x-axis tick labels\n",
    "    formatter = FuncFormatter(format_timedelta)\n",
    "    axs[0].xaxis.set_major_formatter(formatter)\n",
    "\n",
    "    # Second subplot (Cumulative Batch Update Count vs Time)\n",
    "    worker_cumulative_updates = {}\n",
    "    for line in worker_update_lines:\n",
    "        td, worker_id, batch_count, epoch = line\n",
    "        worker_cumulative_updates.setdefault(worker_id, []).append((td, batch_count))\n",
    "\n",
    "    for worker_id, updates in worker_cumulative_updates.items():\n",
    "        x = [td.total_seconds() for td, _ in updates]\n",
    "        y = [batch_count for _, batch_count in updates]\n",
    "        axs[1].plot(x, y, label=f\"Worker {worker_id}\")\n",
    "\n",
    "    axs[1].set_xlabel(\"Time (MM:SS:sss)\")\n",
    "    axs[1].set_ylabel(\"Cumulative Batch Update Count\")\n",
    "    axs[1].set_title(\"Synchronous SGD workers speed comparison\")\n",
    "    axs[1].legend()\n",
    "\n",
    "    # Format x-axis tick labels\n",
    "    axs[1].xaxis.set_major_formatter(formatter)\n",
    "\n",
    "    # Display the subplots\n",
    "    plt.show()"
   ]
  },
  {
   "cell_type": "markdown",
   "id": "850067ae",
   "metadata": {
    "papermill": {
     "duration": 0.010765,
     "end_time": "2023-04-21T01:28:39.491114",
     "exception": false,
     "start_time": "2023-04-21T01:28:39.480349",
     "status": "completed"
    },
    "tags": []
   },
   "source": [
    "## Asynchronous SGD"
   ]
  },
  {
   "cell_type": "code",
   "execution_count": null,
   "id": "76f2996a",
   "metadata": {
    "execution": {
     "iopub.execute_input": "2023-04-21T01:28:39.515779Z",
     "iopub.status.busy": "2023-04-21T01:28:39.515447Z",
     "iopub.status.idle": "2023-04-21T01:28:40.156704Z",
     "shell.execute_reply": "2023-04-21T01:28:40.155760Z"
    },
    "papermill": {
     "duration": 0.656071,
     "end_time": "2023-04-21T01:28:40.158252",
     "exception": false,
     "start_time": "2023-04-21T01:28:39.502181",
     "status": "completed"
    },
    "tags": []
   },
   "outputs": [],
   "source": [
    "file_name = \"log_async.log\"\n",
    "if os.path.exists(file_name):\n",
    "    lines = []\n",
    "    with open(\"log_async.log\", \"r\") as log_file:\n",
    "        # Iterate through each line in the log file\n",
    "        for line in log_file:\n",
    "            lines.append(line.split(\" - __mp_main__ - \"))\n",
    "\n",
    "    for i, line in enumerate(lines):\n",
    "        timestamp = datetime.strptime(line[0], \"%Y-%m-%d %H:%M:%S,%f\")\n",
    "        lines[i][0] = timestamp\n",
    "\n",
    "    nb_workers = int(\n",
    "        (lines[0][1].split(\"with \")[1]).split(\" workers\")[0]\n",
    "    )  # extract from first line\n",
    "\n",
    "    del_list = []\n",
    "    for i, line in enumerate(lines):\n",
    "        if \"INFO\" in line[1]:\n",
    "            del_list.append(i)\n",
    "\n",
    "    del_list = sorted(del_list, reverse=True)\n",
    "    for idx in del_list:\n",
    "        if idx < len(lines):\n",
    "            lines.pop(idx)\n",
    "\n",
    "    start_time = lines[0][0]\n",
    "    end_time = lines[-1][0]\n",
    "    training_time_async = end_time - start_time\n",
    "\n",
    "    minutes, remainder = divmod(training_time_async.seconds, 60)\n",
    "    seconds = remainder\n",
    "    milliseconds = training_time_async.microseconds // 1000\n",
    "    formatted_training_time_async = f\"{minutes:02d}:{seconds:02d}:{milliseconds:03d}\"\n",
    "    print(\"Asynchronous training time:\", formatted_training_time_async)  # MM:SS:sss\n",
    "\n",
    "    for i, line in enumerate(lines):\n",
    "        lines[i][0] = line[0] - start_time\n",
    "        lines[i][1] = line[1].split(\"DEBUG - \")[1].strip()\n",
    "\n",
    "    worker_update_lines = []\n",
    "    for i, line in enumerate(lines):\n",
    "        if i < nb_workers:\n",
    "            continue\n",
    "        if \"PS updated model, worker loss: \" in line[1]:\n",
    "            splited_text = (line[1].split(\"PS updated model, worker loss: \"))[1].split(\n",
    "                \" \"\n",
    "            )\n",
    "            worker_update_lines.append(\n",
    "                (\n",
    "                    line[0],\n",
    "                    float(splited_text[0]),\n",
    "                    int(splited_text[1].split(\"_\")[1][:-1]),\n",
    "                )\n",
    "            )\n",
    "\n",
    "    ####### PLOTS #######\n",
    "    # Create a 1x2 grid of subplots\n",
    "    fig, axs = plt.subplots(nrows=1, ncols=2, figsize=(20, 5))\n",
    "\n",
    "    # First subplot (Worker Loss vs Time)\n",
    "    worker_losses = {}\n",
    "    for line in worker_update_lines:\n",
    "        td, worker_loss, worker_id = line\n",
    "        worker_losses.setdefault(worker_id, []).append((td, worker_loss))\n",
    "\n",
    "    for worker_id, losses in worker_losses.items():\n",
    "        x = [td.total_seconds() for td, _ in losses]\n",
    "        y = [worker_loss for _, worker_loss in losses]\n",
    "        axs[0].scatter(x, y, label=f\"Worker {worker_id}\", marker=\"o\")\n",
    "\n",
    "    axs[0].set_xlabel(\"Time (MM:SS:sss)\")\n",
    "    axs[0].set_ylabel(\"Worker Loss\")\n",
    "    axs[0].set_title(\"Asynchronous SGD evolution of worker loss in function of time\")\n",
    "    axs[0].legend()\n",
    "\n",
    "    # Format x-axis tick labels\n",
    "    formatter = FuncFormatter(format_timedelta)\n",
    "    axs[0].xaxis.set_major_formatter(formatter)\n",
    "\n",
    "    # Second subplot (Cumulative Batch Update Count vs Time)\n",
    "    worker_cumulative_updates = {}\n",
    "    for line in worker_update_lines:\n",
    "        td, _, worker_id = line\n",
    "        worker_cumulative_updates.setdefault(worker_id, []).append(td)\n",
    "\n",
    "    for worker_id, updates in worker_cumulative_updates.items():\n",
    "        x = [td.total_seconds() for td in updates]\n",
    "        y = list(range(1, len(updates) + 1))\n",
    "        axs[1].plot(\n",
    "            x,\n",
    "            y,\n",
    "            label=f\"Worker {worker_id}\",\n",
    "        )\n",
    "\n",
    "    axs[1].set_xlabel(\"Time (MM:SS:sss)\")\n",
    "    axs[1].set_ylabel(\"Cumulative Batch Update Count\")\n",
    "    axs[1].set_title(\"Asynchronous SGD workers speed comparison\")\n",
    "    axs[1].legend()\n",
    "\n",
    "    # Format x-axis tick labels\n",
    "    axs[1].xaxis.set_major_formatter(formatter)\n",
    "\n",
    "    # Display the subplots\n",
    "    plt.show()"
   ]
  },
  {
   "cell_type": "markdown",
   "id": "13ecfbbe",
   "metadata": {
    "papermill": {
     "duration": 0.012535,
     "end_time": "2023-04-21T01:28:40.184127",
     "exception": false,
     "start_time": "2023-04-21T01:28:40.171592",
     "status": "completed"
    },
    "tags": []
   },
   "source": [
    "# Train/Test Performance"
   ]
  },
  {
   "cell_type": "markdown",
   "id": "e88ab754",
   "metadata": {
    "papermill": {
     "duration": 0.016547,
     "end_time": "2023-04-21T01:28:40.213204",
     "exception": false,
     "start_time": "2023-04-21T01:28:40.196657",
     "status": "completed"
    },
    "tags": []
   },
   "source": [
    "## Classic SGD"
   ]
  },
  {
   "cell_type": "code",
   "execution_count": null,
   "id": "801bfd6d",
   "metadata": {
    "execution": {
     "iopub.execute_input": "2023-04-21T01:28:40.240003Z",
     "iopub.status.busy": "2023-04-21T01:28:40.239712Z",
     "iopub.status.idle": "2023-04-21T01:29:30.908562Z",
     "shell.execute_reply": "2023-04-21T01:29:30.907681Z"
    },
    "papermill": {
     "duration": 50.684231,
     "end_time": "2023-04-21T01:29:30.910145",
     "exception": false,
     "start_time": "2023-04-21T01:28:40.225914",
     "status": "completed"
    },
    "tags": []
   },
   "outputs": [],
   "source": [
    "# !python test_model.py mnist_classic_05_0001_00_32_2.pt\n",
    "if model_classic is not None:\n",
    "    if include_classification_report is not None:\n",
    "        subprocess.run(\n",
    "            [\"python3\", \"test_model.py\", model_classic, \"--classification_report\"]\n",
    "        )\n",
    "    else:\n",
    "        subprocess.run([\"python3\", \"test_model.py\", model_classic])"
   ]
  },
  {
   "cell_type": "markdown",
   "id": "d088ea92",
   "metadata": {
    "papermill": {
     "duration": 0.014239,
     "end_time": "2023-04-21T01:29:30.938102",
     "exception": false,
     "start_time": "2023-04-21T01:29:30.923863",
     "status": "completed"
    },
    "tags": []
   },
   "source": [
    "## Synchronous SGD"
   ]
  },
  {
   "cell_type": "code",
   "execution_count": null,
   "id": "96e4053b",
   "metadata": {
    "execution": {
     "iopub.execute_input": "2023-04-21T01:29:30.968785Z",
     "iopub.status.busy": "2023-04-21T01:29:30.968489Z",
     "iopub.status.idle": "2023-04-21T01:30:11.069020Z",
     "shell.execute_reply": "2023-04-21T01:30:11.068200Z"
    },
    "papermill": {
     "duration": 40.116734,
     "end_time": "2023-04-21T01:30:11.070420",
     "exception": false,
     "start_time": "2023-04-21T01:29:30.953686",
     "status": "completed"
    },
    "tags": []
   },
   "outputs": [],
   "source": [
    "# !python test_model.py mnist_sync_3_05_0001_00_32_2.pt\n",
    "if model_sync is not None:\n",
    "    if include_classification_report is not None:\n",
    "        subprocess.run(\n",
    "            [\"python3\", \"test_model.py\", model_sync, \"--classification_report\"]\n",
    "        )\n",
    "    else:\n",
    "        subprocess.run([\"python3\", \"test_model.py\", model_sync])"
   ]
  },
  {
   "cell_type": "markdown",
   "id": "e4ba57fc",
   "metadata": {
    "papermill": {
     "duration": 0.015259,
     "end_time": "2023-04-21T01:30:11.097801",
     "exception": false,
     "start_time": "2023-04-21T01:30:11.082542",
     "status": "completed"
    },
    "tags": []
   },
   "source": [
    "## Asynchronous SGD"
   ]
  },
  {
   "cell_type": "code",
   "execution_count": null,
   "id": "7448db26",
   "metadata": {
    "execution": {
     "iopub.execute_input": "2023-04-21T01:30:11.126848Z",
     "iopub.status.busy": "2023-04-21T01:30:11.126201Z",
     "iopub.status.idle": "2023-04-21T01:30:49.418671Z",
     "shell.execute_reply": "2023-04-21T01:30:49.417751Z"
    },
    "papermill": {
     "duration": 38.307118,
     "end_time": "2023-04-21T01:30:49.420141",
     "exception": false,
     "start_time": "2023-04-21T01:30:11.113023",
     "status": "completed"
    },
    "tags": []
   },
   "outputs": [],
   "source": [
    "# !python3 test_model.py mnist_async_3_05_0001_00_32_2.pt\n",
    "if model_async is not None:\n",
    "    if include_classification_report is not None:\n",
    "        subprocess.run(\n",
    "            [\"python3\", \"test_model.py\", model_async, \"--classification_report\"]\n",
    "        )\n",
    "    else:\n",
    "        subprocess.run([\"python3\", \"test_model.py\", model_async])"
   ]
  }
 ],
 "metadata": {
  "kernelspec": {
   "display_name": "Python 3 (ipykernel)",
   "language": "python",
   "name": "python3"
  },
  "language_info": {
   "codemirror_mode": {
    "name": "ipython",
    "version": 3
   },
   "file_extension": ".py",
   "mimetype": "text/x-python",
   "name": "python",
   "nbconvert_exporter": "python",
   "pygments_lexer": "ipython3",
   "version": "3.10.10"
  },
  "papermill": {
   "default_parameters": {},
   "duration": 132.756694,
   "end_time": "2023-04-21T01:30:49.649861",
   "environment_variables": {},
   "exception": null,
   "input_path": "Compare.ipynb",
   "output_path": "Compare.ipynb",
   "parameters": {
    "model_async": "mnist_async_3_05_0001_00_32_2.pt",
    "model_classic": "mnist_classic_05_0001_00_32_2.pt",
    "model_sync": "mnist_sync_3_05_0001_00_32_2.pt"
   },
   "start_time": "2023-04-21T01:28:36.893167",
   "version": "2.4.0"
  }
 },
 "nbformat": 4,
 "nbformat_minor": 5
}
