{
 "cells": [
  {
   "cell_type": "code",
   "execution_count": 61,
   "id": "2cd594bb",
   "metadata": {},
   "outputs": [],
   "source": [
    "import argparse\n",
    "from sklearn.decomposition import PCA\n",
    "import plotly.io as pio\n",
    "import plotly.graph_objs as go\n",
    "import numpy as np\n",
    "import torch\n",
    "import os\n",
    "from tqdm import tqdm\n",
    "from common import _get_model, create_testloader, LOSS_FUNC\n",
    "\n",
    "DEFAULT_GRID_SIZE = 10\n",
    "DEFAULT_BATCH_SIZE = 1024\n",
    "\n",
    "\n",
    "def set_weights(model, weights):\n",
    "    weight_dict = {}\n",
    "    idx = 0\n",
    "    for key, param in model.state_dict().items():\n",
    "        size = int(np.prod(param.shape))\n",
    "        weight_dict[key] = torch.tensor(weights[idx : idx + size]).view(param.shape)\n",
    "        idx += size\n",
    "\n",
    "    model.load_state_dict(weight_dict)\n",
    "    return model"
   ]
  },
  {
   "cell_type": "code",
   "execution_count": 62,
   "id": "2fde5082",
   "metadata": {},
   "outputs": [
    {
     "name": "stdout",
     "output_type": "stream",
     "text": [
      "Created MNIST/FASHION_MNIST CNN\n",
      "LeNet5 using loss: <function nll_loss at 0x7fdd3b1f7d00>\n",
      "Saved weights shape: (18, 61706)\n"
     ]
    },
    {
     "name": "stderr",
     "output_type": "stream",
     "text": [
      "Computing loss of grid weights:   0%|                        | 2/400 [00:11<39:42,  5.99s/model_weights, grid_loss=1.85]\n",
      "Computing loss of grid weights: 100%|██████████████████████| 100/100 [03:25<00:00,  2.05s/model_weights, grid_loss=5.05]\n",
      "Computing loss of trajectory weights: 100%|███████████| 18/18 [00:38<00:00,  2.15s/model_weights, trajectory_loss=0.321]\n"
     ]
    }
   ],
   "source": [
    "batch_size = 128\n",
    "weights_path = \"fashion_mnist_async_4_100_0005_09_32_6_SGD_spe3_val_weights.npy\" \n",
    "model_path = \"fashion_mnist_async_4_100_0005_09_32_6_SGD_spe3_val_model.pt\"\n",
    "subfolder = \"\"\n",
    "grid_size = 25\n",
    "\n",
    "loader = create_testloader(model_path, batch_size)\n",
    "if \"alt_model\" in model_path:\n",
    "    model = _get_model(model_path, LOSS_FUNC, alt_model=True)\n",
    "else:\n",
    "    model = _get_model(model_path, LOSS_FUNC, alt_model=False)\n",
    "\n",
    "model.load_state_dict(torch.load(model_path))\n",
    "model.eval()\n",
    "\n",
    "weights_matrix_np = np.load(weights_path)\n",
    "\n",
    "print(f\"Saved weights shape: {weights_matrix_np.shape}\")\n",
    "\n",
    "pca = PCA(n_components=2)\n",
    "reduced_weights = pca.fit_transform(weights_matrix_np)\n",
    "\n",
    "# Compute the grid border based on the reduced weights\n",
    "_min = np.min(reduced_weights) - 1\n",
    "_max = np.max(reduced_weights) + 1\n",
    "\n",
    "# Compute grid_range_x and grid_range_y\n",
    "grid_range_x = np.linspace(_min-1*(_max-_min), _max+1*(_max-_min), grid_size)\n",
    "grid_range_y = np.linspace(_min-1*(_max-_min), _max+1*(_max-_min), grid_size)\n",
    "\n",
    "# Replace xx, yy with grid_range_x, grid_range_y respectively\n",
    "xx, yy = np.meshgrid(grid_range_x, grid_range_y)\n",
    "\n",
    "grid_points = np.column_stack((xx.ravel(), yy.ravel()))\n",
    "grid_weights = pca.inverse_transform(grid_points)\n",
    "\n",
    "grid_losses = []\n",
    "\n",
    "progress_bar = tqdm(\n",
    "    total=len(grid_weights),\n",
    "    desc=\"Computing loss of grid weights\",\n",
    "    unit=\"model_weights\",\n",
    ")\n",
    "\n",
    "with torch.no_grad():\n",
    "    for weights in grid_weights:\n",
    "        model = set_weights(model, weights)\n",
    "\n",
    "        running_loss = 0.0\n",
    "        for inputs, labels in loader:\n",
    "            outputs = model(inputs)\n",
    "            loss = LOSS_FUNC(outputs, labels)\n",
    "            running_loss += loss.item() * inputs.size(0)\n",
    "\n",
    "        grid_losses.append(running_loss / len(loader.dataset))\n",
    "        progress_bar.update(1)\n",
    "        progress_bar.set_postfix(grid_loss=grid_losses[-1])\n",
    "\n",
    "progress_bar.close()\n",
    "\n",
    "grid_losses = np.array(grid_losses)\n",
    "grid_losses = np.clip(grid_losses, None, 2*np.nanmax(grid_losses))\n",
    "grid_losses = np.array(grid_losses).reshape(grid_size, grid_size)\n",
    "\n",
    "\n",
    "trajectory_loss_reevaluted = []\n",
    "\n",
    "progress_bar2 = tqdm(\n",
    "    total=len(weights_matrix_np),\n",
    "    desc=\"Computing loss of trajectory weights\",\n",
    "    unit=\"model_weights\",\n",
    ")\n",
    "\n",
    "with torch.no_grad():\n",
    "    for weights in weights_matrix_np:\n",
    "        model = set_weights(model, weights)\n",
    "\n",
    "        running_loss = 0.0\n",
    "        for inputs, labels in loader:\n",
    "            outputs = model(inputs)\n",
    "            loss = LOSS_FUNC(outputs, labels)\n",
    "            running_loss += loss.item() * inputs.size(0)\n",
    "\n",
    "        trajectory_loss_reevaluted.append(running_loss / len(loader.dataset))\n",
    "        progress_bar2.update(1)\n",
    "        progress_bar2.set_postfix(trajectory_loss=trajectory_loss_reevaluted[-1])\n",
    "\n",
    "progress_bar2.close()"
   ]
  },
  {
   "cell_type": "code",
   "execution_count": 63,
   "id": "86aa039d",
   "metadata": {},
   "outputs": [
    {
     "data": {
      "application/vnd.plotly.v1+json": {
       "config": {
        "plotlyServerURL": "https://plot.ly"
       },
       "data": [
        {
         "coloraxis": "coloraxis",
         "colorscale": [
          [
           0,
           "#440154"
          ],
          [
           0.1111111111111111,
           "#482878"
          ],
          [
           0.2222222222222222,
           "#3e4989"
          ],
          [
           0.3333333333333333,
           "#31688e"
          ],
          [
           0.4444444444444444,
           "#26828e"
          ],
          [
           0.5555555555555556,
           "#1f9e89"
          ],
          [
           0.6666666666666666,
           "#35b779"
          ],
          [
           0.7777777777777778,
           "#6ece58"
          ],
          [
           0.8888888888888888,
           "#b5de2b"
          ],
          [
           1,
           "#fde725"
          ]
         ],
         "contours": {
          "z": {
           "highlightcolor": "limegreen",
           "project": {
            "z": true
           },
           "show": true,
           "usecolormap": true
          }
         },
         "name": "grid point",
         "opacity": 0.8,
         "type": "surface",
         "x": [
          [
           -7.61844539642334,
           -5.476785024007162,
           -3.3351246515909834,
           -1.1934642791748047,
           0.9481960932413731,
           3.089856465657551,
           5.2315168380737305,
           7.373177210489908,
           9.514837582906086,
           11.656497955322266
          ],
          [
           -7.61844539642334,
           -5.476785024007162,
           -3.3351246515909834,
           -1.1934642791748047,
           0.9481960932413731,
           3.089856465657551,
           5.2315168380737305,
           7.373177210489908,
           9.514837582906086,
           11.656497955322266
          ],
          [
           -7.61844539642334,
           -5.476785024007162,
           -3.3351246515909834,
           -1.1934642791748047,
           0.9481960932413731,
           3.089856465657551,
           5.2315168380737305,
           7.373177210489908,
           9.514837582906086,
           11.656497955322266
          ],
          [
           -7.61844539642334,
           -5.476785024007162,
           -3.3351246515909834,
           -1.1934642791748047,
           0.9481960932413731,
           3.089856465657551,
           5.2315168380737305,
           7.373177210489908,
           9.514837582906086,
           11.656497955322266
          ],
          [
           -7.61844539642334,
           -5.476785024007162,
           -3.3351246515909834,
           -1.1934642791748047,
           0.9481960932413731,
           3.089856465657551,
           5.2315168380737305,
           7.373177210489908,
           9.514837582906086,
           11.656497955322266
          ],
          [
           -7.61844539642334,
           -5.476785024007162,
           -3.3351246515909834,
           -1.1934642791748047,
           0.9481960932413731,
           3.089856465657551,
           5.2315168380737305,
           7.373177210489908,
           9.514837582906086,
           11.656497955322266
          ],
          [
           -7.61844539642334,
           -5.476785024007162,
           -3.3351246515909834,
           -1.1934642791748047,
           0.9481960932413731,
           3.089856465657551,
           5.2315168380737305,
           7.373177210489908,
           9.514837582906086,
           11.656497955322266
          ],
          [
           -7.61844539642334,
           -5.476785024007162,
           -3.3351246515909834,
           -1.1934642791748047,
           0.9481960932413731,
           3.089856465657551,
           5.2315168380737305,
           7.373177210489908,
           9.514837582906086,
           11.656497955322266
          ],
          [
           -7.61844539642334,
           -5.476785024007162,
           -3.3351246515909834,
           -1.1934642791748047,
           0.9481960932413731,
           3.089856465657551,
           5.2315168380737305,
           7.373177210489908,
           9.514837582906086,
           11.656497955322266
          ],
          [
           -7.61844539642334,
           -5.476785024007162,
           -3.3351246515909834,
           -1.1934642791748047,
           0.9481960932413731,
           3.089856465657551,
           5.2315168380737305,
           7.373177210489908,
           9.514837582906086,
           11.656497955322266
          ]
         ],
         "y": [
          [
           -7.61844539642334,
           -7.61844539642334,
           -7.61844539642334,
           -7.61844539642334,
           -7.61844539642334,
           -7.61844539642334,
           -7.61844539642334,
           -7.61844539642334,
           -7.61844539642334,
           -7.61844539642334
          ],
          [
           -5.476785024007162,
           -5.476785024007162,
           -5.476785024007162,
           -5.476785024007162,
           -5.476785024007162,
           -5.476785024007162,
           -5.476785024007162,
           -5.476785024007162,
           -5.476785024007162,
           -5.476785024007162
          ],
          [
           -3.3351246515909834,
           -3.3351246515909834,
           -3.3351246515909834,
           -3.3351246515909834,
           -3.3351246515909834,
           -3.3351246515909834,
           -3.3351246515909834,
           -3.3351246515909834,
           -3.3351246515909834,
           -3.3351246515909834
          ],
          [
           -1.1934642791748047,
           -1.1934642791748047,
           -1.1934642791748047,
           -1.1934642791748047,
           -1.1934642791748047,
           -1.1934642791748047,
           -1.1934642791748047,
           -1.1934642791748047,
           -1.1934642791748047,
           -1.1934642791748047
          ],
          [
           0.9481960932413731,
           0.9481960932413731,
           0.9481960932413731,
           0.9481960932413731,
           0.9481960932413731,
           0.9481960932413731,
           0.9481960932413731,
           0.9481960932413731,
           0.9481960932413731,
           0.9481960932413731
          ],
          [
           3.089856465657551,
           3.089856465657551,
           3.089856465657551,
           3.089856465657551,
           3.089856465657551,
           3.089856465657551,
           3.089856465657551,
           3.089856465657551,
           3.089856465657551,
           3.089856465657551
          ],
          [
           5.2315168380737305,
           5.2315168380737305,
           5.2315168380737305,
           5.2315168380737305,
           5.2315168380737305,
           5.2315168380737305,
           5.2315168380737305,
           5.2315168380737305,
           5.2315168380737305,
           5.2315168380737305
          ],
          [
           7.373177210489908,
           7.373177210489908,
           7.373177210489908,
           7.373177210489908,
           7.373177210489908,
           7.373177210489908,
           7.373177210489908,
           7.373177210489908,
           7.373177210489908,
           7.373177210489908
          ],
          [
           9.514837582906086,
           9.514837582906086,
           9.514837582906086,
           9.514837582906086,
           9.514837582906086,
           9.514837582906086,
           9.514837582906086,
           9.514837582906086,
           9.514837582906086,
           9.514837582906086
          ],
          [
           11.656497955322266,
           11.656497955322266,
           11.656497955322266,
           11.656497955322266,
           11.656497955322266,
           11.656497955322266,
           11.656497955322266,
           11.656497955322266,
           11.656497955322266,
           11.656497955322266
          ]
         ],
         "z": [
          [
           1.9989111768722534,
           1.705583436203003,
           1.462998073387146,
           1.2630850335597992,
           1.0961391174316406,
           0.9590044205665589,
           0.8462425191402435,
           0.7615438358306885,
           0.7257086737632752,
           0.8485215951919556
          ],
          [
           1.2618856542110444,
           1.0549823753356933,
           0.8886140597343445,
           0.7581568595409394,
           0.6534021096944809,
           0.5710885605812073,
           0.5075280047416687,
           0.4616972409963608,
           0.44988219714164734,
           0.5608133768081665
          ],
          [
           0.784243663597107,
           0.6392451492547989,
           0.5309119595050812,
           0.45165826276540755,
           0.39703824636936186,
           0.3613709169030189,
           0.3428001671075821,
           0.3464762653827667,
           0.3957163124084473,
           0.6091194539070129
          ],
          [
           0.493177543759346,
           0.396337690281868,
           0.3337405672430992,
           0.29898015296459196,
           0.28954536130428316,
           0.3073092761516571,
           0.35878572068214415,
           0.46377078924179077,
           0.6707954701423645,
           1.059708310699463
          ],
          [
           0.3410074730873108,
           0.2860288459777832,
           0.26682138974666597,
           0.28626471168994905,
           0.3535506127357483,
           0.48437862091064454,
           0.6979264216423035,
           0.9996346477508545,
           1.3511178304672242,
           1.698715041732788
          ],
          [
           0.30529530935287474,
           0.29773525364398956,
           0.3503123007297516,
           0.4823066064357758,
           0.7176083345413208,
           1.052360290336609,
           1.4139547843933105,
           1.7207724794387818,
           1.9511589233398436,
           2.1139850940704346
          ],
          [
           0.41130559768676755,
           0.4892737522125244,
           0.680962819480896,
           0.9977497201919555,
           1.3883866344451905,
           1.7375380207061768,
           1.984028667831421,
           2.13495330657959,
           2.2208631244659425,
           2.268987261199951
          ],
          [
           0.7917009641647339,
           0.9856735790252685,
           1.2997840545654298,
           1.6506171298980712,
           1.9389945104599,
           2.1264481899261476,
           2.228051608657837,
           2.2741752613067625,
           2.2950715019226076,
           2.3081603164672853
          ],
          [
           1.4856914167404174,
           1.652302153968811,
           1.8820574020385743,
           2.081767181777954,
           2.2095853351593018,
           2.2728293407440185,
           2.2969141178131105,
           2.3113125522613527,
           2.341736420440674,
           2.448523393249512
          ],
          [
           2.089449739646912,
           2.122002434539795,
           2.2039004680633547,
           2.269867387390137,
           2.305910521697998,
           2.3336972660064697,
           2.400776029586792,
           2.623177405166626,
           3.2911001304626466,
           5.053995398712158
          ]
         ]
        },
        {
         "marker": {
          "color": "red",
          "size": 5
         },
         "mode": "markers",
         "name": "global minimum",
         "type": "scatter3d",
         "x": [
          -3.3351246515909834
         ],
         "y": [
          0.9481960932413731
         ],
         "z": [
          0.26682138974666597
         ]
        }
       ],
       "layout": {
        "coloraxis": {
         "cmax": 0.7036348421911716,
         "cmin": -0.5737793581265835,
         "colorbar": {
          "tickformat": ".2e",
          "title": {
           "text": "Loss magnitude"
          }
         },
         "colorscale": [
          [
           0,
           "#440154"
          ],
          [
           0.1111111111111111,
           "#482878"
          ],
          [
           0.2222222222222222,
           "#3e4989"
          ],
          [
           0.3333333333333333,
           "#31688e"
          ],
          [
           0.4444444444444444,
           "#26828e"
          ],
          [
           0.5555555555555556,
           "#1f9e89"
          ],
          [
           0.6666666666666666,
           "#35b779"
          ],
          [
           0.7777777777777778,
           "#6ece58"
          ],
          [
           0.8888888888888888,
           "#b5de2b"
          ],
          [
           1,
           "#fde725"
          ]
         ]
        },
        "scene": {
         "xaxis": {
          "title": {
           "text": "PC1"
          }
         },
         "yaxis": {
          "title": {
           "text": "PC2"
          }
         },
         "zaxis": {
          "title": {
           "text": " Loss"
          },
          "type": "log"
         }
        },
        "template": {
         "data": {
          "bar": [
           {
            "error_x": {
             "color": "#2a3f5f"
            },
            "error_y": {
             "color": "#2a3f5f"
            },
            "marker": {
             "line": {
              "color": "#E5ECF6",
              "width": 0.5
             },
             "pattern": {
              "fillmode": "overlay",
              "size": 10,
              "solidity": 0.2
             }
            },
            "type": "bar"
           }
          ],
          "barpolar": [
           {
            "marker": {
             "line": {
              "color": "#E5ECF6",
              "width": 0.5
             },
             "pattern": {
              "fillmode": "overlay",
              "size": 10,
              "solidity": 0.2
             }
            },
            "type": "barpolar"
           }
          ],
          "carpet": [
           {
            "aaxis": {
             "endlinecolor": "#2a3f5f",
             "gridcolor": "white",
             "linecolor": "white",
             "minorgridcolor": "white",
             "startlinecolor": "#2a3f5f"
            },
            "baxis": {
             "endlinecolor": "#2a3f5f",
             "gridcolor": "white",
             "linecolor": "white",
             "minorgridcolor": "white",
             "startlinecolor": "#2a3f5f"
            },
            "type": "carpet"
           }
          ],
          "choropleth": [
           {
            "colorbar": {
             "outlinewidth": 0,
             "ticks": ""
            },
            "type": "choropleth"
           }
          ],
          "contour": [
           {
            "colorbar": {
             "outlinewidth": 0,
             "ticks": ""
            },
            "colorscale": [
             [
              0,
              "#0d0887"
             ],
             [
              0.1111111111111111,
              "#46039f"
             ],
             [
              0.2222222222222222,
              "#7201a8"
             ],
             [
              0.3333333333333333,
              "#9c179e"
             ],
             [
              0.4444444444444444,
              "#bd3786"
             ],
             [
              0.5555555555555556,
              "#d8576b"
             ],
             [
              0.6666666666666666,
              "#ed7953"
             ],
             [
              0.7777777777777778,
              "#fb9f3a"
             ],
             [
              0.8888888888888888,
              "#fdca26"
             ],
             [
              1,
              "#f0f921"
             ]
            ],
            "type": "contour"
           }
          ],
          "contourcarpet": [
           {
            "colorbar": {
             "outlinewidth": 0,
             "ticks": ""
            },
            "type": "contourcarpet"
           }
          ],
          "heatmap": [
           {
            "colorbar": {
             "outlinewidth": 0,
             "ticks": ""
            },
            "colorscale": [
             [
              0,
              "#0d0887"
             ],
             [
              0.1111111111111111,
              "#46039f"
             ],
             [
              0.2222222222222222,
              "#7201a8"
             ],
             [
              0.3333333333333333,
              "#9c179e"
             ],
             [
              0.4444444444444444,
              "#bd3786"
             ],
             [
              0.5555555555555556,
              "#d8576b"
             ],
             [
              0.6666666666666666,
              "#ed7953"
             ],
             [
              0.7777777777777778,
              "#fb9f3a"
             ],
             [
              0.8888888888888888,
              "#fdca26"
             ],
             [
              1,
              "#f0f921"
             ]
            ],
            "type": "heatmap"
           }
          ],
          "heatmapgl": [
           {
            "colorbar": {
             "outlinewidth": 0,
             "ticks": ""
            },
            "colorscale": [
             [
              0,
              "#0d0887"
             ],
             [
              0.1111111111111111,
              "#46039f"
             ],
             [
              0.2222222222222222,
              "#7201a8"
             ],
             [
              0.3333333333333333,
              "#9c179e"
             ],
             [
              0.4444444444444444,
              "#bd3786"
             ],
             [
              0.5555555555555556,
              "#d8576b"
             ],
             [
              0.6666666666666666,
              "#ed7953"
             ],
             [
              0.7777777777777778,
              "#fb9f3a"
             ],
             [
              0.8888888888888888,
              "#fdca26"
             ],
             [
              1,
              "#f0f921"
             ]
            ],
            "type": "heatmapgl"
           }
          ],
          "histogram": [
           {
            "marker": {
             "pattern": {
              "fillmode": "overlay",
              "size": 10,
              "solidity": 0.2
             }
            },
            "type": "histogram"
           }
          ],
          "histogram2d": [
           {
            "colorbar": {
             "outlinewidth": 0,
             "ticks": ""
            },
            "colorscale": [
             [
              0,
              "#0d0887"
             ],
             [
              0.1111111111111111,
              "#46039f"
             ],
             [
              0.2222222222222222,
              "#7201a8"
             ],
             [
              0.3333333333333333,
              "#9c179e"
             ],
             [
              0.4444444444444444,
              "#bd3786"
             ],
             [
              0.5555555555555556,
              "#d8576b"
             ],
             [
              0.6666666666666666,
              "#ed7953"
             ],
             [
              0.7777777777777778,
              "#fb9f3a"
             ],
             [
              0.8888888888888888,
              "#fdca26"
             ],
             [
              1,
              "#f0f921"
             ]
            ],
            "type": "histogram2d"
           }
          ],
          "histogram2dcontour": [
           {
            "colorbar": {
             "outlinewidth": 0,
             "ticks": ""
            },
            "colorscale": [
             [
              0,
              "#0d0887"
             ],
             [
              0.1111111111111111,
              "#46039f"
             ],
             [
              0.2222222222222222,
              "#7201a8"
             ],
             [
              0.3333333333333333,
              "#9c179e"
             ],
             [
              0.4444444444444444,
              "#bd3786"
             ],
             [
              0.5555555555555556,
              "#d8576b"
             ],
             [
              0.6666666666666666,
              "#ed7953"
             ],
             [
              0.7777777777777778,
              "#fb9f3a"
             ],
             [
              0.8888888888888888,
              "#fdca26"
             ],
             [
              1,
              "#f0f921"
             ]
            ],
            "type": "histogram2dcontour"
           }
          ],
          "mesh3d": [
           {
            "colorbar": {
             "outlinewidth": 0,
             "ticks": ""
            },
            "type": "mesh3d"
           }
          ],
          "parcoords": [
           {
            "line": {
             "colorbar": {
              "outlinewidth": 0,
              "ticks": ""
             }
            },
            "type": "parcoords"
           }
          ],
          "pie": [
           {
            "automargin": true,
            "type": "pie"
           }
          ],
          "scatter": [
           {
            "fillpattern": {
             "fillmode": "overlay",
             "size": 10,
             "solidity": 0.2
            },
            "type": "scatter"
           }
          ],
          "scatter3d": [
           {
            "line": {
             "colorbar": {
              "outlinewidth": 0,
              "ticks": ""
             }
            },
            "marker": {
             "colorbar": {
              "outlinewidth": 0,
              "ticks": ""
             }
            },
            "type": "scatter3d"
           }
          ],
          "scattercarpet": [
           {
            "marker": {
             "colorbar": {
              "outlinewidth": 0,
              "ticks": ""
             }
            },
            "type": "scattercarpet"
           }
          ],
          "scattergeo": [
           {
            "marker": {
             "colorbar": {
              "outlinewidth": 0,
              "ticks": ""
             }
            },
            "type": "scattergeo"
           }
          ],
          "scattergl": [
           {
            "marker": {
             "colorbar": {
              "outlinewidth": 0,
              "ticks": ""
             }
            },
            "type": "scattergl"
           }
          ],
          "scattermapbox": [
           {
            "marker": {
             "colorbar": {
              "outlinewidth": 0,
              "ticks": ""
             }
            },
            "type": "scattermapbox"
           }
          ],
          "scatterpolar": [
           {
            "marker": {
             "colorbar": {
              "outlinewidth": 0,
              "ticks": ""
             }
            },
            "type": "scatterpolar"
           }
          ],
          "scatterpolargl": [
           {
            "marker": {
             "colorbar": {
              "outlinewidth": 0,
              "ticks": ""
             }
            },
            "type": "scatterpolargl"
           }
          ],
          "scatterternary": [
           {
            "marker": {
             "colorbar": {
              "outlinewidth": 0,
              "ticks": ""
             }
            },
            "type": "scatterternary"
           }
          ],
          "surface": [
           {
            "colorbar": {
             "outlinewidth": 0,
             "ticks": ""
            },
            "colorscale": [
             [
              0,
              "#0d0887"
             ],
             [
              0.1111111111111111,
              "#46039f"
             ],
             [
              0.2222222222222222,
              "#7201a8"
             ],
             [
              0.3333333333333333,
              "#9c179e"
             ],
             [
              0.4444444444444444,
              "#bd3786"
             ],
             [
              0.5555555555555556,
              "#d8576b"
             ],
             [
              0.6666666666666666,
              "#ed7953"
             ],
             [
              0.7777777777777778,
              "#fb9f3a"
             ],
             [
              0.8888888888888888,
              "#fdca26"
             ],
             [
              1,
              "#f0f921"
             ]
            ],
            "type": "surface"
           }
          ],
          "table": [
           {
            "cells": {
             "fill": {
              "color": "#EBF0F8"
             },
             "line": {
              "color": "white"
             }
            },
            "header": {
             "fill": {
              "color": "#C8D4E3"
             },
             "line": {
              "color": "white"
             }
            },
            "type": "table"
           }
          ]
         },
         "layout": {
          "annotationdefaults": {
           "arrowcolor": "#2a3f5f",
           "arrowhead": 0,
           "arrowwidth": 1
          },
          "autotypenumbers": "strict",
          "coloraxis": {
           "colorbar": {
            "outlinewidth": 0,
            "ticks": ""
           }
          },
          "colorscale": {
           "diverging": [
            [
             0,
             "#8e0152"
            ],
            [
             0.1,
             "#c51b7d"
            ],
            [
             0.2,
             "#de77ae"
            ],
            [
             0.3,
             "#f1b6da"
            ],
            [
             0.4,
             "#fde0ef"
            ],
            [
             0.5,
             "#f7f7f7"
            ],
            [
             0.6,
             "#e6f5d0"
            ],
            [
             0.7,
             "#b8e186"
            ],
            [
             0.8,
             "#7fbc41"
            ],
            [
             0.9,
             "#4d9221"
            ],
            [
             1,
             "#276419"
            ]
           ],
           "sequential": [
            [
             0,
             "#0d0887"
            ],
            [
             0.1111111111111111,
             "#46039f"
            ],
            [
             0.2222222222222222,
             "#7201a8"
            ],
            [
             0.3333333333333333,
             "#9c179e"
            ],
            [
             0.4444444444444444,
             "#bd3786"
            ],
            [
             0.5555555555555556,
             "#d8576b"
            ],
            [
             0.6666666666666666,
             "#ed7953"
            ],
            [
             0.7777777777777778,
             "#fb9f3a"
            ],
            [
             0.8888888888888888,
             "#fdca26"
            ],
            [
             1,
             "#f0f921"
            ]
           ],
           "sequentialminus": [
            [
             0,
             "#0d0887"
            ],
            [
             0.1111111111111111,
             "#46039f"
            ],
            [
             0.2222222222222222,
             "#7201a8"
            ],
            [
             0.3333333333333333,
             "#9c179e"
            ],
            [
             0.4444444444444444,
             "#bd3786"
            ],
            [
             0.5555555555555556,
             "#d8576b"
            ],
            [
             0.6666666666666666,
             "#ed7953"
            ],
            [
             0.7777777777777778,
             "#fb9f3a"
            ],
            [
             0.8888888888888888,
             "#fdca26"
            ],
            [
             1,
             "#f0f921"
            ]
           ]
          },
          "colorway": [
           "#636efa",
           "#EF553B",
           "#00cc96",
           "#ab63fa",
           "#FFA15A",
           "#19d3f3",
           "#FF6692",
           "#B6E880",
           "#FF97FF",
           "#FECB52"
          ],
          "font": {
           "color": "#2a3f5f"
          },
          "geo": {
           "bgcolor": "white",
           "lakecolor": "white",
           "landcolor": "#E5ECF6",
           "showlakes": true,
           "showland": true,
           "subunitcolor": "white"
          },
          "hoverlabel": {
           "align": "left"
          },
          "hovermode": "closest",
          "mapbox": {
           "style": "light"
          },
          "paper_bgcolor": "white",
          "plot_bgcolor": "#E5ECF6",
          "polar": {
           "angularaxis": {
            "gridcolor": "white",
            "linecolor": "white",
            "ticks": ""
           },
           "bgcolor": "#E5ECF6",
           "radialaxis": {
            "gridcolor": "white",
            "linecolor": "white",
            "ticks": ""
           }
          },
          "scene": {
           "xaxis": {
            "backgroundcolor": "#E5ECF6",
            "gridcolor": "white",
            "gridwidth": 2,
            "linecolor": "white",
            "showbackground": true,
            "ticks": "",
            "zerolinecolor": "white"
           },
           "yaxis": {
            "backgroundcolor": "#E5ECF6",
            "gridcolor": "white",
            "gridwidth": 2,
            "linecolor": "white",
            "showbackground": true,
            "ticks": "",
            "zerolinecolor": "white"
           },
           "zaxis": {
            "backgroundcolor": "#E5ECF6",
            "gridcolor": "white",
            "gridwidth": 2,
            "linecolor": "white",
            "showbackground": true,
            "ticks": "",
            "zerolinecolor": "white"
           }
          },
          "shapedefaults": {
           "line": {
            "color": "#2a3f5f"
           }
          },
          "ternary": {
           "aaxis": {
            "gridcolor": "white",
            "linecolor": "white",
            "ticks": ""
           },
           "baxis": {
            "gridcolor": "white",
            "linecolor": "white",
            "ticks": ""
           },
           "bgcolor": "#E5ECF6",
           "caxis": {
            "gridcolor": "white",
            "linecolor": "white",
            "ticks": ""
           }
          },
          "title": {
           "x": 0.05
          },
          "xaxis": {
           "automargin": true,
           "gridcolor": "white",
           "linecolor": "white",
           "ticks": "",
           "title": {
            "standoff": 15
           },
           "zerolinecolor": "white",
           "zerolinewidth": 2
          },
          "yaxis": {
           "automargin": true,
           "gridcolor": "white",
           "linecolor": "white",
           "ticks": "",
           "title": {
            "standoff": 15
           },
           "zerolinecolor": "white",
           "zerolinewidth": 2
          }
         }
        }
       }
      },
      "text/html": [
       "<div>                            <div id=\"551322df-84b2-441a-b483-f9f6a1b31f8d\" class=\"plotly-graph-div\" style=\"height:525px; width:100%;\"></div>            <script type=\"text/javascript\">                require([\"plotly\"], function(Plotly) {                    window.PLOTLYENV=window.PLOTLYENV || {};                                    if (document.getElementById(\"551322df-84b2-441a-b483-f9f6a1b31f8d\")) {                    Plotly.newPlot(                        \"551322df-84b2-441a-b483-f9f6a1b31f8d\",                        [{\"coloraxis\":\"coloraxis\",\"colorscale\":[[0.0,\"#440154\"],[0.1111111111111111,\"#482878\"],[0.2222222222222222,\"#3e4989\"],[0.3333333333333333,\"#31688e\"],[0.4444444444444444,\"#26828e\"],[0.5555555555555556,\"#1f9e89\"],[0.6666666666666666,\"#35b779\"],[0.7777777777777778,\"#6ece58\"],[0.8888888888888888,\"#b5de2b\"],[1.0,\"#fde725\"]],\"name\":\"grid point\",\"opacity\":0.8,\"x\":[[-7.61844539642334,-5.476785024007162,-3.3351246515909834,-1.1934642791748047,0.9481960932413731,3.089856465657551,5.2315168380737305,7.373177210489908,9.514837582906086,11.656497955322266],[-7.61844539642334,-5.476785024007162,-3.3351246515909834,-1.1934642791748047,0.9481960932413731,3.089856465657551,5.2315168380737305,7.373177210489908,9.514837582906086,11.656497955322266],[-7.61844539642334,-5.476785024007162,-3.3351246515909834,-1.1934642791748047,0.9481960932413731,3.089856465657551,5.2315168380737305,7.373177210489908,9.514837582906086,11.656497955322266],[-7.61844539642334,-5.476785024007162,-3.3351246515909834,-1.1934642791748047,0.9481960932413731,3.089856465657551,5.2315168380737305,7.373177210489908,9.514837582906086,11.656497955322266],[-7.61844539642334,-5.476785024007162,-3.3351246515909834,-1.1934642791748047,0.9481960932413731,3.089856465657551,5.2315168380737305,7.373177210489908,9.514837582906086,11.656497955322266],[-7.61844539642334,-5.476785024007162,-3.3351246515909834,-1.1934642791748047,0.9481960932413731,3.089856465657551,5.2315168380737305,7.373177210489908,9.514837582906086,11.656497955322266],[-7.61844539642334,-5.476785024007162,-3.3351246515909834,-1.1934642791748047,0.9481960932413731,3.089856465657551,5.2315168380737305,7.373177210489908,9.514837582906086,11.656497955322266],[-7.61844539642334,-5.476785024007162,-3.3351246515909834,-1.1934642791748047,0.9481960932413731,3.089856465657551,5.2315168380737305,7.373177210489908,9.514837582906086,11.656497955322266],[-7.61844539642334,-5.476785024007162,-3.3351246515909834,-1.1934642791748047,0.9481960932413731,3.089856465657551,5.2315168380737305,7.373177210489908,9.514837582906086,11.656497955322266],[-7.61844539642334,-5.476785024007162,-3.3351246515909834,-1.1934642791748047,0.9481960932413731,3.089856465657551,5.2315168380737305,7.373177210489908,9.514837582906086,11.656497955322266]],\"y\":[[-7.61844539642334,-7.61844539642334,-7.61844539642334,-7.61844539642334,-7.61844539642334,-7.61844539642334,-7.61844539642334,-7.61844539642334,-7.61844539642334,-7.61844539642334],[-5.476785024007162,-5.476785024007162,-5.476785024007162,-5.476785024007162,-5.476785024007162,-5.476785024007162,-5.476785024007162,-5.476785024007162,-5.476785024007162,-5.476785024007162],[-3.3351246515909834,-3.3351246515909834,-3.3351246515909834,-3.3351246515909834,-3.3351246515909834,-3.3351246515909834,-3.3351246515909834,-3.3351246515909834,-3.3351246515909834,-3.3351246515909834],[-1.1934642791748047,-1.1934642791748047,-1.1934642791748047,-1.1934642791748047,-1.1934642791748047,-1.1934642791748047,-1.1934642791748047,-1.1934642791748047,-1.1934642791748047,-1.1934642791748047],[0.9481960932413731,0.9481960932413731,0.9481960932413731,0.9481960932413731,0.9481960932413731,0.9481960932413731,0.9481960932413731,0.9481960932413731,0.9481960932413731,0.9481960932413731],[3.089856465657551,3.089856465657551,3.089856465657551,3.089856465657551,3.089856465657551,3.089856465657551,3.089856465657551,3.089856465657551,3.089856465657551,3.089856465657551],[5.2315168380737305,5.2315168380737305,5.2315168380737305,5.2315168380737305,5.2315168380737305,5.2315168380737305,5.2315168380737305,5.2315168380737305,5.2315168380737305,5.2315168380737305],[7.373177210489908,7.373177210489908,7.373177210489908,7.373177210489908,7.373177210489908,7.373177210489908,7.373177210489908,7.373177210489908,7.373177210489908,7.373177210489908],[9.514837582906086,9.514837582906086,9.514837582906086,9.514837582906086,9.514837582906086,9.514837582906086,9.514837582906086,9.514837582906086,9.514837582906086,9.514837582906086],[11.656497955322266,11.656497955322266,11.656497955322266,11.656497955322266,11.656497955322266,11.656497955322266,11.656497955322266,11.656497955322266,11.656497955322266,11.656497955322266]],\"z\":[[1.9989111768722534,1.705583436203003,1.462998073387146,1.2630850335597992,1.0961391174316406,0.9590044205665589,0.8462425191402435,0.7615438358306885,0.7257086737632752,0.8485215951919556],[1.2618856542110444,1.0549823753356933,0.8886140597343445,0.7581568595409394,0.6534021096944809,0.5710885605812073,0.5075280047416687,0.4616972409963608,0.44988219714164734,0.5608133768081665],[0.784243663597107,0.6392451492547989,0.5309119595050812,0.45165826276540755,0.39703824636936186,0.3613709169030189,0.3428001671075821,0.3464762653827667,0.3957163124084473,0.6091194539070129],[0.493177543759346,0.396337690281868,0.3337405672430992,0.29898015296459196,0.28954536130428316,0.3073092761516571,0.35878572068214415,0.46377078924179077,0.6707954701423645,1.059708310699463],[0.3410074730873108,0.2860288459777832,0.26682138974666597,0.28626471168994905,0.3535506127357483,0.48437862091064454,0.6979264216423035,0.9996346477508545,1.3511178304672242,1.698715041732788],[0.30529530935287474,0.29773525364398956,0.3503123007297516,0.4823066064357758,0.7176083345413208,1.052360290336609,1.4139547843933105,1.7207724794387818,1.9511589233398436,2.1139850940704346],[0.41130559768676755,0.4892737522125244,0.680962819480896,0.9977497201919555,1.3883866344451905,1.7375380207061768,1.984028667831421,2.13495330657959,2.2208631244659425,2.268987261199951],[0.7917009641647339,0.9856735790252685,1.2997840545654298,1.6506171298980712,1.9389945104599,2.1264481899261476,2.228051608657837,2.2741752613067625,2.2950715019226076,2.3081603164672853],[1.4856914167404174,1.652302153968811,1.8820574020385743,2.081767181777954,2.2095853351593018,2.2728293407440185,2.2969141178131105,2.3113125522613527,2.341736420440674,2.448523393249512],[2.089449739646912,2.122002434539795,2.2039004680633547,2.269867387390137,2.305910521697998,2.3336972660064697,2.400776029586792,2.623177405166626,3.2911001304626466,5.053995398712158]],\"type\":\"surface\",\"contours\":{\"z\":{\"project\":{\"z\":true},\"highlightcolor\":\"limegreen\",\"show\":true,\"usecolormap\":true}}},{\"marker\":{\"color\":\"red\",\"size\":5},\"mode\":\"markers\",\"name\":\"global minimum\",\"x\":[-3.3351246515909834],\"y\":[0.9481960932413731],\"z\":[0.26682138974666597],\"type\":\"scatter3d\"}],                        {\"coloraxis\":{\"cmax\":0.7036348421911716,\"cmin\":-0.5737793581265835,\"colorbar\":{\"tickformat\":\".2e\",\"title\":{\"text\":\"Loss magnitude\"}},\"colorscale\":[[0.0,\"#440154\"],[0.1111111111111111,\"#482878\"],[0.2222222222222222,\"#3e4989\"],[0.3333333333333333,\"#31688e\"],[0.4444444444444444,\"#26828e\"],[0.5555555555555556,\"#1f9e89\"],[0.6666666666666666,\"#35b779\"],[0.7777777777777778,\"#6ece58\"],[0.8888888888888888,\"#b5de2b\"],[1.0,\"#fde725\"]]},\"scene\":{\"xaxis\":{\"title\":{\"text\":\"PC1\"}},\"yaxis\":{\"title\":{\"text\":\"PC2\"}},\"zaxis\":{\"title\":{\"text\":\" Loss\"},\"type\":\"log\"}},\"template\":{\"data\":{\"histogram2dcontour\":[{\"type\":\"histogram2dcontour\",\"colorbar\":{\"outlinewidth\":0,\"ticks\":\"\"},\"colorscale\":[[0.0,\"#0d0887\"],[0.1111111111111111,\"#46039f\"],[0.2222222222222222,\"#7201a8\"],[0.3333333333333333,\"#9c179e\"],[0.4444444444444444,\"#bd3786\"],[0.5555555555555556,\"#d8576b\"],[0.6666666666666666,\"#ed7953\"],[0.7777777777777778,\"#fb9f3a\"],[0.8888888888888888,\"#fdca26\"],[1.0,\"#f0f921\"]]}],\"choropleth\":[{\"type\":\"choropleth\",\"colorbar\":{\"outlinewidth\":0,\"ticks\":\"\"}}],\"histogram2d\":[{\"type\":\"histogram2d\",\"colorbar\":{\"outlinewidth\":0,\"ticks\":\"\"},\"colorscale\":[[0.0,\"#0d0887\"],[0.1111111111111111,\"#46039f\"],[0.2222222222222222,\"#7201a8\"],[0.3333333333333333,\"#9c179e\"],[0.4444444444444444,\"#bd3786\"],[0.5555555555555556,\"#d8576b\"],[0.6666666666666666,\"#ed7953\"],[0.7777777777777778,\"#fb9f3a\"],[0.8888888888888888,\"#fdca26\"],[1.0,\"#f0f921\"]]}],\"heatmap\":[{\"type\":\"heatmap\",\"colorbar\":{\"outlinewidth\":0,\"ticks\":\"\"},\"colorscale\":[[0.0,\"#0d0887\"],[0.1111111111111111,\"#46039f\"],[0.2222222222222222,\"#7201a8\"],[0.3333333333333333,\"#9c179e\"],[0.4444444444444444,\"#bd3786\"],[0.5555555555555556,\"#d8576b\"],[0.6666666666666666,\"#ed7953\"],[0.7777777777777778,\"#fb9f3a\"],[0.8888888888888888,\"#fdca26\"],[1.0,\"#f0f921\"]]}],\"heatmapgl\":[{\"type\":\"heatmapgl\",\"colorbar\":{\"outlinewidth\":0,\"ticks\":\"\"},\"colorscale\":[[0.0,\"#0d0887\"],[0.1111111111111111,\"#46039f\"],[0.2222222222222222,\"#7201a8\"],[0.3333333333333333,\"#9c179e\"],[0.4444444444444444,\"#bd3786\"],[0.5555555555555556,\"#d8576b\"],[0.6666666666666666,\"#ed7953\"],[0.7777777777777778,\"#fb9f3a\"],[0.8888888888888888,\"#fdca26\"],[1.0,\"#f0f921\"]]}],\"contourcarpet\":[{\"type\":\"contourcarpet\",\"colorbar\":{\"outlinewidth\":0,\"ticks\":\"\"}}],\"contour\":[{\"type\":\"contour\",\"colorbar\":{\"outlinewidth\":0,\"ticks\":\"\"},\"colorscale\":[[0.0,\"#0d0887\"],[0.1111111111111111,\"#46039f\"],[0.2222222222222222,\"#7201a8\"],[0.3333333333333333,\"#9c179e\"],[0.4444444444444444,\"#bd3786\"],[0.5555555555555556,\"#d8576b\"],[0.6666666666666666,\"#ed7953\"],[0.7777777777777778,\"#fb9f3a\"],[0.8888888888888888,\"#fdca26\"],[1.0,\"#f0f921\"]]}],\"surface\":[{\"type\":\"surface\",\"colorbar\":{\"outlinewidth\":0,\"ticks\":\"\"},\"colorscale\":[[0.0,\"#0d0887\"],[0.1111111111111111,\"#46039f\"],[0.2222222222222222,\"#7201a8\"],[0.3333333333333333,\"#9c179e\"],[0.4444444444444444,\"#bd3786\"],[0.5555555555555556,\"#d8576b\"],[0.6666666666666666,\"#ed7953\"],[0.7777777777777778,\"#fb9f3a\"],[0.8888888888888888,\"#fdca26\"],[1.0,\"#f0f921\"]]}],\"mesh3d\":[{\"type\":\"mesh3d\",\"colorbar\":{\"outlinewidth\":0,\"ticks\":\"\"}}],\"scatter\":[{\"fillpattern\":{\"fillmode\":\"overlay\",\"size\":10,\"solidity\":0.2},\"type\":\"scatter\"}],\"parcoords\":[{\"type\":\"parcoords\",\"line\":{\"colorbar\":{\"outlinewidth\":0,\"ticks\":\"\"}}}],\"scatterpolargl\":[{\"type\":\"scatterpolargl\",\"marker\":{\"colorbar\":{\"outlinewidth\":0,\"ticks\":\"\"}}}],\"bar\":[{\"error_x\":{\"color\":\"#2a3f5f\"},\"error_y\":{\"color\":\"#2a3f5f\"},\"marker\":{\"line\":{\"color\":\"#E5ECF6\",\"width\":0.5},\"pattern\":{\"fillmode\":\"overlay\",\"size\":10,\"solidity\":0.2}},\"type\":\"bar\"}],\"scattergeo\":[{\"type\":\"scattergeo\",\"marker\":{\"colorbar\":{\"outlinewidth\":0,\"ticks\":\"\"}}}],\"scatterpolar\":[{\"type\":\"scatterpolar\",\"marker\":{\"colorbar\":{\"outlinewidth\":0,\"ticks\":\"\"}}}],\"histogram\":[{\"marker\":{\"pattern\":{\"fillmode\":\"overlay\",\"size\":10,\"solidity\":0.2}},\"type\":\"histogram\"}],\"scattergl\":[{\"type\":\"scattergl\",\"marker\":{\"colorbar\":{\"outlinewidth\":0,\"ticks\":\"\"}}}],\"scatter3d\":[{\"type\":\"scatter3d\",\"line\":{\"colorbar\":{\"outlinewidth\":0,\"ticks\":\"\"}},\"marker\":{\"colorbar\":{\"outlinewidth\":0,\"ticks\":\"\"}}}],\"scattermapbox\":[{\"type\":\"scattermapbox\",\"marker\":{\"colorbar\":{\"outlinewidth\":0,\"ticks\":\"\"}}}],\"scatterternary\":[{\"type\":\"scatterternary\",\"marker\":{\"colorbar\":{\"outlinewidth\":0,\"ticks\":\"\"}}}],\"scattercarpet\":[{\"type\":\"scattercarpet\",\"marker\":{\"colorbar\":{\"outlinewidth\":0,\"ticks\":\"\"}}}],\"carpet\":[{\"aaxis\":{\"endlinecolor\":\"#2a3f5f\",\"gridcolor\":\"white\",\"linecolor\":\"white\",\"minorgridcolor\":\"white\",\"startlinecolor\":\"#2a3f5f\"},\"baxis\":{\"endlinecolor\":\"#2a3f5f\",\"gridcolor\":\"white\",\"linecolor\":\"white\",\"minorgridcolor\":\"white\",\"startlinecolor\":\"#2a3f5f\"},\"type\":\"carpet\"}],\"table\":[{\"cells\":{\"fill\":{\"color\":\"#EBF0F8\"},\"line\":{\"color\":\"white\"}},\"header\":{\"fill\":{\"color\":\"#C8D4E3\"},\"line\":{\"color\":\"white\"}},\"type\":\"table\"}],\"barpolar\":[{\"marker\":{\"line\":{\"color\":\"#E5ECF6\",\"width\":0.5},\"pattern\":{\"fillmode\":\"overlay\",\"size\":10,\"solidity\":0.2}},\"type\":\"barpolar\"}],\"pie\":[{\"automargin\":true,\"type\":\"pie\"}]},\"layout\":{\"autotypenumbers\":\"strict\",\"colorway\":[\"#636efa\",\"#EF553B\",\"#00cc96\",\"#ab63fa\",\"#FFA15A\",\"#19d3f3\",\"#FF6692\",\"#B6E880\",\"#FF97FF\",\"#FECB52\"],\"font\":{\"color\":\"#2a3f5f\"},\"hovermode\":\"closest\",\"hoverlabel\":{\"align\":\"left\"},\"paper_bgcolor\":\"white\",\"plot_bgcolor\":\"#E5ECF6\",\"polar\":{\"bgcolor\":\"#E5ECF6\",\"angularaxis\":{\"gridcolor\":\"white\",\"linecolor\":\"white\",\"ticks\":\"\"},\"radialaxis\":{\"gridcolor\":\"white\",\"linecolor\":\"white\",\"ticks\":\"\"}},\"ternary\":{\"bgcolor\":\"#E5ECF6\",\"aaxis\":{\"gridcolor\":\"white\",\"linecolor\":\"white\",\"ticks\":\"\"},\"baxis\":{\"gridcolor\":\"white\",\"linecolor\":\"white\",\"ticks\":\"\"},\"caxis\":{\"gridcolor\":\"white\",\"linecolor\":\"white\",\"ticks\":\"\"}},\"coloraxis\":{\"colorbar\":{\"outlinewidth\":0,\"ticks\":\"\"}},\"colorscale\":{\"sequential\":[[0.0,\"#0d0887\"],[0.1111111111111111,\"#46039f\"],[0.2222222222222222,\"#7201a8\"],[0.3333333333333333,\"#9c179e\"],[0.4444444444444444,\"#bd3786\"],[0.5555555555555556,\"#d8576b\"],[0.6666666666666666,\"#ed7953\"],[0.7777777777777778,\"#fb9f3a\"],[0.8888888888888888,\"#fdca26\"],[1.0,\"#f0f921\"]],\"sequentialminus\":[[0.0,\"#0d0887\"],[0.1111111111111111,\"#46039f\"],[0.2222222222222222,\"#7201a8\"],[0.3333333333333333,\"#9c179e\"],[0.4444444444444444,\"#bd3786\"],[0.5555555555555556,\"#d8576b\"],[0.6666666666666666,\"#ed7953\"],[0.7777777777777778,\"#fb9f3a\"],[0.8888888888888888,\"#fdca26\"],[1.0,\"#f0f921\"]],\"diverging\":[[0,\"#8e0152\"],[0.1,\"#c51b7d\"],[0.2,\"#de77ae\"],[0.3,\"#f1b6da\"],[0.4,\"#fde0ef\"],[0.5,\"#f7f7f7\"],[0.6,\"#e6f5d0\"],[0.7,\"#b8e186\"],[0.8,\"#7fbc41\"],[0.9,\"#4d9221\"],[1,\"#276419\"]]},\"xaxis\":{\"gridcolor\":\"white\",\"linecolor\":\"white\",\"ticks\":\"\",\"title\":{\"standoff\":15},\"zerolinecolor\":\"white\",\"automargin\":true,\"zerolinewidth\":2},\"yaxis\":{\"gridcolor\":\"white\",\"linecolor\":\"white\",\"ticks\":\"\",\"title\":{\"standoff\":15},\"zerolinecolor\":\"white\",\"automargin\":true,\"zerolinewidth\":2},\"scene\":{\"xaxis\":{\"backgroundcolor\":\"#E5ECF6\",\"gridcolor\":\"white\",\"linecolor\":\"white\",\"showbackground\":true,\"ticks\":\"\",\"zerolinecolor\":\"white\",\"gridwidth\":2},\"yaxis\":{\"backgroundcolor\":\"#E5ECF6\",\"gridcolor\":\"white\",\"linecolor\":\"white\",\"showbackground\":true,\"ticks\":\"\",\"zerolinecolor\":\"white\",\"gridwidth\":2},\"zaxis\":{\"backgroundcolor\":\"#E5ECF6\",\"gridcolor\":\"white\",\"linecolor\":\"white\",\"showbackground\":true,\"ticks\":\"\",\"zerolinecolor\":\"white\",\"gridwidth\":2}},\"shapedefaults\":{\"line\":{\"color\":\"#2a3f5f\"}},\"annotationdefaults\":{\"arrowcolor\":\"#2a3f5f\",\"arrowhead\":0,\"arrowwidth\":1},\"geo\":{\"bgcolor\":\"white\",\"landcolor\":\"#E5ECF6\",\"subunitcolor\":\"white\",\"showland\":true,\"showlakes\":true,\"lakecolor\":\"white\"},\"title\":{\"x\":0.05},\"mapbox\":{\"style\":\"light\"}}}},                        {\"responsive\": true}                    ).then(function(){\n",
       "                            \n",
       "var gd = document.getElementById('551322df-84b2-441a-b483-f9f6a1b31f8d');\n",
       "var x = new MutationObserver(function (mutations, observer) {{\n",
       "        var display = window.getComputedStyle(gd).display;\n",
       "        if (!display || display === 'none') {{\n",
       "            console.log([gd, 'removed!']);\n",
       "            Plotly.purge(gd);\n",
       "            observer.disconnect();\n",
       "        }}\n",
       "}});\n",
       "\n",
       "// Listen for the removal of the full notebook cells\n",
       "var notebookContainer = gd.closest('#notebook-container');\n",
       "if (notebookContainer) {{\n",
       "    x.observe(notebookContainer, {childList: true});\n",
       "}}\n",
       "\n",
       "// Listen for the clearing of the current output cell\n",
       "var outputEl = gd.closest('.output');\n",
       "if (outputEl) {{\n",
       "    x.observe(outputEl, {childList: true});\n",
       "}}\n",
       "\n",
       "                        })                };                });            </script>        </div>"
      ]
     },
     "metadata": {},
     "output_type": "display_data"
    }
   ],
   "source": [
    "surface = go.Surface(\n",
    "        x=xx,\n",
    "        y=yy,\n",
    "        z=grid_losses,\n",
    "        opacity=0.8,\n",
    "        name=\"grid point\",\n",
    "        coloraxis=\"coloraxis\",\n",
    "        colorscale=\"Viridis\",\n",
    "    )\n",
    "\n",
    "# adding a log scale on Z\n",
    "layout = go.Layout(\n",
    "    scene=dict(xaxis_title=\"PC1\", yaxis_title=\"PC2\", zaxis_title=\" Loss\", zaxis=dict(type='log')),\n",
    "    coloraxis=dict(\n",
    "        colorbar=dict(title=\"Loss magnitude\", tickformat=\".2e\"),  # Format tick labels as scientific notation\n",
    "        colorscale=\"Viridis\",\n",
    "        cmin=np.log10(grid_losses.min()),  # Set minimum value on color axis to log10(min(z))\n",
    "        cmax=np.log10(grid_losses.max()),  # Set maximum value on color axis to log10(max(z))\n",
    "),\n",
    ")\n",
    "\n",
    "fig = go.Figure(data=[surface], layout=layout)\n",
    "\n",
    "\n",
    "fig.update_traces(contours_z=dict(show=True, usecolormap=True,\n",
    "                              highlightcolor=\"limegreen\", project_z=True))\n",
    "\n",
    "_min_x, _min_y = np.unravel_index(np.argmin(grid_losses), grid_losses.shape)\n",
    "min_point = go.Scatter3d(\n",
    "    x=[xx[_min_x, _min_y]],\n",
    "    y=[yy[_min_x, _min_y]],\n",
    "    z=[grid_losses[_min_x, _min_y]],\n",
    "    mode='markers',\n",
    "    marker=dict(\n",
    "        size=5,\n",
    "        color='red',                # set color to red\n",
    "    ),\n",
    "    name=\"global minimum\"\n",
    ")\n",
    "\n",
    "fig.add_trace(min_point)"
   ]
  },
  {
   "cell_type": "code",
   "execution_count": 67,
   "id": "18af25c1",
   "metadata": {},
   "outputs": [
    {
     "data": {
      "application/vnd.plotly.v1+json": {
       "config": {
        "plotlyServerURL": "https://plot.ly"
       },
       "data": [
        {
         "colorscale": [
          [
           0,
           "#440154"
          ],
          [
           0.1111111111111111,
           "#482878"
          ],
          [
           0.2222222222222222,
           "#3e4989"
          ],
          [
           0.3333333333333333,
           "#31688e"
          ],
          [
           0.4444444444444444,
           "#26828e"
          ],
          [
           0.5555555555555556,
           "#1f9e89"
          ],
          [
           0.6666666666666666,
           "#35b779"
          ],
          [
           0.7777777777777778,
           "#6ece58"
          ],
          [
           0.8888888888888888,
           "#b5de2b"
          ],
          [
           1,
           "#fde725"
          ]
         ],
         "type": "contour",
         "x": [
          -7.61844539642334,
          -5.476785024007162,
          -3.3351246515909834,
          -1.1934642791748047,
          0.9481960932413731,
          3.089856465657551,
          5.2315168380737305,
          7.373177210489908,
          9.514837582906086,
          11.656497955322266,
          -7.61844539642334,
          -5.476785024007162,
          -3.3351246515909834,
          -1.1934642791748047,
          0.9481960932413731,
          3.089856465657551,
          5.2315168380737305,
          7.373177210489908,
          9.514837582906086,
          11.656497955322266,
          -7.61844539642334,
          -5.476785024007162,
          -3.3351246515909834,
          -1.1934642791748047,
          0.9481960932413731,
          3.089856465657551,
          5.2315168380737305,
          7.373177210489908,
          9.514837582906086,
          11.656497955322266,
          -7.61844539642334,
          -5.476785024007162,
          -3.3351246515909834,
          -1.1934642791748047,
          0.9481960932413731,
          3.089856465657551,
          5.2315168380737305,
          7.373177210489908,
          9.514837582906086,
          11.656497955322266,
          -7.61844539642334,
          -5.476785024007162,
          -3.3351246515909834,
          -1.1934642791748047,
          0.9481960932413731,
          3.089856465657551,
          5.2315168380737305,
          7.373177210489908,
          9.514837582906086,
          11.656497955322266,
          -7.61844539642334,
          -5.476785024007162,
          -3.3351246515909834,
          -1.1934642791748047,
          0.9481960932413731,
          3.089856465657551,
          5.2315168380737305,
          7.373177210489908,
          9.514837582906086,
          11.656497955322266,
          -7.61844539642334,
          -5.476785024007162,
          -3.3351246515909834,
          -1.1934642791748047,
          0.9481960932413731,
          3.089856465657551,
          5.2315168380737305,
          7.373177210489908,
          9.514837582906086,
          11.656497955322266,
          -7.61844539642334,
          -5.476785024007162,
          -3.3351246515909834,
          -1.1934642791748047,
          0.9481960932413731,
          3.089856465657551,
          5.2315168380737305,
          7.373177210489908,
          9.514837582906086,
          11.656497955322266,
          -7.61844539642334,
          -5.476785024007162,
          -3.3351246515909834,
          -1.1934642791748047,
          0.9481960932413731,
          3.089856465657551,
          5.2315168380737305,
          7.373177210489908,
          9.514837582906086,
          11.656497955322266,
          -7.61844539642334,
          -5.476785024007162,
          -3.3351246515909834,
          -1.1934642791748047,
          0.9481960932413731,
          3.089856465657551,
          5.2315168380737305,
          7.373177210489908,
          9.514837582906086,
          11.656497955322266
         ],
         "y": [
          -7.61844539642334,
          -7.61844539642334,
          -7.61844539642334,
          -7.61844539642334,
          -7.61844539642334,
          -7.61844539642334,
          -7.61844539642334,
          -7.61844539642334,
          -7.61844539642334,
          -7.61844539642334,
          -5.476785024007162,
          -5.476785024007162,
          -5.476785024007162,
          -5.476785024007162,
          -5.476785024007162,
          -5.476785024007162,
          -5.476785024007162,
          -5.476785024007162,
          -5.476785024007162,
          -5.476785024007162,
          -3.3351246515909834,
          -3.3351246515909834,
          -3.3351246515909834,
          -3.3351246515909834,
          -3.3351246515909834,
          -3.3351246515909834,
          -3.3351246515909834,
          -3.3351246515909834,
          -3.3351246515909834,
          -3.3351246515909834,
          -1.1934642791748047,
          -1.1934642791748047,
          -1.1934642791748047,
          -1.1934642791748047,
          -1.1934642791748047,
          -1.1934642791748047,
          -1.1934642791748047,
          -1.1934642791748047,
          -1.1934642791748047,
          -1.1934642791748047,
          0.9481960932413731,
          0.9481960932413731,
          0.9481960932413731,
          0.9481960932413731,
          0.9481960932413731,
          0.9481960932413731,
          0.9481960932413731,
          0.9481960932413731,
          0.9481960932413731,
          0.9481960932413731,
          3.089856465657551,
          3.089856465657551,
          3.089856465657551,
          3.089856465657551,
          3.089856465657551,
          3.089856465657551,
          3.089856465657551,
          3.089856465657551,
          3.089856465657551,
          3.089856465657551,
          5.2315168380737305,
          5.2315168380737305,
          5.2315168380737305,
          5.2315168380737305,
          5.2315168380737305,
          5.2315168380737305,
          5.2315168380737305,
          5.2315168380737305,
          5.2315168380737305,
          5.2315168380737305,
          7.373177210489908,
          7.373177210489908,
          7.373177210489908,
          7.373177210489908,
          7.373177210489908,
          7.373177210489908,
          7.373177210489908,
          7.373177210489908,
          7.373177210489908,
          7.373177210489908,
          9.514837582906086,
          9.514837582906086,
          9.514837582906086,
          9.514837582906086,
          9.514837582906086,
          9.514837582906086,
          9.514837582906086,
          9.514837582906086,
          9.514837582906086,
          9.514837582906086,
          11.656497955322266,
          11.656497955322266,
          11.656497955322266,
          11.656497955322266,
          11.656497955322266,
          11.656497955322266,
          11.656497955322266,
          11.656497955322266,
          11.656497955322266,
          11.656497955322266
         ],
         "z": [
          0.30079349634358143,
          0.23187296971012428,
          0.16524375420604753,
          0.10143258916394501,
          0.039865676501214496,
          -0.01817939092814908,
          -0.07250515749199556,
          -0.1183050928381865,
          -0.1392376861440111,
          -0.07133710024865593,
          0.10102000308952307,
          0.023245204317701763,
          -0.051286819593080346,
          -0.1202409313265623,
          -0.1848194676151079,
          -0.24329653905815793,
          -0.2945399889433849,
          -0.3356427206917356,
          -0.34690119251152307,
          -0.2511816359032267,
          -0.10554898155712658,
          -0.19433255881960396,
          -0.2749774914820446,
          -0.3451900402514481,
          -0.40116765598973597,
          -0.4420468023472447,
          -0.4649589750397289,
          -0.46032651044999207,
          -0.402616046668632,
          -0.21529752988694006,
          -0.30699670669802903,
          -0.40193462586638884,
          -0.4765910002405913,
          -0.524357640250968,
          -0.5382833883410034,
          -0.5124243303369318,
          -0.445164849776089,
          -0.3336966090197484,
          -0.17340987883103448,
          0.025186340277474916,
          -0.4672361034561262,
          -0.5435901661113447,
          -0.5737793581265835,
          -0.5432321848561262,
          -0.4515484057470386,
          -0.31481503362443314,
          -0.15619036012622925,
          -0.00015869945812241966,
          0.13069322532866015,
          0.2301205323814544,
          -0.5152798682785162,
          -0.5261697392310366,
          -0.45554461276719904,
          -0.3166767892517598,
          -0.1441125258944481,
          0.02216445209604994,
          0.15043552176466196,
          0.2357234517009713,
          0.29029264444250247,
          0.3251019207264781,
          -0.3858353798953185,
          -0.3104480819613419,
          -0.16687659988617765,
          -0.0009783853370804562,
          0.14251042420519353,
          0.23993431657278744,
          0.2975479431160655,
          0.3293883810394592,
          0.3465217930730409,
          0.35583205762751086,
          -0.10143882615897601,
          -0.006266884550658647,
          0.11387120484468348,
          0.21764634785051426,
          0.28757657953752513,
          0.3276548057646949,
          0.34792524623945303,
          0.3568239309257738,
          0.3607962203337199,
          0.36326597005523165,
          0.17192861432114082,
          0.21808946901478735,
          0.2746328651105954,
          0.3184321577763838,
          0.3443107788664677,
          0.3565668272094997,
          0.3611447571205181,
          0.36385867786515375,
          0.3695380104672587,
          0.38890425763365055,
          0.32003192893428495,
          0.3267458778247905,
          0.3431919771366768,
          0.3560004851195372,
          0.3628424509696264,
          0.3680445174204862,
          0.38035164624962065,
          0.41882766286620543,
          0.5173410957388789,
          0.7036348421911716
         ]
        },
        {
         "hovertemplate": "%{text}",
         "line": {
          "color": "orange"
         },
         "marker": {
          "color": [
           "blue",
           "orange",
           "orange",
           "orange",
           "orange",
           "orange",
           "orange",
           "orange",
           "orange",
           "orange",
           "orange",
           "orange",
           "orange",
           "orange",
           "orange",
           "orange",
           "orange",
           "green"
          ],
          "size": [
           8,
           5,
           5,
           5,
           5,
           5,
           5,
           5,
           5,
           5,
           5,
           5,
           5,
           5,
           5,
           5,
           5,
           8
          ]
         },
         "mode": "markers+lines",
         "name": "Training Trajectory",
         "text": [
          "Start Point<br>Loss: 2.304018159484863",
          "Trajectory Point<br>Loss: 0.487852601146698",
          "Trajectory Point<br>Loss: 0.37192791368961337",
          "Trajectory Point<br>Loss: 0.36192717084884646",
          "Trajectory Point<br>Loss: 0.3331761233329773",
          "Trajectory Point<br>Loss: 0.30647715406417847",
          "Trajectory Point<br>Loss: 0.3036965242147446",
          "Trajectory Point<br>Loss: 0.3286707003355026",
          "Trajectory Point<br>Loss: 0.30233671727180483",
          "Trajectory Point<br>Loss: 0.30248384194374084",
          "Trajectory Point<br>Loss: 0.30518702054023744",
          "Trajectory Point<br>Loss: 0.3132485864877701",
          "Trajectory Point<br>Loss: 0.3062468100309372",
          "Trajectory Point<br>Loss: 0.30526353545188906",
          "Trajectory Point<br>Loss: 0.2959495944142342",
          "Trajectory Point<br>Loss: 0.2999816225290298",
          "Trajectory Point<br>Loss: 0.3685106678724289",
          "End Point<br>Loss: 0.32075344594717026"
         ],
         "type": "scatter",
         "x": [
          10.656497955322266,
          7.35659646987915,
          5.3445940017700195,
          5.341752052307129,
          3.6073501110076904,
          2.012516975402832,
          2.0114641189575195,
          0.5689933896064758,
          -0.7925629019737244,
          -0.7934549450874329,
          -2.034114360809326,
          -3.1720352172851562,
          -3.1732327938079834,
          -4.185841083526611,
          -5.105209827423096,
          -5.106623649597168,
          -5.918240070343018,
          -6.61844539642334
         ],
         "y": [
          6.259443283081055,
          0.16009069979190826,
          -1.4320679903030396,
          -1.4341143369674683,
          -1.9275966882705688,
          -1.9743295907974243,
          -1.970950961112976,
          -1.6683274507522583,
          -1.2095919847488403,
          -1.207943081855774,
          -0.6255831122398376,
          0.006653615273535252,
          0.009055343456566334,
          0.6211206316947937,
          1.2734616994857788,
          1.2741804122924805,
          1.7133963108062744,
          2.1331043243408203
         ]
        },
        {
         "hovertemplate": "Loss: %{text}",
         "marker": {
          "color": "red",
          "size": 7,
          "symbol": "star"
         },
         "mode": "markers",
         "name": "global minimum",
         "text": "0.26682138974666597",
         "type": "scatter",
         "x": [
          -3.3351246515909834
         ],
         "y": [
          0.9481960932413731
         ]
        }
       ],
       "layout": {
        "legend": {
         "orientation": "v",
         "x": 0,
         "y": 0
        },
        "template": {
         "data": {
          "bar": [
           {
            "error_x": {
             "color": "#2a3f5f"
            },
            "error_y": {
             "color": "#2a3f5f"
            },
            "marker": {
             "line": {
              "color": "#E5ECF6",
              "width": 0.5
             },
             "pattern": {
              "fillmode": "overlay",
              "size": 10,
              "solidity": 0.2
             }
            },
            "type": "bar"
           }
          ],
          "barpolar": [
           {
            "marker": {
             "line": {
              "color": "#E5ECF6",
              "width": 0.5
             },
             "pattern": {
              "fillmode": "overlay",
              "size": 10,
              "solidity": 0.2
             }
            },
            "type": "barpolar"
           }
          ],
          "carpet": [
           {
            "aaxis": {
             "endlinecolor": "#2a3f5f",
             "gridcolor": "white",
             "linecolor": "white",
             "minorgridcolor": "white",
             "startlinecolor": "#2a3f5f"
            },
            "baxis": {
             "endlinecolor": "#2a3f5f",
             "gridcolor": "white",
             "linecolor": "white",
             "minorgridcolor": "white",
             "startlinecolor": "#2a3f5f"
            },
            "type": "carpet"
           }
          ],
          "choropleth": [
           {
            "colorbar": {
             "outlinewidth": 0,
             "ticks": ""
            },
            "type": "choropleth"
           }
          ],
          "contour": [
           {
            "colorbar": {
             "outlinewidth": 0,
             "ticks": ""
            },
            "colorscale": [
             [
              0,
              "#0d0887"
             ],
             [
              0.1111111111111111,
              "#46039f"
             ],
             [
              0.2222222222222222,
              "#7201a8"
             ],
             [
              0.3333333333333333,
              "#9c179e"
             ],
             [
              0.4444444444444444,
              "#bd3786"
             ],
             [
              0.5555555555555556,
              "#d8576b"
             ],
             [
              0.6666666666666666,
              "#ed7953"
             ],
             [
              0.7777777777777778,
              "#fb9f3a"
             ],
             [
              0.8888888888888888,
              "#fdca26"
             ],
             [
              1,
              "#f0f921"
             ]
            ],
            "type": "contour"
           }
          ],
          "contourcarpet": [
           {
            "colorbar": {
             "outlinewidth": 0,
             "ticks": ""
            },
            "type": "contourcarpet"
           }
          ],
          "heatmap": [
           {
            "colorbar": {
             "outlinewidth": 0,
             "ticks": ""
            },
            "colorscale": [
             [
              0,
              "#0d0887"
             ],
             [
              0.1111111111111111,
              "#46039f"
             ],
             [
              0.2222222222222222,
              "#7201a8"
             ],
             [
              0.3333333333333333,
              "#9c179e"
             ],
             [
              0.4444444444444444,
              "#bd3786"
             ],
             [
              0.5555555555555556,
              "#d8576b"
             ],
             [
              0.6666666666666666,
              "#ed7953"
             ],
             [
              0.7777777777777778,
              "#fb9f3a"
             ],
             [
              0.8888888888888888,
              "#fdca26"
             ],
             [
              1,
              "#f0f921"
             ]
            ],
            "type": "heatmap"
           }
          ],
          "heatmapgl": [
           {
            "colorbar": {
             "outlinewidth": 0,
             "ticks": ""
            },
            "colorscale": [
             [
              0,
              "#0d0887"
             ],
             [
              0.1111111111111111,
              "#46039f"
             ],
             [
              0.2222222222222222,
              "#7201a8"
             ],
             [
              0.3333333333333333,
              "#9c179e"
             ],
             [
              0.4444444444444444,
              "#bd3786"
             ],
             [
              0.5555555555555556,
              "#d8576b"
             ],
             [
              0.6666666666666666,
              "#ed7953"
             ],
             [
              0.7777777777777778,
              "#fb9f3a"
             ],
             [
              0.8888888888888888,
              "#fdca26"
             ],
             [
              1,
              "#f0f921"
             ]
            ],
            "type": "heatmapgl"
           }
          ],
          "histogram": [
           {
            "marker": {
             "pattern": {
              "fillmode": "overlay",
              "size": 10,
              "solidity": 0.2
             }
            },
            "type": "histogram"
           }
          ],
          "histogram2d": [
           {
            "colorbar": {
             "outlinewidth": 0,
             "ticks": ""
            },
            "colorscale": [
             [
              0,
              "#0d0887"
             ],
             [
              0.1111111111111111,
              "#46039f"
             ],
             [
              0.2222222222222222,
              "#7201a8"
             ],
             [
              0.3333333333333333,
              "#9c179e"
             ],
             [
              0.4444444444444444,
              "#bd3786"
             ],
             [
              0.5555555555555556,
              "#d8576b"
             ],
             [
              0.6666666666666666,
              "#ed7953"
             ],
             [
              0.7777777777777778,
              "#fb9f3a"
             ],
             [
              0.8888888888888888,
              "#fdca26"
             ],
             [
              1,
              "#f0f921"
             ]
            ],
            "type": "histogram2d"
           }
          ],
          "histogram2dcontour": [
           {
            "colorbar": {
             "outlinewidth": 0,
             "ticks": ""
            },
            "colorscale": [
             [
              0,
              "#0d0887"
             ],
             [
              0.1111111111111111,
              "#46039f"
             ],
             [
              0.2222222222222222,
              "#7201a8"
             ],
             [
              0.3333333333333333,
              "#9c179e"
             ],
             [
              0.4444444444444444,
              "#bd3786"
             ],
             [
              0.5555555555555556,
              "#d8576b"
             ],
             [
              0.6666666666666666,
              "#ed7953"
             ],
             [
              0.7777777777777778,
              "#fb9f3a"
             ],
             [
              0.8888888888888888,
              "#fdca26"
             ],
             [
              1,
              "#f0f921"
             ]
            ],
            "type": "histogram2dcontour"
           }
          ],
          "mesh3d": [
           {
            "colorbar": {
             "outlinewidth": 0,
             "ticks": ""
            },
            "type": "mesh3d"
           }
          ],
          "parcoords": [
           {
            "line": {
             "colorbar": {
              "outlinewidth": 0,
              "ticks": ""
             }
            },
            "type": "parcoords"
           }
          ],
          "pie": [
           {
            "automargin": true,
            "type": "pie"
           }
          ],
          "scatter": [
           {
            "fillpattern": {
             "fillmode": "overlay",
             "size": 10,
             "solidity": 0.2
            },
            "type": "scatter"
           }
          ],
          "scatter3d": [
           {
            "line": {
             "colorbar": {
              "outlinewidth": 0,
              "ticks": ""
             }
            },
            "marker": {
             "colorbar": {
              "outlinewidth": 0,
              "ticks": ""
             }
            },
            "type": "scatter3d"
           }
          ],
          "scattercarpet": [
           {
            "marker": {
             "colorbar": {
              "outlinewidth": 0,
              "ticks": ""
             }
            },
            "type": "scattercarpet"
           }
          ],
          "scattergeo": [
           {
            "marker": {
             "colorbar": {
              "outlinewidth": 0,
              "ticks": ""
             }
            },
            "type": "scattergeo"
           }
          ],
          "scattergl": [
           {
            "marker": {
             "colorbar": {
              "outlinewidth": 0,
              "ticks": ""
             }
            },
            "type": "scattergl"
           }
          ],
          "scattermapbox": [
           {
            "marker": {
             "colorbar": {
              "outlinewidth": 0,
              "ticks": ""
             }
            },
            "type": "scattermapbox"
           }
          ],
          "scatterpolar": [
           {
            "marker": {
             "colorbar": {
              "outlinewidth": 0,
              "ticks": ""
             }
            },
            "type": "scatterpolar"
           }
          ],
          "scatterpolargl": [
           {
            "marker": {
             "colorbar": {
              "outlinewidth": 0,
              "ticks": ""
             }
            },
            "type": "scatterpolargl"
           }
          ],
          "scatterternary": [
           {
            "marker": {
             "colorbar": {
              "outlinewidth": 0,
              "ticks": ""
             }
            },
            "type": "scatterternary"
           }
          ],
          "surface": [
           {
            "colorbar": {
             "outlinewidth": 0,
             "ticks": ""
            },
            "colorscale": [
             [
              0,
              "#0d0887"
             ],
             [
              0.1111111111111111,
              "#46039f"
             ],
             [
              0.2222222222222222,
              "#7201a8"
             ],
             [
              0.3333333333333333,
              "#9c179e"
             ],
             [
              0.4444444444444444,
              "#bd3786"
             ],
             [
              0.5555555555555556,
              "#d8576b"
             ],
             [
              0.6666666666666666,
              "#ed7953"
             ],
             [
              0.7777777777777778,
              "#fb9f3a"
             ],
             [
              0.8888888888888888,
              "#fdca26"
             ],
             [
              1,
              "#f0f921"
             ]
            ],
            "type": "surface"
           }
          ],
          "table": [
           {
            "cells": {
             "fill": {
              "color": "#EBF0F8"
             },
             "line": {
              "color": "white"
             }
            },
            "header": {
             "fill": {
              "color": "#C8D4E3"
             },
             "line": {
              "color": "white"
             }
            },
            "type": "table"
           }
          ]
         },
         "layout": {
          "annotationdefaults": {
           "arrowcolor": "#2a3f5f",
           "arrowhead": 0,
           "arrowwidth": 1
          },
          "autotypenumbers": "strict",
          "coloraxis": {
           "colorbar": {
            "outlinewidth": 0,
            "ticks": ""
           }
          },
          "colorscale": {
           "diverging": [
            [
             0,
             "#8e0152"
            ],
            [
             0.1,
             "#c51b7d"
            ],
            [
             0.2,
             "#de77ae"
            ],
            [
             0.3,
             "#f1b6da"
            ],
            [
             0.4,
             "#fde0ef"
            ],
            [
             0.5,
             "#f7f7f7"
            ],
            [
             0.6,
             "#e6f5d0"
            ],
            [
             0.7,
             "#b8e186"
            ],
            [
             0.8,
             "#7fbc41"
            ],
            [
             0.9,
             "#4d9221"
            ],
            [
             1,
             "#276419"
            ]
           ],
           "sequential": [
            [
             0,
             "#0d0887"
            ],
            [
             0.1111111111111111,
             "#46039f"
            ],
            [
             0.2222222222222222,
             "#7201a8"
            ],
            [
             0.3333333333333333,
             "#9c179e"
            ],
            [
             0.4444444444444444,
             "#bd3786"
            ],
            [
             0.5555555555555556,
             "#d8576b"
            ],
            [
             0.6666666666666666,
             "#ed7953"
            ],
            [
             0.7777777777777778,
             "#fb9f3a"
            ],
            [
             0.8888888888888888,
             "#fdca26"
            ],
            [
             1,
             "#f0f921"
            ]
           ],
           "sequentialminus": [
            [
             0,
             "#0d0887"
            ],
            [
             0.1111111111111111,
             "#46039f"
            ],
            [
             0.2222222222222222,
             "#7201a8"
            ],
            [
             0.3333333333333333,
             "#9c179e"
            ],
            [
             0.4444444444444444,
             "#bd3786"
            ],
            [
             0.5555555555555556,
             "#d8576b"
            ],
            [
             0.6666666666666666,
             "#ed7953"
            ],
            [
             0.7777777777777778,
             "#fb9f3a"
            ],
            [
             0.8888888888888888,
             "#fdca26"
            ],
            [
             1,
             "#f0f921"
            ]
           ]
          },
          "colorway": [
           "#636efa",
           "#EF553B",
           "#00cc96",
           "#ab63fa",
           "#FFA15A",
           "#19d3f3",
           "#FF6692",
           "#B6E880",
           "#FF97FF",
           "#FECB52"
          ],
          "font": {
           "color": "#2a3f5f"
          },
          "geo": {
           "bgcolor": "white",
           "lakecolor": "white",
           "landcolor": "#E5ECF6",
           "showlakes": true,
           "showland": true,
           "subunitcolor": "white"
          },
          "hoverlabel": {
           "align": "left"
          },
          "hovermode": "closest",
          "mapbox": {
           "style": "light"
          },
          "paper_bgcolor": "white",
          "plot_bgcolor": "#E5ECF6",
          "polar": {
           "angularaxis": {
            "gridcolor": "white",
            "linecolor": "white",
            "ticks": ""
           },
           "bgcolor": "#E5ECF6",
           "radialaxis": {
            "gridcolor": "white",
            "linecolor": "white",
            "ticks": ""
           }
          },
          "scene": {
           "xaxis": {
            "backgroundcolor": "#E5ECF6",
            "gridcolor": "white",
            "gridwidth": 2,
            "linecolor": "white",
            "showbackground": true,
            "ticks": "",
            "zerolinecolor": "white"
           },
           "yaxis": {
            "backgroundcolor": "#E5ECF6",
            "gridcolor": "white",
            "gridwidth": 2,
            "linecolor": "white",
            "showbackground": true,
            "ticks": "",
            "zerolinecolor": "white"
           },
           "zaxis": {
            "backgroundcolor": "#E5ECF6",
            "gridcolor": "white",
            "gridwidth": 2,
            "linecolor": "white",
            "showbackground": true,
            "ticks": "",
            "zerolinecolor": "white"
           }
          },
          "shapedefaults": {
           "line": {
            "color": "#2a3f5f"
           }
          },
          "ternary": {
           "aaxis": {
            "gridcolor": "white",
            "linecolor": "white",
            "ticks": ""
           },
           "baxis": {
            "gridcolor": "white",
            "linecolor": "white",
            "ticks": ""
           },
           "bgcolor": "#E5ECF6",
           "caxis": {
            "gridcolor": "white",
            "linecolor": "white",
            "ticks": ""
           }
          },
          "title": {
           "x": 0.05
          },
          "xaxis": {
           "automargin": true,
           "gridcolor": "white",
           "linecolor": "white",
           "ticks": "",
           "title": {
            "standoff": 15
           },
           "zerolinecolor": "white",
           "zerolinewidth": 2
          },
          "yaxis": {
           "automargin": true,
           "gridcolor": "white",
           "linecolor": "white",
           "ticks": "",
           "title": {
            "standoff": 15
           },
           "zerolinecolor": "white",
           "zerolinewidth": 2
          }
         }
        },
        "title": {
         "text": "Contour Plot with Trajectory Projection"
        },
        "xaxis": {
         "title": {
          "text": "PC1"
         }
        },
        "yaxis": {
         "title": {
          "text": "PC2"
         }
        }
       }
      },
      "text/html": [
       "<div>                            <div id=\"f882210b-f612-4b30-a83f-f1a8cdc04b08\" class=\"plotly-graph-div\" style=\"height:525px; width:100%;\"></div>            <script type=\"text/javascript\">                require([\"plotly\"], function(Plotly) {                    window.PLOTLYENV=window.PLOTLYENV || {};                                    if (document.getElementById(\"f882210b-f612-4b30-a83f-f1a8cdc04b08\")) {                    Plotly.newPlot(                        \"f882210b-f612-4b30-a83f-f1a8cdc04b08\",                        [{\"colorscale\":[[0.0,\"#440154\"],[0.1111111111111111,\"#482878\"],[0.2222222222222222,\"#3e4989\"],[0.3333333333333333,\"#31688e\"],[0.4444444444444444,\"#26828e\"],[0.5555555555555556,\"#1f9e89\"],[0.6666666666666666,\"#35b779\"],[0.7777777777777778,\"#6ece58\"],[0.8888888888888888,\"#b5de2b\"],[1.0,\"#fde725\"]],\"x\":[-7.61844539642334,-5.476785024007162,-3.3351246515909834,-1.1934642791748047,0.9481960932413731,3.089856465657551,5.2315168380737305,7.373177210489908,9.514837582906086,11.656497955322266,-7.61844539642334,-5.476785024007162,-3.3351246515909834,-1.1934642791748047,0.9481960932413731,3.089856465657551,5.2315168380737305,7.373177210489908,9.514837582906086,11.656497955322266,-7.61844539642334,-5.476785024007162,-3.3351246515909834,-1.1934642791748047,0.9481960932413731,3.089856465657551,5.2315168380737305,7.373177210489908,9.514837582906086,11.656497955322266,-7.61844539642334,-5.476785024007162,-3.3351246515909834,-1.1934642791748047,0.9481960932413731,3.089856465657551,5.2315168380737305,7.373177210489908,9.514837582906086,11.656497955322266,-7.61844539642334,-5.476785024007162,-3.3351246515909834,-1.1934642791748047,0.9481960932413731,3.089856465657551,5.2315168380737305,7.373177210489908,9.514837582906086,11.656497955322266,-7.61844539642334,-5.476785024007162,-3.3351246515909834,-1.1934642791748047,0.9481960932413731,3.089856465657551,5.2315168380737305,7.373177210489908,9.514837582906086,11.656497955322266,-7.61844539642334,-5.476785024007162,-3.3351246515909834,-1.1934642791748047,0.9481960932413731,3.089856465657551,5.2315168380737305,7.373177210489908,9.514837582906086,11.656497955322266,-7.61844539642334,-5.476785024007162,-3.3351246515909834,-1.1934642791748047,0.9481960932413731,3.089856465657551,5.2315168380737305,7.373177210489908,9.514837582906086,11.656497955322266,-7.61844539642334,-5.476785024007162,-3.3351246515909834,-1.1934642791748047,0.9481960932413731,3.089856465657551,5.2315168380737305,7.373177210489908,9.514837582906086,11.656497955322266,-7.61844539642334,-5.476785024007162,-3.3351246515909834,-1.1934642791748047,0.9481960932413731,3.089856465657551,5.2315168380737305,7.373177210489908,9.514837582906086,11.656497955322266],\"y\":[-7.61844539642334,-7.61844539642334,-7.61844539642334,-7.61844539642334,-7.61844539642334,-7.61844539642334,-7.61844539642334,-7.61844539642334,-7.61844539642334,-7.61844539642334,-5.476785024007162,-5.476785024007162,-5.476785024007162,-5.476785024007162,-5.476785024007162,-5.476785024007162,-5.476785024007162,-5.476785024007162,-5.476785024007162,-5.476785024007162,-3.3351246515909834,-3.3351246515909834,-3.3351246515909834,-3.3351246515909834,-3.3351246515909834,-3.3351246515909834,-3.3351246515909834,-3.3351246515909834,-3.3351246515909834,-3.3351246515909834,-1.1934642791748047,-1.1934642791748047,-1.1934642791748047,-1.1934642791748047,-1.1934642791748047,-1.1934642791748047,-1.1934642791748047,-1.1934642791748047,-1.1934642791748047,-1.1934642791748047,0.9481960932413731,0.9481960932413731,0.9481960932413731,0.9481960932413731,0.9481960932413731,0.9481960932413731,0.9481960932413731,0.9481960932413731,0.9481960932413731,0.9481960932413731,3.089856465657551,3.089856465657551,3.089856465657551,3.089856465657551,3.089856465657551,3.089856465657551,3.089856465657551,3.089856465657551,3.089856465657551,3.089856465657551,5.2315168380737305,5.2315168380737305,5.2315168380737305,5.2315168380737305,5.2315168380737305,5.2315168380737305,5.2315168380737305,5.2315168380737305,5.2315168380737305,5.2315168380737305,7.373177210489908,7.373177210489908,7.373177210489908,7.373177210489908,7.373177210489908,7.373177210489908,7.373177210489908,7.373177210489908,7.373177210489908,7.373177210489908,9.514837582906086,9.514837582906086,9.514837582906086,9.514837582906086,9.514837582906086,9.514837582906086,9.514837582906086,9.514837582906086,9.514837582906086,9.514837582906086,11.656497955322266,11.656497955322266,11.656497955322266,11.656497955322266,11.656497955322266,11.656497955322266,11.656497955322266,11.656497955322266,11.656497955322266,11.656497955322266],\"z\":[0.30079349634358143,0.23187296971012428,0.16524375420604753,0.10143258916394501,0.039865676501214496,-0.01817939092814908,-0.07250515749199556,-0.1183050928381865,-0.1392376861440111,-0.07133710024865593,0.10102000308952307,0.023245204317701763,-0.051286819593080346,-0.1202409313265623,-0.1848194676151079,-0.24329653905815793,-0.2945399889433849,-0.3356427206917356,-0.34690119251152307,-0.2511816359032267,-0.10554898155712658,-0.19433255881960396,-0.2749774914820446,-0.3451900402514481,-0.40116765598973597,-0.4420468023472447,-0.4649589750397289,-0.46032651044999207,-0.402616046668632,-0.21529752988694006,-0.30699670669802903,-0.40193462586638884,-0.4765910002405913,-0.524357640250968,-0.5382833883410034,-0.5124243303369318,-0.445164849776089,-0.3336966090197484,-0.17340987883103448,0.025186340277474916,-0.4672361034561262,-0.5435901661113447,-0.5737793581265835,-0.5432321848561262,-0.4515484057470386,-0.31481503362443314,-0.15619036012622925,-0.00015869945812241966,0.13069322532866015,0.2301205323814544,-0.5152798682785162,-0.5261697392310366,-0.45554461276719904,-0.3166767892517598,-0.1441125258944481,0.02216445209604994,0.15043552176466196,0.2357234517009713,0.29029264444250247,0.3251019207264781,-0.3858353798953185,-0.3104480819613419,-0.16687659988617765,-0.0009783853370804562,0.14251042420519353,0.23993431657278744,0.2975479431160655,0.3293883810394592,0.3465217930730409,0.35583205762751086,-0.10143882615897601,-0.006266884550658647,0.11387120484468348,0.21764634785051426,0.28757657953752513,0.3276548057646949,0.34792524623945303,0.3568239309257738,0.3607962203337199,0.36326597005523165,0.17192861432114082,0.21808946901478735,0.2746328651105954,0.3184321577763838,0.3443107788664677,0.3565668272094997,0.3611447571205181,0.36385867786515375,0.3695380104672587,0.38890425763365055,0.32003192893428495,0.3267458778247905,0.3431919771366768,0.3560004851195372,0.3628424509696264,0.3680445174204862,0.38035164624962065,0.41882766286620543,0.5173410957388789,0.7036348421911716],\"type\":\"contour\"},{\"hovertemplate\":\"%{text}\",\"line\":{\"color\":\"orange\"},\"marker\":{\"color\":[\"blue\",\"orange\",\"orange\",\"orange\",\"orange\",\"orange\",\"orange\",\"orange\",\"orange\",\"orange\",\"orange\",\"orange\",\"orange\",\"orange\",\"orange\",\"orange\",\"orange\",\"green\"],\"size\":[8,5,5,5,5,5,5,5,5,5,5,5,5,5,5,5,5,8]},\"mode\":\"markers+lines\",\"name\":\"Training Trajectory\",\"text\":[\"Start Point<br>Loss: 2.304018159484863\",\"Trajectory Point<br>Loss: 0.487852601146698\",\"Trajectory Point<br>Loss: 0.37192791368961337\",\"Trajectory Point<br>Loss: 0.36192717084884646\",\"Trajectory Point<br>Loss: 0.3331761233329773\",\"Trajectory Point<br>Loss: 0.30647715406417847\",\"Trajectory Point<br>Loss: 0.3036965242147446\",\"Trajectory Point<br>Loss: 0.3286707003355026\",\"Trajectory Point<br>Loss: 0.30233671727180483\",\"Trajectory Point<br>Loss: 0.30248384194374084\",\"Trajectory Point<br>Loss: 0.30518702054023744\",\"Trajectory Point<br>Loss: 0.3132485864877701\",\"Trajectory Point<br>Loss: 0.3062468100309372\",\"Trajectory Point<br>Loss: 0.30526353545188906\",\"Trajectory Point<br>Loss: 0.2959495944142342\",\"Trajectory Point<br>Loss: 0.2999816225290298\",\"Trajectory Point<br>Loss: 0.3685106678724289\",\"End Point<br>Loss: 0.32075344594717026\"],\"x\":[10.656497955322266,7.35659646987915,5.3445940017700195,5.341752052307129,3.6073501110076904,2.012516975402832,2.0114641189575195,0.5689933896064758,-0.7925629019737244,-0.7934549450874329,-2.034114360809326,-3.1720352172851562,-3.1732327938079834,-4.185841083526611,-5.105209827423096,-5.106623649597168,-5.918240070343018,-6.61844539642334],\"y\":[6.259443283081055,0.16009069979190826,-1.4320679903030396,-1.4341143369674683,-1.9275966882705688,-1.9743295907974243,-1.970950961112976,-1.6683274507522583,-1.2095919847488403,-1.207943081855774,-0.6255831122398376,0.006653615273535252,0.009055343456566334,0.6211206316947937,1.2734616994857788,1.2741804122924805,1.7133963108062744,2.1331043243408203],\"type\":\"scatter\"},{\"hovertemplate\":\"Loss: %{text}\",\"marker\":{\"color\":\"red\",\"size\":7,\"symbol\":\"star\"},\"mode\":\"markers\",\"name\":\"global minimum\",\"text\":\"0.26682138974666597\",\"x\":[-3.3351246515909834],\"y\":[0.9481960932413731],\"type\":\"scatter\"}],                        {\"template\":{\"data\":{\"histogram2dcontour\":[{\"type\":\"histogram2dcontour\",\"colorbar\":{\"outlinewidth\":0,\"ticks\":\"\"},\"colorscale\":[[0.0,\"#0d0887\"],[0.1111111111111111,\"#46039f\"],[0.2222222222222222,\"#7201a8\"],[0.3333333333333333,\"#9c179e\"],[0.4444444444444444,\"#bd3786\"],[0.5555555555555556,\"#d8576b\"],[0.6666666666666666,\"#ed7953\"],[0.7777777777777778,\"#fb9f3a\"],[0.8888888888888888,\"#fdca26\"],[1.0,\"#f0f921\"]]}],\"choropleth\":[{\"type\":\"choropleth\",\"colorbar\":{\"outlinewidth\":0,\"ticks\":\"\"}}],\"histogram2d\":[{\"type\":\"histogram2d\",\"colorbar\":{\"outlinewidth\":0,\"ticks\":\"\"},\"colorscale\":[[0.0,\"#0d0887\"],[0.1111111111111111,\"#46039f\"],[0.2222222222222222,\"#7201a8\"],[0.3333333333333333,\"#9c179e\"],[0.4444444444444444,\"#bd3786\"],[0.5555555555555556,\"#d8576b\"],[0.6666666666666666,\"#ed7953\"],[0.7777777777777778,\"#fb9f3a\"],[0.8888888888888888,\"#fdca26\"],[1.0,\"#f0f921\"]]}],\"heatmap\":[{\"type\":\"heatmap\",\"colorbar\":{\"outlinewidth\":0,\"ticks\":\"\"},\"colorscale\":[[0.0,\"#0d0887\"],[0.1111111111111111,\"#46039f\"],[0.2222222222222222,\"#7201a8\"],[0.3333333333333333,\"#9c179e\"],[0.4444444444444444,\"#bd3786\"],[0.5555555555555556,\"#d8576b\"],[0.6666666666666666,\"#ed7953\"],[0.7777777777777778,\"#fb9f3a\"],[0.8888888888888888,\"#fdca26\"],[1.0,\"#f0f921\"]]}],\"heatmapgl\":[{\"type\":\"heatmapgl\",\"colorbar\":{\"outlinewidth\":0,\"ticks\":\"\"},\"colorscale\":[[0.0,\"#0d0887\"],[0.1111111111111111,\"#46039f\"],[0.2222222222222222,\"#7201a8\"],[0.3333333333333333,\"#9c179e\"],[0.4444444444444444,\"#bd3786\"],[0.5555555555555556,\"#d8576b\"],[0.6666666666666666,\"#ed7953\"],[0.7777777777777778,\"#fb9f3a\"],[0.8888888888888888,\"#fdca26\"],[1.0,\"#f0f921\"]]}],\"contourcarpet\":[{\"type\":\"contourcarpet\",\"colorbar\":{\"outlinewidth\":0,\"ticks\":\"\"}}],\"contour\":[{\"type\":\"contour\",\"colorbar\":{\"outlinewidth\":0,\"ticks\":\"\"},\"colorscale\":[[0.0,\"#0d0887\"],[0.1111111111111111,\"#46039f\"],[0.2222222222222222,\"#7201a8\"],[0.3333333333333333,\"#9c179e\"],[0.4444444444444444,\"#bd3786\"],[0.5555555555555556,\"#d8576b\"],[0.6666666666666666,\"#ed7953\"],[0.7777777777777778,\"#fb9f3a\"],[0.8888888888888888,\"#fdca26\"],[1.0,\"#f0f921\"]]}],\"surface\":[{\"type\":\"surface\",\"colorbar\":{\"outlinewidth\":0,\"ticks\":\"\"},\"colorscale\":[[0.0,\"#0d0887\"],[0.1111111111111111,\"#46039f\"],[0.2222222222222222,\"#7201a8\"],[0.3333333333333333,\"#9c179e\"],[0.4444444444444444,\"#bd3786\"],[0.5555555555555556,\"#d8576b\"],[0.6666666666666666,\"#ed7953\"],[0.7777777777777778,\"#fb9f3a\"],[0.8888888888888888,\"#fdca26\"],[1.0,\"#f0f921\"]]}],\"mesh3d\":[{\"type\":\"mesh3d\",\"colorbar\":{\"outlinewidth\":0,\"ticks\":\"\"}}],\"scatter\":[{\"fillpattern\":{\"fillmode\":\"overlay\",\"size\":10,\"solidity\":0.2},\"type\":\"scatter\"}],\"parcoords\":[{\"type\":\"parcoords\",\"line\":{\"colorbar\":{\"outlinewidth\":0,\"ticks\":\"\"}}}],\"scatterpolargl\":[{\"type\":\"scatterpolargl\",\"marker\":{\"colorbar\":{\"outlinewidth\":0,\"ticks\":\"\"}}}],\"bar\":[{\"error_x\":{\"color\":\"#2a3f5f\"},\"error_y\":{\"color\":\"#2a3f5f\"},\"marker\":{\"line\":{\"color\":\"#E5ECF6\",\"width\":0.5},\"pattern\":{\"fillmode\":\"overlay\",\"size\":10,\"solidity\":0.2}},\"type\":\"bar\"}],\"scattergeo\":[{\"type\":\"scattergeo\",\"marker\":{\"colorbar\":{\"outlinewidth\":0,\"ticks\":\"\"}}}],\"scatterpolar\":[{\"type\":\"scatterpolar\",\"marker\":{\"colorbar\":{\"outlinewidth\":0,\"ticks\":\"\"}}}],\"histogram\":[{\"marker\":{\"pattern\":{\"fillmode\":\"overlay\",\"size\":10,\"solidity\":0.2}},\"type\":\"histogram\"}],\"scattergl\":[{\"type\":\"scattergl\",\"marker\":{\"colorbar\":{\"outlinewidth\":0,\"ticks\":\"\"}}}],\"scatter3d\":[{\"type\":\"scatter3d\",\"line\":{\"colorbar\":{\"outlinewidth\":0,\"ticks\":\"\"}},\"marker\":{\"colorbar\":{\"outlinewidth\":0,\"ticks\":\"\"}}}],\"scattermapbox\":[{\"type\":\"scattermapbox\",\"marker\":{\"colorbar\":{\"outlinewidth\":0,\"ticks\":\"\"}}}],\"scatterternary\":[{\"type\":\"scatterternary\",\"marker\":{\"colorbar\":{\"outlinewidth\":0,\"ticks\":\"\"}}}],\"scattercarpet\":[{\"type\":\"scattercarpet\",\"marker\":{\"colorbar\":{\"outlinewidth\":0,\"ticks\":\"\"}}}],\"carpet\":[{\"aaxis\":{\"endlinecolor\":\"#2a3f5f\",\"gridcolor\":\"white\",\"linecolor\":\"white\",\"minorgridcolor\":\"white\",\"startlinecolor\":\"#2a3f5f\"},\"baxis\":{\"endlinecolor\":\"#2a3f5f\",\"gridcolor\":\"white\",\"linecolor\":\"white\",\"minorgridcolor\":\"white\",\"startlinecolor\":\"#2a3f5f\"},\"type\":\"carpet\"}],\"table\":[{\"cells\":{\"fill\":{\"color\":\"#EBF0F8\"},\"line\":{\"color\":\"white\"}},\"header\":{\"fill\":{\"color\":\"#C8D4E3\"},\"line\":{\"color\":\"white\"}},\"type\":\"table\"}],\"barpolar\":[{\"marker\":{\"line\":{\"color\":\"#E5ECF6\",\"width\":0.5},\"pattern\":{\"fillmode\":\"overlay\",\"size\":10,\"solidity\":0.2}},\"type\":\"barpolar\"}],\"pie\":[{\"automargin\":true,\"type\":\"pie\"}]},\"layout\":{\"autotypenumbers\":\"strict\",\"colorway\":[\"#636efa\",\"#EF553B\",\"#00cc96\",\"#ab63fa\",\"#FFA15A\",\"#19d3f3\",\"#FF6692\",\"#B6E880\",\"#FF97FF\",\"#FECB52\"],\"font\":{\"color\":\"#2a3f5f\"},\"hovermode\":\"closest\",\"hoverlabel\":{\"align\":\"left\"},\"paper_bgcolor\":\"white\",\"plot_bgcolor\":\"#E5ECF6\",\"polar\":{\"bgcolor\":\"#E5ECF6\",\"angularaxis\":{\"gridcolor\":\"white\",\"linecolor\":\"white\",\"ticks\":\"\"},\"radialaxis\":{\"gridcolor\":\"white\",\"linecolor\":\"white\",\"ticks\":\"\"}},\"ternary\":{\"bgcolor\":\"#E5ECF6\",\"aaxis\":{\"gridcolor\":\"white\",\"linecolor\":\"white\",\"ticks\":\"\"},\"baxis\":{\"gridcolor\":\"white\",\"linecolor\":\"white\",\"ticks\":\"\"},\"caxis\":{\"gridcolor\":\"white\",\"linecolor\":\"white\",\"ticks\":\"\"}},\"coloraxis\":{\"colorbar\":{\"outlinewidth\":0,\"ticks\":\"\"}},\"colorscale\":{\"sequential\":[[0.0,\"#0d0887\"],[0.1111111111111111,\"#46039f\"],[0.2222222222222222,\"#7201a8\"],[0.3333333333333333,\"#9c179e\"],[0.4444444444444444,\"#bd3786\"],[0.5555555555555556,\"#d8576b\"],[0.6666666666666666,\"#ed7953\"],[0.7777777777777778,\"#fb9f3a\"],[0.8888888888888888,\"#fdca26\"],[1.0,\"#f0f921\"]],\"sequentialminus\":[[0.0,\"#0d0887\"],[0.1111111111111111,\"#46039f\"],[0.2222222222222222,\"#7201a8\"],[0.3333333333333333,\"#9c179e\"],[0.4444444444444444,\"#bd3786\"],[0.5555555555555556,\"#d8576b\"],[0.6666666666666666,\"#ed7953\"],[0.7777777777777778,\"#fb9f3a\"],[0.8888888888888888,\"#fdca26\"],[1.0,\"#f0f921\"]],\"diverging\":[[0,\"#8e0152\"],[0.1,\"#c51b7d\"],[0.2,\"#de77ae\"],[0.3,\"#f1b6da\"],[0.4,\"#fde0ef\"],[0.5,\"#f7f7f7\"],[0.6,\"#e6f5d0\"],[0.7,\"#b8e186\"],[0.8,\"#7fbc41\"],[0.9,\"#4d9221\"],[1,\"#276419\"]]},\"xaxis\":{\"gridcolor\":\"white\",\"linecolor\":\"white\",\"ticks\":\"\",\"title\":{\"standoff\":15},\"zerolinecolor\":\"white\",\"automargin\":true,\"zerolinewidth\":2},\"yaxis\":{\"gridcolor\":\"white\",\"linecolor\":\"white\",\"ticks\":\"\",\"title\":{\"standoff\":15},\"zerolinecolor\":\"white\",\"automargin\":true,\"zerolinewidth\":2},\"scene\":{\"xaxis\":{\"backgroundcolor\":\"#E5ECF6\",\"gridcolor\":\"white\",\"linecolor\":\"white\",\"showbackground\":true,\"ticks\":\"\",\"zerolinecolor\":\"white\",\"gridwidth\":2},\"yaxis\":{\"backgroundcolor\":\"#E5ECF6\",\"gridcolor\":\"white\",\"linecolor\":\"white\",\"showbackground\":true,\"ticks\":\"\",\"zerolinecolor\":\"white\",\"gridwidth\":2},\"zaxis\":{\"backgroundcolor\":\"#E5ECF6\",\"gridcolor\":\"white\",\"linecolor\":\"white\",\"showbackground\":true,\"ticks\":\"\",\"zerolinecolor\":\"white\",\"gridwidth\":2}},\"shapedefaults\":{\"line\":{\"color\":\"#2a3f5f\"}},\"annotationdefaults\":{\"arrowcolor\":\"#2a3f5f\",\"arrowhead\":0,\"arrowwidth\":1},\"geo\":{\"bgcolor\":\"white\",\"landcolor\":\"#E5ECF6\",\"subunitcolor\":\"white\",\"showland\":true,\"showlakes\":true,\"lakecolor\":\"white\"},\"title\":{\"x\":0.05},\"mapbox\":{\"style\":\"light\"}}},\"legend\":{\"orientation\":\"v\",\"x\":0,\"y\":0.0},\"title\":{\"text\":\"Contour Plot with Trajectory Projection\"},\"xaxis\":{\"title\":{\"text\":\"PC1\"}},\"yaxis\":{\"title\":{\"text\":\"PC2\"}}},                        {\"responsive\": true}                    ).then(function(){\n",
       "                            \n",
       "var gd = document.getElementById('f882210b-f612-4b30-a83f-f1a8cdc04b08');\n",
       "var x = new MutationObserver(function (mutations, observer) {{\n",
       "        var display = window.getComputedStyle(gd).display;\n",
       "        if (!display || display === 'none') {{\n",
       "            console.log([gd, 'removed!']);\n",
       "            Plotly.purge(gd);\n",
       "            observer.disconnect();\n",
       "        }}\n",
       "}});\n",
       "\n",
       "// Listen for the removal of the full notebook cells\n",
       "var notebookContainer = gd.closest('#notebook-container');\n",
       "if (notebookContainer) {{\n",
       "    x.observe(notebookContainer, {childList: true});\n",
       "}}\n",
       "\n",
       "// Listen for the clearing of the current output cell\n",
       "var outputEl = gd.closest('.output');\n",
       "if (outputEl) {{\n",
       "    x.observe(outputEl, {childList: true});\n",
       "}}\n",
       "\n",
       "                        })                };                });            </script>        </div>"
      ]
     },
     "metadata": {},
     "output_type": "display_data"
    }
   ],
   "source": [
    "colors = [\"blue\"] + [\"orange\"] * (len(reduced_weights) - 2) + [\"green\"]\n",
    "sizes = [8] + [5] * (len(reduced_weights) - 2) + [8]\n",
    "labels = [\"Start Point\"] + [\"Trajectory Point\"] * (len(reduced_weights) - 2) + [\"End Point\"]\n",
    "\n",
    "trajectory = go.Scatter(\n",
    "        x=reduced_weights[:, 0],\n",
    "        y=reduced_weights[:, 1],\n",
    "        mode=\"markers+lines\",\n",
    "        line=dict(color=\"orange\"),\n",
    "        marker=dict(color=colors, size=sizes),\n",
    "        name=\"Training Trajectory\",\n",
    "        text=[f\"{label}<br>Loss: {loss}\" for label, loss in zip(labels, trajectory_loss_reevaluted)],\n",
    "        hovertemplate='%{text}',\n",
    ")\n",
    "\n",
    "layout = go.Layout(\n",
    "    scene=dict(xaxis_title=\"PC1\", yaxis_title=\"PC2\", zaxis_title=\" Loss\", zaxis=dict(type='log')),\n",
    "    coloraxis=dict(\n",
    "        colorbar=dict(title=\"Loss magnitude\", tickformat=\".2e\"), \n",
    "        colorscale=\"Viridis\",\n",
    "        cmin=np.log10(np.min(trajectory_loss_reevaluted)),  \n",
    "        cmax=np.log10(np.max(trajectory_loss_reevaluted)), \n",
    "    ),\n",
    ")\n",
    "\n",
    "fig2 = go.Figure(data=[go.Contour(x=xx.flatten(), y=yy.flatten(), z=np.log10(grid_losses.flatten()), colorscale='Viridis')])\n",
    "\n",
    "fig2.update_layout(\n",
    "    title='Contour Plot with Trajectory Projection',\n",
    "    xaxis_title='PC1',\n",
    "    yaxis_title='PC2',\n",
    "    legend=dict(orientation=\"v\", x=0, y=0.0),\n",
    "\n",
    ")\n",
    "\n",
    "fig2.add_trace(trajectory)\n",
    "\n",
    "min_point = go.Scatter(\n",
    "    x=[xx[_min_x, _min_y]],\n",
    "    y=[yy[_min_x, _min_y]],\n",
    "    mode='markers',\n",
    "    marker=dict(\n",
    "        size=7,\n",
    "        color='red',\n",
    "        symbol='star',\n",
    "    ),\n",
    "    name=\"global minimum\",\n",
    "    text=str(np.min(grid_losses)),\n",
    "    hovertemplate='Loss: %{text}'\n",
    ")\n",
    "\n",
    "fig2.add_trace(min_point)\n",
    "\n",
    "fig2.show()"
   ]
  },
  {
   "cell_type": "code",
   "execution_count": null,
   "id": "8b387c2a",
   "metadata": {},
   "outputs": [],
   "source": []
  }
 ],
 "metadata": {
  "kernelspec": {
   "display_name": "Python (base)",
   "language": "python",
   "name": "base"
  },
  "language_info": {
   "codemirror_mode": {
    "name": "ipython",
    "version": 3
   },
   "file_extension": ".py",
   "mimetype": "text/x-python",
   "name": "python",
   "nbconvert_exporter": "python",
   "pygments_lexer": "ipython3",
   "version": "3.10.9"
  }
 },
 "nbformat": 4,
 "nbformat_minor": 5
}
