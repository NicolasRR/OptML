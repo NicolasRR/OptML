{
 "cells": [
  {
   "cell_type": "code",
   "execution_count": 1,
   "id": "41bff17b",
   "metadata": {},
   "outputs": [],
   "source": [
    "from sklearn.decomposition import PCA\n",
    "from sklearn.preprocessing import StandardScaler\n",
    "import plotly.io as pio\n",
    "import plotly.graph_objs as go\n",
    "import numpy as np\n",
    "import torch\n",
    "import os\n",
    "from tqdm import tqdm\n",
    "from common import _get_model, create_testloader, LOSS_FUNC\n",
    "from matplotlib import pyplot as plt\n",
    "\n",
    "DEFAULT_GRID_SIZE = 20\n",
    "DEFAULT_BATCH_SIZE = 128\n",
    "\n",
    "def set_weights(model, weights):\n",
    "    weight_dict = {}\n",
    "    idx = 0\n",
    "    for key, param in model.state_dict().items():\n",
    "        size = int(np.prod(param.shape))\n",
    "        weight_dict[key] = torch.tensor(weights[idx : idx + size]).view(param.shape)\n",
    "        idx += size\n",
    "\n",
    "    model.load_state_dict(weight_dict)\n",
    "    return model"
   ]
  },
  {
   "cell_type": "code",
   "execution_count": 2,
   "id": "d467aebf",
   "metadata": {},
   "outputs": [],
   "source": [
    "batch_size = DEFAULT_BATCH_SIZE\n",
    "subfolder = \"\"\n",
    "grid_size = DEFAULT_GRID_SIZE\n",
    "grid_save=True"
   ]
  },
  {
   "cell_type": "code",
   "execution_count": 3,
   "id": "3c4b8ef2",
   "metadata": {},
   "outputs": [
    {
     "name": "stdout",
     "output_type": "stream",
     "text": [
      "(31, 61706)\n",
      "True\n"
     ]
    }
   ],
   "source": [
    "path_grid_losses = None\n",
    "path_grid_xx = None\n",
    "path_grid_yy = None\n",
    "\n",
    "m_0 = \"fashion_mnist_classic_0_100_0005_00_32_10_SGD_spe3_model.pt\"\n",
    "m_5 = \"fashion_mnist_classic_0_100_0005_05_32_10_SGD_spe3_model.pt\"\n",
    "m_9 = \"fashion_mnist_classic_0_100_0005_09_32_10_SGD_spe3_model.pt\"\n",
    "w_0 = \"fashion_mnist_classic_0_100_0005_00_32_10_SGD_spe3_weights.npy\"\n",
    "w_5 = \"fashion_mnist_classic_0_100_0005_05_32_10_SGD_spe3_weights.npy\"\n",
    "w_9 = \"fashion_mnist_classic_0_100_0005_09_32_10_SGD_spe3_weights.npy\"\n",
    "\n",
    "w_0 = np.load(w_0)\n",
    "w_5 = np.load(w_5)\n",
    "w_9 = np.load(w_9)\n",
    "\n",
    "len_w = len(w_0)\n",
    "print(w_0.shape)\n",
    "print((w_0[0,:] == w_9[0,:]).all())"
   ]
  },
  {
   "cell_type": "code",
   "execution_count": null,
   "id": "dab4092f",
   "metadata": {},
   "outputs": [],
   "source": [
    "\"\"\"\n",
    "path_grid_losses = \"fashion_mnist_classic_0_100_0005_00_32_6_SGD_spe3_val_model_grid_losses.npy\"\n",
    "path_grid_xx = \"fashion_mnist_classic_0_100_0005_00_32_6_SGD_spe3_val_model_grid_xx.npy\"\n",
    "path_grid_yy = \"fashion_mnist_classic_0_100_0005_00_32_6_SGD_spe3_val_model_grid_yy.npy\"\n",
    "\"\"\""
   ]
  },
  {
   "cell_type": "markdown",
   "id": "e747c989",
   "metadata": {},
   "source": [
    "# 1) PCA fit transform on individually, translation to origin point, pca inverse = pca9 (correct)"
   ]
  },
  {
   "cell_type": "code",
   "execution_count": null,
   "id": "5f67396b",
   "metadata": {},
   "outputs": [],
   "source": [
    "loaded_weights_np = np.concatenate([w_0, w_5, w_9], axis=0)\n",
    "\n",
    "#scaler = StandardScaler()\n",
    "\n",
    "#standardized_weights0 = scaler.fit_transform(w_0)\n",
    "#standardized_weights05 = scaler.transform(w_5)\n",
    "#standardized_weights09 = scaler.transform(w_9)\n",
    "#all_weights = np.concatenate([standardized_weights0, standardized_weights05, standardized_weights09], axis=0)\n",
    "\n",
    "#all_weights = scaler.fit_transform(loaded_weights_np)\n",
    "\n",
    "pca = PCA(n_components=2)\n",
    "#pca.fit(all_weights)\n",
    "\n",
    "#projected_weights0 = pca.transform(standardized_weights0)\n",
    "#projected_weights5 = pca.transform(standardized_weights05)\n",
    "#projected_weights9 = pca.transform(standardized_weights09)\n",
    "\n",
    "#projected_weights0 = pca.transform(all_weights[:len_w,:])\n",
    "#projected_weights5 = pca.transform(all_weights[len_w:2*len_w,:])\n",
    "#projected_weights9 = pca.transform(all_weights[2*len_w:,:])\n",
    "\n",
    "projected_weights0 = pca.fit_transform(w_0)\n",
    "projected_weights5 = pca.fit_transform(w_5)\n",
    "projected_weights9 = pca.fit_transform(w_9) # pca inverse will be pca9\n",
    "\n",
    "print(projected_weights0[0,:], projected_weights5[0,:], projected_weights9[0,:])\n",
    "print(projected_weights0[-1,:], projected_weights5[-1,:], projected_weights9[-1,:])\n",
    "\n",
    "plt.plot(projected_weights0[:,0],projected_weights0[:,1], marker=\"x\")\n",
    "plt.plot(projected_weights5[:,0],projected_weights5[:,1], marker=\"s\")\n",
    "plt.plot(projected_weights9[:,0],projected_weights9[:,1], marker=\"o\")\n",
    "plt.show()\n",
    "\n",
    "reduced_weights = [projected_weights0, projected_weights5, projected_weights9]\n",
    "\n",
    "loaded_weights_np = [w_0, w_5, w_9]\n",
    "\n",
    "classic_model = m_0"
   ]
  },
  {
   "cell_type": "code",
   "execution_count": null,
   "id": "1dbf7a69",
   "metadata": {},
   "outputs": [],
   "source": [
    "projected_weights0[0], projected_weights5[0], projected_weights9[0]"
   ]
  },
  {
   "cell_type": "code",
   "execution_count": null,
   "id": "849d1593",
   "metadata": {},
   "outputs": [],
   "source": [
    "projected_weights5 = projected_weights5 + (projected_weights0[0] - projected_weights5[0])\n",
    "projected_weights9 = projected_weights9 + (projected_weights0[0] - projected_weights9[0])\n",
    "plt.plot(projected_weights0[:,0],projected_weights0[:,1], marker=\"x\")\n",
    "plt.plot(projected_weights5[:,0],projected_weights5[:,1], marker=\"s\")\n",
    "plt.plot(projected_weights9[:,0],projected_weights9[:,1], marker=\"o\")\n",
    "plt.show()\n",
    "\n",
    "reduced_weights = [projected_weights0, projected_weights5, projected_weights9]\n",
    "\n",
    "loaded_weights_np = [w_0, w_5, w_9]\n",
    "\n",
    "classic_model = m_0"
   ]
  },
  {
   "cell_type": "markdown",
   "id": "057c3d74",
   "metadata": {},
   "source": [
    "# 2) PCA fit transform on individually, finding translation and rotation to go to pca 0 space from pca space 5 and pca space 9, pca inverse = pca0  (incorect to redo)"
   ]
  },
  {
   "cell_type": "code",
   "execution_count": null,
   "id": "ced3e537",
   "metadata": {},
   "outputs": [],
   "source": [
    "pca = PCA(n_components=2)\n",
    "\n",
    "projected_weights5 = pca.fit_transform(w_5)\n",
    "projected_weights9 = pca.fit_transform(w_9)\n",
    "projected_weights0 = pca.fit_transform(w_0) # pca inverse should be pca 0\n",
    "\n",
    "pca_0 = PCA(n_components=2)\n",
    "pca_0.fit(w_0)\n",
    "pca_5 = PCA(n_components=2)\n",
    "pca_5.fit(w_5)\n",
    "pca_9 = PCA(n_components=2)\n",
    "pca_9.fit(w_9)\n",
    "\n",
    "E_0 = pca_0.components_\n",
    "\n",
    "E_5 = pca_5.components_\n",
    "T_5_to_0 = np.dot(E_5, E_0.T)\n",
    "\n",
    "E_9 = pca_9.components_\n",
    "T_9_to_0 = np.dot(E_9, E_0.T)\n",
    "\n",
    "projected_weights5_transformed = np.dot(projected_weights5, T_5_to_0)\n",
    "projected_weights9_transformed = np.dot(projected_weights9, T_9_to_0)\n",
    "projected_weights0 = pca_0.transform(w_0)\n",
    "\n",
    "plt.plot(projected_weights0[:,0],projected_weights0[:,1], marker=\"x\")\n",
    "plt.plot(projected_weights5_transformed[:,0],projected_weights5_transformed[:,1], marker=\"s\")\n",
    "plt.plot(projected_weights9_transformed[:,0],projected_weights9_transformed[:,1], marker=\"o\")\n",
    "plt.show()"
   ]
  },
  {
   "cell_type": "code",
   "execution_count": null,
   "id": "35f6c8ff",
   "metadata": {},
   "outputs": [],
   "source": [
    "projected_weights5_transformed = projected_weights5_transformed + (projected_weights0[0] - projected_weights5_transformed[0])\n",
    "projected_weights9_transformed = projected_weights9_transformed + (projected_weights0[0] - projected_weights9_transformed[0])\n",
    "\n",
    "plt.plot(projected_weights0[:,0],projected_weights0[:,1], marker=\"x\")\n",
    "plt.plot(projected_weights5_transformed[:,0],projected_weights5_transformed[:,1], marker=\"s\")\n",
    "plt.plot(projected_weights9_transformed[:,0],projected_weights9_transformed[:,1], marker=\"o\")\n",
    "plt.show()\n",
    "\n",
    "reduced_weights = [projected_weights0, projected_weights5_transformed, projected_weights9_transformed]\n",
    "\n",
    "loaded_weights_np = [w_0, w_5, w_9]\n",
    "\n",
    "classic_model = m_0"
   ]
  },
  {
   "cell_type": "markdown",
   "id": "d63ab6ef",
   "metadata": {},
   "source": [
    "# 3) PCA fit transform individually, finding translation and rotation to go to pca 9 space from pca space 5 and pca space 0, pca inverse = pca9 (correct)"
   ]
  },
  {
   "cell_type": "code",
   "execution_count": null,
   "id": "2c0604d3",
   "metadata": {},
   "outputs": [],
   "source": [
    "pca = PCA(n_components=2)\n",
    "\n",
    "projected_weights0 = pca.fit_transform(w_0)\n",
    "projected_weights5 = pca.fit_transform(w_5)\n",
    "projected_weights9 = pca.fit_transform(w_9)\n",
    "\n",
    "pca_0 = PCA(n_components=2)  # PCA inverse should be pca_9 as it is used as base (correct in this case)\n",
    "pca_0.fit(w_0)\n",
    "pca_5 = PCA(n_components=2)\n",
    "pca_5.fit(w_5)\n",
    "pca_9 = PCA(n_components=2)\n",
    "pca_9.fit(w_9)\n",
    "\n",
    "E_0 = pca_0.components_\n",
    "E_5 = pca_5.components_\n",
    "E_9 = pca_9.components_\n",
    "\n",
    "T_5_to_9 = np.dot(E_5, E_9.T)\n",
    "T_0_to_9 = np.dot(E_0, E_9.T)\n",
    "\n",
    "projected_weights5_transformed = np.dot(projected_weights5, T_5_to_9)\n",
    "projected_weights0_transformed = np.dot(projected_weights9, T_0_to_9)\n",
    "projected_weights9 = pca_9.transform(w_9)\n",
    "\n",
    "plt.plot(projected_weights0_transformed[:,0],projected_weights0_transformed[:,1], marker=\"x\")\n",
    "plt.plot(projected_weights5_transformed[:,0],projected_weights5_transformed[:,1], marker=\"s\")\n",
    "plt.plot(projected_weights9[:,0],projected_weights9[:,1], marker=\"o\")\n",
    "plt.show()"
   ]
  },
  {
   "cell_type": "code",
   "execution_count": null,
   "id": "f8b47ad4",
   "metadata": {},
   "outputs": [],
   "source": [
    "projected_weights5_transformed = projected_weights5_transformed + (projected_weights9[0] - projected_weights5_transformed[0])\n",
    "projected_weights0_transformed = projected_weights0_transformed + (projected_weights9[0] - projected_weights0_transformed[0])\n",
    "\n",
    "plt.plot(projected_weights0_transformed[:,0],projected_weights0_transformed[:,1], marker=\"x\")\n",
    "plt.plot(projected_weights5_transformed[:,0],projected_weights5_transformed[:,1], marker=\"s\")\n",
    "plt.plot(projected_weights9[:,0],projected_weights9[:,1], marker=\"o\")\n",
    "plt.show()\n",
    "\n",
    "reduced_weights = [projected_weights0_transformed, projected_weights5_transformed, projected_weights9]\n",
    "\n",
    "loaded_weights_np = [w_0, w_5, w_9]\n",
    "\n",
    "m_9 = \"fashion_mnist_classic_0_100_0005_09_32_10_SGD_spe3_model.pt\"\n",
    "classic_model = m_9"
   ]
  },
  {
   "cell_type": "markdown",
   "id": "06f8ab29",
   "metadata": {},
   "source": [
    "# 4) PCA fit transform all, pca inverse = pca all"
   ]
  },
  {
   "cell_type": "code",
   "execution_count": null,
   "id": "3a3cc781",
   "metadata": {},
   "outputs": [],
   "source": [
    "pca = PCA(n_components=2)\n",
    "loaded_weights_np = np.concatenate([w_0, w_5, w_9], axis=0)\n",
    "\n",
    "red_w = pca.fit_transform(loaded_weights_np) # PCA inverse correct\n",
    "\n",
    "red_0 = red_w[:len_w,:]\n",
    "red_5 = red_w[len_w:2*len_w,:]\n",
    "red_9= red_w[2*len_w:,:]\n",
    "\n",
    "plt.plot(red_0[:,0],red_0[:,1], marker=\"x\")\n",
    "plt.plot(red_5[:,0],red_5[:,1], marker=\"s\")\n",
    "plt.plot(red_9[:,0],red_9[:,1], marker=\"o\")\n",
    "plt.show()\n",
    "\n",
    "reduced_weights = [red_0, red_5, red_9]\n",
    "\n",
    "loaded_weights_np = [w_0, w_5, w_9]\n",
    "\n",
    "classic_model = m_0"
   ]
  },
  {
   "cell_type": "markdown",
   "id": "2304b64d",
   "metadata": {},
   "source": [
    "# 5) PCA fit individually, do a landscape for each, save the global min for each, on the 2d plot, show trajectories and their mins + possible rescale trajectories and mins so they start at the same point"
   ]
  },
  {
   "cell_type": "code",
   "execution_count": 4,
   "id": "b6b302ca",
   "metadata": {},
   "outputs": [],
   "source": [
    "pca = PCA(n_components=2)\n",
    "\n",
    "projected_weights0 = pca.fit_transform(w_0)\n",
    "\n",
    "reduced_weights = [projected_weights0]\n",
    "\n",
    "loaded_weights_np = [w_0]\n",
    "\n",
    "classic_model = m_0"
   ]
  },
  {
   "cell_type": "markdown",
   "id": "c3271400",
   "metadata": {},
   "source": [
    "landscape 0"
   ]
  },
  {
   "cell_type": "code",
   "execution_count": 5,
   "id": "eecaf5b2",
   "metadata": {},
   "outputs": [
    {
     "name": "stdout",
     "output_type": "stream",
     "text": [
      "Created MNIST/FASHION_MNIST CNN\n",
      "LeNet5 using loss: <function nll_loss at 0x7fe3b8f0bd00>\n"
     ]
    },
    {
     "name": "stderr",
     "output_type": "stream",
     "text": [
      "Computing loss of grid weights: 100%|██████████████████████| 400/400 [17:40<00:00,  2.65s/model_weights, grid_loss=3.83]\n"
     ]
    },
    {
     "name": "stdout",
     "output_type": "stream",
     "text": [
      "Saved grid losses to: fashion_mnist_classic_0_100_0005_00_32_10_SGD_spe3_model_grid_losses_0.npy\n",
      "Saved grid xx to: fashion_mnist_classic_0_100_0005_00_32_10_SGD_spe3_model_grid_xx_0.npy\n",
      "Saved grid yy to: fashion_mnist_classic_0_100_0005_00_32_10_SGD_spe3_model_grid_yy_0.npy\n"
     ]
    },
    {
     "name": "stderr",
     "output_type": "stream",
     "text": [
      "Computing loss of trajectory weights: 100%|███████████| 31/31 [01:26<00:00,  2.78s/model_weights, trajectory_loss=0.368]\n"
     ]
    }
   ],
   "source": [
    "_min_w = 99999999\n",
    "_max_w = 0\n",
    "\n",
    "for i, w in enumerate(reduced_weights):\n",
    "\n",
    "    _min = np.min(w)\n",
    "    _max = np.max(w)\n",
    "\n",
    "    if _min < _min_w:\n",
    "        _min_w = _min\n",
    "    if _max > _max_w:\n",
    "        _max_w = _max \n",
    "\n",
    "_min_w = _min_w -1\n",
    "_max_w = _max_w +1\n",
    "\n",
    "if path_grid_losses is None and path_grid_xx is None and path_grid_yy is None:\n",
    "    grid_range_x = np.linspace(_min-1*(_max-_min), _max+1*(_max-_min), grid_size)\n",
    "    grid_range_y = np.linspace(_min-1*(_max-_min), _max+1*(_max-_min), grid_size)\n",
    "\n",
    "    xx, yy = np.meshgrid(grid_range_x, grid_range_y)\n",
    "    xx_0 = xx\n",
    "    yy_0 = yy\n",
    "\n",
    "    grid_points = np.column_stack((xx.ravel(), yy.ravel()))\n",
    "    grid_weights_0 = pca.inverse_transform(grid_points)\n",
    "\n",
    "for i, rw in enumerate(reduced_weights):\n",
    "    #if i != 0:\n",
    "        #loaded_weights_np[i] = pca.inverse_transform(rw)\n",
    "    loaded_weights_np[i] = pca.inverse_transform(rw)\n",
    "\n",
    "loader = create_testloader(classic_model, batch_size)\n",
    "if \"alt_model\" in classic_model:\n",
    "    model = _get_model(classic_model, LOSS_FUNC, alt_model=True)\n",
    "else:\n",
    "    model = _get_model(classic_model, LOSS_FUNC, alt_model=False)\n",
    "\n",
    "model.load_state_dict(torch.load(classic_model))\n",
    "model.eval()\n",
    "\n",
    "# Grid training\n",
    "if path_grid_losses is None and path_grid_xx is None and path_grid_yy is None:\n",
    "\n",
    "\n",
    "    grid_losses_0 = []\n",
    "\n",
    "    progress_bar = tqdm(\n",
    "        total=len(grid_weights_0),\n",
    "        desc=\"Computing loss of grid weights\",\n",
    "        unit=\"model_weights\",\n",
    "    )\n",
    "\n",
    "    with torch.no_grad():\n",
    "        for weights in grid_weights_0:\n",
    "            model = set_weights(model, weights)\n",
    "\n",
    "            running_loss = 0.0\n",
    "            for inputs, labels in loader:\n",
    "                outputs = model(inputs)\n",
    "                loss = LOSS_FUNC(outputs, labels)\n",
    "                running_loss += loss.item() * inputs.size(0)\n",
    "\n",
    "            grid_losses_0.append(running_loss / len(loader.dataset))\n",
    "            progress_bar.update(1)\n",
    "            progress_bar.set_postfix(grid_loss=grid_losses_0[-1])\n",
    "\n",
    "    progress_bar.close()\n",
    "\n",
    "    grid_losses_0 = np.array(grid_losses_0).reshape(grid_size, grid_size)\n",
    "\n",
    "    if grid_save:\n",
    "\n",
    "        model_filename = os.path.basename(classic_model)\n",
    "        model_basename, _ = os.path.splitext(model_filename)\n",
    "\n",
    "        if len(subfolder) > 0:\n",
    "            if not os.path.exists(subfolder):\n",
    "                os.makedirs(subfolder)\n",
    "\n",
    "        np.save(f\"{model_basename}_grid_losses.npy\", grid_losses_0)\n",
    "        np.save(f\"{model_basename}_grid_xx.npy\", xx_0)\n",
    "        np.save(f\"{model_basename}_grid_yy.npy\", yy_0)\n",
    "        print(f\"Saved grid losses to: {f'{model_basename}_grid_losses_0.npy'}\")\n",
    "        print(f\"Saved grid xx to: {f'{model_basename}_grid_xx_0.npy'}\")\n",
    "        print(f\"Saved grid yy to: {f'{model_basename}_grid_yy_0.npy'}\")\n",
    "else:\n",
    "    xx = np.load(path_grid_xx)\n",
    "    yy = np.load(path_grid_yy)\n",
    "    grid_losses = np.load(path_grid_losses)\n",
    "    print(\"Loadded grid_losses, grid_xx and grid_yy\")\n",
    "\n",
    "# trajectories evaluationa\n",
    "trajectories_loss_reevaluted_0 = []\n",
    "for w in loaded_weights_np:\n",
    "    trajectory_loss_reevaluted = []\n",
    "    progress_bar2 = tqdm(\n",
    "        total=len(w),\n",
    "        desc=\"Computing loss of trajectory weights\",\n",
    "        unit=\"model_weights\",\n",
    "    )\n",
    "\n",
    "    with torch.no_grad():\n",
    "        for weights in w:\n",
    "            model = set_weights(model, weights)\n",
    "\n",
    "            running_loss = 0.0\n",
    "            for inputs, labels in loader:\n",
    "                outputs = model(inputs)\n",
    "                loss = LOSS_FUNC(outputs, labels)\n",
    "                running_loss += loss.item() * inputs.size(0)\n",
    "\n",
    "            trajectory_loss_reevaluted.append(running_loss / len(loader.dataset))\n",
    "            progress_bar2.update(1)\n",
    "            progress_bar2.set_postfix(trajectory_loss=trajectory_loss_reevaluted[-1])\n",
    "\n",
    "    progress_bar2.close()\n",
    "    trajectories_loss_reevaluted_0.append(trajectory_loss_reevaluted)"
   ]
  },
  {
   "cell_type": "code",
   "execution_count": 7,
   "id": "af6c1ef1",
   "metadata": {},
   "outputs": [],
   "source": [
    "# do landscape save the global min for 0\n",
    "\n",
    "projected_weights5 = pca.fit_transform(w_5)\n",
    "\n",
    "reduced_weights = [projected_weights5]\n",
    "\n",
    "loaded_weights_np = [w_5]\n",
    "\n",
    "classic_model = m_5"
   ]
  },
  {
   "cell_type": "markdown",
   "id": "a6b95d7a",
   "metadata": {},
   "source": [
    "landscape 5"
   ]
  },
  {
   "cell_type": "code",
   "execution_count": 8,
   "id": "2e408be5",
   "metadata": {},
   "outputs": [
    {
     "name": "stdout",
     "output_type": "stream",
     "text": [
      "Created MNIST/FASHION_MNIST CNN\n",
      "LeNet5 using loss: <function nll_loss at 0x7fe3b8f0bd00>\n"
     ]
    },
    {
     "name": "stderr",
     "output_type": "stream",
     "text": [
      "Computing loss of grid weights: 100%|████████████████████████| 400/400 [16:11<00:00,  2.43s/model_weights, grid_loss=10]\n"
     ]
    },
    {
     "name": "stdout",
     "output_type": "stream",
     "text": [
      "Saved grid losses to: fashion_mnist_classic_0_100_0005_05_32_10_SGD_spe3_model_grid_losses_5.npy\n",
      "Saved grid xx to: fashion_mnist_classic_0_100_0005_05_32_10_SGD_spe3_model_grid_xx_5.npy\n",
      "Saved grid yy to: fashion_mnist_classic_0_100_0005_05_32_10_SGD_spe3_model_grid_yy_5.npy\n"
     ]
    },
    {
     "name": "stderr",
     "output_type": "stream",
     "text": [
      "Computing loss of trajectory weights: 100%|███████████| 31/31 [00:59<00:00,  1.93s/model_weights, trajectory_loss=0.318]\n"
     ]
    }
   ],
   "source": [
    "_min_w = 99999999\n",
    "_max_w = 0\n",
    "\n",
    "for i, w in enumerate(reduced_weights):\n",
    "\n",
    "    _min = np.min(w)\n",
    "    _max = np.max(w)\n",
    "\n",
    "    if _min < _min_w:\n",
    "        _min_w = _min\n",
    "    if _max > _max_w:\n",
    "        _max_w = _max \n",
    "\n",
    "_min_w = _min_w -1\n",
    "_max_w = _max_w +1\n",
    "\n",
    "if path_grid_losses is None and path_grid_xx is None and path_grid_yy is None:\n",
    "    grid_range_x = np.linspace(_min-1*(_max-_min), _max+1*(_max-_min), grid_size)\n",
    "    grid_range_y = np.linspace(_min-1*(_max-_min), _max+1*(_max-_min), grid_size)\n",
    "\n",
    "    xx, yy = np.meshgrid(grid_range_x, grid_range_y)\n",
    "    xx_5 = xx\n",
    "    yy_5 = yy\n",
    "\n",
    "    grid_points = np.column_stack((xx.ravel(), yy.ravel()))\n",
    "    grid_weights_5 = pca.inverse_transform(grid_points)\n",
    "\n",
    "for i, rw in enumerate(reduced_weights):\n",
    "    #if i != 0:\n",
    "        #loaded_weights_np[i] = pca.inverse_transform(rw)\n",
    "    loaded_weights_np[i] = pca.inverse_transform(rw)\n",
    "\n",
    "loader = create_testloader(classic_model, batch_size)\n",
    "if \"alt_model\" in classic_model:\n",
    "    model = _get_model(classic_model, LOSS_FUNC, alt_model=True)\n",
    "else:\n",
    "    model = _get_model(classic_model, LOSS_FUNC, alt_model=False)\n",
    "\n",
    "model.load_state_dict(torch.load(classic_model))\n",
    "model.eval()\n",
    "\n",
    "# Grid training\n",
    "if path_grid_losses is None and path_grid_xx is None and path_grid_yy is None:\n",
    "\n",
    "\n",
    "    grid_losses_5 = []\n",
    "\n",
    "    progress_bar = tqdm(\n",
    "        total=len(grid_weights_5),\n",
    "        desc=\"Computing loss of grid weights\",\n",
    "        unit=\"model_weights\",\n",
    "    )\n",
    "\n",
    "    with torch.no_grad():\n",
    "        for weights in grid_weights_5:\n",
    "            model = set_weights(model, weights)\n",
    "\n",
    "            running_loss = 0.0\n",
    "            for inputs, labels in loader:\n",
    "                outputs = model(inputs)\n",
    "                loss = LOSS_FUNC(outputs, labels)\n",
    "                running_loss += loss.item() * inputs.size(0)\n",
    "\n",
    "            grid_losses_5.append(running_loss / len(loader.dataset))\n",
    "            progress_bar.update(1)\n",
    "            progress_bar.set_postfix(grid_loss=grid_losses_5[-1])\n",
    "\n",
    "    progress_bar.close()\n",
    "\n",
    "    grid_losses_5 = np.array(grid_losses_5).reshape(grid_size, grid_size)\n",
    "\n",
    "    if grid_save:\n",
    "\n",
    "        model_filename = os.path.basename(classic_model)\n",
    "        model_basename, _ = os.path.splitext(model_filename)\n",
    "\n",
    "        if len(subfolder) > 0:\n",
    "            if not os.path.exists(subfolder):\n",
    "                os.makedirs(subfolder)\n",
    "\n",
    "        np.save(f\"{model_basename}_grid_losses.npy\", grid_losses_5)\n",
    "        np.save(f\"{model_basename}_grid_xx.npy\", xx_5)\n",
    "        np.save(f\"{model_basename}_grid_yy.npy\", yy_5)\n",
    "        print(f\"Saved grid losses to: {f'{model_basename}_grid_losses_5.npy'}\")\n",
    "        print(f\"Saved grid xx to: {f'{model_basename}_grid_xx_5.npy'}\")\n",
    "        print(f\"Saved grid yy to: {f'{model_basename}_grid_yy_5.npy'}\")\n",
    "else:\n",
    "    xx = np.load(path_grid_xx)\n",
    "    yy = np.load(path_grid_yy)\n",
    "    grid_losses = np.load(path_grid_losses)\n",
    "    print(\"Loadded grid_losses, grid_xx and grid_yy\")\n",
    "\n",
    "# trajectories evaluationa\n",
    "trajectories_loss_reevaluted_5 = []\n",
    "for w in loaded_weights_np:\n",
    "    trajectory_loss_reevaluted = []\n",
    "    progress_bar2 = tqdm(\n",
    "        total=len(w),\n",
    "        desc=\"Computing loss of trajectory weights\",\n",
    "        unit=\"model_weights\",\n",
    "    )\n",
    "\n",
    "    with torch.no_grad():\n",
    "        for weights in w:\n",
    "            model = set_weights(model, weights)\n",
    "\n",
    "            running_loss = 0.0\n",
    "            for inputs, labels in loader:\n",
    "                outputs = model(inputs)\n",
    "                loss = LOSS_FUNC(outputs, labels)\n",
    "                running_loss += loss.item() * inputs.size(0)\n",
    "\n",
    "            trajectory_loss_reevaluted.append(running_loss / len(loader.dataset))\n",
    "            progress_bar2.update(1)\n",
    "            progress_bar2.set_postfix(trajectory_loss=trajectory_loss_reevaluted[-1])\n",
    "\n",
    "    progress_bar2.close()\n",
    "    trajectories_loss_reevaluted_5.append(trajectory_loss_reevaluted)"
   ]
  },
  {
   "cell_type": "code",
   "execution_count": 9,
   "id": "656a1656",
   "metadata": {},
   "outputs": [],
   "source": [
    "projected_weights9 = pca.fit_transform(w_9)\n",
    "\n",
    "reduced_weights = [projected_weights9]\n",
    "\n",
    "loaded_weights_np = [w_9]\n",
    "\n",
    "classic_model = m_9"
   ]
  },
  {
   "cell_type": "markdown",
   "id": "0a3e912d",
   "metadata": {},
   "source": [
    "landscape 9"
   ]
  },
  {
   "cell_type": "code",
   "execution_count": 10,
   "id": "a89ff2d0",
   "metadata": {},
   "outputs": [
    {
     "name": "stdout",
     "output_type": "stream",
     "text": [
      "Created MNIST/FASHION_MNIST CNN\n",
      "LeNet5 using loss: <function nll_loss at 0x7fe3b8f0bd00>\n"
     ]
    },
    {
     "name": "stderr",
     "output_type": "stream",
     "text": [
      "Computing loss of grid weights: 100%|█████████████████████| 400/400 [1:18:50<00:00, 11.83s/model_weights, grid_loss=173]\n"
     ]
    },
    {
     "name": "stdout",
     "output_type": "stream",
     "text": [
      "Saved grid losses to: fashion_mnist_classic_0_100_0005_09_32_10_SGD_spe3_model_grid_losses_9.npy\n",
      "Saved grid xx to: fashion_mnist_classic_0_100_0005_09_32_10_SGD_spe3_model_grid_xx_9.npy\n",
      "Saved grid yy to: fashion_mnist_classic_0_100_0005_09_32_10_SGD_spe3_model_grid_yy_9.npy\n"
     ]
    },
    {
     "name": "stderr",
     "output_type": "stream",
     "text": [
      "Computing loss of trajectory weights: 100%|███████████| 31/31 [06:33<00:00, 12.69s/model_weights, trajectory_loss=0.253]\n"
     ]
    }
   ],
   "source": [
    "_min_w = 99999999\n",
    "_max_w = 0\n",
    "\n",
    "for i, w in enumerate(reduced_weights):\n",
    "\n",
    "    _min = np.min(w)\n",
    "    _max = np.max(w)\n",
    "\n",
    "    if _min < _min_w:\n",
    "        _min_w = _min\n",
    "    if _max > _max_w:\n",
    "        _max_w = _max \n",
    "\n",
    "_min_w = _min_w -1\n",
    "_max_w = _max_w +1\n",
    "\n",
    "if path_grid_losses is None and path_grid_xx is None and path_grid_yy is None:\n",
    "    grid_range_x = np.linspace(_min-1*(_max-_min), _max+1*(_max-_min), grid_size)\n",
    "    grid_range_y = np.linspace(_min-1*(_max-_min), _max+1*(_max-_min), grid_size)\n",
    "\n",
    "    xx, yy = np.meshgrid(grid_range_x, grid_range_y)\n",
    "    xx_9 = xx\n",
    "    yy_9 = yy\n",
    "\n",
    "    grid_points = np.column_stack((xx.ravel(), yy.ravel()))\n",
    "    grid_weights_9 = pca.inverse_transform(grid_points)\n",
    "\n",
    "for i, rw in enumerate(reduced_weights):\n",
    "    #if i != 0:\n",
    "        #loaded_weights_np[i] = pca.inverse_transform(rw)\n",
    "    loaded_weights_np[i] = pca.inverse_transform(rw)\n",
    "\n",
    "loader = create_testloader(classic_model, batch_size)\n",
    "if \"alt_model\" in classic_model:\n",
    "    model = _get_model(classic_model, LOSS_FUNC, alt_model=True)\n",
    "else:\n",
    "    model = _get_model(classic_model, LOSS_FUNC, alt_model=False)\n",
    "\n",
    "model.load_state_dict(torch.load(classic_model))\n",
    "model.eval()\n",
    "\n",
    "# Grid training\n",
    "if path_grid_losses is None and path_grid_xx is None and path_grid_yy is None:\n",
    "\n",
    "\n",
    "    grid_losses_9 = []\n",
    "\n",
    "    progress_bar = tqdm(\n",
    "        total=len(grid_weights_9),\n",
    "        desc=\"Computing loss of grid weights\",\n",
    "        unit=\"model_weights\",\n",
    "    )\n",
    "\n",
    "    with torch.no_grad():\n",
    "        for weights in grid_weights_9:\n",
    "            model = set_weights(model, weights)\n",
    "\n",
    "            running_loss = 0.0\n",
    "            for inputs, labels in loader:\n",
    "                outputs = model(inputs)\n",
    "                loss = LOSS_FUNC(outputs, labels)\n",
    "                running_loss += loss.item() * inputs.size(0)\n",
    "\n",
    "            grid_losses_9.append(running_loss / len(loader.dataset))\n",
    "            progress_bar.update(1)\n",
    "            progress_bar.set_postfix(grid_loss=grid_losses_9[-1])\n",
    "\n",
    "    progress_bar.close()\n",
    "\n",
    "    grid_losses_9 = np.array(grid_losses_9).reshape(grid_size, grid_size)\n",
    "\n",
    "    if grid_save:\n",
    "\n",
    "        model_filename = os.path.basename(classic_model)\n",
    "        model_basename, _ = os.path.splitext(model_filename)\n",
    "\n",
    "        if len(subfolder) > 0:\n",
    "            if not os.path.exists(subfolder):\n",
    "                os.makedirs(subfolder)\n",
    "\n",
    "        np.save(f\"{model_basename}_grid_losses.npy\", grid_losses_9)\n",
    "        np.save(f\"{model_basename}_grid_xx.npy\", xx_9)\n",
    "        np.save(f\"{model_basename}_grid_yy.npy\", yy_9)\n",
    "        print(f\"Saved grid losses to: {f'{model_basename}_grid_losses_9.npy'}\")\n",
    "        print(f\"Saved grid xx to: {f'{model_basename}_grid_xx_9.npy'}\")\n",
    "        print(f\"Saved grid yy to: {f'{model_basename}_grid_yy_9.npy'}\")\n",
    "else:\n",
    "    xx = np.load(path_grid_xx)\n",
    "    yy = np.load(path_grid_yy)\n",
    "    grid_losses = np.load(path_grid_losses)\n",
    "    print(\"Loadded grid_losses, grid_xx and grid_yy\")\n",
    "\n",
    "# trajectories evaluationa\n",
    "trajectories_loss_reevaluted_9 = []\n",
    "for w in loaded_weights_np:\n",
    "    trajectory_loss_reevaluted = []\n",
    "    progress_bar2 = tqdm(\n",
    "        total=len(w),\n",
    "        desc=\"Computing loss of trajectory weights\",\n",
    "        unit=\"model_weights\",\n",
    "    )\n",
    "\n",
    "    with torch.no_grad():\n",
    "        for weights in w:\n",
    "            model = set_weights(model, weights)\n",
    "\n",
    "            running_loss = 0.0\n",
    "            for inputs, labels in loader:\n",
    "                outputs = model(inputs)\n",
    "                loss = LOSS_FUNC(outputs, labels)\n",
    "                running_loss += loss.item() * inputs.size(0)\n",
    "\n",
    "            trajectory_loss_reevaluted.append(running_loss / len(loader.dataset))\n",
    "            progress_bar2.update(1)\n",
    "            progress_bar2.set_postfix(trajectory_loss=trajectory_loss_reevaluted[-1])\n",
    "\n",
    "    progress_bar2.close()\n",
    "    trajectories_loss_reevaluted_9.append(trajectory_loss_reevaluted)"
   ]
  },
  {
   "cell_type": "code",
   "execution_count": 15,
   "id": "59394ec2",
   "metadata": {},
   "outputs": [
    {
     "name": "stdout",
     "output_type": "stream",
     "text": [
      "9 7 0.35871151843070986\n",
      "9 7 0.3054031849861145\n",
      "9 7 0.260352781021595\n"
     ]
    },
    {
     "data": {
      "image/png": "[encoded data removed]",
      "text/plain": [
       "<Figure size 640x480 with 1 Axes>"
      ]
     },
     "metadata": {},
     "output_type": "display_data"
    }
   ],
   "source": [
    "_min_x_0, _min_y_0 = np.unravel_index(np.argmin(grid_losses_0), grid_losses_0.shape)\n",
    "_min_x_5, _min_y_5 = np.unravel_index(np.argmin(grid_losses_5), grid_losses_5.shape)\n",
    "_min_x_9, _min_y_9 = np.unravel_index(np.argmin(grid_losses_9), grid_losses_9.shape)\n",
    "print(_min_x_0, _min_y_0, np.min(grid_losses_0))\n",
    "print(_min_x_5, _min_y_5, np.min(grid_losses_5))\n",
    "print(_min_x_9, _min_y_9, np.min(grid_losses_9))\n",
    "plt.plot(projected_weights0[:,0], projected_weights0[:,1])\n",
    "plt.plot(projected_weights5[:,0], projected_weights5[:,1])\n",
    "plt.plot(projected_weights9[:,0], projected_weights9[:,1])\n",
    "plt.scatter(_min_x_0, _min_y_0)\n",
    "plt.scatter(_min_x_5, _min_y_5)\n",
    "plt.scatter(_min_x_9, _min_y_9)\n",
    "plt.show()"
   ]
  },
  {
   "cell_type": "markdown",
   "id": "898f453e",
   "metadata": {},
   "source": [
    "global landscape"
   ]
  },
  {
   "cell_type": "code",
   "execution_count": 16,
   "id": "89c23bc6",
   "metadata": {},
   "outputs": [],
   "source": [
    "pca = PCA(n_components=2)\n",
    "\n",
    "projected_weights = pca.fit_transform(np.concatenate([w_0, w_5, w_9], axis = 0))\n",
    "\n",
    "red_0 = projected_weights[:len_w,:]\n",
    "red_5 = projected_weights[len_w:2*len_w,:]\n",
    "red_9= projected_weights[2*len_w:,:]\n",
    "\n",
    "reduced_weights = [red_0, red_5, red_9]\n",
    "\n",
    "loaded_weights_np = [w_0, w_5, w_9]\n",
    "\n",
    "classic_model = m_0"
   ]
  },
  {
   "cell_type": "code",
   "execution_count": 17,
   "id": "6c8072c2",
   "metadata": {},
   "outputs": [
    {
     "name": "stdout",
     "output_type": "stream",
     "text": [
      "Created MNIST/FASHION_MNIST CNN\n",
      "LeNet5 using loss: <function nll_loss at 0x7fe3b8f0bd00>\n"
     ]
    },
    {
     "name": "stderr",
     "output_type": "stream",
     "text": [
      "Computing loss of grid weights: 100%|██████████████████████| 400/400 [14:15<00:00,  2.14s/model_weights, grid_loss=55.2]\n"
     ]
    },
    {
     "name": "stdout",
     "output_type": "stream",
     "text": [
      "Saved grid losses to: fashion_mnist_classic_0_100_0005_00_32_10_SGD_spe3_model_grid_losses.npy\n",
      "Saved grid xx to: fashion_mnist_classic_0_100_0005_00_32_10_SGD_spe3_model_grid_xx.npy\n",
      "Saved grid yy to: fashion_mnist_classic_0_100_0005_00_32_10_SGD_spe3_model_grid_yy.npy\n"
     ]
    },
    {
     "name": "stderr",
     "output_type": "stream",
     "text": [
      "Computing loss of trajectory weights: 100%|███████████| 31/31 [01:36<00:00,  3.11s/model_weights, trajectory_loss=0.362]\n",
      "Computing loss of trajectory weights: 100%|███████████| 31/31 [01:27<00:00,  2.81s/model_weights, trajectory_loss=0.432]\n",
      "Computing loss of trajectory weights: 100%|███████████| 31/31 [01:20<00:00,  2.59s/model_weights, trajectory_loss=0.293]\n"
     ]
    }
   ],
   "source": [
    "_min_w = 99999999\n",
    "_max_w = 0\n",
    "\n",
    "for i, w in enumerate(reduced_weights):\n",
    "\n",
    "    _min = np.min(w)\n",
    "    _max = np.max(w)\n",
    "\n",
    "    if _min < _min_w:\n",
    "        _min_w = _min\n",
    "    if _max > _max_w:\n",
    "        _max_w = _max \n",
    "\n",
    "_min_w = _min_w -1\n",
    "_max_w = _max_w +1\n",
    "\n",
    "if path_grid_losses is None and path_grid_xx is None and path_grid_yy is None:\n",
    "    grid_range_x = np.linspace(_min-1*(_max-_min), _max+1*(_max-_min), grid_size)\n",
    "    grid_range_y = np.linspace(_min-1*(_max-_min), _max+1*(_max-_min), grid_size)\n",
    "\n",
    "    xx, yy = np.meshgrid(grid_range_x, grid_range_y)\n",
    "\n",
    "    grid_points = np.column_stack((xx.ravel(), yy.ravel()))\n",
    "    grid_weights = pca.inverse_transform(grid_points)\n",
    "\n",
    "for i, rw in enumerate(reduced_weights):\n",
    "    #if i != 0:\n",
    "        #loaded_weights_np[i] = pca.inverse_transform(rw)\n",
    "    loaded_weights_np[i] = pca.inverse_transform(rw)\n",
    "\n",
    "loader = create_testloader(classic_model, batch_size)\n",
    "if \"alt_model\" in classic_model:\n",
    "    model = _get_model(classic_model, LOSS_FUNC, alt_model=True)\n",
    "else:\n",
    "    model = _get_model(classic_model, LOSS_FUNC, alt_model=False)\n",
    "\n",
    "model.load_state_dict(torch.load(classic_model))\n",
    "model.eval()\n",
    "\n",
    "# Grid training\n",
    "if path_grid_losses is None and path_grid_xx is None and path_grid_yy is None:\n",
    "\n",
    "\n",
    "    grid_losses = []\n",
    "\n",
    "    progress_bar = tqdm(\n",
    "        total=len(grid_weights),\n",
    "        desc=\"Computing loss of grid weights\",\n",
    "        unit=\"model_weights\",\n",
    "    )\n",
    "\n",
    "    with torch.no_grad():\n",
    "        for weights in grid_weights:\n",
    "            model = set_weights(model, weights)\n",
    "\n",
    "            running_loss = 0.0\n",
    "            for inputs, labels in loader:\n",
    "                outputs = model(inputs)\n",
    "                loss = LOSS_FUNC(outputs, labels)\n",
    "                running_loss += loss.item() * inputs.size(0)\n",
    "\n",
    "            grid_losses.append(running_loss / len(loader.dataset))\n",
    "            progress_bar.update(1)\n",
    "            progress_bar.set_postfix(grid_loss=grid_losses[-1])\n",
    "\n",
    "    progress_bar.close()\n",
    "\n",
    "    grid_losses = np.array(grid_losses).reshape(grid_size, grid_size)\n",
    "\n",
    "    if grid_save:\n",
    "\n",
    "        model_filename = os.path.basename(classic_model)\n",
    "        model_basename, _ = os.path.splitext(model_filename)\n",
    "\n",
    "        if len(subfolder) > 0:\n",
    "            if not os.path.exists(subfolder):\n",
    "                os.makedirs(subfolder)\n",
    "\n",
    "        np.save(f\"{model_basename}_grid_losses.npy\", grid_losses)\n",
    "        np.save(f\"{model_basename}_grid_xx.npy\", xx)\n",
    "        np.save(f\"{model_basename}_grid_yy.npy\", yy)\n",
    "        print(f\"Saved grid losses to: {f'{model_basename}_grid_losses.npy'}\")\n",
    "        print(f\"Saved grid xx to: {f'{model_basename}_grid_xx.npy'}\")\n",
    "        print(f\"Saved grid yy to: {f'{model_basename}_grid_yy.npy'}\")\n",
    "else:\n",
    "    xx = np.load(path_grid_xx)\n",
    "    yy = np.load(path_grid_yy)\n",
    "    grid_losses = np.load(path_grid_losses)\n",
    "    print(\"Loadded grid_losses, grid_xx and grid_yy\")\n",
    "\n",
    "# trajectories evaluationa\n",
    "trajectories_loss_reevaluted = []\n",
    "for w in loaded_weights_np:\n",
    "    trajectory_loss_reevaluted = []\n",
    "    progress_bar2 = tqdm(\n",
    "        total=len(w),\n",
    "        desc=\"Computing loss of trajectory weights\",\n",
    "        unit=\"model_weights\",\n",
    "    )\n",
    "\n",
    "    with torch.no_grad():\n",
    "        for weights in w:\n",
    "            model = set_weights(model, weights)\n",
    "\n",
    "            running_loss = 0.0\n",
    "            for inputs, labels in loader:\n",
    "                outputs = model(inputs)\n",
    "                loss = LOSS_FUNC(outputs, labels)\n",
    "                running_loss += loss.item() * inputs.size(0)\n",
    "\n",
    "            trajectory_loss_reevaluted.append(running_loss / len(loader.dataset))\n",
    "            progress_bar2.update(1)\n",
    "            progress_bar2.set_postfix(trajectory_loss=trajectory_loss_reevaluted[-1])\n",
    "\n",
    "    progress_bar2.close()\n",
    "    trajectories_loss_reevaluted.append(trajectory_loss_reevaluted)"
   ]
  },
  {
   "cell_type": "code",
   "execution_count": 24,
   "id": "3ff9456c",
   "metadata": {},
   "outputs": [
    {
     "name": "stdout",
     "output_type": "stream",
     "text": [
      "9 12\n"
     ]
    }
   ],
   "source": [
    "_min_x, _min_y = np.unravel_index(np.argmin(grid_losses), grid_losses.shape)\n",
    "print(_min_x, _min_y)"
   ]
  },
  {
   "cell_type": "code",
   "execution_count": 21,
   "id": "bf8bfcf6",
   "metadata": {},
   "outputs": [],
   "source": [
    "new_traj = [trajectories_loss_reevaluted_0[0], trajectories_loss_reevaluted_5[0], trajectories_loss_reevaluted_9[0]]"
   ]
  },
  {
   "cell_type": "code",
   "execution_count": 39,
   "id": "b9884262",
   "metadata": {},
   "outputs": [
    {
     "data": {
      "application/vnd.plotly.v1+json": {
       "config": {
        "plotlyServerURL": "https://plot.ly"
       },
       "data": [
        {
         "coloraxis": "coloraxis",
         "colorscale": [
          [
           0,
           "#440154"
          ],
          [
           0.1111111111111111,
           "#482878"
          ],
          [
           0.2222222222222222,
           "#3e4989"
          ],
          [
           0.3333333333333333,
           "#31688e"
          ],
          [
           0.4444444444444444,
           "#26828e"
          ],
          [
           0.5555555555555556,
           "#1f9e89"
          ],
          [
           0.6666666666666666,
           "#35b779"
          ],
          [
           0.7777777777777778,
           "#6ece58"
          ],
          [
           0.8888888888888888,
           "#b5de2b"
          ],
          [
           1,
           "#fde725"
          ]
         ],
         "contours": {
          "z": {
           "highlightcolor": "limegreen",
           "project": {
            "z": true
           },
           "show": true,
           "usecolormap": true
          }
         },
         "name": "grid point",
         "opacity": 0.8,
         "type": "surface",
         "x": [
          [
           -16.82135510444641,
           -14.758506950579191,
           -12.695658796711971,
           -10.632810642844753,
           -8.569962488977533,
           -6.5071143351103125,
           -4.444266181243094,
           -2.381418027375874,
           -0.31856987350865396,
           1.7442782803585644,
           3.8071264342257862,
           5.8699745880930045,
           7.932822741960223,
           9.995670895827445,
           12.058519049694663,
           14.121367203561885,
           16.184215357429103,
           18.247063511296325,
           20.30991166516354,
           22.37275981903076
          ],
          [
           -16.82135510444641,
           -14.758506950579191,
           -12.695658796711971,
           -10.632810642844753,
           -8.569962488977533,
           -6.5071143351103125,
           -4.444266181243094,
           -2.381418027375874,
           -0.31856987350865396,
           1.7442782803585644,
           3.8071264342257862,
           5.8699745880930045,
           7.932822741960223,
           9.995670895827445,
           12.058519049694663,
           14.121367203561885,
           16.184215357429103,
           18.247063511296325,
           20.30991166516354,
           22.37275981903076
          ],
          [
           -16.82135510444641,
           -14.758506950579191,
           -12.695658796711971,
           -10.632810642844753,
           -8.569962488977533,
           -6.5071143351103125,
           -4.444266181243094,
           -2.381418027375874,
           -0.31856987350865396,
           1.7442782803585644,
           3.8071264342257862,
           5.8699745880930045,
           7.932822741960223,
           9.995670895827445,
           12.058519049694663,
           14.121367203561885,
           16.184215357429103,
           18.247063511296325,
           20.30991166516354,
           22.37275981903076
          ],
          [
           -16.82135510444641,
           -14.758506950579191,
           -12.695658796711971,
           -10.632810642844753,
           -8.569962488977533,
           -6.5071143351103125,
           -4.444266181243094,
           -2.381418027375874,
           -0.31856987350865396,
           1.7442782803585644,
           3.8071264342257862,
           5.8699745880930045,
           7.932822741960223,
           9.995670895827445,
           12.058519049694663,
           14.121367203561885,
           16.184215357429103,
           18.247063511296325,
           20.30991166516354,
           22.37275981903076
          ],
          [
           -16.82135510444641,
           -14.758506950579191,
           -12.695658796711971,
           -10.632810642844753,
           -8.569962488977533,
           -6.5071143351103125,
           -4.444266181243094,
           -2.381418027375874,
           -0.31856987350865396,
           1.7442782803585644,
           3.8071264342257862,
           5.8699745880930045,
           7.932822741960223,
           9.995670895827445,
           12.058519049694663,
           14.121367203561885,
           16.184215357429103,
           18.247063511296325,
           20.30991166516354,
           22.37275981903076
          ],
          [
           -16.82135510444641,
           -14.758506950579191,
           -12.695658796711971,
           -10.632810642844753,
           -8.569962488977533,
           -6.5071143351103125,
           -4.444266181243094,
           -2.381418027375874,
           -0.31856987350865396,
           1.7442782803585644,
           3.8071264342257862,
           5.8699745880930045,
           7.932822741960223,
           9.995670895827445,
           12.058519049694663,
           14.121367203561885,
           16.184215357429103,
           18.247063511296325,
           20.30991166516354,
           22.37275981903076
          ],
          [
           -16.82135510444641,
           -14.758506950579191,
           -12.695658796711971,
           -10.632810642844753,
           -8.569962488977533,
           -6.5071143351103125,
           -4.444266181243094,
           -2.381418027375874,
           -0.31856987350865396,
           1.7442782803585644,
           3.8071264342257862,
           5.8699745880930045,
           7.932822741960223,
           9.995670895827445,
           12.058519049694663,
           14.121367203561885,
           16.184215357429103,
           18.247063511296325,
           20.30991166516354,
           22.37275981903076
          ],
          [
           -16.82135510444641,
           -14.758506950579191,
           -12.695658796711971,
           -10.632810642844753,
           -8.569962488977533,
           -6.5071143351103125,
           -4.444266181243094,
           -2.381418027375874,
           -0.31856987350865396,
           1.7442782803585644,
           3.8071264342257862,
           5.8699745880930045,
           7.932822741960223,
           9.995670895827445,
           12.058519049694663,
           14.121367203561885,
           16.184215357429103,
           18.247063511296325,
           20.30991166516354,
           22.37275981903076
          ],
          [
           -16.82135510444641,
           -14.758506950579191,
           -12.695658796711971,
           -10.632810642844753,
           -8.569962488977533,
           -6.5071143351103125,
           -4.444266181243094,
           -2.381418027375874,
           -0.31856987350865396,
           1.7442782803585644,
           3.8071264342257862,
           5.8699745880930045,
           7.932822741960223,
           9.995670895827445,
           12.058519049694663,
           14.121367203561885,
           16.184215357429103,
           18.247063511296325,
           20.30991166516354,
           22.37275981903076
          ],
          [
           -16.82135510444641,
           -14.758506950579191,
           -12.695658796711971,
           -10.632810642844753,
           -8.569962488977533,
           -6.5071143351103125,
           -4.444266181243094,
           -2.381418027375874,
           -0.31856987350865396,
           1.7442782803585644,
           3.8071264342257862,
           5.8699745880930045,
           7.932822741960223,
           9.995670895827445,
           12.058519049694663,
           14.121367203561885,
           16.184215357429103,
           18.247063511296325,
           20.30991166516354,
           22.37275981903076
          ],
          [
           -16.82135510444641,
           -14.758506950579191,
           -12.695658796711971,
           -10.632810642844753,
           -8.569962488977533,
           -6.5071143351103125,
           -4.444266181243094,
           -2.381418027375874,
           -0.31856987350865396,
           1.7442782803585644,
           3.8071264342257862,
           5.8699745880930045,
           7.932822741960223,
           9.995670895827445,
           12.058519049694663,
           14.121367203561885,
           16.184215357429103,
           18.247063511296325,
           20.30991166516354,
           22.37275981903076
          ],
          [
           -16.82135510444641,
           -14.758506950579191,
           -12.695658796711971,
           -10.632810642844753,
           -8.569962488977533,
           -6.5071143351103125,
           -4.444266181243094,
           -2.381418027375874,
           -0.31856987350865396,
           1.7442782803585644,
           3.8071264342257862,
           5.8699745880930045,
           7.932822741960223,
           9.995670895827445,
           12.058519049694663,
           14.121367203561885,
           16.184215357429103,
           18.247063511296325,
           20.30991166516354,
           22.37275981903076
          ],
          [
           -16.82135510444641,
           -14.758506950579191,
           -12.695658796711971,
           -10.632810642844753,
           -8.569962488977533,
           -6.5071143351103125,
           -4.444266181243094,
           -2.381418027375874,
           -0.31856987350865396,
           1.7442782803585644,
           3.8071264342257862,
           5.8699745880930045,
           7.932822741960223,
           9.995670895827445,
           12.058519049694663,
           14.121367203561885,
           16.184215357429103,
           18.247063511296325,
           20.30991166516354,
           22.37275981903076
          ],
          [
           -16.82135510444641,
           -14.758506950579191,
           -12.695658796711971,
           -10.632810642844753,
           -8.569962488977533,
           -6.5071143351103125,
           -4.444266181243094,
           -2.381418027375874,
           -0.31856987350865396,
           1.7442782803585644,
           3.8071264342257862,
           5.8699745880930045,
           7.932822741960223,
           9.995670895827445,
           12.058519049694663,
           14.121367203561885,
           16.184215357429103,
           18.247063511296325,
           20.30991166516354,
           22.37275981903076
          ],
          [
           -16.82135510444641,
           -14.758506950579191,
           -12.695658796711971,
           -10.632810642844753,
           -8.569962488977533,
           -6.5071143351103125,
           -4.444266181243094,
           -2.381418027375874,
           -0.31856987350865396,
           1.7442782803585644,
           3.8071264342257862,
           5.8699745880930045,
           7.932822741960223,
           9.995670895827445,
           12.058519049694663,
           14.121367203561885,
           16.184215357429103,
           18.247063511296325,
           20.30991166516354,
           22.37275981903076
          ],
          [
           -16.82135510444641,
           -14.758506950579191,
           -12.695658796711971,
           -10.632810642844753,
           -8.569962488977533,
           -6.5071143351103125,
           -4.444266181243094,
           -2.381418027375874,
           -0.31856987350865396,
           1.7442782803585644,
           3.8071264342257862,
           5.8699745880930045,
           7.932822741960223,
           9.995670895827445,
           12.058519049694663,
           14.121367203561885,
           16.184215357429103,
           18.247063511296325,
           20.30991166516354,
           22.37275981903076
          ],
          [
           -16.82135510444641,
           -14.758506950579191,
           -12.695658796711971,
           -10.632810642844753,
           -8.569962488977533,
           -6.5071143351103125,
           -4.444266181243094,
           -2.381418027375874,
           -0.31856987350865396,
           1.7442782803585644,
           3.8071264342257862,
           5.8699745880930045,
           7.932822741960223,
           9.995670895827445,
           12.058519049694663,
           14.121367203561885,
           16.184215357429103,
           18.247063511296325,
           20.30991166516354,
           22.37275981903076
          ],
          [
           -16.82135510444641,
           -14.758506950579191,
           -12.695658796711971,
           -10.632810642844753,
           -8.569962488977533,
           -6.5071143351103125,
           -4.444266181243094,
           -2.381418027375874,
           -0.31856987350865396,
           1.7442782803585644,
           3.8071264342257862,
           5.8699745880930045,
           7.932822741960223,
           9.995670895827445,
           12.058519049694663,
           14.121367203561885,
           16.184215357429103,
           18.247063511296325,
           20.30991166516354,
           22.37275981903076
          ],
          [
           -16.82135510444641,
           -14.758506950579191,
           -12.695658796711971,
           -10.632810642844753,
           -8.569962488977533,
           -6.5071143351103125,
           -4.444266181243094,
           -2.381418027375874,
           -0.31856987350865396,
           1.7442782803585644,
           3.8071264342257862,
           5.8699745880930045,
           7.932822741960223,
           9.995670895827445,
           12.058519049694663,
           14.121367203561885,
           16.184215357429103,
           18.247063511296325,
           20.30991166516354,
           22.37275981903076
          ],
          [
           -16.82135510444641,
           -14.758506950579191,
           -12.695658796711971,
           -10.632810642844753,
           -8.569962488977533,
           -6.5071143351103125,
           -4.444266181243094,
           -2.381418027375874,
           -0.31856987350865396,
           1.7442782803585644,
           3.8071264342257862,
           5.8699745880930045,
           7.932822741960223,
           9.995670895827445,
           12.058519049694663,
           14.121367203561885,
           16.184215357429103,
           18.247063511296325,
           20.30991166516354,
           22.37275981903076
          ]
         ],
         "y": [
          [
           -16.82135510444641,
           -16.82135510444641,
           -16.82135510444641,
           -16.82135510444641,
           -16.82135510444641,
           -16.82135510444641,
           -16.82135510444641,
           -16.82135510444641,
           -16.82135510444641,
           -16.82135510444641,
           -16.82135510444641,
           -16.82135510444641,
           -16.82135510444641,
           -16.82135510444641,
           -16.82135510444641,
           -16.82135510444641,
           -16.82135510444641,
           -16.82135510444641,
           -16.82135510444641,
           -16.82135510444641
          ],
          [
           -14.758506950579191,
           -14.758506950579191,
           -14.758506950579191,
           -14.758506950579191,
           -14.758506950579191,
           -14.758506950579191,
           -14.758506950579191,
           -14.758506950579191,
           -14.758506950579191,
           -14.758506950579191,
           -14.758506950579191,
           -14.758506950579191,
           -14.758506950579191,
           -14.758506950579191,
           -14.758506950579191,
           -14.758506950579191,
           -14.758506950579191,
           -14.758506950579191,
           -14.758506950579191,
           -14.758506950579191
          ],
          [
           -12.695658796711971,
           -12.695658796711971,
           -12.695658796711971,
           -12.695658796711971,
           -12.695658796711971,
           -12.695658796711971,
           -12.695658796711971,
           -12.695658796711971,
           -12.695658796711971,
           -12.695658796711971,
           -12.695658796711971,
           -12.695658796711971,
           -12.695658796711971,
           -12.695658796711971,
           -12.695658796711971,
           -12.695658796711971,
           -12.695658796711971,
           -12.695658796711971,
           -12.695658796711971,
           -12.695658796711971
          ],
          [
           -10.632810642844753,
           -10.632810642844753,
           -10.632810642844753,
           -10.632810642844753,
           -10.632810642844753,
           -10.632810642844753,
           -10.632810642844753,
           -10.632810642844753,
           -10.632810642844753,
           -10.632810642844753,
           -10.632810642844753,
           -10.632810642844753,
           -10.632810642844753,
           -10.632810642844753,
           -10.632810642844753,
           -10.632810642844753,
           -10.632810642844753,
           -10.632810642844753,
           -10.632810642844753,
           -10.632810642844753
          ],
          [
           -8.569962488977533,
           -8.569962488977533,
           -8.569962488977533,
           -8.569962488977533,
           -8.569962488977533,
           -8.569962488977533,
           -8.569962488977533,
           -8.569962488977533,
           -8.569962488977533,
           -8.569962488977533,
           -8.569962488977533,
           -8.569962488977533,
           -8.569962488977533,
           -8.569962488977533,
           -8.569962488977533,
           -8.569962488977533,
           -8.569962488977533,
           -8.569962488977533,
           -8.569962488977533,
           -8.569962488977533
          ],
          [
           -6.5071143351103125,
           -6.5071143351103125,
           -6.5071143351103125,
           -6.5071143351103125,
           -6.5071143351103125,
           -6.5071143351103125,
           -6.5071143351103125,
           -6.5071143351103125,
           -6.5071143351103125,
           -6.5071143351103125,
           -6.5071143351103125,
           -6.5071143351103125,
           -6.5071143351103125,
           -6.5071143351103125,
           -6.5071143351103125,
           -6.5071143351103125,
           -6.5071143351103125,
           -6.5071143351103125,
           -6.5071143351103125,
           -6.5071143351103125
          ],
          [
           -4.444266181243094,
           -4.444266181243094,
           -4.444266181243094,
           -4.444266181243094,
           -4.444266181243094,
           -4.444266181243094,
           -4.444266181243094,
           -4.444266181243094,
           -4.444266181243094,
           -4.444266181243094,
           -4.444266181243094,
           -4.444266181243094,
           -4.444266181243094,
           -4.444266181243094,
           -4.444266181243094,
           -4.444266181243094,
           -4.444266181243094,
           -4.444266181243094,
           -4.444266181243094,
           -4.444266181243094
          ],
          [
           -2.381418027375874,
           -2.381418027375874,
           -2.381418027375874,
           -2.381418027375874,
           -2.381418027375874,
           -2.381418027375874,
           -2.381418027375874,
           -2.381418027375874,
           -2.381418027375874,
           -2.381418027375874,
           -2.381418027375874,
           -2.381418027375874,
           -2.381418027375874,
           -2.381418027375874,
           -2.381418027375874,
           -2.381418027375874,
           -2.381418027375874,
           -2.381418027375874,
           -2.381418027375874,
           -2.381418027375874
          ],
          [
           -0.31856987350865396,
           -0.31856987350865396,
           -0.31856987350865396,
           -0.31856987350865396,
           -0.31856987350865396,
           -0.31856987350865396,
           -0.31856987350865396,
           -0.31856987350865396,
           -0.31856987350865396,
           -0.31856987350865396,
           -0.31856987350865396,
           -0.31856987350865396,
           -0.31856987350865396,
           -0.31856987350865396,
           -0.31856987350865396,
           -0.31856987350865396,
           -0.31856987350865396,
           -0.31856987350865396,
           -0.31856987350865396,
           -0.31856987350865396
          ],
          [
           1.7442782803585644,
           1.7442782803585644,
           1.7442782803585644,
           1.7442782803585644,
           1.7442782803585644,
           1.7442782803585644,
           1.7442782803585644,
           1.7442782803585644,
           1.7442782803585644,
           1.7442782803585644,
           1.7442782803585644,
           1.7442782803585644,
           1.7442782803585644,
           1.7442782803585644,
           1.7442782803585644,
           1.7442782803585644,
           1.7442782803585644,
           1.7442782803585644,
           1.7442782803585644,
           1.7442782803585644
          ],
          [
           3.8071264342257862,
           3.8071264342257862,
           3.8071264342257862,
           3.8071264342257862,
           3.8071264342257862,
           3.8071264342257862,
           3.8071264342257862,
           3.8071264342257862,
           3.8071264342257862,
           3.8071264342257862,
           3.8071264342257862,
           3.8071264342257862,
           3.8071264342257862,
           3.8071264342257862,
           3.8071264342257862,
           3.8071264342257862,
           3.8071264342257862,
           3.8071264342257862,
           3.8071264342257862,
           3.8071264342257862
          ],
          [
           5.8699745880930045,
           5.8699745880930045,
           5.8699745880930045,
           5.8699745880930045,
           5.8699745880930045,
           5.8699745880930045,
           5.8699745880930045,
           5.8699745880930045,
           5.8699745880930045,
           5.8699745880930045,
           5.8699745880930045,
           5.8699745880930045,
           5.8699745880930045,
           5.8699745880930045,
           5.8699745880930045,
           5.8699745880930045,
           5.8699745880930045,
           5.8699745880930045,
           5.8699745880930045,
           5.8699745880930045
          ],
          [
           7.932822741960223,
           7.932822741960223,
           7.932822741960223,
           7.932822741960223,
           7.932822741960223,
           7.932822741960223,
           7.932822741960223,
           7.932822741960223,
           7.932822741960223,
           7.932822741960223,
           7.932822741960223,
           7.932822741960223,
           7.932822741960223,
           7.932822741960223,
           7.932822741960223,
           7.932822741960223,
           7.932822741960223,
           7.932822741960223,
           7.932822741960223,
           7.932822741960223
          ],
          [
           9.995670895827445,
           9.995670895827445,
           9.995670895827445,
           9.995670895827445,
           9.995670895827445,
           9.995670895827445,
           9.995670895827445,
           9.995670895827445,
           9.995670895827445,
           9.995670895827445,
           9.995670895827445,
           9.995670895827445,
           9.995670895827445,
           9.995670895827445,
           9.995670895827445,
           9.995670895827445,
           9.995670895827445,
           9.995670895827445,
           9.995670895827445,
           9.995670895827445
          ],
          [
           12.058519049694663,
           12.058519049694663,
           12.058519049694663,
           12.058519049694663,
           12.058519049694663,
           12.058519049694663,
           12.058519049694663,
           12.058519049694663,
           12.058519049694663,
           12.058519049694663,
           12.058519049694663,
           12.058519049694663,
           12.058519049694663,
           12.058519049694663,
           12.058519049694663,
           12.058519049694663,
           12.058519049694663,
           12.058519049694663,
           12.058519049694663,
           12.058519049694663
          ],
          [
           14.121367203561885,
           14.121367203561885,
           14.121367203561885,
           14.121367203561885,
           14.121367203561885,
           14.121367203561885,
           14.121367203561885,
           14.121367203561885,
           14.121367203561885,
           14.121367203561885,
           14.121367203561885,
           14.121367203561885,
           14.121367203561885,
           14.121367203561885,
           14.121367203561885,
           14.121367203561885,
           14.121367203561885,
           14.121367203561885,
           14.121367203561885,
           14.121367203561885
          ],
          [
           16.184215357429103,
           16.184215357429103,
           16.184215357429103,
           16.184215357429103,
           16.184215357429103,
           16.184215357429103,
           16.184215357429103,
           16.184215357429103,
           16.184215357429103,
           16.184215357429103,
           16.184215357429103,
           16.184215357429103,
           16.184215357429103,
           16.184215357429103,
           16.184215357429103,
           16.184215357429103,
           16.184215357429103,
           16.184215357429103,
           16.184215357429103,
           16.184215357429103
          ],
          [
           18.247063511296325,
           18.247063511296325,
           18.247063511296325,
           18.247063511296325,
           18.247063511296325,
           18.247063511296325,
           18.247063511296325,
           18.247063511296325,
           18.247063511296325,
           18.247063511296325,
           18.247063511296325,
           18.247063511296325,
           18.247063511296325,
           18.247063511296325,
           18.247063511296325,
           18.247063511296325,
           18.247063511296325,
           18.247063511296325,
           18.247063511296325,
           18.247063511296325
          ],
          [
           20.30991166516354,
           20.30991166516354,
           20.30991166516354,
           20.30991166516354,
           20.30991166516354,
           20.30991166516354,
           20.30991166516354,
           20.30991166516354,
           20.30991166516354,
           20.30991166516354,
           20.30991166516354,
           20.30991166516354,
           20.30991166516354,
           20.30991166516354,
           20.30991166516354,
           20.30991166516354,
           20.30991166516354,
           20.30991166516354,
           20.30991166516354,
           20.30991166516354
          ],
          [
           22.37275981903076,
           22.37275981903076,
           22.37275981903076,
           22.37275981903076,
           22.37275981903076,
           22.37275981903076,
           22.37275981903076,
           22.37275981903076,
           22.37275981903076,
           22.37275981903076,
           22.37275981903076,
           22.37275981903076,
           22.37275981903076,
           22.37275981903076,
           22.37275981903076,
           22.37275981903076,
           22.37275981903076,
           22.37275981903076,
           22.37275981903076,
           22.37275981903076
          ]
         ],
         "z": [
          [
           1465.370496875,
           1227.96521640625,
           1007.260412890625,
           802.4981940429687,
           618.3065587890625,
           456.84616064453127,
           317.82081557617187,
           207.7669333984375,
           132.16629680175782,
           88.06876273193359,
           65.17907912597656,
           53.01876209716797,
           46.60292958984375,
           44.220158813476566,
           44.20925521240235,
           46.05367838745117,
           49.79269212036133,
           55.61335534667969,
           63.91184792480469,
           74.95605015869141
          ],
          [
           1034.09104296875,
           858.1347784179687,
           696.2013025390625,
           546.3793223632813,
           410.26160405273436,
           291.276609765625,
           189.42231708984374,
           112.16871259765625,
           64.60145578613282,
           41.017340869140625,
           30.451757104492188,
           25.711230755615233,
           24.101356518554688,
           24.13442998046875,
           25.310969677734374,
           27.599537744140626,
           31.122709899902343,
           36.18566495361328,
           43.188299096679685,
           52.566219342041016
          ],
          [
           711.6648787109375,
           583.7599517578125,
           467.3285731445313,
           360.94319189453125,
           263.50047119140623,
           177.935314453125,
           105.40140686035156,
           54.29008160400391,
           27.667168634033203,
           17.129927557373048,
           13.603953330993653,
           12.650829434204102,
           12.70941383972168,
           13.395794681549072,
           14.719281414794922,
           16.765818951416016,
           19.632857934570314,
           23.69627480163574,
           29.436975744628906,
           37.31151207275391
          ],
          [
           474.6225704589844,
           384.9094746582031,
           303.5959262695313,
           230.08536359863282,
           163.1188360107422,
           103.41532604980469,
           53.62789711914063,
           22.652392263793946,
           10.34335415802002,
           7.03508111038208,
           6.43591272354126,
           6.484996953582764,
           6.860765355300903,
           7.5522376243591305,
           8.623486611175537,
           10.185794512176514,
           12.401319245910644,
           15.607948040771484,
           20.21876749267578,
           26.887805294799804
          ],
          [
           305.1001365722656,
           243.4810059326172,
           189.16291408691407,
           140.5447552734375,
           96.67205909423828,
           56.814426403808596,
           24.34748844604492,
           7.955813310241699,
           3.8095475158691405,
           3.1627561847686767,
           3.185919441986084,
           3.381638222694397,
           3.7233138202667235,
           4.23843224029541,
           5.011956140136719,
           6.156447980117798,
           7.8184832626342775,
           10.301645338439942,
           14.143075065612793,
           20.071190826416014
          ],
          [
           186.85861689453125,
           147.0838318359375,
           111.85439309082031,
           81.09401148681641,
           53.972497454833984,
           29.157267529296874,
           9.739373696899413,
           2.4834774673461912,
           1.529514742088318,
           1.498609019088745,
           1.6100289772033691,
           1.766617132949829,
           1.9965055327415466,
           2.3445544115543364,
           2.8721346684455873,
           3.673544745826721,
           4.908939720153809,
           6.94562269744873,
           10.386504058837891,
           16.103544271850588
          ],
          [
           106.10262166748046,
           83.24089189453125,
           62.40834447631836,
           43.9122491027832,
           27.897335186767577,
           13.542337687683105,
           3.2706509017944336,
           0.818512564277649,
           0.7012882872581482,
           0.7605248031616211,
           0.8276280527114868,
           0.9154106763839722,
           1.0477384991645813,
           1.2606267224788665,
           1.6027643507003784,
           2.173416341972351,
           3.1788860343933107,
           5.061739227294922,
           8.592376042175292,
           14.633069537353515
          ],
          [
           53.331376721191404,
           42.39432615966797,
           31.814527203369142,
           22.02981596374512,
           13.291802618408203,
           5.625541584777832,
           0.9827153395652771,
           0.3960437434196472,
           0.40971800556182864,
           0.4283530101776123,
           0.43915273718833925,
           0.46739813261032104,
           0.5368118350982666,
           0.6658545284986496,
           0.9018953970432282,
           1.3680579345703126,
           2.3699707183837893,
           4.53651505279541,
           8.624569801330566,
           15.229634259033203
          ],
          [
           31.041572491455078,
           19.4205722946167,
           13.999894548034668,
           9.773724663543701,
           5.771680544281006,
           2.3927101718902586,
           0.6356260437011719,
           0.408573716545105,
           0.39406115918159484,
           0.34941133642196653,
           0.3011737505912781,
           0.2803809391021729,
           0.3036271661043167,
           0.3853512580513954,
           0.5826432111263276,
           1.1179276344299316,
           2.5029715515136717,
           5.409529058074951,
           10.129897988891601,
           17.109812908935545
          ],
          [
           26.05200637817383,
           16.841200903320313,
           9.739855325317382,
           5.14676184463501,
           2.9606168216705324,
           1.7400872072219848,
           1.0223876956939697,
           0.8123057957649231,
           0.7186221427917481,
           0.5750831062793732,
           0.4220548101902008,
           0.31236715259552,
           0.2775652986049652,
           0.34668840837478637,
           0.6703537166595459,
           1.698665636253357,
           3.891284539794922,
           7.321505541992187,
           11.214777784729003,
           16.49281150817871
          ],
          [
           20.80230492401123,
           14.22506382598877,
           8.991063341522217,
           5.216581011581421,
           3.029624396896362,
           2.140591157913208,
           1.7398907238006591,
           1.5554280685424804,
           1.4395753190994263,
           1.257415495491028,
           1.0010938055038452,
           0.7681863046646118,
           0.6957310071945191,
           0.9624519619941712,
           1.7986276788711548,
           2.9607252506256105,
           4.622280130004883,
           7.10420474395752,
           10.648193353271484,
           15.563142309570312
          ],
          [
           17.847713034057616,
           12.197336895751953,
           8.183707662200927,
           5.178532766342163,
           3.2941124500274657,
           2.47422265625,
           2.211961462020874,
           2.108445222091675,
           2.0509674293518065,
           1.9915668655395509,
           1.912591855430603,
           1.8590247705459595,
           1.8409140937805175,
           1.9256995635986327,
           2.356846865463257,
           3.281311498260498,
           4.840009902191162,
           7.209655018615723,
           10.599617208862306,
           15.319002554321289
          ],
          [
           19.384249757385255,
           12.837553094482422,
           8.185229070281983,
           5.166472920227051,
           3.349573657989502,
           2.5578192836761473,
           2.3441623363494872,
           2.2906854343414307,
           2.280924034500122,
           2.2965119583129883,
           2.303831832122803,
           2.3158128650665284,
           2.3501228061676027,
           2.4817355659484863,
           2.882058309555054,
           3.756694144439697,
           5.27416351776123,
           7.600600801086426,
           10.954154537963868,
           15.590310040283203
          ],
          [
           22.335316870117186,
           14.79581320953369,
           9.215867164611817,
           5.533081413269043,
           3.541331297302246,
           2.653155517196655,
           2.3875920608520507,
           2.323966139602661,
           2.3216884017944337,
           2.342044223022461,
           2.3856624675750733,
           2.4632784057617187,
           2.5891966220855713,
           2.8264920902252197,
           3.3076776443481446,
           4.203980828094482,
           5.711007975006104,
           8.029996479797363,
           11.388626318359375,
           16.02231971435547
          ],
          [
           29.960114556884765,
           19.599655653381348,
           12.160724641418456,
           7.254601041412354,
           4.712140521621704,
           3.4532930992126465,
           2.8186971836090087,
           2.5535038555145264,
           2.470659226989746,
           2.4683514820098877,
           2.5447024971008303,
           2.720417309188843,
           3.0068493213653564,
           3.463432441329956,
           4.165417044067383,
           5.221759169769287,
           6.823753729248047,
           9.216594309997559,
           12.625216213989258,
           17.279011508178712
          ],
          [
           44.76523189697266,
           28.93432877807617,
           18.24557014312744,
           10.994386274719238,
           7.656785111999512,
           6.148696241760254,
           4.914456635284424,
           3.901791758346558,
           3.393957678604126,
           3.238555084991455,
           3.1996287200927735,
           3.308943653869629,
           3.694956917190552,
           4.416625583648682,
           5.542666554260254,
           7.146204650115966,
           9.278028723144532,
           12.052634916687012,
           15.74842666015625,
           20.65148768310547
          ],
          [
           67.10688367309571,
           44.31816342163086,
           28.53417124633789,
           18.282046788024903,
           13.39308683013916,
           11.356170202636719,
           9.60153777923584,
           7.807043029785156,
           6.540307062530518,
           5.94515220413208,
           5.6603774749755855,
           5.542429058074951,
           5.685083067321777,
           6.299798893737793,
           7.557932466888428,
           9.578045109558106,
           12.353846208190918,
           15.951623361206055,
           20.373767962646486,
           25.966128314208984
          ],
          [
           100.00626398925782,
           68.95112279052735,
           47.00223590087891,
           31.79134098510742,
           23.122710275268556,
           19.989805993652343,
           17.834193823242188,
           15.456209617614746,
           13.924720010375976,
           12.79362867126465,
           11.92372540588379,
           11.344808209228516,
           11.082706564331055,
           11.289574266052247,
           12.147699111938477,
           13.84537875213623,
           16.704124801635743,
           20.823992138671876,
           26.21407244567871,
           32.7622580871582
          ],
          [
           150.6639005859375,
           108.42454190673828,
           77.09559049682618,
           54.33415584106445,
           39.64020642700196,
           34.22868170166016,
           31.573402587890627,
           29.394127053833007,
           28.063922647094728,
           26.51863711242676,
           24.877342065429687,
           23.455857153320313,
           22.32449794921875,
           21.75497856750488,
           21.975949346923827,
           23.125731408691408,
           25.303770120239257,
           28.851935998535158,
           34.25401848754883,
           41.62773581542969
          ],
          [
           225.16056623535155,
           167.148103515625,
           122.73683872070312,
           89.39412457275391,
           67.21020715942383,
           58.579042327880856,
           55.233661157226564,
           53.383477947998045,
           52.22548424072266,
           50.37739790649414,
           47.923049884033205,
           45.345030883789065,
           42.87214700317383,
           40.86737191772461,
           39.82698764038086,
           40.03375007324219,
           41.518049493408206,
           44.291766400146486,
           48.66027579345703,
           55.20774955444336
          ]
         ]
        },
        {
         "line": {
          "color": "orange"
         },
         "marker": {
          "color": "orange",
          "size": 5
         },
         "mode": "markers+lines",
         "name": "Classic SGD m=0.0",
         "type": "scatter3d",
         "x": [
          -3.75665020942688,
          -3.756622076034546,
          -3.571012020111084,
          -3.4162697792053223,
          -3.416034460067749,
          -3.2988502979278564,
          -3.1958577632904053,
          -3.1956045627593994,
          -3.10146164894104,
          -3.015401840209961,
          -3.015406608581543,
          -2.9350364208221436,
          -2.8551299571990967,
          -2.8546500205993652,
          -2.778590440750122,
          -2.7047364711761475,
          -2.704780340194702,
          -2.6314964294433594,
          -2.556771755218506,
          -2.556570053100586,
          -2.488851308822632,
          -2.421684980392456,
          -2.4213168621063232,
          -2.3553647994995117,
          -2.28922176361084,
          -2.289184331893921,
          -2.2270026206970215,
          -2.166707992553711,
          -2.16667103767395,
          -2.1024327278137207,
          -2.044956684112549
         ],
         "y": [
          3.0952539443969727,
          3.095210313796997,
          2.5455596446990967,
          2.117783546447754,
          2.117326259613037,
          1.7870001792907715,
          1.476723074913025,
          1.4764692783355713,
          1.2044018507003784,
          0.9412977695465088,
          0.9413965940475464,
          0.6992313861846924,
          0.478825181722641,
          0.4782642126083374,
          0.2714520990848541,
          0.075055792927742,
          0.0749533474445343,
          -0.1052592471241951,
          -0.26691409945487976,
          -0.26673510670661926,
          -0.41996338963508606,
          -0.5567799806594849,
          -0.55706787109375,
          -0.6849061250686646,
          -0.8109833598136902,
          -0.8111147284507751,
          -0.9279406666755676,
          -1.0258476734161377,
          -1.0257353782653809,
          -1.134840965270996,
          -1.223846673965454
         ],
         "z": [
          2.250978154373169,
          2.250942544555664,
          1.304236987876892,
          0.7419701807022094,
          0.7414701126098633,
          0.5917323077201844,
          0.5351646683216095,
          0.535127580499649,
          0.5117787858009338,
          0.49502304611206055,
          0.4949578327178955,
          0.47873003039360046,
          0.4601061384677887,
          0.4602062426567078,
          0.44077357406616213,
          0.4191720121383667,
          0.4190776580810547,
          0.400792231464386,
          0.38567316017150877,
          0.3856341205596924,
          0.37292269067764283,
          0.3646513846874237,
          0.36464363412857054,
          0.3594166454315186,
          0.35676661310195923,
          0.35676452527046204,
          0.3567438283443451,
          0.35891508998870847,
          0.35890192375183105,
          0.3622790039539337,
          0.36799924488067626
         ]
        },
        {
         "line": {
          "color": "green"
         },
         "marker": {
          "color": "green",
          "size": 5
         },
         "mode": "markers+lines",
         "name": "Classic SGD m=0.5",
         "type": "scatter3d",
         "x": [
          -3.75665020942688,
          -3.756622076034546,
          -3.37961745262146,
          -3.1221630573272705,
          -3.121987819671631,
          -2.9112462997436523,
          -2.7176942825317383,
          -2.717470407485962,
          -2.5316684246063232,
          -2.3584163188934326,
          -2.3584117889404297,
          -2.1966822147369385,
          -2.0343446731567383,
          -2.034210205078125,
          -1.8878334760665894,
          -1.738871455192566,
          -1.7386306524276733,
          -1.5961986780166626,
          -1.4675031900405884,
          -1.4673285484313965,
          -1.3442963361740112,
          -1.2286614179611206,
          -1.2284234762191772,
          -1.1106650829315186,
          -1.0016835927963257,
          -1.0015827417373657,
          -0.8988319039344788,
          -0.8027734756469727,
          -0.8027416467666626,
          -0.7022556662559509,
          -0.6067836880683899
         ],
         "y": [
          3.095254898071289,
          3.0952115058898926,
          2.1006717681884766,
          1.4367942810058594,
          1.4360402822494507,
          0.8793088793754578,
          0.3753625452518463,
          0.3750057816505432,
          -0.04889364540576935,
          -0.4323514699935913,
          -0.4325006604194641,
          -0.7514755725860596,
          -1.030418872833252,
          -1.0309678316116333,
          -1.279052495956421,
          -1.5042963027954102,
          -1.5041526556015015,
          -1.7002124786376953,
          -1.8606544733047485,
          -1.860713243484497,
          -2.0137081146240234,
          -2.1456563472747803,
          -2.145878791809082,
          -2.2706642150878906,
          -2.381937265396118,
          -2.3822360038757324,
          -2.4822463989257812,
          -2.55708909034729,
          -2.5567739009857178,
          -2.649127960205078,
          -2.7146780490875244
         ],
         "z": [
          2.239166811752319,
          2.2391398563385008,
          1.1308091161727905,
          0.6284669036865235,
          0.6279704149246216,
          0.4832012341499329,
          0.44210836129188535,
          0.44209218645095827,
          0.42916130867004393,
          0.41840633745193484,
          0.41837119245529175,
          0.40565217647552493,
          0.3895599927902222,
          0.3896177519798279,
          0.3741384395122528,
          0.3578683097839355,
          0.35774420971870424,
          0.3428659127235413,
          0.3296150824546814,
          0.32959556074142454,
          0.3190479410171509,
          0.3108266918182373,
          0.3108271842956543,
          0.3061356107711792,
          0.30367718634605406,
          0.3036746409893036,
          0.3036670934200287,
          0.30669426155090335,
          0.3067147231578827,
          0.3105881433963776,
          0.31798785614967345
         ]
        },
        {
         "line": {
          "color": "blue"
         },
         "marker": {
          "color": "blue",
          "size": 5
         },
         "mode": "markers+lines",
         "name": "Classic SGD m=0.9",
         "type": "scatter3d",
         "x": [
          -3.75665020942688,
          -3.756622076034546,
          -1.749680995941162,
          -0.2767646908760071,
          -0.2757994830608368,
          0.9171505570411682,
          1.8998135328292847,
          1.9006967544555664,
          2.7655510902404785,
          3.5099520683288574,
          3.510524034500122,
          4.1570563316345215,
          4.763258934020996,
          4.763851642608643,
          5.317317008972168,
          5.825769424438477,
          5.826007843017578,
          6.299793243408203,
          6.720221996307373,
          6.72068452835083,
          7.121212959289551,
          7.499518394470215,
          7.50034236907959,
          7.863943099975586,
          8.19696044921875,
          8.197127342224121,
          8.511456489562988,
          8.779817581176758,
          8.779706001281738,
          9.072296142578125,
          9.30805492401123
         ],
         "y": [
          3.095254898071289,
          3.0952115058898926,
          0.6638000011444092,
          -0.1168702244758606,
          -0.11772835999727249,
          -0.37495794892311096,
          -0.4499071538448334,
          -0.45035961270332336,
          -0.4074619710445404,
          -0.3364787697792053,
          -0.3365303874015808,
          -0.2548612058162689,
          -0.1105899065732956,
          -0.11029572784900665,
          0.029599757865071297,
          0.09915077686309814,
          0.10023918747901917,
          0.24163129925727844,
          0.4059474766254425,
          0.40586423873901367,
          0.4921703636646271,
          0.6080703139305115,
          0.6078194975852966,
          0.6832103729248047,
          0.7892199158668518,
          0.7887765169143677,
          0.8566348552703857,
          0.9648787975311279,
          0.9663106799125671,
          0.9951398372650146,
          1.0608781576156616
         ],
         "z": [
          2.200052585220337,
          2.2000414680480955,
          1.0884704252243043,
          0.4875048149585724,
          0.48713009157180787,
          0.34596853761672974,
          0.3140482313632965,
          0.3140339825630188,
          0.3083934950351715,
          0.3081808994293213,
          0.3081854496002197,
          0.30621067962646487,
          0.30134439764022825,
          0.3013287661552429,
          0.2943657351493835,
          0.2885720260620117,
          0.2885248250484467,
          0.2794232446193695,
          0.27031675462722776,
          0.27032317736148836,
          0.26416294581890104,
          0.25835617277622225,
          0.25836217133998873,
          0.25490330612659456,
          0.25200493203401564,
          0.2520092895388603,
          0.2508766501903534,
          0.2506128384709358,
          0.250613943362236,
          0.25148513561487196,
          0.2529703966617584
         ]
        },
        {
         "marker": {
          "color": "red",
          "size": 5
         },
         "mode": "markers",
         "name": "global minimum",
         "type": "scatter3d",
         "x": [
          7.932822741960223
         ],
         "y": [
          1.7442782803585644
         ],
         "z": [
          0.2775652986049652
         ]
        }
       ],
       "layout": {
        "coloraxis": {
         "cmax": 3.1659474433969463,
         "cmin": -0.5566348306033799,
         "colorbar": {
          "title": {
           "text": "Loss magnitude"
          }
         },
         "colorscale": [
          [
           0,
           "#440154"
          ],
          [
           0.1111111111111111,
           "#482878"
          ],
          [
           0.2222222222222222,
           "#3e4989"
          ],
          [
           0.3333333333333333,
           "#31688e"
          ],
          [
           0.4444444444444444,
           "#26828e"
          ],
          [
           0.5555555555555556,
           "#1f9e89"
          ],
          [
           0.6666666666666666,
           "#35b779"
          ],
          [
           0.7777777777777778,
           "#6ece58"
          ],
          [
           0.8888888888888888,
           "#b5de2b"
          ],
          [
           1,
           "#fde725"
          ]
         ]
        },
        "legend": {
         "orientation": "v",
         "x": 0,
         "y": 0.5
        },
        "scene": {
         "xaxis": {
          "title": {
           "text": "PC1"
          }
         },
         "yaxis": {
          "title": {
           "text": "PC2"
          }
         },
         "zaxis": {
          "title": {
           "text": " Loss"
          },
          "type": "log"
         }
        },
        "template": {
         "data": {
          "bar": [
           {
            "error_x": {
             "color": "#2a3f5f"
            },
            "error_y": {
             "color": "#2a3f5f"
            },
            "marker": {
             "line": {
              "color": "#E5ECF6",
              "width": 0.5
             },
             "pattern": {
              "fillmode": "overlay",
              "size": 10,
              "solidity": 0.2
             }
            },
            "type": "bar"
           }
          ],
          "barpolar": [
           {
            "marker": {
             "line": {
              "color": "#E5ECF6",
              "width": 0.5
             },
             "pattern": {
              "fillmode": "overlay",
              "size": 10,
              "solidity": 0.2
             }
            },
            "type": "barpolar"
           }
          ],
          "carpet": [
           {
            "aaxis": {
             "endlinecolor": "#2a3f5f",
             "gridcolor": "white",
             "linecolor": "white",
             "minorgridcolor": "white",
             "startlinecolor": "#2a3f5f"
            },
            "baxis": {
             "endlinecolor": "#2a3f5f",
             "gridcolor": "white",
             "linecolor": "white",
             "minorgridcolor": "white",
             "startlinecolor": "#2a3f5f"
            },
            "type": "carpet"
           }
          ],
          "choropleth": [
           {
            "colorbar": {
             "outlinewidth": 0,
             "ticks": ""
            },
            "type": "choropleth"
           }
          ],
          "contour": [
           {
            "colorbar": {
             "outlinewidth": 0,
             "ticks": ""
            },
            "colorscale": [
             [
              0,
              "#0d0887"
             ],
             [
              0.1111111111111111,
              "#46039f"
             ],
             [
              0.2222222222222222,
              "#7201a8"
             ],
             [
              0.3333333333333333,
              "#9c179e"
             ],
             [
              0.4444444444444444,
              "#bd3786"
             ],
             [
              0.5555555555555556,
              "#d8576b"
             ],
             [
              0.6666666666666666,
              "#ed7953"
             ],
             [
              0.7777777777777778,
              "#fb9f3a"
             ],
             [
              0.8888888888888888,
              "#fdca26"
             ],
             [
              1,
              "#f0f921"
             ]
            ],
            "type": "contour"
           }
          ],
          "contourcarpet": [
           {
            "colorbar": {
             "outlinewidth": 0,
             "ticks": ""
            },
            "type": "contourcarpet"
           }
          ],
          "heatmap": [
           {
            "colorbar": {
             "outlinewidth": 0,
             "ticks": ""
            },
            "colorscale": [
             [
              0,
              "#0d0887"
             ],
             [
              0.1111111111111111,
              "#46039f"
             ],
             [
              0.2222222222222222,
              "#7201a8"
             ],
             [
              0.3333333333333333,
              "#9c179e"
             ],
             [
              0.4444444444444444,
              "#bd3786"
             ],
             [
              0.5555555555555556,
              "#d8576b"
             ],
             [
              0.6666666666666666,
              "#ed7953"
             ],
             [
              0.7777777777777778,
              "#fb9f3a"
             ],
             [
              0.8888888888888888,
              "#fdca26"
             ],
             [
              1,
              "#f0f921"
             ]
            ],
            "type": "heatmap"
           }
          ],
          "heatmapgl": [
           {
            "colorbar": {
             "outlinewidth": 0,
             "ticks": ""
            },
            "colorscale": [
             [
              0,
              "#0d0887"
             ],
             [
              0.1111111111111111,
              "#46039f"
             ],
             [
              0.2222222222222222,
              "#7201a8"
             ],
             [
              0.3333333333333333,
              "#9c179e"
             ],
             [
              0.4444444444444444,
              "#bd3786"
             ],
             [
              0.5555555555555556,
              "#d8576b"
             ],
             [
              0.6666666666666666,
              "#ed7953"
             ],
             [
              0.7777777777777778,
              "#fb9f3a"
             ],
             [
              0.8888888888888888,
              "#fdca26"
             ],
             [
              1,
              "#f0f921"
             ]
            ],
            "type": "heatmapgl"
           }
          ],
          "histogram": [
           {
            "marker": {
             "pattern": {
              "fillmode": "overlay",
              "size": 10,
              "solidity": 0.2
             }
            },
            "type": "histogram"
           }
          ],
          "histogram2d": [
           {
            "colorbar": {
             "outlinewidth": 0,
             "ticks": ""
            },
            "colorscale": [
             [
              0,
              "#0d0887"
             ],
             [
              0.1111111111111111,
              "#46039f"
             ],
             [
              0.2222222222222222,
              "#7201a8"
             ],
             [
              0.3333333333333333,
              "#9c179e"
             ],
             [
              0.4444444444444444,
              "#bd3786"
             ],
             [
              0.5555555555555556,
              "#d8576b"
             ],
             [
              0.6666666666666666,
              "#ed7953"
             ],
             [
              0.7777777777777778,
              "#fb9f3a"
             ],
             [
              0.8888888888888888,
              "#fdca26"
             ],
             [
              1,
              "#f0f921"
             ]
            ],
            "type": "histogram2d"
           }
          ],
          "histogram2dcontour": [
           {
            "colorbar": {
             "outlinewidth": 0,
             "ticks": ""
            },
            "colorscale": [
             [
              0,
              "#0d0887"
             ],
             [
              0.1111111111111111,
              "#46039f"
             ],
             [
              0.2222222222222222,
              "#7201a8"
             ],
             [
              0.3333333333333333,
              "#9c179e"
             ],
             [
              0.4444444444444444,
              "#bd3786"
             ],
             [
              0.5555555555555556,
              "#d8576b"
             ],
             [
              0.6666666666666666,
              "#ed7953"
             ],
             [
              0.7777777777777778,
              "#fb9f3a"
             ],
             [
              0.8888888888888888,
              "#fdca26"
             ],
             [
              1,
              "#f0f921"
             ]
            ],
            "type": "histogram2dcontour"
           }
          ],
          "mesh3d": [
           {
            "colorbar": {
             "outlinewidth": 0,
             "ticks": ""
            },
            "type": "mesh3d"
           }
          ],
          "parcoords": [
           {
            "line": {
             "colorbar": {
              "outlinewidth": 0,
              "ticks": ""
             }
            },
            "type": "parcoords"
           }
          ],
          "pie": [
           {
            "automargin": true,
            "type": "pie"
           }
          ],
          "scatter": [
           {
            "fillpattern": {
             "fillmode": "overlay",
             "size": 10,
             "solidity": 0.2
            },
            "type": "scatter"
           }
          ],
          "scatter3d": [
           {
            "line": {
             "colorbar": {
              "outlinewidth": 0,
              "ticks": ""
             }
            },
            "marker": {
             "colorbar": {
              "outlinewidth": 0,
              "ticks": ""
             }
            },
            "type": "scatter3d"
           }
          ],
          "scattercarpet": [
           {
            "marker": {
             "colorbar": {
              "outlinewidth": 0,
              "ticks": ""
             }
            },
            "type": "scattercarpet"
           }
          ],
          "scattergeo": [
           {
            "marker": {
             "colorbar": {
              "outlinewidth": 0,
              "ticks": ""
             }
            },
            "type": "scattergeo"
           }
          ],
          "scattergl": [
           {
            "marker": {
             "colorbar": {
              "outlinewidth": 0,
              "ticks": ""
             }
            },
            "type": "scattergl"
           }
          ],
          "scattermapbox": [
           {
            "marker": {
             "colorbar": {
              "outlinewidth": 0,
              "ticks": ""
             }
            },
            "type": "scattermapbox"
           }
          ],
          "scatterpolar": [
           {
            "marker": {
             "colorbar": {
              "outlinewidth": 0,
              "ticks": ""
             }
            },
            "type": "scatterpolar"
           }
          ],
          "scatterpolargl": [
           {
            "marker": {
             "colorbar": {
              "outlinewidth": 0,
              "ticks": ""
             }
            },
            "type": "scatterpolargl"
           }
          ],
          "scatterternary": [
           {
            "marker": {
             "colorbar": {
              "outlinewidth": 0,
              "ticks": ""
             }
            },
            "type": "scatterternary"
           }
          ],
          "surface": [
           {
            "colorbar": {
             "outlinewidth": 0,
             "ticks": ""
            },
            "colorscale": [
             [
              0,
              "#0d0887"
             ],
             [
              0.1111111111111111,
              "#46039f"
             ],
             [
              0.2222222222222222,
              "#7201a8"
             ],
             [
              0.3333333333333333,
              "#9c179e"
             ],
             [
              0.4444444444444444,
              "#bd3786"
             ],
             [
              0.5555555555555556,
              "#d8576b"
             ],
             [
              0.6666666666666666,
              "#ed7953"
             ],
             [
              0.7777777777777778,
              "#fb9f3a"
             ],
             [
              0.8888888888888888,
              "#fdca26"
             ],
             [
              1,
              "#f0f921"
             ]
            ],
            "type": "surface"
           }
          ],
          "table": [
           {
            "cells": {
             "fill": {
              "color": "#EBF0F8"
             },
             "line": {
              "color": "white"
             }
            },
            "header": {
             "fill": {
              "color": "#C8D4E3"
             },
             "line": {
              "color": "white"
             }
            },
            "type": "table"
           }
          ]
         },
         "layout": {
          "annotationdefaults": {
           "arrowcolor": "#2a3f5f",
           "arrowhead": 0,
           "arrowwidth": 1
          },
          "autotypenumbers": "strict",
          "coloraxis": {
           "colorbar": {
            "outlinewidth": 0,
            "ticks": ""
           }
          },
          "colorscale": {
           "diverging": [
            [
             0,
             "#8e0152"
            ],
            [
             0.1,
             "#c51b7d"
            ],
            [
             0.2,
             "#de77ae"
            ],
            [
             0.3,
             "#f1b6da"
            ],
            [
             0.4,
             "#fde0ef"
            ],
            [
             0.5,
             "#f7f7f7"
            ],
            [
             0.6,
             "#e6f5d0"
            ],
            [
             0.7,
             "#b8e186"
            ],
            [
             0.8,
             "#7fbc41"
            ],
            [
             0.9,
             "#4d9221"
            ],
            [
             1,
             "#276419"
            ]
           ],
           "sequential": [
            [
             0,
             "#0d0887"
            ],
            [
             0.1111111111111111,
             "#46039f"
            ],
            [
             0.2222222222222222,
             "#7201a8"
            ],
            [
             0.3333333333333333,
             "#9c179e"
            ],
            [
             0.4444444444444444,
             "#bd3786"
            ],
            [
             0.5555555555555556,
             "#d8576b"
            ],
            [
             0.6666666666666666,
             "#ed7953"
            ],
            [
             0.7777777777777778,
             "#fb9f3a"
            ],
            [
             0.8888888888888888,
             "#fdca26"
            ],
            [
             1,
             "#f0f921"
            ]
           ],
           "sequentialminus": [
            [
             0,
             "#0d0887"
            ],
            [
             0.1111111111111111,
             "#46039f"
            ],
            [
             0.2222222222222222,
             "#7201a8"
            ],
            [
             0.3333333333333333,
             "#9c179e"
            ],
            [
             0.4444444444444444,
             "#bd3786"
            ],
            [
             0.5555555555555556,
             "#d8576b"
            ],
            [
             0.6666666666666666,
             "#ed7953"
            ],
            [
             0.7777777777777778,
             "#fb9f3a"
            ],
            [
             0.8888888888888888,
             "#fdca26"
            ],
            [
             1,
             "#f0f921"
            ]
           ]
          },
          "colorway": [
           "#636efa",
           "#EF553B",
           "#00cc96",
           "#ab63fa",
           "#FFA15A",
           "#19d3f3",
           "#FF6692",
           "#B6E880",
           "#FF97FF",
           "#FECB52"
          ],
          "font": {
           "color": "#2a3f5f"
          },
          "geo": {
           "bgcolor": "white",
           "lakecolor": "white",
           "landcolor": "#E5ECF6",
           "showlakes": true,
           "showland": true,
           "subunitcolor": "white"
          },
          "hoverlabel": {
           "align": "left"
          },
          "hovermode": "closest",
          "mapbox": {
           "style": "light"
          },
          "paper_bgcolor": "white",
          "plot_bgcolor": "#E5ECF6",
          "polar": {
           "angularaxis": {
            "gridcolor": "white",
            "linecolor": "white",
            "ticks": ""
           },
           "bgcolor": "#E5ECF6",
           "radialaxis": {
            "gridcolor": "white",
            "linecolor": "white",
            "ticks": ""
           }
          },
          "scene": {
           "xaxis": {
            "backgroundcolor": "#E5ECF6",
            "gridcolor": "white",
            "gridwidth": 2,
            "linecolor": "white",
            "showbackground": true,
            "ticks": "",
            "zerolinecolor": "white"
           },
           "yaxis": {
            "backgroundcolor": "#E5ECF6",
            "gridcolor": "white",
            "gridwidth": 2,
            "linecolor": "white",
            "showbackground": true,
            "ticks": "",
            "zerolinecolor": "white"
           },
           "zaxis": {
            "backgroundcolor": "#E5ECF6",
            "gridcolor": "white",
            "gridwidth": 2,
            "linecolor": "white",
            "showbackground": true,
            "ticks": "",
            "zerolinecolor": "white"
           }
          },
          "shapedefaults": {
           "line": {
            "color": "#2a3f5f"
           }
          },
          "ternary": {
           "aaxis": {
            "gridcolor": "white",
            "linecolor": "white",
            "ticks": ""
           },
           "baxis": {
            "gridcolor": "white",
            "linecolor": "white",
            "ticks": ""
           },
           "bgcolor": "#E5ECF6",
           "caxis": {
            "gridcolor": "white",
            "linecolor": "white",
            "ticks": ""
           }
          },
          "title": {
           "x": 0.05
          },
          "xaxis": {
           "automargin": true,
           "gridcolor": "white",
           "linecolor": "white",
           "ticks": "",
           "title": {
            "standoff": 15
           },
           "zerolinecolor": "white",
           "zerolinewidth": 2
          },
          "yaxis": {
           "automargin": true,
           "gridcolor": "white",
           "linecolor": "white",
           "ticks": "",
           "title": {
            "standoff": 15
           },
           "zerolinecolor": "white",
           "zerolinewidth": 2
          }
         }
        }
       }
      },
      "text/html": [
       "<div>                            <div id=\"5eb6e1a9-95d5-458e-a654-7bf2f76f5e5b\" class=\"plotly-graph-div\" style=\"height:525px; width:100%;\"></div>            <script type=\"text/javascript\">                require([\"plotly\"], function(Plotly) {                    window.PLOTLYENV=window.PLOTLYENV || {};                                    if (document.getElementById(\"5eb6e1a9-95d5-458e-a654-7bf2f76f5e5b\")) {                    Plotly.newPlot(                        \"5eb6e1a9-95d5-458e-a654-7bf2f76f5e5b\",                        [{\"coloraxis\":\"coloraxis\",\"colorscale\":[[0.0,\"#440154\"],[0.1111111111111111,\"#482878\"],[0.2222222222222222,\"#3e4989\"],[0.3333333333333333,\"#31688e\"],[0.4444444444444444,\"#26828e\"],[0.5555555555555556,\"#1f9e89\"],[0.6666666666666666,\"#35b779\"],[0.7777777777777778,\"#6ece58\"],[0.8888888888888888,\"#b5de2b\"],[1.0,\"#fde725\"]],\"name\":\"grid point\",\"opacity\":0.8,\"x\":[[-16.82135510444641,-14.758506950579191,-12.695658796711971,-10.632810642844753,-8.569962488977533,-6.5071143351103125,-4.444266181243094,-2.381418027375874,-0.31856987350865396,1.7442782803585644,3.8071264342257862,5.8699745880930045,7.932822741960223,9.995670895827445,12.058519049694663,14.121367203561885,16.184215357429103,18.247063511296325,20.30991166516354,22.37275981903076],[-16.82135510444641,-14.758506950579191,-12.695658796711971,-10.632810642844753,-8.569962488977533,-6.5071143351103125,-4.444266181243094,-2.381418027375874,-0.31856987350865396,1.7442782803585644,3.8071264342257862,5.8699745880930045,7.932822741960223,9.995670895827445,12.058519049694663,14.121367203561885,16.184215357429103,18.247063511296325,20.30991166516354,22.37275981903076],[-16.82135510444641,-14.758506950579191,-12.695658796711971,-10.632810642844753,-8.569962488977533,-6.5071143351103125,-4.444266181243094,-2.381418027375874,-0.31856987350865396,1.7442782803585644,3.8071264342257862,5.8699745880930045,7.932822741960223,9.995670895827445,12.058519049694663,14.121367203561885,16.184215357429103,18.247063511296325,20.30991166516354,22.37275981903076],[-16.82135510444641,-14.758506950579191,-12.695658796711971,-10.632810642844753,-8.569962488977533,-6.5071143351103125,-4.444266181243094,-2.381418027375874,-0.31856987350865396,1.7442782803585644,3.8071264342257862,5.8699745880930045,7.932822741960223,9.995670895827445,12.058519049694663,14.121367203561885,16.184215357429103,18.247063511296325,20.30991166516354,22.37275981903076],[-16.82135510444641,-14.758506950579191,-12.695658796711971,-10.632810642844753,-8.569962488977533,-6.5071143351103125,-4.444266181243094,-2.381418027375874,-0.31856987350865396,1.7442782803585644,3.8071264342257862,5.8699745880930045,7.932822741960223,9.995670895827445,12.058519049694663,14.121367203561885,16.184215357429103,18.247063511296325,20.30991166516354,22.37275981903076],[-16.82135510444641,-14.758506950579191,-12.695658796711971,-10.632810642844753,-8.569962488977533,-6.5071143351103125,-4.444266181243094,-2.381418027375874,-0.31856987350865396,1.7442782803585644,3.8071264342257862,5.8699745880930045,7.932822741960223,9.995670895827445,12.058519049694663,14.121367203561885,16.184215357429103,18.247063511296325,20.30991166516354,22.37275981903076],[-16.82135510444641,-14.758506950579191,-12.695658796711971,-10.632810642844753,-8.569962488977533,-6.5071143351103125,-4.444266181243094,-2.381418027375874,-0.31856987350865396,1.7442782803585644,3.8071264342257862,5.8699745880930045,7.932822741960223,9.995670895827445,12.058519049694663,14.121367203561885,16.184215357429103,18.247063511296325,20.30991166516354,22.37275981903076],[-16.82135510444641,-14.758506950579191,-12.695658796711971,-10.632810642844753,-8.569962488977533,-6.5071143351103125,-4.444266181243094,-2.381418027375874,-0.31856987350865396,1.7442782803585644,3.8071264342257862,5.8699745880930045,7.932822741960223,9.995670895827445,12.058519049694663,14.121367203561885,16.184215357429103,18.247063511296325,20.30991166516354,22.37275981903076],[-16.82135510444641,-14.758506950579191,-12.695658796711971,-10.632810642844753,-8.569962488977533,-6.5071143351103125,-4.444266181243094,-2.381418027375874,-0.31856987350865396,1.7442782803585644,3.8071264342257862,5.8699745880930045,7.932822741960223,9.995670895827445,12.058519049694663,14.121367203561885,16.184215357429103,18.247063511296325,20.30991166516354,22.37275981903076],[-16.82135510444641,-14.758506950579191,-12.695658796711971,-10.632810642844753,-8.569962488977533,-6.5071143351103125,-4.444266181243094,-2.381418027375874,-0.31856987350865396,1.7442782803585644,3.8071264342257862,5.8699745880930045,7.932822741960223,9.995670895827445,12.058519049694663,14.121367203561885,16.184215357429103,18.247063511296325,20.30991166516354,22.37275981903076],[-16.82135510444641,-14.758506950579191,-12.695658796711971,-10.632810642844753,-8.569962488977533,-6.5071143351103125,-4.444266181243094,-2.381418027375874,-0.31856987350865396,1.7442782803585644,3.8071264342257862,5.8699745880930045,7.932822741960223,9.995670895827445,12.058519049694663,14.121367203561885,16.184215357429103,18.247063511296325,20.30991166516354,22.37275981903076],[-16.82135510444641,-14.758506950579191,-12.695658796711971,-10.632810642844753,-8.569962488977533,-6.5071143351103125,-4.444266181243094,-2.381418027375874,-0.31856987350865396,1.7442782803585644,3.8071264342257862,5.8699745880930045,7.932822741960223,9.995670895827445,12.058519049694663,14.121367203561885,16.184215357429103,18.247063511296325,20.30991166516354,22.37275981903076],[-16.82135510444641,-14.758506950579191,-12.695658796711971,-10.632810642844753,-8.569962488977533,-6.5071143351103125,-4.444266181243094,-2.381418027375874,-0.31856987350865396,1.7442782803585644,3.8071264342257862,5.8699745880930045,7.932822741960223,9.995670895827445,12.058519049694663,14.121367203561885,16.184215357429103,18.247063511296325,20.30991166516354,22.37275981903076],[-16.82135510444641,-14.758506950579191,-12.695658796711971,-10.632810642844753,-8.569962488977533,-6.5071143351103125,-4.444266181243094,-2.381418027375874,-0.31856987350865396,1.7442782803585644,3.8071264342257862,5.8699745880930045,7.932822741960223,9.995670895827445,12.058519049694663,14.121367203561885,16.184215357429103,18.247063511296325,20.30991166516354,22.37275981903076],[-16.82135510444641,-14.758506950579191,-12.695658796711971,-10.632810642844753,-8.569962488977533,-6.5071143351103125,-4.444266181243094,-2.381418027375874,-0.31856987350865396,1.7442782803585644,3.8071264342257862,5.8699745880930045,7.932822741960223,9.995670895827445,12.058519049694663,14.121367203561885,16.184215357429103,18.247063511296325,20.30991166516354,22.37275981903076],[-16.82135510444641,-14.758506950579191,-12.695658796711971,-10.632810642844753,-8.569962488977533,-6.5071143351103125,-4.444266181243094,-2.381418027375874,-0.31856987350865396,1.7442782803585644,3.8071264342257862,5.8699745880930045,7.932822741960223,9.995670895827445,12.058519049694663,14.121367203561885,16.184215357429103,18.247063511296325,20.30991166516354,22.37275981903076],[-16.82135510444641,-14.758506950579191,-12.695658796711971,-10.632810642844753,-8.569962488977533,-6.5071143351103125,-4.444266181243094,-2.381418027375874,-0.31856987350865396,1.7442782803585644,3.8071264342257862,5.8699745880930045,7.932822741960223,9.995670895827445,12.058519049694663,14.121367203561885,16.184215357429103,18.247063511296325,20.30991166516354,22.37275981903076],[-16.82135510444641,-14.758506950579191,-12.695658796711971,-10.632810642844753,-8.569962488977533,-6.5071143351103125,-4.444266181243094,-2.381418027375874,-0.31856987350865396,1.7442782803585644,3.8071264342257862,5.8699745880930045,7.932822741960223,9.995670895827445,12.058519049694663,14.121367203561885,16.184215357429103,18.247063511296325,20.30991166516354,22.37275981903076],[-16.82135510444641,-14.758506950579191,-12.695658796711971,-10.632810642844753,-8.569962488977533,-6.5071143351103125,-4.444266181243094,-2.381418027375874,-0.31856987350865396,1.7442782803585644,3.8071264342257862,5.8699745880930045,7.932822741960223,9.995670895827445,12.058519049694663,14.121367203561885,16.184215357429103,18.247063511296325,20.30991166516354,22.37275981903076],[-16.82135510444641,-14.758506950579191,-12.695658796711971,-10.632810642844753,-8.569962488977533,-6.5071143351103125,-4.444266181243094,-2.381418027375874,-0.31856987350865396,1.7442782803585644,3.8071264342257862,5.8699745880930045,7.932822741960223,9.995670895827445,12.058519049694663,14.121367203561885,16.184215357429103,18.247063511296325,20.30991166516354,22.37275981903076]],\"y\":[[-16.82135510444641,-16.82135510444641,-16.82135510444641,-16.82135510444641,-16.82135510444641,-16.82135510444641,-16.82135510444641,-16.82135510444641,-16.82135510444641,-16.82135510444641,-16.82135510444641,-16.82135510444641,-16.82135510444641,-16.82135510444641,-16.82135510444641,-16.82135510444641,-16.82135510444641,-16.82135510444641,-16.82135510444641,-16.82135510444641],[-14.758506950579191,-14.758506950579191,-14.758506950579191,-14.758506950579191,-14.758506950579191,-14.758506950579191,-14.758506950579191,-14.758506950579191,-14.758506950579191,-14.758506950579191,-14.758506950579191,-14.758506950579191,-14.758506950579191,-14.758506950579191,-14.758506950579191,-14.758506950579191,-14.758506950579191,-14.758506950579191,-14.758506950579191,-14.758506950579191],[-12.695658796711971,-12.695658796711971,-12.695658796711971,-12.695658796711971,-12.695658796711971,-12.695658796711971,-12.695658796711971,-12.695658796711971,-12.695658796711971,-12.695658796711971,-12.695658796711971,-12.695658796711971,-12.695658796711971,-12.695658796711971,-12.695658796711971,-12.695658796711971,-12.695658796711971,-12.695658796711971,-12.695658796711971,-12.695658796711971],[-10.632810642844753,-10.632810642844753,-10.632810642844753,-10.632810642844753,-10.632810642844753,-10.632810642844753,-10.632810642844753,-10.632810642844753,-10.632810642844753,-10.632810642844753,-10.632810642844753,-10.632810642844753,-10.632810642844753,-10.632810642844753,-10.632810642844753,-10.632810642844753,-10.632810642844753,-10.632810642844753,-10.632810642844753,-10.632810642844753],[-8.569962488977533,-8.569962488977533,-8.569962488977533,-8.569962488977533,-8.569962488977533,-8.569962488977533,-8.569962488977533,-8.569962488977533,-8.569962488977533,-8.569962488977533,-8.569962488977533,-8.569962488977533,-8.569962488977533,-8.569962488977533,-8.569962488977533,-8.569962488977533,-8.569962488977533,-8.569962488977533,-8.569962488977533,-8.569962488977533],[-6.5071143351103125,-6.5071143351103125,-6.5071143351103125,-6.5071143351103125,-6.5071143351103125,-6.5071143351103125,-6.5071143351103125,-6.5071143351103125,-6.5071143351103125,-6.5071143351103125,-6.5071143351103125,-6.5071143351103125,-6.5071143351103125,-6.5071143351103125,-6.5071143351103125,-6.5071143351103125,-6.5071143351103125,-6.5071143351103125,-6.5071143351103125,-6.5071143351103125],[-4.444266181243094,-4.444266181243094,-4.444266181243094,-4.444266181243094,-4.444266181243094,-4.444266181243094,-4.444266181243094,-4.444266181243094,-4.444266181243094,-4.444266181243094,-4.444266181243094,-4.444266181243094,-4.444266181243094,-4.444266181243094,-4.444266181243094,-4.444266181243094,-4.444266181243094,-4.444266181243094,-4.444266181243094,-4.444266181243094],[-2.381418027375874,-2.381418027375874,-2.381418027375874,-2.381418027375874,-2.381418027375874,-2.381418027375874,-2.381418027375874,-2.381418027375874,-2.381418027375874,-2.381418027375874,-2.381418027375874,-2.381418027375874,-2.381418027375874,-2.381418027375874,-2.381418027375874,-2.381418027375874,-2.381418027375874,-2.381418027375874,-2.381418027375874,-2.381418027375874],[-0.31856987350865396,-0.31856987350865396,-0.31856987350865396,-0.31856987350865396,-0.31856987350865396,-0.31856987350865396,-0.31856987350865396,-0.31856987350865396,-0.31856987350865396,-0.31856987350865396,-0.31856987350865396,-0.31856987350865396,-0.31856987350865396,-0.31856987350865396,-0.31856987350865396,-0.31856987350865396,-0.31856987350865396,-0.31856987350865396,-0.31856987350865396,-0.31856987350865396],[1.7442782803585644,1.7442782803585644,1.7442782803585644,1.7442782803585644,1.7442782803585644,1.7442782803585644,1.7442782803585644,1.7442782803585644,1.7442782803585644,1.7442782803585644,1.7442782803585644,1.7442782803585644,1.7442782803585644,1.7442782803585644,1.7442782803585644,1.7442782803585644,1.7442782803585644,1.7442782803585644,1.7442782803585644,1.7442782803585644],[3.8071264342257862,3.8071264342257862,3.8071264342257862,3.8071264342257862,3.8071264342257862,3.8071264342257862,3.8071264342257862,3.8071264342257862,3.8071264342257862,3.8071264342257862,3.8071264342257862,3.8071264342257862,3.8071264342257862,3.8071264342257862,3.8071264342257862,3.8071264342257862,3.8071264342257862,3.8071264342257862,3.8071264342257862,3.8071264342257862],[5.8699745880930045,5.8699745880930045,5.8699745880930045,5.8699745880930045,5.8699745880930045,5.8699745880930045,5.8699745880930045,5.8699745880930045,5.8699745880930045,5.8699745880930045,5.8699745880930045,5.8699745880930045,5.8699745880930045,5.8699745880930045,5.8699745880930045,5.8699745880930045,5.8699745880930045,5.8699745880930045,5.8699745880930045,5.8699745880930045],[7.932822741960223,7.932822741960223,7.932822741960223,7.932822741960223,7.932822741960223,7.932822741960223,7.932822741960223,7.932822741960223,7.932822741960223,7.932822741960223,7.932822741960223,7.932822741960223,7.932822741960223,7.932822741960223,7.932822741960223,7.932822741960223,7.932822741960223,7.932822741960223,7.932822741960223,7.932822741960223],[9.995670895827445,9.995670895827445,9.995670895827445,9.995670895827445,9.995670895827445,9.995670895827445,9.995670895827445,9.995670895827445,9.995670895827445,9.995670895827445,9.995670895827445,9.995670895827445,9.995670895827445,9.995670895827445,9.995670895827445,9.995670895827445,9.995670895827445,9.995670895827445,9.995670895827445,9.995670895827445],[12.058519049694663,12.058519049694663,12.058519049694663,12.058519049694663,12.058519049694663,12.058519049694663,12.058519049694663,12.058519049694663,12.058519049694663,12.058519049694663,12.058519049694663,12.058519049694663,12.058519049694663,12.058519049694663,12.058519049694663,12.058519049694663,12.058519049694663,12.058519049694663,12.058519049694663,12.058519049694663],[14.121367203561885,14.121367203561885,14.121367203561885,14.121367203561885,14.121367203561885,14.121367203561885,14.121367203561885,14.121367203561885,14.121367203561885,14.121367203561885,14.121367203561885,14.121367203561885,14.121367203561885,14.121367203561885,14.121367203561885,14.121367203561885,14.121367203561885,14.121367203561885,14.121367203561885,14.121367203561885],[16.184215357429103,16.184215357429103,16.184215357429103,16.184215357429103,16.184215357429103,16.184215357429103,16.184215357429103,16.184215357429103,16.184215357429103,16.184215357429103,16.184215357429103,16.184215357429103,16.184215357429103,16.184215357429103,16.184215357429103,16.184215357429103,16.184215357429103,16.184215357429103,16.184215357429103,16.184215357429103],[18.247063511296325,18.247063511296325,18.247063511296325,18.247063511296325,18.247063511296325,18.247063511296325,18.247063511296325,18.247063511296325,18.247063511296325,18.247063511296325,18.247063511296325,18.247063511296325,18.247063511296325,18.247063511296325,18.247063511296325,18.247063511296325,18.247063511296325,18.247063511296325,18.247063511296325,18.247063511296325],[20.30991166516354,20.30991166516354,20.30991166516354,20.30991166516354,20.30991166516354,20.30991166516354,20.30991166516354,20.30991166516354,20.30991166516354,20.30991166516354,20.30991166516354,20.30991166516354,20.30991166516354,20.30991166516354,20.30991166516354,20.30991166516354,20.30991166516354,20.30991166516354,20.30991166516354,20.30991166516354],[22.37275981903076,22.37275981903076,22.37275981903076,22.37275981903076,22.37275981903076,22.37275981903076,22.37275981903076,22.37275981903076,22.37275981903076,22.37275981903076,22.37275981903076,22.37275981903076,22.37275981903076,22.37275981903076,22.37275981903076,22.37275981903076,22.37275981903076,22.37275981903076,22.37275981903076,22.37275981903076]],\"z\":[[1465.370496875,1227.96521640625,1007.260412890625,802.4981940429687,618.3065587890625,456.84616064453127,317.82081557617187,207.7669333984375,132.16629680175782,88.06876273193359,65.17907912597656,53.01876209716797,46.60292958984375,44.220158813476566,44.20925521240235,46.05367838745117,49.79269212036133,55.61335534667969,63.91184792480469,74.95605015869141],[1034.09104296875,858.1347784179687,696.2013025390625,546.3793223632813,410.26160405273436,291.276609765625,189.42231708984374,112.16871259765625,64.60145578613282,41.017340869140625,30.451757104492188,25.711230755615233,24.101356518554688,24.13442998046875,25.310969677734374,27.599537744140626,31.122709899902343,36.18566495361328,43.188299096679685,52.566219342041016],[711.6648787109375,583.7599517578125,467.3285731445313,360.94319189453125,263.50047119140623,177.935314453125,105.40140686035156,54.29008160400391,27.667168634033203,17.129927557373048,13.603953330993653,12.650829434204102,12.70941383972168,13.395794681549072,14.719281414794922,16.765818951416016,19.632857934570314,23.69627480163574,29.436975744628906,37.31151207275391],[474.6225704589844,384.9094746582031,303.5959262695313,230.08536359863282,163.1188360107422,103.41532604980469,53.62789711914063,22.652392263793946,10.34335415802002,7.03508111038208,6.43591272354126,6.484996953582764,6.860765355300903,7.5522376243591305,8.623486611175537,10.185794512176514,12.401319245910644,15.607948040771484,20.21876749267578,26.887805294799804],[305.1001365722656,243.4810059326172,189.16291408691407,140.5447552734375,96.67205909423828,56.814426403808596,24.34748844604492,7.955813310241699,3.8095475158691405,3.1627561847686767,3.185919441986084,3.381638222694397,3.7233138202667235,4.23843224029541,5.011956140136719,6.156447980117798,7.8184832626342775,10.301645338439942,14.143075065612793,20.071190826416014],[186.85861689453125,147.0838318359375,111.85439309082031,81.09401148681641,53.972497454833984,29.157267529296874,9.739373696899413,2.4834774673461912,1.529514742088318,1.498609019088745,1.6100289772033691,1.766617132949829,1.9965055327415466,2.3445544115543364,2.8721346684455873,3.673544745826721,4.908939720153809,6.94562269744873,10.386504058837891,16.103544271850588],[106.10262166748046,83.24089189453125,62.40834447631836,43.9122491027832,27.897335186767577,13.542337687683105,3.2706509017944336,0.818512564277649,0.7012882872581482,0.7605248031616211,0.8276280527114868,0.9154106763839722,1.0477384991645813,1.2606267224788665,1.6027643507003784,2.173416341972351,3.1788860343933107,5.061739227294922,8.592376042175292,14.633069537353515],[53.331376721191404,42.39432615966797,31.814527203369142,22.02981596374512,13.291802618408203,5.625541584777832,0.9827153395652771,0.3960437434196472,0.40971800556182864,0.4283530101776123,0.43915273718833925,0.46739813261032104,0.5368118350982666,0.6658545284986496,0.9018953970432282,1.3680579345703126,2.3699707183837893,4.53651505279541,8.624569801330566,15.229634259033203],[31.041572491455078,19.4205722946167,13.999894548034668,9.773724663543701,5.771680544281006,2.3927101718902586,0.6356260437011719,0.408573716545105,0.39406115918159484,0.34941133642196653,0.3011737505912781,0.2803809391021729,0.3036271661043167,0.3853512580513954,0.5826432111263276,1.1179276344299316,2.5029715515136717,5.409529058074951,10.129897988891601,17.109812908935545],[26.05200637817383,16.841200903320313,9.739855325317382,5.14676184463501,2.9606168216705324,1.7400872072219848,1.0223876956939697,0.8123057957649231,0.7186221427917481,0.5750831062793732,0.4220548101902008,0.31236715259552,0.2775652986049652,0.34668840837478637,0.6703537166595459,1.698665636253357,3.891284539794922,7.321505541992187,11.214777784729003,16.49281150817871],[20.80230492401123,14.22506382598877,8.991063341522217,5.216581011581421,3.029624396896362,2.140591157913208,1.7398907238006591,1.5554280685424804,1.4395753190994263,1.257415495491028,1.0010938055038452,0.7681863046646118,0.6957310071945191,0.9624519619941712,1.7986276788711548,2.9607252506256105,4.622280130004883,7.10420474395752,10.648193353271484,15.563142309570312],[17.847713034057616,12.197336895751953,8.183707662200927,5.178532766342163,3.2941124500274657,2.47422265625,2.211961462020874,2.108445222091675,2.0509674293518065,1.9915668655395509,1.912591855430603,1.8590247705459595,1.8409140937805175,1.9256995635986327,2.356846865463257,3.281311498260498,4.840009902191162,7.209655018615723,10.599617208862306,15.319002554321289],[19.384249757385255,12.837553094482422,8.185229070281983,5.166472920227051,3.349573657989502,2.5578192836761473,2.3441623363494872,2.2906854343414307,2.280924034500122,2.2965119583129883,2.303831832122803,2.3158128650665284,2.3501228061676027,2.4817355659484863,2.882058309555054,3.756694144439697,5.27416351776123,7.600600801086426,10.954154537963868,15.590310040283203],[22.335316870117186,14.79581320953369,9.215867164611817,5.533081413269043,3.541331297302246,2.653155517196655,2.3875920608520507,2.323966139602661,2.3216884017944337,2.342044223022461,2.3856624675750733,2.4632784057617187,2.5891966220855713,2.8264920902252197,3.3076776443481446,4.203980828094482,5.711007975006104,8.029996479797363,11.388626318359375,16.02231971435547],[29.960114556884765,19.599655653381348,12.160724641418456,7.254601041412354,4.712140521621704,3.4532930992126465,2.8186971836090087,2.5535038555145264,2.470659226989746,2.4683514820098877,2.5447024971008303,2.720417309188843,3.0068493213653564,3.463432441329956,4.165417044067383,5.221759169769287,6.823753729248047,9.216594309997559,12.625216213989258,17.279011508178712],[44.76523189697266,28.93432877807617,18.24557014312744,10.994386274719238,7.656785111999512,6.148696241760254,4.914456635284424,3.901791758346558,3.393957678604126,3.238555084991455,3.1996287200927735,3.308943653869629,3.694956917190552,4.416625583648682,5.542666554260254,7.146204650115966,9.278028723144532,12.052634916687012,15.74842666015625,20.65148768310547],[67.10688367309571,44.31816342163086,28.53417124633789,18.282046788024903,13.39308683013916,11.356170202636719,9.60153777923584,7.807043029785156,6.540307062530518,5.94515220413208,5.6603774749755855,5.542429058074951,5.685083067321777,6.299798893737793,7.557932466888428,9.578045109558106,12.353846208190918,15.951623361206055,20.373767962646486,25.966128314208984],[100.00626398925782,68.95112279052735,47.00223590087891,31.79134098510742,23.122710275268556,19.989805993652343,17.834193823242188,15.456209617614746,13.924720010375976,12.79362867126465,11.92372540588379,11.344808209228516,11.082706564331055,11.289574266052247,12.147699111938477,13.84537875213623,16.704124801635743,20.823992138671876,26.21407244567871,32.7622580871582],[150.6639005859375,108.42454190673828,77.09559049682618,54.33415584106445,39.64020642700196,34.22868170166016,31.573402587890627,29.394127053833007,28.063922647094728,26.51863711242676,24.877342065429687,23.455857153320313,22.32449794921875,21.75497856750488,21.975949346923827,23.125731408691408,25.303770120239257,28.851935998535158,34.25401848754883,41.62773581542969],[225.16056623535155,167.148103515625,122.73683872070312,89.39412457275391,67.21020715942383,58.579042327880856,55.233661157226564,53.383477947998045,52.22548424072266,50.37739790649414,47.923049884033205,45.345030883789065,42.87214700317383,40.86737191772461,39.82698764038086,40.03375007324219,41.518049493408206,44.291766400146486,48.66027579345703,55.20774955444336]],\"type\":\"surface\",\"contours\":{\"z\":{\"project\":{\"z\":true},\"highlightcolor\":\"limegreen\",\"show\":true,\"usecolormap\":true}}},{\"line\":{\"color\":\"orange\"},\"marker\":{\"color\":\"orange\",\"size\":5},\"mode\":\"markers+lines\",\"name\":\"Classic SGD m=0.0\",\"x\":[-3.75665020942688,-3.756622076034546,-3.571012020111084,-3.4162697792053223,-3.416034460067749,-3.2988502979278564,-3.1958577632904053,-3.1956045627593994,-3.10146164894104,-3.015401840209961,-3.015406608581543,-2.9350364208221436,-2.8551299571990967,-2.8546500205993652,-2.778590440750122,-2.7047364711761475,-2.704780340194702,-2.6314964294433594,-2.556771755218506,-2.556570053100586,-2.488851308822632,-2.421684980392456,-2.4213168621063232,-2.3553647994995117,-2.28922176361084,-2.289184331893921,-2.2270026206970215,-2.166707992553711,-2.16667103767395,-2.1024327278137207,-2.044956684112549],\"y\":[3.0952539443969727,3.095210313796997,2.5455596446990967,2.117783546447754,2.117326259613037,1.7870001792907715,1.476723074913025,1.4764692783355713,1.2044018507003784,0.9412977695465088,0.9413965940475464,0.6992313861846924,0.478825181722641,0.4782642126083374,0.2714520990848541,0.075055792927742,0.0749533474445343,-0.1052592471241951,-0.26691409945487976,-0.26673510670661926,-0.41996338963508606,-0.5567799806594849,-0.55706787109375,-0.6849061250686646,-0.8109833598136902,-0.8111147284507751,-0.9279406666755676,-1.0258476734161377,-1.0257353782653809,-1.134840965270996,-1.223846673965454],\"z\":[2.250978154373169,2.250942544555664,1.304236987876892,0.7419701807022094,0.7414701126098633,0.5917323077201844,0.5351646683216095,0.535127580499649,0.5117787858009338,0.49502304611206055,0.4949578327178955,0.47873003039360046,0.4601061384677887,0.4602062426567078,0.44077357406616213,0.4191720121383667,0.4190776580810547,0.400792231464386,0.38567316017150877,0.3856341205596924,0.37292269067764283,0.3646513846874237,0.36464363412857054,0.3594166454315186,0.35676661310195923,0.35676452527046204,0.3567438283443451,0.35891508998870847,0.35890192375183105,0.3622790039539337,0.36799924488067626],\"type\":\"scatter3d\"},{\"line\":{\"color\":\"green\"},\"marker\":{\"color\":\"green\",\"size\":5},\"mode\":\"markers+lines\",\"name\":\"Classic SGD m=0.5\",\"x\":[-3.75665020942688,-3.756622076034546,-3.37961745262146,-3.1221630573272705,-3.121987819671631,-2.9112462997436523,-2.7176942825317383,-2.717470407485962,-2.5316684246063232,-2.3584163188934326,-2.3584117889404297,-2.1966822147369385,-2.0343446731567383,-2.034210205078125,-1.8878334760665894,-1.738871455192566,-1.7386306524276733,-1.5961986780166626,-1.4675031900405884,-1.4673285484313965,-1.3442963361740112,-1.2286614179611206,-1.2284234762191772,-1.1106650829315186,-1.0016835927963257,-1.0015827417373657,-0.8988319039344788,-0.8027734756469727,-0.8027416467666626,-0.7022556662559509,-0.6067836880683899],\"y\":[3.095254898071289,3.0952115058898926,2.1006717681884766,1.4367942810058594,1.4360402822494507,0.8793088793754578,0.3753625452518463,0.3750057816505432,-0.04889364540576935,-0.4323514699935913,-0.4325006604194641,-0.7514755725860596,-1.030418872833252,-1.0309678316116333,-1.279052495956421,-1.5042963027954102,-1.5041526556015015,-1.7002124786376953,-1.8606544733047485,-1.860713243484497,-2.0137081146240234,-2.1456563472747803,-2.145878791809082,-2.2706642150878906,-2.381937265396118,-2.3822360038757324,-2.4822463989257812,-2.55708909034729,-2.5567739009857178,-2.649127960205078,-2.7146780490875244],\"z\":[2.239166811752319,2.2391398563385008,1.1308091161727905,0.6284669036865235,0.6279704149246216,0.4832012341499329,0.44210836129188535,0.44209218645095827,0.42916130867004393,0.41840633745193484,0.41837119245529175,0.40565217647552493,0.3895599927902222,0.3896177519798279,0.3741384395122528,0.3578683097839355,0.35774420971870424,0.3428659127235413,0.3296150824546814,0.32959556074142454,0.3190479410171509,0.3108266918182373,0.3108271842956543,0.3061356107711792,0.30367718634605406,0.3036746409893036,0.3036670934200287,0.30669426155090335,0.3067147231578827,0.3105881433963776,0.31798785614967345],\"type\":\"scatter3d\"},{\"line\":{\"color\":\"blue\"},\"marker\":{\"color\":\"blue\",\"size\":5},\"mode\":\"markers+lines\",\"name\":\"Classic SGD m=0.9\",\"x\":[-3.75665020942688,-3.756622076034546,-1.749680995941162,-0.2767646908760071,-0.2757994830608368,0.9171505570411682,1.8998135328292847,1.9006967544555664,2.7655510902404785,3.5099520683288574,3.510524034500122,4.1570563316345215,4.763258934020996,4.763851642608643,5.317317008972168,5.825769424438477,5.826007843017578,6.299793243408203,6.720221996307373,6.72068452835083,7.121212959289551,7.499518394470215,7.50034236907959,7.863943099975586,8.19696044921875,8.197127342224121,8.511456489562988,8.779817581176758,8.779706001281738,9.072296142578125,9.30805492401123],\"y\":[3.095254898071289,3.0952115058898926,0.6638000011444092,-0.1168702244758606,-0.11772835999727249,-0.37495794892311096,-0.4499071538448334,-0.45035961270332336,-0.4074619710445404,-0.3364787697792053,-0.3365303874015808,-0.2548612058162689,-0.1105899065732956,-0.11029572784900665,0.029599757865071297,0.09915077686309814,0.10023918747901917,0.24163129925727844,0.4059474766254425,0.40586423873901367,0.4921703636646271,0.6080703139305115,0.6078194975852966,0.6832103729248047,0.7892199158668518,0.7887765169143677,0.8566348552703857,0.9648787975311279,0.9663106799125671,0.9951398372650146,1.0608781576156616],\"z\":[2.200052585220337,2.2000414680480955,1.0884704252243043,0.4875048149585724,0.48713009157180787,0.34596853761672974,0.3140482313632965,0.3140339825630188,0.3083934950351715,0.3081808994293213,0.3081854496002197,0.30621067962646487,0.30134439764022825,0.3013287661552429,0.2943657351493835,0.2885720260620117,0.2885248250484467,0.2794232446193695,0.27031675462722776,0.27032317736148836,0.26416294581890104,0.25835617277622225,0.25836217133998873,0.25490330612659456,0.25200493203401564,0.2520092895388603,0.2508766501903534,0.2506128384709358,0.250613943362236,0.25148513561487196,0.2529703966617584],\"type\":\"scatter3d\"},{\"marker\":{\"color\":\"red\",\"size\":5},\"mode\":\"markers\",\"name\":\"global minimum\",\"x\":[7.932822741960223],\"y\":[1.7442782803585644],\"z\":[0.2775652986049652],\"type\":\"scatter3d\"}],                        {\"coloraxis\":{\"cmax\":3.1659474433969463,\"cmin\":-0.5566348306033799,\"colorbar\":{\"title\":{\"text\":\"Loss magnitude\"}},\"colorscale\":[[0.0,\"#440154\"],[0.1111111111111111,\"#482878\"],[0.2222222222222222,\"#3e4989\"],[0.3333333333333333,\"#31688e\"],[0.4444444444444444,\"#26828e\"],[0.5555555555555556,\"#1f9e89\"],[0.6666666666666666,\"#35b779\"],[0.7777777777777778,\"#6ece58\"],[0.8888888888888888,\"#b5de2b\"],[1.0,\"#fde725\"]]},\"scene\":{\"xaxis\":{\"title\":{\"text\":\"PC1\"}},\"yaxis\":{\"title\":{\"text\":\"PC2\"}},\"zaxis\":{\"title\":{\"text\":\" Loss\"},\"type\":\"log\"}},\"template\":{\"data\":{\"histogram2dcontour\":[{\"type\":\"histogram2dcontour\",\"colorbar\":{\"outlinewidth\":0,\"ticks\":\"\"},\"colorscale\":[[0.0,\"#0d0887\"],[0.1111111111111111,\"#46039f\"],[0.2222222222222222,\"#7201a8\"],[0.3333333333333333,\"#9c179e\"],[0.4444444444444444,\"#bd3786\"],[0.5555555555555556,\"#d8576b\"],[0.6666666666666666,\"#ed7953\"],[0.7777777777777778,\"#fb9f3a\"],[0.8888888888888888,\"#fdca26\"],[1.0,\"#f0f921\"]]}],\"choropleth\":[{\"type\":\"choropleth\",\"colorbar\":{\"outlinewidth\":0,\"ticks\":\"\"}}],\"histogram2d\":[{\"type\":\"histogram2d\",\"colorbar\":{\"outlinewidth\":0,\"ticks\":\"\"},\"colorscale\":[[0.0,\"#0d0887\"],[0.1111111111111111,\"#46039f\"],[0.2222222222222222,\"#7201a8\"],[0.3333333333333333,\"#9c179e\"],[0.4444444444444444,\"#bd3786\"],[0.5555555555555556,\"#d8576b\"],[0.6666666666666666,\"#ed7953\"],[0.7777777777777778,\"#fb9f3a\"],[0.8888888888888888,\"#fdca26\"],[1.0,\"#f0f921\"]]}],\"heatmap\":[{\"type\":\"heatmap\",\"colorbar\":{\"outlinewidth\":0,\"ticks\":\"\"},\"colorscale\":[[0.0,\"#0d0887\"],[0.1111111111111111,\"#46039f\"],[0.2222222222222222,\"#7201a8\"],[0.3333333333333333,\"#9c179e\"],[0.4444444444444444,\"#bd3786\"],[0.5555555555555556,\"#d8576b\"],[0.6666666666666666,\"#ed7953\"],[0.7777777777777778,\"#fb9f3a\"],[0.8888888888888888,\"#fdca26\"],[1.0,\"#f0f921\"]]}],\"heatmapgl\":[{\"type\":\"heatmapgl\",\"colorbar\":{\"outlinewidth\":0,\"ticks\":\"\"},\"colorscale\":[[0.0,\"#0d0887\"],[0.1111111111111111,\"#46039f\"],[0.2222222222222222,\"#7201a8\"],[0.3333333333333333,\"#9c179e\"],[0.4444444444444444,\"#bd3786\"],[0.5555555555555556,\"#d8576b\"],[0.6666666666666666,\"#ed7953\"],[0.7777777777777778,\"#fb9f3a\"],[0.8888888888888888,\"#fdca26\"],[1.0,\"#f0f921\"]]}],\"contourcarpet\":[{\"type\":\"contourcarpet\",\"colorbar\":{\"outlinewidth\":0,\"ticks\":\"\"}}],\"contour\":[{\"type\":\"contour\",\"colorbar\":{\"outlinewidth\":0,\"ticks\":\"\"},\"colorscale\":[[0.0,\"#0d0887\"],[0.1111111111111111,\"#46039f\"],[0.2222222222222222,\"#7201a8\"],[0.3333333333333333,\"#9c179e\"],[0.4444444444444444,\"#bd3786\"],[0.5555555555555556,\"#d8576b\"],[0.6666666666666666,\"#ed7953\"],[0.7777777777777778,\"#fb9f3a\"],[0.8888888888888888,\"#fdca26\"],[1.0,\"#f0f921\"]]}],\"surface\":[{\"type\":\"surface\",\"colorbar\":{\"outlinewidth\":0,\"ticks\":\"\"},\"colorscale\":[[0.0,\"#0d0887\"],[0.1111111111111111,\"#46039f\"],[0.2222222222222222,\"#7201a8\"],[0.3333333333333333,\"#9c179e\"],[0.4444444444444444,\"#bd3786\"],[0.5555555555555556,\"#d8576b\"],[0.6666666666666666,\"#ed7953\"],[0.7777777777777778,\"#fb9f3a\"],[0.8888888888888888,\"#fdca26\"],[1.0,\"#f0f921\"]]}],\"mesh3d\":[{\"type\":\"mesh3d\",\"colorbar\":{\"outlinewidth\":0,\"ticks\":\"\"}}],\"scatter\":[{\"fillpattern\":{\"fillmode\":\"overlay\",\"size\":10,\"solidity\":0.2},\"type\":\"scatter\"}],\"parcoords\":[{\"type\":\"parcoords\",\"line\":{\"colorbar\":{\"outlinewidth\":0,\"ticks\":\"\"}}}],\"scatterpolargl\":[{\"type\":\"scatterpolargl\",\"marker\":{\"colorbar\":{\"outlinewidth\":0,\"ticks\":\"\"}}}],\"bar\":[{\"error_x\":{\"color\":\"#2a3f5f\"},\"error_y\":{\"color\":\"#2a3f5f\"},\"marker\":{\"line\":{\"color\":\"#E5ECF6\",\"width\":0.5},\"pattern\":{\"fillmode\":\"overlay\",\"size\":10,\"solidity\":0.2}},\"type\":\"bar\"}],\"scattergeo\":[{\"type\":\"scattergeo\",\"marker\":{\"colorbar\":{\"outlinewidth\":0,\"ticks\":\"\"}}}],\"scatterpolar\":[{\"type\":\"scatterpolar\",\"marker\":{\"colorbar\":{\"outlinewidth\":0,\"ticks\":\"\"}}}],\"histogram\":[{\"marker\":{\"pattern\":{\"fillmode\":\"overlay\",\"size\":10,\"solidity\":0.2}},\"type\":\"histogram\"}],\"scattergl\":[{\"type\":\"scattergl\",\"marker\":{\"colorbar\":{\"outlinewidth\":0,\"ticks\":\"\"}}}],\"scatter3d\":[{\"type\":\"scatter3d\",\"line\":{\"colorbar\":{\"outlinewidth\":0,\"ticks\":\"\"}},\"marker\":{\"colorbar\":{\"outlinewidth\":0,\"ticks\":\"\"}}}],\"scattermapbox\":[{\"type\":\"scattermapbox\",\"marker\":{\"colorbar\":{\"outlinewidth\":0,\"ticks\":\"\"}}}],\"scatterternary\":[{\"type\":\"scatterternary\",\"marker\":{\"colorbar\":{\"outlinewidth\":0,\"ticks\":\"\"}}}],\"scattercarpet\":[{\"type\":\"scattercarpet\",\"marker\":{\"colorbar\":{\"outlinewidth\":0,\"ticks\":\"\"}}}],\"carpet\":[{\"aaxis\":{\"endlinecolor\":\"#2a3f5f\",\"gridcolor\":\"white\",\"linecolor\":\"white\",\"minorgridcolor\":\"white\",\"startlinecolor\":\"#2a3f5f\"},\"baxis\":{\"endlinecolor\":\"#2a3f5f\",\"gridcolor\":\"white\",\"linecolor\":\"white\",\"minorgridcolor\":\"white\",\"startlinecolor\":\"#2a3f5f\"},\"type\":\"carpet\"}],\"table\":[{\"cells\":{\"fill\":{\"color\":\"#EBF0F8\"},\"line\":{\"color\":\"white\"}},\"header\":{\"fill\":{\"color\":\"#C8D4E3\"},\"line\":{\"color\":\"white\"}},\"type\":\"table\"}],\"barpolar\":[{\"marker\":{\"line\":{\"color\":\"#E5ECF6\",\"width\":0.5},\"pattern\":{\"fillmode\":\"overlay\",\"size\":10,\"solidity\":0.2}},\"type\":\"barpolar\"}],\"pie\":[{\"automargin\":true,\"type\":\"pie\"}]},\"layout\":{\"autotypenumbers\":\"strict\",\"colorway\":[\"#636efa\",\"#EF553B\",\"#00cc96\",\"#ab63fa\",\"#FFA15A\",\"#19d3f3\",\"#FF6692\",\"#B6E880\",\"#FF97FF\",\"#FECB52\"],\"font\":{\"color\":\"#2a3f5f\"},\"hovermode\":\"closest\",\"hoverlabel\":{\"align\":\"left\"},\"paper_bgcolor\":\"white\",\"plot_bgcolor\":\"#E5ECF6\",\"polar\":{\"bgcolor\":\"#E5ECF6\",\"angularaxis\":{\"gridcolor\":\"white\",\"linecolor\":\"white\",\"ticks\":\"\"},\"radialaxis\":{\"gridcolor\":\"white\",\"linecolor\":\"white\",\"ticks\":\"\"}},\"ternary\":{\"bgcolor\":\"#E5ECF6\",\"aaxis\":{\"gridcolor\":\"white\",\"linecolor\":\"white\",\"ticks\":\"\"},\"baxis\":{\"gridcolor\":\"white\",\"linecolor\":\"white\",\"ticks\":\"\"},\"caxis\":{\"gridcolor\":\"white\",\"linecolor\":\"white\",\"ticks\":\"\"}},\"coloraxis\":{\"colorbar\":{\"outlinewidth\":0,\"ticks\":\"\"}},\"colorscale\":{\"sequential\":[[0.0,\"#0d0887\"],[0.1111111111111111,\"#46039f\"],[0.2222222222222222,\"#7201a8\"],[0.3333333333333333,\"#9c179e\"],[0.4444444444444444,\"#bd3786\"],[0.5555555555555556,\"#d8576b\"],[0.6666666666666666,\"#ed7953\"],[0.7777777777777778,\"#fb9f3a\"],[0.8888888888888888,\"#fdca26\"],[1.0,\"#f0f921\"]],\"sequentialminus\":[[0.0,\"#0d0887\"],[0.1111111111111111,\"#46039f\"],[0.2222222222222222,\"#7201a8\"],[0.3333333333333333,\"#9c179e\"],[0.4444444444444444,\"#bd3786\"],[0.5555555555555556,\"#d8576b\"],[0.6666666666666666,\"#ed7953\"],[0.7777777777777778,\"#fb9f3a\"],[0.8888888888888888,\"#fdca26\"],[1.0,\"#f0f921\"]],\"diverging\":[[0,\"#8e0152\"],[0.1,\"#c51b7d\"],[0.2,\"#de77ae\"],[0.3,\"#f1b6da\"],[0.4,\"#fde0ef\"],[0.5,\"#f7f7f7\"],[0.6,\"#e6f5d0\"],[0.7,\"#b8e186\"],[0.8,\"#7fbc41\"],[0.9,\"#4d9221\"],[1,\"#276419\"]]},\"xaxis\":{\"gridcolor\":\"white\",\"linecolor\":\"white\",\"ticks\":\"\",\"title\":{\"standoff\":15},\"zerolinecolor\":\"white\",\"automargin\":true,\"zerolinewidth\":2},\"yaxis\":{\"gridcolor\":\"white\",\"linecolor\":\"white\",\"ticks\":\"\",\"title\":{\"standoff\":15},\"zerolinecolor\":\"white\",\"automargin\":true,\"zerolinewidth\":2},\"scene\":{\"xaxis\":{\"backgroundcolor\":\"#E5ECF6\",\"gridcolor\":\"white\",\"linecolor\":\"white\",\"showbackground\":true,\"ticks\":\"\",\"zerolinecolor\":\"white\",\"gridwidth\":2},\"yaxis\":{\"backgroundcolor\":\"#E5ECF6\",\"gridcolor\":\"white\",\"linecolor\":\"white\",\"showbackground\":true,\"ticks\":\"\",\"zerolinecolor\":\"white\",\"gridwidth\":2},\"zaxis\":{\"backgroundcolor\":\"#E5ECF6\",\"gridcolor\":\"white\",\"linecolor\":\"white\",\"showbackground\":true,\"ticks\":\"\",\"zerolinecolor\":\"white\",\"gridwidth\":2}},\"shapedefaults\":{\"line\":{\"color\":\"#2a3f5f\"}},\"annotationdefaults\":{\"arrowcolor\":\"#2a3f5f\",\"arrowhead\":0,\"arrowwidth\":1},\"geo\":{\"bgcolor\":\"white\",\"landcolor\":\"#E5ECF6\",\"subunitcolor\":\"white\",\"showland\":true,\"showlakes\":true,\"lakecolor\":\"white\"},\"title\":{\"x\":0.05},\"mapbox\":{\"style\":\"light\"}}},\"legend\":{\"orientation\":\"v\",\"x\":0,\"y\":0.5}},                        {\"responsive\": true}                    ).then(function(){\n",
       "                            \n",
       "var gd = document.getElementById('5eb6e1a9-95d5-458e-a654-7bf2f76f5e5b');\n",
       "var x = new MutationObserver(function (mutations, observer) {{\n",
       "        var display = window.getComputedStyle(gd).display;\n",
       "        if (!display || display === 'none') {{\n",
       "            console.log([gd, 'removed!']);\n",
       "            Plotly.purge(gd);\n",
       "            observer.disconnect();\n",
       "        }}\n",
       "}});\n",
       "\n",
       "// Listen for the removal of the full notebook cells\n",
       "var notebookContainer = gd.closest('#notebook-container');\n",
       "if (notebookContainer) {{\n",
       "    x.observe(notebookContainer, {childList: true});\n",
       "}}\n",
       "\n",
       "// Listen for the clearing of the current output cell\n",
       "var outputEl = gd.closest('.output');\n",
       "if (outputEl) {{\n",
       "    x.observe(outputEl, {childList: true});\n",
       "}}\n",
       "\n",
       "                        })                };                });            </script>        </div>"
      ]
     },
     "metadata": {},
     "output_type": "display_data"
    }
   ],
   "source": [
    "surface = go.Surface(\n",
    "    x=xx,\n",
    "    y=yy,\n",
    "    z=grid_losses,\n",
    "    opacity=0.8,\n",
    "    name=\"grid point\",\n",
    "    coloraxis=\"coloraxis\",\n",
    "    colorscale=\"Viridis\",\n",
    ")\n",
    "\n",
    "trajectory_names = [\n",
    "    \"Classic SGD m=0.0\",\n",
    "    \"Classic SGD m=0.5\",\n",
    "    \"Classic SGD m=0.9\",\n",
    "]\n",
    "trajectory_colors = ['orange', 'green', 'blue', 'yellow', 'purple', 'cyan', 'magenta']  # Define more colors if you have more trajectories\n",
    "trajectories = []\n",
    "for i, (rw, tl) in enumerate(zip(reduced_weights, trajectories_loss_reevaluted)):\n",
    "    traj = go.Scatter3d(\n",
    "        x=rw[:, 0],\n",
    "        y=rw[:, 1],\n",
    "        z=tl,\n",
    "        mode=\"markers+lines\",\n",
    "        line=dict(color=trajectory_colors[i % len(trajectory_colors)]),\n",
    "        marker=dict(color=trajectory_colors[i % len(trajectory_colors)], size=5),\n",
    "        name=trajectory_names[i],\n",
    "    )\n",
    "    trajectories.append(traj)\n",
    "\n",
    "layout = go.Layout(\n",
    "    scene=dict(xaxis_title=\"PC1\", yaxis_title=\"PC2\", zaxis_title=\" Loss\", zaxis=dict(type='log')),\n",
    "    coloraxis=dict(colorbar=dict(title=\"Loss magnitude\"), \n",
    "                   colorscale=\"Viridis\",\n",
    "                   cmin=np.log10(grid_losses.min()),  \n",
    "                    cmax=np.log10(grid_losses.max()),\n",
    "    ),\n",
    ")   \n",
    "\n",
    "fig = go.Figure(data=[surface]+ trajectories, layout=layout)\n",
    "\n",
    "fig.data[0].update(contours_z=dict(show=True, usecolormap=True,\n",
    "                              highlightcolor=\"limegreen\", project_z=True))\n",
    "\n",
    "_min_x, _min_y = np.unravel_index(np.argmin(grid_losses), grid_losses.shape)\n",
    "min_point = go.Scatter3d(\n",
    "    x=[xx[_min_x, _min_y]],\n",
    "    y=[yy[_min_x, _min_y]],\n",
    "    z=[grid_losses[_min_x, _min_y]],\n",
    "    mode='markers',\n",
    "    marker=dict(\n",
    "        size=5,\n",
    "        color='red',\n",
    "    ),\n",
    "    name=\"global minimum\"\n",
    ")\n",
    "\n",
    "fig.add_trace(min_point)\n",
    "\n",
    "fig.update_layout(legend=dict(orientation=\"v\", x=0, y=0.5))\n",
    "\n",
    "fig.show()"
   ]
  },
  {
   "cell_type": "code",
   "execution_count": 27,
   "id": "8733dd4d",
   "metadata": {},
   "outputs": [],
   "source": [
    "new_reduced_weights = [projected_weights0,projected_weights5,projected_weights9]"
   ]
  },
  {
   "cell_type": "code",
   "execution_count": 28,
   "id": "83033b6e",
   "metadata": {},
   "outputs": [
    {
     "data": {
      "application/vnd.plotly.v1+json": {
       "config": {
        "plotlyServerURL": "https://plot.ly"
       },
       "data": [
        {
         "colorscale": [
          [
           0,
           "#440154"
          ],
          [
           0.1111111111111111,
           "#482878"
          ],
          [
           0.2222222222222222,
           "#3e4989"
          ],
          [
           0.3333333333333333,
           "#31688e"
          ],
          [
           0.4444444444444444,
           "#26828e"
          ],
          [
           0.5555555555555556,
           "#1f9e89"
          ],
          [
           0.6666666666666666,
           "#35b779"
          ],
          [
           0.7777777777777778,
           "#6ece58"
          ],
          [
           0.8888888888888888,
           "#b5de2b"
          ],
          [
           1,
           "#fde725"
          ]
         ],
         "name": "grid point",
         "type": "contour",
         "x": [
          -16.82135510444641,
          -14.758506950579191,
          -12.695658796711971,
          -10.632810642844753,
          -8.569962488977533,
          -6.5071143351103125,
          -4.444266181243094,
          -2.381418027375874,
          -0.31856987350865396,
          1.7442782803585644,
          3.8071264342257862,
          5.8699745880930045,
          7.932822741960223,
          9.995670895827445,
          12.058519049694663,
          14.121367203561885,
          16.184215357429103,
          18.247063511296325,
          20.30991166516354,
          22.37275981903076,
          -16.82135510444641,
          -14.758506950579191,
          -12.695658796711971,
          -10.632810642844753,
          -8.569962488977533,
          -6.5071143351103125,
          -4.444266181243094,
          -2.381418027375874,
          -0.31856987350865396,
          1.7442782803585644,
          3.8071264342257862,
          5.8699745880930045,
          7.932822741960223,
          9.995670895827445,
          12.058519049694663,
          14.121367203561885,
          16.184215357429103,
          18.247063511296325,
          20.30991166516354,
          22.37275981903076,
          -16.82135510444641,
          -14.758506950579191,
          -12.695658796711971,
          -10.632810642844753,
          -8.569962488977533,
          -6.5071143351103125,
          -4.444266181243094,
          -2.381418027375874,
          -0.31856987350865396,
          1.7442782803585644,
          3.8071264342257862,
          5.8699745880930045,
          7.932822741960223,
          9.995670895827445,
          12.058519049694663,
          14.121367203561885,
          16.184215357429103,
          18.247063511296325,
          20.30991166516354,
          22.37275981903076,
          -16.82135510444641,
          -14.758506950579191,
          -12.695658796711971,
          -10.632810642844753,
          -8.569962488977533,
          -6.5071143351103125,
          -4.444266181243094,
          -2.381418027375874,
          -0.31856987350865396,
          1.7442782803585644,
          3.8071264342257862,
          5.8699745880930045,
          7.932822741960223,
          9.995670895827445,
          12.058519049694663,
          14.121367203561885,
          16.184215357429103,
          18.247063511296325,
          20.30991166516354,
          22.37275981903076,
          -16.82135510444641,
          -14.758506950579191,
          -12.695658796711971,
          -10.632810642844753,
          -8.569962488977533,
          -6.5071143351103125,
          -4.444266181243094,
          -2.381418027375874,
          -0.31856987350865396,
          1.7442782803585644,
          3.8071264342257862,
          5.8699745880930045,
          7.932822741960223,
          9.995670895827445,
          12.058519049694663,
          14.121367203561885,
          16.184215357429103,
          18.247063511296325,
          20.30991166516354,
          22.37275981903076,
          -16.82135510444641,
          -14.758506950579191,
          -12.695658796711971,
          -10.632810642844753,
          -8.569962488977533,
          -6.5071143351103125,
          -4.444266181243094,
          -2.381418027375874,
          -0.31856987350865396,
          1.7442782803585644,
          3.8071264342257862,
          5.8699745880930045,
          7.932822741960223,
          9.995670895827445,
          12.058519049694663,
          14.121367203561885,
          16.184215357429103,
          18.247063511296325,
          20.30991166516354,
          22.37275981903076,
          -16.82135510444641,
          -14.758506950579191,
          -12.695658796711971,
          -10.632810642844753,
          -8.569962488977533,
          -6.5071143351103125,
          -4.444266181243094,
          -2.381418027375874,
          -0.31856987350865396,
          1.7442782803585644,
          3.8071264342257862,
          5.8699745880930045,
          7.932822741960223,
          9.995670895827445,
          12.058519049694663,
          14.121367203561885,
          16.184215357429103,
          18.247063511296325,
          20.30991166516354,
          22.37275981903076,
          -16.82135510444641,
          -14.758506950579191,
          -12.695658796711971,
          -10.632810642844753,
          -8.569962488977533,
          -6.5071143351103125,
          -4.444266181243094,
          -2.381418027375874,
          -0.31856987350865396,
          1.7442782803585644,
          3.8071264342257862,
          5.8699745880930045,
          7.932822741960223,
          9.995670895827445,
          12.058519049694663,
          14.121367203561885,
          16.184215357429103,
          18.247063511296325,
          20.30991166516354,
          22.37275981903076,
          -16.82135510444641,
          -14.758506950579191,
          -12.695658796711971,
          -10.632810642844753,
          -8.569962488977533,
          -6.5071143351103125,
          -4.444266181243094,
          -2.381418027375874,
          -0.31856987350865396,
          1.7442782803585644,
          3.8071264342257862,
          5.8699745880930045,
          7.932822741960223,
          9.995670895827445,
          12.058519049694663,
          14.121367203561885,
          16.184215357429103,
          18.247063511296325,
          20.30991166516354,
          22.37275981903076,
          -16.82135510444641,
          -14.758506950579191,
          -12.695658796711971,
          -10.632810642844753,
          -8.569962488977533,
          -6.5071143351103125,
          -4.444266181243094,
          -2.381418027375874,
          -0.31856987350865396,
          1.7442782803585644,
          3.8071264342257862,
          5.8699745880930045,
          7.932822741960223,
          9.995670895827445,
          12.058519049694663,
          14.121367203561885,
          16.184215357429103,
          18.247063511296325,
          20.30991166516354,
          22.37275981903076,
          -16.82135510444641,
          -14.758506950579191,
          -12.695658796711971,
          -10.632810642844753,
          -8.569962488977533,
          -6.5071143351103125,
          -4.444266181243094,
          -2.381418027375874,
          -0.31856987350865396,
          1.7442782803585644,
          3.8071264342257862,
          5.8699745880930045,
          7.932822741960223,
          9.995670895827445,
          12.058519049694663,
          14.121367203561885,
          16.184215357429103,
          18.247063511296325,
          20.30991166516354,
          22.37275981903076,
          -16.82135510444641,
          -14.758506950579191,
          -12.695658796711971,
          -10.632810642844753,
          -8.569962488977533,
          -6.5071143351103125,
          -4.444266181243094,
          -2.381418027375874,
          -0.31856987350865396,
          1.7442782803585644,
          3.8071264342257862,
          5.8699745880930045,
          7.932822741960223,
          9.995670895827445,
          12.058519049694663,
          14.121367203561885,
          16.184215357429103,
          18.247063511296325,
          20.30991166516354,
          22.37275981903076,
          -16.82135510444641,
          -14.758506950579191,
          -12.695658796711971,
          -10.632810642844753,
          -8.569962488977533,
          -6.5071143351103125,
          -4.444266181243094,
          -2.381418027375874,
          -0.31856987350865396,
          1.7442782803585644,
          3.8071264342257862,
          5.8699745880930045,
          7.932822741960223,
          9.995670895827445,
          12.058519049694663,
          14.121367203561885,
          16.184215357429103,
          18.247063511296325,
          20.30991166516354,
          22.37275981903076,
          -16.82135510444641,
          -14.758506950579191,
          -12.695658796711971,
          -10.632810642844753,
          -8.569962488977533,
          -6.5071143351103125,
          -4.444266181243094,
          -2.381418027375874,
          -0.31856987350865396,
          1.7442782803585644,
          3.8071264342257862,
          5.8699745880930045,
          7.932822741960223,
          9.995670895827445,
          12.058519049694663,
          14.121367203561885,
          16.184215357429103,
          18.247063511296325,
          20.30991166516354,
          22.37275981903076,
          -16.82135510444641,
          -14.758506950579191,
          -12.695658796711971,
          -10.632810642844753,
          -8.569962488977533,
          -6.5071143351103125,
          -4.444266181243094,
          -2.381418027375874,
          -0.31856987350865396,
          1.7442782803585644,
          3.8071264342257862,
          5.8699745880930045,
          7.932822741960223,
          9.995670895827445,
          12.058519049694663,
          14.121367203561885,
          16.184215357429103,
          18.247063511296325,
          20.30991166516354,
          22.37275981903076,
          -16.82135510444641,
          -14.758506950579191,
          -12.695658796711971,
          -10.632810642844753,
          -8.569962488977533,
          -6.5071143351103125,
          -4.444266181243094,
          -2.381418027375874,
          -0.31856987350865396,
          1.7442782803585644,
          3.8071264342257862,
          5.8699745880930045,
          7.932822741960223,
          9.995670895827445,
          12.058519049694663,
          14.121367203561885,
          16.184215357429103,
          18.247063511296325,
          20.30991166516354,
          22.37275981903076,
          -16.82135510444641,
          -14.758506950579191,
          -12.695658796711971,
          -10.632810642844753,
          -8.569962488977533,
          -6.5071143351103125,
          -4.444266181243094,
          -2.381418027375874,
          -0.31856987350865396,
          1.7442782803585644,
          3.8071264342257862,
          5.8699745880930045,
          7.932822741960223,
          9.995670895827445,
          12.058519049694663,
          14.121367203561885,
          16.184215357429103,
          18.247063511296325,
          20.30991166516354,
          22.37275981903076,
          -16.82135510444641,
          -14.758506950579191,
          -12.695658796711971,
          -10.632810642844753,
          -8.569962488977533,
          -6.5071143351103125,
          -4.444266181243094,
          -2.381418027375874,
          -0.31856987350865396,
          1.7442782803585644,
          3.8071264342257862,
          5.8699745880930045,
          7.932822741960223,
          9.995670895827445,
          12.058519049694663,
          14.121367203561885,
          16.184215357429103,
          18.247063511296325,
          20.30991166516354,
          22.37275981903076,
          -16.82135510444641,
          -14.758506950579191,
          -12.695658796711971,
          -10.632810642844753,
          -8.569962488977533,
          -6.5071143351103125,
          -4.444266181243094,
          -2.381418027375874,
          -0.31856987350865396,
          1.7442782803585644,
          3.8071264342257862,
          5.8699745880930045,
          7.932822741960223,
          9.995670895827445,
          12.058519049694663,
          14.121367203561885,
          16.184215357429103,
          18.247063511296325,
          20.30991166516354,
          22.37275981903076,
          -16.82135510444641,
          -14.758506950579191,
          -12.695658796711971,
          -10.632810642844753,
          -8.569962488977533,
          -6.5071143351103125,
          -4.444266181243094,
          -2.381418027375874,
          -0.31856987350865396,
          1.7442782803585644,
          3.8071264342257862,
          5.8699745880930045,
          7.932822741960223,
          9.995670895827445,
          12.058519049694663,
          14.121367203561885,
          16.184215357429103,
          18.247063511296325,
          20.30991166516354,
          22.37275981903076
         ],
         "y": [
          -16.82135510444641,
          -16.82135510444641,
          -16.82135510444641,
          -16.82135510444641,
          -16.82135510444641,
          -16.82135510444641,
          -16.82135510444641,
          -16.82135510444641,
          -16.82135510444641,
          -16.82135510444641,
          -16.82135510444641,
          -16.82135510444641,
          -16.82135510444641,
          -16.82135510444641,
          -16.82135510444641,
          -16.82135510444641,
          -16.82135510444641,
          -16.82135510444641,
          -16.82135510444641,
          -16.82135510444641,
          -14.758506950579191,
          -14.758506950579191,
          -14.758506950579191,
          -14.758506950579191,
          -14.758506950579191,
          -14.758506950579191,
          -14.758506950579191,
          -14.758506950579191,
          -14.758506950579191,
          -14.758506950579191,
          -14.758506950579191,
          -14.758506950579191,
          -14.758506950579191,
          -14.758506950579191,
          -14.758506950579191,
          -14.758506950579191,
          -14.758506950579191,
          -14.758506950579191,
          -14.758506950579191,
          -14.758506950579191,
          -12.695658796711971,
          -12.695658796711971,
          -12.695658796711971,
          -12.695658796711971,
          -12.695658796711971,
          -12.695658796711971,
          -12.695658796711971,
          -12.695658796711971,
          -12.695658796711971,
          -12.695658796711971,
          -12.695658796711971,
          -12.695658796711971,
          -12.695658796711971,
          -12.695658796711971,
          -12.695658796711971,
          -12.695658796711971,
          -12.695658796711971,
          -12.695658796711971,
          -12.695658796711971,
          -12.695658796711971,
          -10.632810642844753,
          -10.632810642844753,
          -10.632810642844753,
          -10.632810642844753,
          -10.632810642844753,
          -10.632810642844753,
          -10.632810642844753,
          -10.632810642844753,
          -10.632810642844753,
          -10.632810642844753,
          -10.632810642844753,
          -10.632810642844753,
          -10.632810642844753,
          -10.632810642844753,
          -10.632810642844753,
          -10.632810642844753,
          -10.632810642844753,
          -10.632810642844753,
          -10.632810642844753,
          -10.632810642844753,
          -8.569962488977533,
          -8.569962488977533,
          -8.569962488977533,
          -8.569962488977533,
          -8.569962488977533,
          -8.569962488977533,
          -8.569962488977533,
          -8.569962488977533,
          -8.569962488977533,
          -8.569962488977533,
          -8.569962488977533,
          -8.569962488977533,
          -8.569962488977533,
          -8.569962488977533,
          -8.569962488977533,
          -8.569962488977533,
          -8.569962488977533,
          -8.569962488977533,
          -8.569962488977533,
          -8.569962488977533,
          -6.5071143351103125,
          -6.5071143351103125,
          -6.5071143351103125,
          -6.5071143351103125,
          -6.5071143351103125,
          -6.5071143351103125,
          -6.5071143351103125,
          -6.5071143351103125,
          -6.5071143351103125,
          -6.5071143351103125,
          -6.5071143351103125,
          -6.5071143351103125,
          -6.5071143351103125,
          -6.5071143351103125,
          -6.5071143351103125,
          -6.5071143351103125,
          -6.5071143351103125,
          -6.5071143351103125,
          -6.5071143351103125,
          -6.5071143351103125,
          -4.444266181243094,
          -4.444266181243094,
          -4.444266181243094,
          -4.444266181243094,
          -4.444266181243094,
          -4.444266181243094,
          -4.444266181243094,
          -4.444266181243094,
          -4.444266181243094,
          -4.444266181243094,
          -4.444266181243094,
          -4.444266181243094,
          -4.444266181243094,
          -4.444266181243094,
          -4.444266181243094,
          -4.444266181243094,
          -4.444266181243094,
          -4.444266181243094,
          -4.444266181243094,
          -4.444266181243094,
          -2.381418027375874,
          -2.381418027375874,
          -2.381418027375874,
          -2.381418027375874,
          -2.381418027375874,
          -2.381418027375874,
          -2.381418027375874,
          -2.381418027375874,
          -2.381418027375874,
          -2.381418027375874,
          -2.381418027375874,
          -2.381418027375874,
          -2.381418027375874,
          -2.381418027375874,
          -2.381418027375874,
          -2.381418027375874,
          -2.381418027375874,
          -2.381418027375874,
          -2.381418027375874,
          -2.381418027375874,
          -0.31856987350865396,
          -0.31856987350865396,
          -0.31856987350865396,
          -0.31856987350865396,
          -0.31856987350865396,
          -0.31856987350865396,
          -0.31856987350865396,
          -0.31856987350865396,
          -0.31856987350865396,
          -0.31856987350865396,
          -0.31856987350865396,
          -0.31856987350865396,
          -0.31856987350865396,
          -0.31856987350865396,
          -0.31856987350865396,
          -0.31856987350865396,
          -0.31856987350865396,
          -0.31856987350865396,
          -0.31856987350865396,
          -0.31856987350865396,
          1.7442782803585644,
          1.7442782803585644,
          1.7442782803585644,
          1.7442782803585644,
          1.7442782803585644,
          1.7442782803585644,
          1.7442782803585644,
          1.7442782803585644,
          1.7442782803585644,
          1.7442782803585644,
          1.7442782803585644,
          1.7442782803585644,
          1.7442782803585644,
          1.7442782803585644,
          1.7442782803585644,
          1.7442782803585644,
          1.7442782803585644,
          1.7442782803585644,
          1.7442782803585644,
          1.7442782803585644,
          3.8071264342257862,
          3.8071264342257862,
          3.8071264342257862,
          3.8071264342257862,
          3.8071264342257862,
          3.8071264342257862,
          3.8071264342257862,
          3.8071264342257862,
          3.8071264342257862,
          3.8071264342257862,
          3.8071264342257862,
          3.8071264342257862,
          3.8071264342257862,
          3.8071264342257862,
          3.8071264342257862,
          3.8071264342257862,
          3.8071264342257862,
          3.8071264342257862,
          3.8071264342257862,
          3.8071264342257862,
          5.8699745880930045,
          5.8699745880930045,
          5.8699745880930045,
          5.8699745880930045,
          5.8699745880930045,
          5.8699745880930045,
          5.8699745880930045,
          5.8699745880930045,
          5.8699745880930045,
          5.8699745880930045,
          5.8699745880930045,
          5.8699745880930045,
          5.8699745880930045,
          5.8699745880930045,
          5.8699745880930045,
          5.8699745880930045,
          5.8699745880930045,
          5.8699745880930045,
          5.8699745880930045,
          5.8699745880930045,
          7.932822741960223,
          7.932822741960223,
          7.932822741960223,
          7.932822741960223,
          7.932822741960223,
          7.932822741960223,
          7.932822741960223,
          7.932822741960223,
          7.932822741960223,
          7.932822741960223,
          7.932822741960223,
          7.932822741960223,
          7.932822741960223,
          7.932822741960223,
          7.932822741960223,
          7.932822741960223,
          7.932822741960223,
          7.932822741960223,
          7.932822741960223,
          7.932822741960223,
          9.995670895827445,
          9.995670895827445,
          9.995670895827445,
          9.995670895827445,
          9.995670895827445,
          9.995670895827445,
          9.995670895827445,
          9.995670895827445,
          9.995670895827445,
          9.995670895827445,
          9.995670895827445,
          9.995670895827445,
          9.995670895827445,
          9.995670895827445,
          9.995670895827445,
          9.995670895827445,
          9.995670895827445,
          9.995670895827445,
          9.995670895827445,
          9.995670895827445,
          12.058519049694663,
          12.058519049694663,
          12.058519049694663,
          12.058519049694663,
          12.058519049694663,
          12.058519049694663,
          12.058519049694663,
          12.058519049694663,
          12.058519049694663,
          12.058519049694663,
          12.058519049694663,
          12.058519049694663,
          12.058519049694663,
          12.058519049694663,
          12.058519049694663,
          12.058519049694663,
          12.058519049694663,
          12.058519049694663,
          12.058519049694663,
          12.058519049694663,
          14.121367203561885,
          14.121367203561885,
          14.121367203561885,
          14.121367203561885,
          14.121367203561885,
          14.121367203561885,
          14.121367203561885,
          14.121367203561885,
          14.121367203561885,
          14.121367203561885,
          14.121367203561885,
          14.121367203561885,
          14.121367203561885,
          14.121367203561885,
          14.121367203561885,
          14.121367203561885,
          14.121367203561885,
          14.121367203561885,
          14.121367203561885,
          14.121367203561885,
          16.184215357429103,
          16.184215357429103,
          16.184215357429103,
          16.184215357429103,
          16.184215357429103,
          16.184215357429103,
          16.184215357429103,
          16.184215357429103,
          16.184215357429103,
          16.184215357429103,
          16.184215357429103,
          16.184215357429103,
          16.184215357429103,
          16.184215357429103,
          16.184215357429103,
          16.184215357429103,
          16.184215357429103,
          16.184215357429103,
          16.184215357429103,
          16.184215357429103,
          18.247063511296325,
          18.247063511296325,
          18.247063511296325,
          18.247063511296325,
          18.247063511296325,
          18.247063511296325,
          18.247063511296325,
          18.247063511296325,
          18.247063511296325,
          18.247063511296325,
          18.247063511296325,
          18.247063511296325,
          18.247063511296325,
          18.247063511296325,
          18.247063511296325,
          18.247063511296325,
          18.247063511296325,
          18.247063511296325,
          18.247063511296325,
          18.247063511296325,
          20.30991166516354,
          20.30991166516354,
          20.30991166516354,
          20.30991166516354,
          20.30991166516354,
          20.30991166516354,
          20.30991166516354,
          20.30991166516354,
          20.30991166516354,
          20.30991166516354,
          20.30991166516354,
          20.30991166516354,
          20.30991166516354,
          20.30991166516354,
          20.30991166516354,
          20.30991166516354,
          20.30991166516354,
          20.30991166516354,
          20.30991166516354,
          20.30991166516354,
          22.37275981903076,
          22.37275981903076,
          22.37275981903076,
          22.37275981903076,
          22.37275981903076,
          22.37275981903076,
          22.37275981903076,
          22.37275981903076,
          22.37275981903076,
          22.37275981903076,
          22.37275981903076,
          22.37275981903076,
          22.37275981903076,
          22.37275981903076,
          22.37275981903076,
          22.37275981903076,
          22.37275981903076,
          22.37275981903076,
          22.37275981903076,
          22.37275981903076
         ],
         "z": [
          3.1659474433969463,
          3.089186065065103,
          3.003141765747746,
          2.9044440637335383,
          2.791203853373839,
          2.6597699794329683,
          2.5021823377858468,
          2.317576429721166,
          2.1211207215706787,
          1.9448218950321186,
          1.8141082203001582,
          1.724429583437715,
          1.6684132185078593,
          1.645620297982466,
          1.645513198464606,
          1.6632643237744087,
          1.6971656077257584,
          1.7451790983602622,
          1.8055813747687608,
          1.874806693148123,
          3.0145587763965462,
          2.9335555033805623,
          2.8427348314805854,
          2.7374942551803385,
          2.6130608737100145,
          2.4643056111035517,
          2.2774311447728435,
          2.049871735341989,
          1.810242304879922,
          1.6129675018809073,
          1.4836123570269804,
          1.4101228661247347,
          1.382041487053846,
          1.382637045882681,
          1.4033087835471272,
          1.4409018082662997,
          1.4930774046202107,
          1.5585365577008194,
          1.635366100378311,
          1.720706742893772,
          2.8522755335402805,
          2.7662342973543192,
          2.6696223352285418,
          2.5574388545701323,
          2.420781396154428,
          2.250262150164219,
          2.0228464077229207,
          1.734720494448864,
          1.4419647171629089,
          1.2337555263338897,
          1.1336651333954466,
          1.1021190003647272,
          1.1041255212822054,
          1.126968482451465,
          1.1678866085607922,
          1.224424772044246,
          1.2929835239948166,
          1.3746800776449764,
          1.4688931900103914,
          1.5718428494575214,
          2.6763483870476015,
          2.5853586015106256,
          2.482295939784269,
          2.3618889928080504,
          2.212504113726954,
          2.0145849055434892,
          1.7293907675493285,
          1.3551140735498535,
          1.0146613952477528,
          0.847269108961709,
          0.8086101460638109,
          0.8119097764042922,
          0.8363725662961489,
          0.878075646189958,
          0.9356828934166097,
          1.0079949104884987,
          1.093467887641557,
          1.1933458106122568,
          1.305754678087615,
          1.4295553545752189,
          2.4844424020461044,
          2.386465087355993,
          2.276835995775395,
          2.147814643623258,
          1.9853009690712333,
          1.7544586264161655,
          1.3864541684139027,
          0.9006845834917223,
          0.5808733948275433,
          0.5000657136701101,
          0.5032347901897726,
          0.5291271436840583,
          0.5709296423603083,
          0.6272052444943831,
          0.7000072618073587,
          0.7893302141832366,
          0.893122510789107,
          1.0129065940584554,
          1.1505438464363007,
          1.3025731400011484,
          2.271513129926937,
          2.1675649356075253,
          2.048653045720399,
          1.9089887842449744,
          1.732172514521734,
          1.4647468216846136,
          0.9885310299046881,
          0.3950602239843104,
          0.18455366724861744,
          0.17568834198735056,
          0.20683369250779673,
          0.2471424379821781,
          0.3002705180544205,
          0.37006031613803403,
          0.45820479921637886,
          0.5650853341619609,
          0.6909876991674381,
          0.8417111877183966,
          1.0164693951567745,
          1.2069214715787433,
          2.025726114925409,
          1.9203367248648924,
          1.7952426620819906,
          1.6425856814203366,
          1.4455627205153565,
          1.1316936390337642,
          0.51463419147586,
          -0.08697464972232433,
          -0.1541034145186323,
          -0.11888661763916017,
          -0.08216479720963414,
          -0.03838402672671474,
          0.020252902360310247,
          0.10058650896293356,
          0.204869674123596,
          0.3371429282080122,
          0.5022749583893522,
          0.7042997672418164,
          0.934113275509574,
          1.1653354363991537,
          1.7269827949091885,
          1.6273077367240414,
          1.502625473557044,
          1.3430108690861369,
          1.1235838834362986,
          0.7501643393981804,
          -0.007572264832721482,
          -0.40225684317401783,
          -0.3875149500221574,
          -0.3681981768221211,
          -0.3573844059960216,
          -0.3303130270714197,
          -0.27017791783681094,
          -0.1766206422577867,
          -0.04484382955477812,
          0.13610448929304353,
          0.3747429802198502,
          0.656722356265902,
          0.9357374414186047,
          1.1826894738422185,
          1.4919437134580527,
          1.2882620237559155,
          1.1461247644368717,
          0.9900601003164695,
          0.7613022853986934,
          0.37889009586718064,
          -0.19679831661886343,
          -0.3887295748709056,
          -0.4044363694591803,
          -0.45666300872447774,
          -0.5211828826378065,
          -0.5522515139725673,
          -0.5176593738787147,
          -0.4141432188399367,
          -0.2345973095164357,
          0.04841369175708209,
          0.39845591349522147,
          0.7331594580119396,
          1.0056050719067224,
          1.2332452606772113,
          1.4158411758280605,
          1.2263730567057816,
          0.9885525059666058,
          0.7115340726694809,
          0.4713822023901185,
          0.24057101418272975,
          0.00961561416686034,
          -0.09028044808321674,
          -0.14349940507721837,
          -0.24026939010947396,
          -0.3746311456794391,
          -0.5053346412369131,
          -0.5566348306033799,
          -0.4600606788599726,
          -0.17369597840709342,
          0.23010790116397958,
          0.5900929885895803,
          0.8646003954502637,
          1.0497906726740378,
          1.217294695572285,
          1.3181114580550823,
          1.1530542236936492,
          0.9538110572556392,
          0.7173859562037752,
          0.48138878940442686,
          0.3305337271648208,
          0.24052197268450803,
          0.19184993176911588,
          0.15823439225232994,
          0.09947880798234283,
          0.00047477408665036306,
          -0.11453343976600767,
          -0.15755864066506994,
          -0.016620937831403147,
          0.2549412724358942,
          0.4713981076008965,
          0.664856262049351,
          0.851515469365366,
          1.027275928595137,
          1.1920972886644317,
          1.2515825744918736,
          1.086265019385369,
          0.9129501071458679,
          0.7142067285206578,
          0.5177384204539093,
          0.3934387793794573,
          0.34477755618714695,
          0.32396232242351936,
          0.31195876355456836,
          0.29919489213995526,
          0.28162230204718774,
          0.2692851765603618,
          0.2650335226335251,
          0.28458853198428663,
          0.3723313654497272,
          0.5160474603629527,
          0.6848462501697392,
          0.8579144842622841,
          1.0252901815779185,
          1.185230488582704,
          1.2874489968555871,
          1.1084822527956404,
          0.9130308380017599,
          0.7131941574014732,
          0.5249895324799062,
          0.40786985723617586,
          0.36998768385610736,
          0.3599654543096637,
          0.3581108214683232,
          0.36106871120215567,
          0.36245077464414216,
          0.36470346224340905,
          0.37109055701531857,
          0.39475550465363696,
          0.4597027631753434,
          0.5748058379195833,
          0.7221535903342695,
          0.880847923107593,
          1.0395788635337497,
          1.192854751971734,
          1.3489921181674813,
          1.1701388399060726,
          0.9645362063035454,
          0.7429670604316431,
          0.5491665576137714,
          0.4237627073064309,
          0.37796012611933605,
          0.36622979605441697,
          0.3658039318271975,
          0.36959509126294654,
          0.3776089980773818,
          0.3915134996397569,
          0.4131650317575436,
          0.45124777444982694,
          0.519523177995856,
          0.6236607267967946,
          0.7567127666257637,
          0.9047153548920165,
          1.0564713431893311,
          1.2047253935342388,
          1.4765434696191444,
          1.2922484412978006,
          1.0849594547387473,
          0.860613533896111,
          0.6732182331489359,
          0.5382334407788213,
          0.45004842154325486,
          0.4071365179297298,
          0.39281284817672596,
          0.39240700132099715,
          0.40563701597736646,
          0.4346355294667777,
          0.47811166536717215,
          0.5395067205873333,
          0.6196584897451962,
          0.7178168380629237,
          0.8340233446602577,
          0.9645704714210034,
          1.1012388243937399,
          1.2375188938823025,
          1.6509408386069868,
          1.4614134120025262,
          1.2611574388788203,
          1.041170991319184,
          0.884046458771827,
          0.7887830385340168,
          0.6914755072459401,
          0.591264087043551,
          0.5307064225239995,
          0.5103512884222936,
          0.5050995863918166,
          0.5196893718676665,
          0.5676093789323358,
          0.6450905838072789,
          0.7437187523069337,
          0.8540754491940787,
          0.9674557126841273,
          1.0810820016563711,
          1.1972371722879558,
          1.3149513426409185,
          1.8267670714045396,
          1.6465817545999315,
          1.4553652633097496,
          1.2620248160686864,
          1.1268806844649286,
          1.055231892969001,
          0.9823407950762779,
          0.8924865730558302,
          0.8155981386044021,
          0.7741629776373906,
          0.7528453940562282,
          0.7437001429441691,
          0.7547368147433515,
          0.799326685845012,
          0.8784030070056139,
          0.9812768781008292,
          1.0918021905462936,
          1.2028048868250942,
          1.3090713556597677,
          1.4144071988736189,
          2.0000272033076962,
          1.8385413425606019,
          1.67211851785736,
          1.5023088472022723,
          1.3640387375602487,
          1.3008085791959008,
          1.251253482273722,
          1.1891029990271684,
          1.1437864714097734,
          1.1069937413822437,
          1.0764119660118348,
          1.0547971582749172,
          1.0446458346172647,
          1.0526775648310411,
          1.084494026278569,
          1.1413048407398,
          1.222823726081463,
          1.3185639911493896,
          1.418534495318856,
          1.5153738271847164,
          2.178009206830937,
          2.0351275959322033,
          1.887029539170796,
          1.7350729240621827,
          1.59813590741451,
          1.5343901728533407,
          1.4993213872617717,
          1.4682605670482252,
          1.4481483746368367,
          1.4235512003601096,
          1.3958039777880746,
          1.3702513081062568,
          1.3487817009162115,
          1.3375586597721993,
          1.3419476453942663,
          1.3640954772699008,
          1.4031852334458785,
          1.4601749601354608,
          1.5347115277874268,
          1.6193827897095856,
          2.3524923321563094,
          2.2231014533942077,
          2.088974933158153,
          1.9513089757368118,
          1.8274352340119382,
          1.7677422673948024,
          1.7422038313403265,
          1.7274068647759475,
          1.7178824754996183,
          1.7022357315615424,
          1.680544449315671,
          1.6565297020247565,
          1.6321752331790003,
          1.6113767101772525,
          1.6001774592932247,
          1.6024262735883423,
          1.6182369422838612,
          1.646323000730438,
          1.6871745660669966,
          1.7420000442601005
         ]
        },
        {
         "hovertemplate": "%{text}",
         "line": {
          "color": "orange"
         },
         "marker": {
          "color": "orange",
          "size": [
           8,
           5,
           5,
           5,
           5,
           5,
           5,
           5,
           5,
           5,
           5,
           5,
           5,
           5,
           5,
           5,
           5,
           5,
           5,
           5,
           5,
           5,
           5,
           5,
           5,
           5,
           5,
           5,
           5,
           5,
           8
          ]
         },
         "mode": "markers+lines",
         "name": "Classic SGD m=0.0",
         "text": [
          "Start Point<br>Loss: 1.3960449523925782",
          "Trajectory Point<br>Loss: 1.396025351524353",
          "Trajectory Point<br>Loss: 1.1683118053436279",
          "Trajectory Point<br>Loss: 0.9982068877220154",
          "Trajectory Point<br>Loss: 0.9980258009910583",
          "Trajectory Point<br>Loss: 0.8771174408912659",
          "Trajectory Point<br>Loss: 0.7744518064498901",
          "Trajectory Point<br>Loss: 0.7743603731155395",
          "Trajectory Point<br>Loss: 0.6931416335105895",
          "Trajectory Point<br>Loss: 0.6236296487808227",
          "Trajectory Point<br>Loss: 0.6236526748657226",
          "Trajectory Point<br>Loss: 0.5674551845550537",
          "Trajectory Point<br>Loss: 0.5226786334514618",
          "Trajectory Point<br>Loss: 0.5225628317356109",
          "Trajectory Point<br>Loss: 0.48613123779296874",
          "Trajectory Point<br>Loss: 0.45640169205665587",
          "Trajectory Point<br>Loss: 0.4563892554759979",
          "Trajectory Point<br>Loss: 0.4330246099472046",
          "Trajectory Point<br>Loss: 0.41509846076965334",
          "Trajectory Point<br>Loss: 0.41511311802864076",
          "Trajectory Point<br>Loss: 0.40079463391304015",
          "Trajectory Point<br>Loss: 0.39000759649276734",
          "Trajectory Point<br>Loss: 0.3899854899406433",
          "Trajectory Point<br>Loss: 0.3816011634349823",
          "Trajectory Point<br>Loss: 0.374851420545578",
          "Trajectory Point<br>Loss: 0.3748451882362366",
          "Trajectory Point<br>Loss: 0.36986541066169737",
          "Trajectory Point<br>Loss: 0.3665901687145233",
          "Trajectory Point<br>Loss: 0.3665935554504395",
          "Trajectory Point<br>Loss: 0.36390461831092835",
          "End Point<br>Loss: 0.3624576584339142"
         ],
         "type": "scatter",
         "x": [
          3.195769786834717,
          3.1957199573516846,
          2.582537889480591,
          2.053042411804199,
          2.052504539489746,
          1.6259969472885132,
          1.2270944118499756,
          1.2266689538955688,
          0.8768727779388428,
          0.5497427582740784,
          0.5497386455535889,
          0.2540547549724579,
          -0.008609078824520111,
          -0.009295174852013588,
          -0.24927835166454315,
          -0.4730444550514221,
          -0.47300398349761963,
          -0.6734241247177124,
          -0.8497794270515442,
          -0.8497005105018616,
          -1.0122956037521362,
          -1.1550954580307007,
          -1.1554996967315674,
          -1.2883788347244263,
          -1.4162832498550415,
          -1.4164190292358398,
          -1.5332164764404297,
          -1.6310678720474243,
          -1.6308194398880005,
          -1.7398873567581177,
          -1.824643611907959
         ],
         "y": [
          1.6320654153823853,
          1.631888747215271,
          0.2695515751838684,
          -0.3326004445552826,
          -0.33354198932647705,
          -0.5691762566566467,
          -0.6851053237915039,
          -0.6855148673057556,
          -0.7056321501731873,
          -0.6678449511528015,
          -0.667305588722229,
          -0.5988039970397949,
          -0.5056424140930176,
          -0.5063849687576294,
          -0.4048561453819275,
          -0.28250813484191895,
          -0.28179284930229187,
          -0.16941244900226593,
          -0.06181976571679115,
          -0.06139662489295006,
          0.0537351593375206,
          0.1539631336927414,
          0.15397806465625763,
          0.24686187505722046,
          0.3337743282318115,
          0.33432161808013916,
          0.4323440194129944,
          0.5137671232223511,
          0.5134578943252563,
          0.5852808952331543,
          0.6643479466438293
         ]
        },
        {
         "hovertemplate": "%{text}",
         "line": {
          "color": "green"
         },
         "marker": {
          "color": "green",
          "size": [
           8,
           5,
           5,
           5,
           5,
           5,
           5,
           5,
           5,
           5,
           5,
           5,
           5,
           5,
           5,
           5,
           5,
           5,
           5,
           5,
           5,
           5,
           5,
           5,
           5,
           5,
           5,
           5,
           5,
           5,
           8
          ]
         },
         "mode": "markers+lines",
         "name": "Classic SGD m=0.5",
         "text": [
          "Start Point<br>Loss: 1.3960453481674195",
          "Trajectory Point<br>Loss: 1.3960258224487305",
          "Trajectory Point<br>Loss: 0.9889616768836975",
          "Trajectory Point<br>Loss: 0.7579946478843689",
          "Trajectory Point<br>Loss: 0.7577677629470825",
          "Trajectory Point<br>Loss: 0.6045749787330628",
          "Trajectory Point<br>Loss: 0.5008191135883331",
          "Trajectory Point<br>Loss: 0.500754816198349",
          "Trajectory Point<br>Loss: 0.437896493768692",
          "Trajectory Point<br>Loss: 0.3988222768783569",
          "Trajectory Point<br>Loss: 0.3988104455471039",
          "Trajectory Point<br>Loss: 0.3776194394588471",
          "Trajectory Point<br>Loss: 0.3667203078746796",
          "Trajectory Point<br>Loss: 0.3667049308776855",
          "Trajectory Point<br>Loss: 0.36242295236587524",
          "Trajectory Point<br>Loss: 0.3626983174800873",
          "Trajectory Point<br>Loss: 0.3626990714073181",
          "Trajectory Point<br>Loss: 0.3660289976596832",
          "Trajectory Point<br>Loss: 0.3709674074172974",
          "Trajectory Point<br>Loss: 0.37097061405181886",
          "Trajectory Point<br>Loss: 0.3774301308631897",
          "Trajectory Point<br>Loss: 0.38448574113845824",
          "Trajectory Point<br>Loss: 0.3844991344451904",
          "Trajectory Point<br>Loss: 0.39253275709152224",
          "Trajectory Point<br>Loss: 0.4007900428771973",
          "Trajectory Point<br>Loss: 0.4008109479904175",
          "Trajectory Point<br>Loss: 0.4091305018424988",
          "Trajectory Point<br>Loss: 0.4160681251525879",
          "Trajectory Point<br>Loss: 0.41604427642822267",
          "Trajectory Point<br>Loss: 0.4249268708229065",
          "End Point<br>Loss: 0.4320148394584656"
         ],
         "type": "scatter",
         "x": [
          4.124940395355225,
          4.124902725219727,
          3.2820329666137695,
          2.6773886680603027,
          2.6767475605010986,
          2.140507221221924,
          1.6298836469650269,
          1.6294664144515991,
          1.173838496208191,
          0.7439252138137817,
          0.7437516450881958,
          0.36845558881759644,
          0.022832822054624557,
          0.02231333777308464,
          -0.2907547950744629,
          -0.5875259041786194,
          -0.587659478187561,
          -0.8559373617172241,
          -1.0864487886428833,
          -1.0866355895996094,
          -1.3072607517242432,
          -1.5065754652023315,
          -1.506895899772644,
          -1.6971688270568848,
          -1.8703908920288086,
          -1.8707064390182495,
          -2.0299415588378906,
          -2.1649155616760254,
          -2.1646978855133057,
          -2.312746524810791,
          -2.434723377227783
         ],
         "y": [
          2.062331438064575,
          2.0621864795684814,
          0.30659210681915283,
          -0.33576536178588867,
          -0.33689960837364197,
          -0.6745359301567078,
          -0.8428884744644165,
          -0.843065619468689,
          -0.8911870121955872,
          -0.8519994616508484,
          -0.8516680598258972,
          -0.7683681845664978,
          -0.6476209163665771,
          -0.6481783390045166,
          -0.5257900357246399,
          -0.38744470477104187,
          -0.38619133830070496,
          -0.2465239316225052,
          -0.10110590606927872,
          -0.1008521169424057,
          0.039017386734485626,
          0.1867741346359253,
          0.18667544424533844,
          0.3045112192630768,
          0.4230363667011261,
          0.4233846366405487,
          0.5369501113891602,
          0.657438337802887,
          0.6578426957130432,
          0.744918704032898,
          0.84842449426651
         ]
        },
        {
         "hovertemplate": "%{text}",
         "line": {
          "color": "blue"
         },
         "marker": {
          "color": "blue",
          "size": [
           8,
           5,
           5,
           5,
           5,
           5,
           5,
           5,
           5,
           5,
           5,
           5,
           5,
           5,
           5,
           5,
           5,
           5,
           5,
           5,
           5,
           5,
           5,
           5,
           5,
           5,
           5,
           5,
           5,
           5,
           8
          ]
         },
         "mode": "markers+lines",
         "name": "Classic SGD m=0.9",
         "text": [
          "Start Point<br>Loss: 1.3960453481674195",
          "Trajectory Point<br>Loss: 1.3960258224487305",
          "Trajectory Point<br>Loss: 0.5304424165725709",
          "Trajectory Point<br>Loss: 0.4068778076648712",
          "Trajectory Point<br>Loss: 0.4067962123394012",
          "Trajectory Point<br>Loss: 0.36788186535835266",
          "Trajectory Point<br>Loss: 0.34338364968299867",
          "Trajectory Point<br>Loss: 0.34335795335769653",
          "Trajectory Point<br>Loss: 0.3234490993976593",
          "Trajectory Point<br>Loss: 0.3071607858657837",
          "Trajectory Point<br>Loss: 0.30714970412254333",
          "Trajectory Point<br>Loss: 0.29401904740333556",
          "Trajectory Point<br>Loss: 0.2824925712108612",
          "Trajectory Point<br>Loss: 0.2824799397468567",
          "Trajectory Point<br>Loss: 0.2736046006917954",
          "Trajectory Point<br>Loss: 0.26833996460437776",
          "Trajectory Point<br>Loss: 0.2683181196451187",
          "Trajectory Point<br>Loss: 0.2637598968744278",
          "Trajectory Point<br>Loss: 0.26052731766700743",
          "Trajectory Point<br>Loss: 0.2605288917541504",
          "Trajectory Point<br>Loss: 0.26016556470394137",
          "Trajectory Point<br>Loss: 0.2607109766483307",
          "Trajectory Point<br>Loss: 0.26072170753479",
          "Trajectory Point<br>Loss: 0.26334143503904345",
          "Trajectory Point<br>Loss: 0.266612282204628",
          "Trajectory Point<br>Loss: 0.266621274292469",
          "Trajectory Point<br>Loss: 0.27167181124687195",
          "Trajectory Point<br>Loss: 0.2768774319887161",
          "Trajectory Point<br>Loss: 0.2768622104525566",
          "Trajectory Point<br>Loss: 0.2852252529859543",
          "End Point<br>Loss: 0.29312153458595275"
         ],
         "type": "scatter",
         "x": [
          8.088591575622559,
          8.088560104370117,
          6.407351970672607,
          5.2186784744262695,
          5.217672824859619,
          4.169168949127197,
          3.244370698928833,
          3.243429660797119,
          2.386012315750122,
          1.6120153665542603,
          1.6114319562911987,
          0.9155203104019165,
          0.24762959778308868,
          0.24701756238937378,
          -0.38303956389427185,
          -0.9689050912857056,
          -0.9692474007606506,
          -1.5276018381118774,
          -2.029923677444458,
          -2.0304229259490967,
          -2.508272647857666,
          -2.965851306915283,
          -2.966543436050415,
          -3.4096999168395996,
          -3.8144702911376953,
          -3.814893960952759,
          -4.195838451385498,
          -4.5343337059021,
          -4.534382343292236,
          -4.880066871643066,
          -5.163956165313721
         ],
         "y": [
          3.875185489654541,
          3.8751046657562256,
          0.9028571844100952,
          -0.40178629755973816,
          -0.4032635986804962,
          -1.0914111137390137,
          -1.476378321647644,
          -1.4769368171691895,
          -1.63456392288208,
          -1.6572989225387573,
          -1.6573917865753174,
          -1.565545678138733,
          -1.3894903659820557,
          -1.389088749885559,
          -1.162172794342041,
          -0.9504929184913635,
          -0.9494286179542542,
          -0.6494530439376831,
          -0.32135578989982605,
          -0.32145214080810547,
          -0.04285027086734772,
          0.26757746934890747,
          0.26746001839637756,
          0.5312522649765015,
          0.8319298028945923,
          0.8316925168037415,
          1.0885090827941895,
          1.3806558847427368,
          1.3821958303451538,
          1.553624153137207,
          1.752316951751709
         ]
        },
        {
         "hovertemplate": "Loss: %{text}",
         "marker": {
          "color": "red",
          "size": 7,
          "symbol": "star"
         },
         "mode": "markers",
         "name": "global minimum",
         "text": [
          "0.2775652986049652"
         ],
         "type": "scatter",
         "x": [
          7.932822741960223
         ],
         "y": [
          1.7442782803585644
         ]
        },
        {
         "hovertemplate": "Loss: %{text}",
         "marker": {
          "color": "red",
          "size": 7,
          "symbol": "cross"
         },
         "mode": "markers",
         "name": "min 0",
         "text": [
          "0.35871151843070986"
         ],
         "type": "scatter",
         "x": [
          -1.2961790436192562
         ],
         "y": [
          0.28921466124685224
         ]
        },
        {
         "hovertemplate": "Loss: %{text}",
         "marker": {
          "color": "red",
          "size": 7,
          "symbol": "square"
         },
         "mode": "markers",
         "name": "min 5",
         "text": [
          "0.3054031849861145"
         ],
         "type": "scatter",
         "x": [
          -1.7442324537979932
         ],
         "y": [
          0.32724031649137864
         ]
        },
        {
         "hovertemplate": "Loss: %{text}",
         "marker": {
          "color": "red",
          "size": 7,
          "symbol": "circle"
         },
         "mode": "markers",
         "name": "min 9",
         "text": [
          "0.260352781021595"
         ],
         "type": "scatter",
         "x": [
          -3.7689512654354704
         ],
         "y": [
          0.4160639110364386
         ]
        }
       ],
       "layout": {
        "legend": {
         "orientation": "v",
         "x": 0,
         "y": 0
        },
        "template": {
         "data": {
          "bar": [
           {
            "error_x": {
             "color": "#2a3f5f"
            },
            "error_y": {
             "color": "#2a3f5f"
            },
            "marker": {
             "line": {
              "color": "#E5ECF6",
              "width": 0.5
             },
             "pattern": {
              "fillmode": "overlay",
              "size": 10,
              "solidity": 0.2
             }
            },
            "type": "bar"
           }
          ],
          "barpolar": [
           {
            "marker": {
             "line": {
              "color": "#E5ECF6",
              "width": 0.5
             },
             "pattern": {
              "fillmode": "overlay",
              "size": 10,
              "solidity": 0.2
             }
            },
            "type": "barpolar"
           }
          ],
          "carpet": [
           {
            "aaxis": {
             "endlinecolor": "#2a3f5f",
             "gridcolor": "white",
             "linecolor": "white",
             "minorgridcolor": "white",
             "startlinecolor": "#2a3f5f"
            },
            "baxis": {
             "endlinecolor": "#2a3f5f",
             "gridcolor": "white",
             "linecolor": "white",
             "minorgridcolor": "white",
             "startlinecolor": "#2a3f5f"
            },
            "type": "carpet"
           }
          ],
          "choropleth": [
           {
            "colorbar": {
             "outlinewidth": 0,
             "ticks": ""
            },
            "type": "choropleth"
           }
          ],
          "contour": [
           {
            "colorbar": {
             "outlinewidth": 0,
             "ticks": ""
            },
            "colorscale": [
             [
              0,
              "#0d0887"
             ],
             [
              0.1111111111111111,
              "#46039f"
             ],
             [
              0.2222222222222222,
              "#7201a8"
             ],
             [
              0.3333333333333333,
              "#9c179e"
             ],
             [
              0.4444444444444444,
              "#bd3786"
             ],
             [
              0.5555555555555556,
              "#d8576b"
             ],
             [
              0.6666666666666666,
              "#ed7953"
             ],
             [
              0.7777777777777778,
              "#fb9f3a"
             ],
             [
              0.8888888888888888,
              "#fdca26"
             ],
             [
              1,
              "#f0f921"
             ]
            ],
            "type": "contour"
           }
          ],
          "contourcarpet": [
           {
            "colorbar": {
             "outlinewidth": 0,
             "ticks": ""
            },
            "type": "contourcarpet"
           }
          ],
          "heatmap": [
           {
            "colorbar": {
             "outlinewidth": 0,
             "ticks": ""
            },
            "colorscale": [
             [
              0,
              "#0d0887"
             ],
             [
              0.1111111111111111,
              "#46039f"
             ],
             [
              0.2222222222222222,
              "#7201a8"
             ],
             [
              0.3333333333333333,
              "#9c179e"
             ],
             [
              0.4444444444444444,
              "#bd3786"
             ],
             [
              0.5555555555555556,
              "#d8576b"
             ],
             [
              0.6666666666666666,
              "#ed7953"
             ],
             [
              0.7777777777777778,
              "#fb9f3a"
             ],
             [
              0.8888888888888888,
              "#fdca26"
             ],
             [
              1,
              "#f0f921"
             ]
            ],
            "type": "heatmap"
           }
          ],
          "heatmapgl": [
           {
            "colorbar": {
             "outlinewidth": 0,
             "ticks": ""
            },
            "colorscale": [
             [
              0,
              "#0d0887"
             ],
             [
              0.1111111111111111,
              "#46039f"
             ],
             [
              0.2222222222222222,
              "#7201a8"
             ],
             [
              0.3333333333333333,
              "#9c179e"
             ],
             [
              0.4444444444444444,
              "#bd3786"
             ],
             [
              0.5555555555555556,
              "#d8576b"
             ],
             [
              0.6666666666666666,
              "#ed7953"
             ],
             [
              0.7777777777777778,
              "#fb9f3a"
             ],
             [
              0.8888888888888888,
              "#fdca26"
             ],
             [
              1,
              "#f0f921"
             ]
            ],
            "type": "heatmapgl"
           }
          ],
          "histogram": [
           {
            "marker": {
             "pattern": {
              "fillmode": "overlay",
              "size": 10,
              "solidity": 0.2
             }
            },
            "type": "histogram"
           }
          ],
          "histogram2d": [
           {
            "colorbar": {
             "outlinewidth": 0,
             "ticks": ""
            },
            "colorscale": [
             [
              0,
              "#0d0887"
             ],
             [
              0.1111111111111111,
              "#46039f"
             ],
             [
              0.2222222222222222,
              "#7201a8"
             ],
             [
              0.3333333333333333,
              "#9c179e"
             ],
             [
              0.4444444444444444,
              "#bd3786"
             ],
             [
              0.5555555555555556,
              "#d8576b"
             ],
             [
              0.6666666666666666,
              "#ed7953"
             ],
             [
              0.7777777777777778,
              "#fb9f3a"
             ],
             [
              0.8888888888888888,
              "#fdca26"
             ],
             [
              1,
              "#f0f921"
             ]
            ],
            "type": "histogram2d"
           }
          ],
          "histogram2dcontour": [
           {
            "colorbar": {
             "outlinewidth": 0,
             "ticks": ""
            },
            "colorscale": [
             [
              0,
              "#0d0887"
             ],
             [
              0.1111111111111111,
              "#46039f"
             ],
             [
              0.2222222222222222,
              "#7201a8"
             ],
             [
              0.3333333333333333,
              "#9c179e"
             ],
             [
              0.4444444444444444,
              "#bd3786"
             ],
             [
              0.5555555555555556,
              "#d8576b"
             ],
             [
              0.6666666666666666,
              "#ed7953"
             ],
             [
              0.7777777777777778,
              "#fb9f3a"
             ],
             [
              0.8888888888888888,
              "#fdca26"
             ],
             [
              1,
              "#f0f921"
             ]
            ],
            "type": "histogram2dcontour"
           }
          ],
          "mesh3d": [
           {
            "colorbar": {
             "outlinewidth": 0,
             "ticks": ""
            },
            "type": "mesh3d"
           }
          ],
          "parcoords": [
           {
            "line": {
             "colorbar": {
              "outlinewidth": 0,
              "ticks": ""
             }
            },
            "type": "parcoords"
           }
          ],
          "pie": [
           {
            "automargin": true,
            "type": "pie"
           }
          ],
          "scatter": [
           {
            "fillpattern": {
             "fillmode": "overlay",
             "size": 10,
             "solidity": 0.2
            },
            "type": "scatter"
           }
          ],
          "scatter3d": [
           {
            "line": {
             "colorbar": {
              "outlinewidth": 0,
              "ticks": ""
             }
            },
            "marker": {
             "colorbar": {
              "outlinewidth": 0,
              "ticks": ""
             }
            },
            "type": "scatter3d"
           }
          ],
          "scattercarpet": [
           {
            "marker": {
             "colorbar": {
              "outlinewidth": 0,
              "ticks": ""
             }
            },
            "type": "scattercarpet"
           }
          ],
          "scattergeo": [
           {
            "marker": {
             "colorbar": {
              "outlinewidth": 0,
              "ticks": ""
             }
            },
            "type": "scattergeo"
           }
          ],
          "scattergl": [
           {
            "marker": {
             "colorbar": {
              "outlinewidth": 0,
              "ticks": ""
             }
            },
            "type": "scattergl"
           }
          ],
          "scattermapbox": [
           {
            "marker": {
             "colorbar": {
              "outlinewidth": 0,
              "ticks": ""
             }
            },
            "type": "scattermapbox"
           }
          ],
          "scatterpolar": [
           {
            "marker": {
             "colorbar": {
              "outlinewidth": 0,
              "ticks": ""
             }
            },
            "type": "scatterpolar"
           }
          ],
          "scatterpolargl": [
           {
            "marker": {
             "colorbar": {
              "outlinewidth": 0,
              "ticks": ""
             }
            },
            "type": "scatterpolargl"
           }
          ],
          "scatterternary": [
           {
            "marker": {
             "colorbar": {
              "outlinewidth": 0,
              "ticks": ""
             }
            },
            "type": "scatterternary"
           }
          ],
          "surface": [
           {
            "colorbar": {
             "outlinewidth": 0,
             "ticks": ""
            },
            "colorscale": [
             [
              0,
              "#0d0887"
             ],
             [
              0.1111111111111111,
              "#46039f"
             ],
             [
              0.2222222222222222,
              "#7201a8"
             ],
             [
              0.3333333333333333,
              "#9c179e"
             ],
             [
              0.4444444444444444,
              "#bd3786"
             ],
             [
              0.5555555555555556,
              "#d8576b"
             ],
             [
              0.6666666666666666,
              "#ed7953"
             ],
             [
              0.7777777777777778,
              "#fb9f3a"
             ],
             [
              0.8888888888888888,
              "#fdca26"
             ],
             [
              1,
              "#f0f921"
             ]
            ],
            "type": "surface"
           }
          ],
          "table": [
           {
            "cells": {
             "fill": {
              "color": "#EBF0F8"
             },
             "line": {
              "color": "white"
             }
            },
            "header": {
             "fill": {
              "color": "#C8D4E3"
             },
             "line": {
              "color": "white"
             }
            },
            "type": "table"
           }
          ]
         },
         "layout": {
          "annotationdefaults": {
           "arrowcolor": "#2a3f5f",
           "arrowhead": 0,
           "arrowwidth": 1
          },
          "autotypenumbers": "strict",
          "coloraxis": {
           "colorbar": {
            "outlinewidth": 0,
            "ticks": ""
           }
          },
          "colorscale": {
           "diverging": [
            [
             0,
             "#8e0152"
            ],
            [
             0.1,
             "#c51b7d"
            ],
            [
             0.2,
             "#de77ae"
            ],
            [
             0.3,
             "#f1b6da"
            ],
            [
             0.4,
             "#fde0ef"
            ],
            [
             0.5,
             "#f7f7f7"
            ],
            [
             0.6,
             "#e6f5d0"
            ],
            [
             0.7,
             "#b8e186"
            ],
            [
             0.8,
             "#7fbc41"
            ],
            [
             0.9,
             "#4d9221"
            ],
            [
             1,
             "#276419"
            ]
           ],
           "sequential": [
            [
             0,
             "#0d0887"
            ],
            [
             0.1111111111111111,
             "#46039f"
            ],
            [
             0.2222222222222222,
             "#7201a8"
            ],
            [
             0.3333333333333333,
             "#9c179e"
            ],
            [
             0.4444444444444444,
             "#bd3786"
            ],
            [
             0.5555555555555556,
             "#d8576b"
            ],
            [
             0.6666666666666666,
             "#ed7953"
            ],
            [
             0.7777777777777778,
             "#fb9f3a"
            ],
            [
             0.8888888888888888,
             "#fdca26"
            ],
            [
             1,
             "#f0f921"
            ]
           ],
           "sequentialminus": [
            [
             0,
             "#0d0887"
            ],
            [
             0.1111111111111111,
             "#46039f"
            ],
            [
             0.2222222222222222,
             "#7201a8"
            ],
            [
             0.3333333333333333,
             "#9c179e"
            ],
            [
             0.4444444444444444,
             "#bd3786"
            ],
            [
             0.5555555555555556,
             "#d8576b"
            ],
            [
             0.6666666666666666,
             "#ed7953"
            ],
            [
             0.7777777777777778,
             "#fb9f3a"
            ],
            [
             0.8888888888888888,
             "#fdca26"
            ],
            [
             1,
             "#f0f921"
            ]
           ]
          },
          "colorway": [
           "#636efa",
           "#EF553B",
           "#00cc96",
           "#ab63fa",
           "#FFA15A",
           "#19d3f3",
           "#FF6692",
           "#B6E880",
           "#FF97FF",
           "#FECB52"
          ],
          "font": {
           "color": "#2a3f5f"
          },
          "geo": {
           "bgcolor": "white",
           "lakecolor": "white",
           "landcolor": "#E5ECF6",
           "showlakes": true,
           "showland": true,
           "subunitcolor": "white"
          },
          "hoverlabel": {
           "align": "left"
          },
          "hovermode": "closest",
          "mapbox": {
           "style": "light"
          },
          "paper_bgcolor": "white",
          "plot_bgcolor": "#E5ECF6",
          "polar": {
           "angularaxis": {
            "gridcolor": "white",
            "linecolor": "white",
            "ticks": ""
           },
           "bgcolor": "#E5ECF6",
           "radialaxis": {
            "gridcolor": "white",
            "linecolor": "white",
            "ticks": ""
           }
          },
          "scene": {
           "xaxis": {
            "backgroundcolor": "#E5ECF6",
            "gridcolor": "white",
            "gridwidth": 2,
            "linecolor": "white",
            "showbackground": true,
            "ticks": "",
            "zerolinecolor": "white"
           },
           "yaxis": {
            "backgroundcolor": "#E5ECF6",
            "gridcolor": "white",
            "gridwidth": 2,
            "linecolor": "white",
            "showbackground": true,
            "ticks": "",
            "zerolinecolor": "white"
           },
           "zaxis": {
            "backgroundcolor": "#E5ECF6",
            "gridcolor": "white",
            "gridwidth": 2,
            "linecolor": "white",
            "showbackground": true,
            "ticks": "",
            "zerolinecolor": "white"
           }
          },
          "shapedefaults": {
           "line": {
            "color": "#2a3f5f"
           }
          },
          "ternary": {
           "aaxis": {
            "gridcolor": "white",
            "linecolor": "white",
            "ticks": ""
           },
           "baxis": {
            "gridcolor": "white",
            "linecolor": "white",
            "ticks": ""
           },
           "bgcolor": "#E5ECF6",
           "caxis": {
            "gridcolor": "white",
            "linecolor": "white",
            "ticks": ""
           }
          },
          "title": {
           "x": 0.05
          },
          "xaxis": {
           "automargin": true,
           "gridcolor": "white",
           "linecolor": "white",
           "ticks": "",
           "title": {
            "standoff": 15
           },
           "zerolinecolor": "white",
           "zerolinewidth": 2
          },
          "yaxis": {
           "automargin": true,
           "gridcolor": "white",
           "linecolor": "white",
           "ticks": "",
           "title": {
            "standoff": 15
           },
           "zerolinecolor": "white",
           "zerolinewidth": 2
          }
         }
        },
        "title": {
         "text": "Contour Plot with trajectories Projection"
        },
        "xaxis": {
         "title": {
          "text": "PC1"
         }
        },
        "yaxis": {
         "title": {
          "text": "PC2"
         }
        }
       }
      },
      "text/html": [
       "<div>                            <div id=\"b19c4721-83ea-4146-881d-a574fe21b0cf\" class=\"plotly-graph-div\" style=\"height:525px; width:100%;\"></div>            <script type=\"text/javascript\">                require([\"plotly\"], function(Plotly) {                    window.PLOTLYENV=window.PLOTLYENV || {};                                    if (document.getElementById(\"b19c4721-83ea-4146-881d-a574fe21b0cf\")) {                    Plotly.newPlot(                        \"b19c4721-83ea-4146-881d-a574fe21b0cf\",                        [{\"colorscale\":[[0.0,\"#440154\"],[0.1111111111111111,\"#482878\"],[0.2222222222222222,\"#3e4989\"],[0.3333333333333333,\"#31688e\"],[0.4444444444444444,\"#26828e\"],[0.5555555555555556,\"#1f9e89\"],[0.6666666666666666,\"#35b779\"],[0.7777777777777778,\"#6ece58\"],[0.8888888888888888,\"#b5de2b\"],[1.0,\"#fde725\"]],\"name\":\"grid point\",\"x\":[-16.82135510444641,-14.758506950579191,-12.695658796711971,-10.632810642844753,-8.569962488977533,-6.5071143351103125,-4.444266181243094,-2.381418027375874,-0.31856987350865396,1.7442782803585644,3.8071264342257862,5.8699745880930045,7.932822741960223,9.995670895827445,12.058519049694663,14.121367203561885,16.184215357429103,18.247063511296325,20.30991166516354,22.37275981903076,-16.82135510444641,-14.758506950579191,-12.695658796711971,-10.632810642844753,-8.569962488977533,-6.5071143351103125,-4.444266181243094,-2.381418027375874,-0.31856987350865396,1.7442782803585644,3.8071264342257862,5.8699745880930045,7.932822741960223,9.995670895827445,12.058519049694663,14.121367203561885,16.184215357429103,18.247063511296325,20.30991166516354,22.37275981903076,-16.82135510444641,-14.758506950579191,-12.695658796711971,-10.632810642844753,-8.569962488977533,-6.5071143351103125,-4.444266181243094,-2.381418027375874,-0.31856987350865396,1.7442782803585644,3.8071264342257862,5.8699745880930045,7.932822741960223,9.995670895827445,12.058519049694663,14.121367203561885,16.184215357429103,18.247063511296325,20.30991166516354,22.37275981903076,-16.82135510444641,-14.758506950579191,-12.695658796711971,-10.632810642844753,-8.569962488977533,-6.5071143351103125,-4.444266181243094,-2.381418027375874,-0.31856987350865396,1.7442782803585644,3.8071264342257862,5.8699745880930045,7.932822741960223,9.995670895827445,12.058519049694663,14.121367203561885,16.184215357429103,18.247063511296325,20.30991166516354,22.37275981903076,-16.82135510444641,-14.758506950579191,-12.695658796711971,-10.632810642844753,-8.569962488977533,-6.5071143351103125,-4.444266181243094,-2.381418027375874,-0.31856987350865396,1.7442782803585644,3.8071264342257862,5.8699745880930045,7.932822741960223,9.995670895827445,12.058519049694663,14.121367203561885,16.184215357429103,18.247063511296325,20.30991166516354,22.37275981903076,-16.82135510444641,-14.758506950579191,-12.695658796711971,-10.632810642844753,-8.569962488977533,-6.5071143351103125,-4.444266181243094,-2.381418027375874,-0.31856987350865396,1.7442782803585644,3.8071264342257862,5.8699745880930045,7.932822741960223,9.995670895827445,12.058519049694663,14.121367203561885,16.184215357429103,18.247063511296325,20.30991166516354,22.37275981903076,-16.82135510444641,-14.758506950579191,-12.695658796711971,-10.632810642844753,-8.569962488977533,-6.5071143351103125,-4.444266181243094,-2.381418027375874,-0.31856987350865396,1.7442782803585644,3.8071264342257862,5.8699745880930045,7.932822741960223,9.995670895827445,12.058519049694663,14.121367203561885,16.184215357429103,18.247063511296325,20.30991166516354,22.37275981903076,-16.82135510444641,-14.758506950579191,-12.695658796711971,-10.632810642844753,-8.569962488977533,-6.5071143351103125,-4.444266181243094,-2.381418027375874,-0.31856987350865396,1.7442782803585644,3.8071264342257862,5.8699745880930045,7.932822741960223,9.995670895827445,12.058519049694663,14.121367203561885,16.184215357429103,18.247063511296325,20.30991166516354,22.37275981903076,-16.82135510444641,-14.758506950579191,-12.695658796711971,-10.632810642844753,-8.569962488977533,-6.5071143351103125,-4.444266181243094,-2.381418027375874,-0.31856987350865396,1.7442782803585644,3.8071264342257862,5.8699745880930045,7.932822741960223,9.995670895827445,12.058519049694663,14.121367203561885,16.184215357429103,18.247063511296325,20.30991166516354,22.37275981903076,-16.82135510444641,-14.758506950579191,-12.695658796711971,-10.632810642844753,-8.569962488977533,-6.5071143351103125,-4.444266181243094,-2.381418027375874,-0.31856987350865396,1.7442782803585644,3.8071264342257862,5.8699745880930045,7.932822741960223,9.995670895827445,12.058519049694663,14.121367203561885,16.184215357429103,18.247063511296325,20.30991166516354,22.37275981903076,-16.82135510444641,-14.758506950579191,-12.695658796711971,-10.632810642844753,-8.569962488977533,-6.5071143351103125,-4.444266181243094,-2.381418027375874,-0.31856987350865396,1.7442782803585644,3.8071264342257862,5.8699745880930045,7.932822741960223,9.995670895827445,12.058519049694663,14.121367203561885,16.184215357429103,18.247063511296325,20.30991166516354,22.37275981903076,-16.82135510444641,-14.758506950579191,-12.695658796711971,-10.632810642844753,-8.569962488977533,-6.5071143351103125,-4.444266181243094,-2.381418027375874,-0.31856987350865396,1.7442782803585644,3.8071264342257862,5.8699745880930045,7.932822741960223,9.995670895827445,12.058519049694663,14.121367203561885,16.184215357429103,18.247063511296325,20.30991166516354,22.37275981903076,-16.82135510444641,-14.758506950579191,-12.695658796711971,-10.632810642844753,-8.569962488977533,-6.5071143351103125,-4.444266181243094,-2.381418027375874,-0.31856987350865396,1.7442782803585644,3.8071264342257862,5.8699745880930045,7.932822741960223,9.995670895827445,12.058519049694663,14.121367203561885,16.184215357429103,18.247063511296325,20.30991166516354,22.37275981903076,-16.82135510444641,-14.758506950579191,-12.695658796711971,-10.632810642844753,-8.569962488977533,-6.5071143351103125,-4.444266181243094,-2.381418027375874,-0.31856987350865396,1.7442782803585644,3.8071264342257862,5.8699745880930045,7.932822741960223,9.995670895827445,12.058519049694663,14.121367203561885,16.184215357429103,18.247063511296325,20.30991166516354,22.37275981903076,-16.82135510444641,-14.758506950579191,-12.695658796711971,-10.632810642844753,-8.569962488977533,-6.5071143351103125,-4.444266181243094,-2.381418027375874,-0.31856987350865396,1.7442782803585644,3.8071264342257862,5.8699745880930045,7.932822741960223,9.995670895827445,12.058519049694663,14.121367203561885,16.184215357429103,18.247063511296325,20.30991166516354,22.37275981903076,-16.82135510444641,-14.758506950579191,-12.695658796711971,-10.632810642844753,-8.569962488977533,-6.5071143351103125,-4.444266181243094,-2.381418027375874,-0.31856987350865396,1.7442782803585644,3.8071264342257862,5.8699745880930045,7.932822741960223,9.995670895827445,12.058519049694663,14.121367203561885,16.184215357429103,18.247063511296325,20.30991166516354,22.37275981903076,-16.82135510444641,-14.758506950579191,-12.695658796711971,-10.632810642844753,-8.569962488977533,-6.5071143351103125,-4.444266181243094,-2.381418027375874,-0.31856987350865396,1.7442782803585644,3.8071264342257862,5.8699745880930045,7.932822741960223,9.995670895827445,12.058519049694663,14.121367203561885,16.184215357429103,18.247063511296325,20.30991166516354,22.37275981903076,-16.82135510444641,-14.758506950579191,-12.695658796711971,-10.632810642844753,-8.569962488977533,-6.5071143351103125,-4.444266181243094,-2.381418027375874,-0.31856987350865396,1.7442782803585644,3.8071264342257862,5.8699745880930045,7.932822741960223,9.995670895827445,12.058519049694663,14.121367203561885,16.184215357429103,18.247063511296325,20.30991166516354,22.37275981903076,-16.82135510444641,-14.758506950579191,-12.695658796711971,-10.632810642844753,-8.569962488977533,-6.5071143351103125,-4.444266181243094,-2.381418027375874,-0.31856987350865396,1.7442782803585644,3.8071264342257862,5.8699745880930045,7.932822741960223,9.995670895827445,12.058519049694663,14.121367203561885,16.184215357429103,18.247063511296325,20.30991166516354,22.37275981903076,-16.82135510444641,-14.758506950579191,-12.695658796711971,-10.632810642844753,-8.569962488977533,-6.5071143351103125,-4.444266181243094,-2.381418027375874,-0.31856987350865396,1.7442782803585644,3.8071264342257862,5.8699745880930045,7.932822741960223,9.995670895827445,12.058519049694663,14.121367203561885,16.184215357429103,18.247063511296325,20.30991166516354,22.37275981903076],\"y\":[-16.82135510444641,-16.82135510444641,-16.82135510444641,-16.82135510444641,-16.82135510444641,-16.82135510444641,-16.82135510444641,-16.82135510444641,-16.82135510444641,-16.82135510444641,-16.82135510444641,-16.82135510444641,-16.82135510444641,-16.82135510444641,-16.82135510444641,-16.82135510444641,-16.82135510444641,-16.82135510444641,-16.82135510444641,-16.82135510444641,-14.758506950579191,-14.758506950579191,-14.758506950579191,-14.758506950579191,-14.758506950579191,-14.758506950579191,-14.758506950579191,-14.758506950579191,-14.758506950579191,-14.758506950579191,-14.758506950579191,-14.758506950579191,-14.758506950579191,-14.758506950579191,-14.758506950579191,-14.758506950579191,-14.758506950579191,-14.758506950579191,-14.758506950579191,-14.758506950579191,-12.695658796711971,-12.695658796711971,-12.695658796711971,-12.695658796711971,-12.695658796711971,-12.695658796711971,-12.695658796711971,-12.695658796711971,-12.695658796711971,-12.695658796711971,-12.695658796711971,-12.695658796711971,-12.695658796711971,-12.695658796711971,-12.695658796711971,-12.695658796711971,-12.695658796711971,-12.695658796711971,-12.695658796711971,-12.695658796711971,-10.632810642844753,-10.632810642844753,-10.632810642844753,-10.632810642844753,-10.632810642844753,-10.632810642844753,-10.632810642844753,-10.632810642844753,-10.632810642844753,-10.632810642844753,-10.632810642844753,-10.632810642844753,-10.632810642844753,-10.632810642844753,-10.632810642844753,-10.632810642844753,-10.632810642844753,-10.632810642844753,-10.632810642844753,-10.632810642844753,-8.569962488977533,-8.569962488977533,-8.569962488977533,-8.569962488977533,-8.569962488977533,-8.569962488977533,-8.569962488977533,-8.569962488977533,-8.569962488977533,-8.569962488977533,-8.569962488977533,-8.569962488977533,-8.569962488977533,-8.569962488977533,-8.569962488977533,-8.569962488977533,-8.569962488977533,-8.569962488977533,-8.569962488977533,-8.569962488977533,-6.5071143351103125,-6.5071143351103125,-6.5071143351103125,-6.5071143351103125,-6.5071143351103125,-6.5071143351103125,-6.5071143351103125,-6.5071143351103125,-6.5071143351103125,-6.5071143351103125,-6.5071143351103125,-6.5071143351103125,-6.5071143351103125,-6.5071143351103125,-6.5071143351103125,-6.5071143351103125,-6.5071143351103125,-6.5071143351103125,-6.5071143351103125,-6.5071143351103125,-4.444266181243094,-4.444266181243094,-4.444266181243094,-4.444266181243094,-4.444266181243094,-4.444266181243094,-4.444266181243094,-4.444266181243094,-4.444266181243094,-4.444266181243094,-4.444266181243094,-4.444266181243094,-4.444266181243094,-4.444266181243094,-4.444266181243094,-4.444266181243094,-4.444266181243094,-4.444266181243094,-4.444266181243094,-4.444266181243094,-2.381418027375874,-2.381418027375874,-2.381418027375874,-2.381418027375874,-2.381418027375874,-2.381418027375874,-2.381418027375874,-2.381418027375874,-2.381418027375874,-2.381418027375874,-2.381418027375874,-2.381418027375874,-2.381418027375874,-2.381418027375874,-2.381418027375874,-2.381418027375874,-2.381418027375874,-2.381418027375874,-2.381418027375874,-2.381418027375874,-0.31856987350865396,-0.31856987350865396,-0.31856987350865396,-0.31856987350865396,-0.31856987350865396,-0.31856987350865396,-0.31856987350865396,-0.31856987350865396,-0.31856987350865396,-0.31856987350865396,-0.31856987350865396,-0.31856987350865396,-0.31856987350865396,-0.31856987350865396,-0.31856987350865396,-0.31856987350865396,-0.31856987350865396,-0.31856987350865396,-0.31856987350865396,-0.31856987350865396,1.7442782803585644,1.7442782803585644,1.7442782803585644,1.7442782803585644,1.7442782803585644,1.7442782803585644,1.7442782803585644,1.7442782803585644,1.7442782803585644,1.7442782803585644,1.7442782803585644,1.7442782803585644,1.7442782803585644,1.7442782803585644,1.7442782803585644,1.7442782803585644,1.7442782803585644,1.7442782803585644,1.7442782803585644,1.7442782803585644,3.8071264342257862,3.8071264342257862,3.8071264342257862,3.8071264342257862,3.8071264342257862,3.8071264342257862,3.8071264342257862,3.8071264342257862,3.8071264342257862,3.8071264342257862,3.8071264342257862,3.8071264342257862,3.8071264342257862,3.8071264342257862,3.8071264342257862,3.8071264342257862,3.8071264342257862,3.8071264342257862,3.8071264342257862,3.8071264342257862,5.8699745880930045,5.8699745880930045,5.8699745880930045,5.8699745880930045,5.8699745880930045,5.8699745880930045,5.8699745880930045,5.8699745880930045,5.8699745880930045,5.8699745880930045,5.8699745880930045,5.8699745880930045,5.8699745880930045,5.8699745880930045,5.8699745880930045,5.8699745880930045,5.8699745880930045,5.8699745880930045,5.8699745880930045,5.8699745880930045,7.932822741960223,7.932822741960223,7.932822741960223,7.932822741960223,7.932822741960223,7.932822741960223,7.932822741960223,7.932822741960223,7.932822741960223,7.932822741960223,7.932822741960223,7.932822741960223,7.932822741960223,7.932822741960223,7.932822741960223,7.932822741960223,7.932822741960223,7.932822741960223,7.932822741960223,7.932822741960223,9.995670895827445,9.995670895827445,9.995670895827445,9.995670895827445,9.995670895827445,9.995670895827445,9.995670895827445,9.995670895827445,9.995670895827445,9.995670895827445,9.995670895827445,9.995670895827445,9.995670895827445,9.995670895827445,9.995670895827445,9.995670895827445,9.995670895827445,9.995670895827445,9.995670895827445,9.995670895827445,12.058519049694663,12.058519049694663,12.058519049694663,12.058519049694663,12.058519049694663,12.058519049694663,12.058519049694663,12.058519049694663,12.058519049694663,12.058519049694663,12.058519049694663,12.058519049694663,12.058519049694663,12.058519049694663,12.058519049694663,12.058519049694663,12.058519049694663,12.058519049694663,12.058519049694663,12.058519049694663,14.121367203561885,14.121367203561885,14.121367203561885,14.121367203561885,14.121367203561885,14.121367203561885,14.121367203561885,14.121367203561885,14.121367203561885,14.121367203561885,14.121367203561885,14.121367203561885,14.121367203561885,14.121367203561885,14.121367203561885,14.121367203561885,14.121367203561885,14.121367203561885,14.121367203561885,14.121367203561885,16.184215357429103,16.184215357429103,16.184215357429103,16.184215357429103,16.184215357429103,16.184215357429103,16.184215357429103,16.184215357429103,16.184215357429103,16.184215357429103,16.184215357429103,16.184215357429103,16.184215357429103,16.184215357429103,16.184215357429103,16.184215357429103,16.184215357429103,16.184215357429103,16.184215357429103,16.184215357429103,18.247063511296325,18.247063511296325,18.247063511296325,18.247063511296325,18.247063511296325,18.247063511296325,18.247063511296325,18.247063511296325,18.247063511296325,18.247063511296325,18.247063511296325,18.247063511296325,18.247063511296325,18.247063511296325,18.247063511296325,18.247063511296325,18.247063511296325,18.247063511296325,18.247063511296325,18.247063511296325,20.30991166516354,20.30991166516354,20.30991166516354,20.30991166516354,20.30991166516354,20.30991166516354,20.30991166516354,20.30991166516354,20.30991166516354,20.30991166516354,20.30991166516354,20.30991166516354,20.30991166516354,20.30991166516354,20.30991166516354,20.30991166516354,20.30991166516354,20.30991166516354,20.30991166516354,20.30991166516354,22.37275981903076,22.37275981903076,22.37275981903076,22.37275981903076,22.37275981903076,22.37275981903076,22.37275981903076,22.37275981903076,22.37275981903076,22.37275981903076,22.37275981903076,22.37275981903076,22.37275981903076,22.37275981903076,22.37275981903076,22.37275981903076,22.37275981903076,22.37275981903076,22.37275981903076,22.37275981903076],\"z\":[3.1659474433969463,3.089186065065103,3.003141765747746,2.9044440637335383,2.791203853373839,2.6597699794329683,2.5021823377858468,2.317576429721166,2.1211207215706787,1.9448218950321186,1.8141082203001582,1.724429583437715,1.6684132185078593,1.645620297982466,1.645513198464606,1.6632643237744087,1.6971656077257584,1.7451790983602622,1.8055813747687608,1.874806693148123,3.0145587763965462,2.9335555033805623,2.8427348314805854,2.7374942551803385,2.6130608737100145,2.4643056111035517,2.2774311447728435,2.049871735341989,1.810242304879922,1.6129675018809073,1.4836123570269804,1.4101228661247347,1.382041487053846,1.382637045882681,1.4033087835471272,1.4409018082662997,1.4930774046202107,1.5585365577008194,1.635366100378311,1.720706742893772,2.8522755335402805,2.7662342973543192,2.6696223352285418,2.5574388545701323,2.420781396154428,2.250262150164219,2.0228464077229207,1.734720494448864,1.4419647171629089,1.2337555263338897,1.1336651333954466,1.1021190003647272,1.1041255212822054,1.126968482451465,1.1678866085607922,1.224424772044246,1.2929835239948166,1.3746800776449764,1.4688931900103914,1.5718428494575214,2.6763483870476015,2.5853586015106256,2.482295939784269,2.3618889928080504,2.212504113726954,2.0145849055434892,1.7293907675493285,1.3551140735498535,1.0146613952477528,0.847269108961709,0.8086101460638109,0.8119097764042922,0.8363725662961489,0.878075646189958,0.9356828934166097,1.0079949104884987,1.093467887641557,1.1933458106122568,1.305754678087615,1.4295553545752189,2.4844424020461044,2.386465087355993,2.276835995775395,2.147814643623258,1.9853009690712333,1.7544586264161655,1.3864541684139027,0.9006845834917223,0.5808733948275433,0.5000657136701101,0.5032347901897726,0.5291271436840583,0.5709296423603083,0.6272052444943831,0.7000072618073587,0.7893302141832366,0.893122510789107,1.0129065940584554,1.1505438464363007,1.3025731400011484,2.271513129926937,2.1675649356075253,2.048653045720399,1.9089887842449744,1.732172514521734,1.4647468216846136,0.9885310299046881,0.3950602239843104,0.18455366724861744,0.17568834198735056,0.20683369250779673,0.2471424379821781,0.3002705180544205,0.37006031613803403,0.45820479921637886,0.5650853341619609,0.6909876991674381,0.8417111877183966,1.0164693951567745,1.2069214715787433,2.025726114925409,1.9203367248648924,1.7952426620819906,1.6425856814203366,1.4455627205153565,1.1316936390337642,0.51463419147586,-0.08697464972232433,-0.1541034145186323,-0.11888661763916017,-0.08216479720963414,-0.03838402672671474,0.020252902360310247,0.10058650896293356,0.204869674123596,0.3371429282080122,0.5022749583893522,0.7042997672418164,0.934113275509574,1.1653354363991537,1.7269827949091885,1.6273077367240414,1.502625473557044,1.3430108690861369,1.1235838834362986,0.7501643393981804,-0.007572264832721482,-0.40225684317401783,-0.3875149500221574,-0.3681981768221211,-0.3573844059960216,-0.3303130270714197,-0.27017791783681094,-0.1766206422577867,-0.04484382955477812,0.13610448929304353,0.3747429802198502,0.656722356265902,0.9357374414186047,1.1826894738422185,1.4919437134580527,1.2882620237559155,1.1461247644368717,0.9900601003164695,0.7613022853986934,0.37889009586718064,-0.19679831661886343,-0.3887295748709056,-0.4044363694591803,-0.45666300872447774,-0.5211828826378065,-0.5522515139725673,-0.5176593738787147,-0.4141432188399367,-0.2345973095164357,0.04841369175708209,0.39845591349522147,0.7331594580119396,1.0056050719067224,1.2332452606772113,1.4158411758280605,1.2263730567057816,0.9885525059666058,0.7115340726694809,0.4713822023901185,0.24057101418272975,0.00961561416686034,-0.09028044808321674,-0.14349940507721837,-0.24026939010947396,-0.3746311456794391,-0.5053346412369131,-0.5566348306033799,-0.4600606788599726,-0.17369597840709342,0.23010790116397958,0.5900929885895803,0.8646003954502637,1.0497906726740378,1.217294695572285,1.3181114580550823,1.1530542236936492,0.9538110572556392,0.7173859562037752,0.48138878940442686,0.3305337271648208,0.24052197268450803,0.19184993176911588,0.15823439225232994,0.09947880798234283,0.00047477408665036306,-0.11453343976600767,-0.15755864066506994,-0.016620937831403147,0.2549412724358942,0.4713981076008965,0.664856262049351,0.851515469365366,1.027275928595137,1.1920972886644317,1.2515825744918736,1.086265019385369,0.9129501071458679,0.7142067285206578,0.5177384204539093,0.3934387793794573,0.34477755618714695,0.32396232242351936,0.31195876355456836,0.29919489213995526,0.28162230204718774,0.2692851765603618,0.2650335226335251,0.28458853198428663,0.3723313654497272,0.5160474603629527,0.6848462501697392,0.8579144842622841,1.0252901815779185,1.185230488582704,1.2874489968555871,1.1084822527956404,0.9130308380017599,0.7131941574014732,0.5249895324799062,0.40786985723617586,0.36998768385610736,0.3599654543096637,0.3581108214683232,0.36106871120215567,0.36245077464414216,0.36470346224340905,0.37109055701531857,0.39475550465363696,0.4597027631753434,0.5748058379195833,0.7221535903342695,0.880847923107593,1.0395788635337497,1.192854751971734,1.3489921181674813,1.1701388399060726,0.9645362063035454,0.7429670604316431,0.5491665576137714,0.4237627073064309,0.37796012611933605,0.36622979605441697,0.3658039318271975,0.36959509126294654,0.3776089980773818,0.3915134996397569,0.4131650317575436,0.45124777444982694,0.519523177995856,0.6236607267967946,0.7567127666257637,0.9047153548920165,1.0564713431893311,1.2047253935342388,1.4765434696191444,1.2922484412978006,1.0849594547387473,0.860613533896111,0.6732182331489359,0.5382334407788213,0.45004842154325486,0.4071365179297298,0.39281284817672596,0.39240700132099715,0.40563701597736646,0.4346355294667777,0.47811166536717215,0.5395067205873333,0.6196584897451962,0.7178168380629237,0.8340233446602577,0.9645704714210034,1.1012388243937399,1.2375188938823025,1.6509408386069868,1.4614134120025262,1.2611574388788203,1.041170991319184,0.884046458771827,0.7887830385340168,0.6914755072459401,0.591264087043551,0.5307064225239995,0.5103512884222936,0.5050995863918166,0.5196893718676665,0.5676093789323358,0.6450905838072789,0.7437187523069337,0.8540754491940787,0.9674557126841273,1.0810820016563711,1.1972371722879558,1.3149513426409185,1.8267670714045396,1.6465817545999315,1.4553652633097496,1.2620248160686864,1.1268806844649286,1.055231892969001,0.9823407950762779,0.8924865730558302,0.8155981386044021,0.7741629776373906,0.7528453940562282,0.7437001429441691,0.7547368147433515,0.799326685845012,0.8784030070056139,0.9812768781008292,1.0918021905462936,1.2028048868250942,1.3090713556597677,1.4144071988736189,2.0000272033076962,1.8385413425606019,1.67211851785736,1.5023088472022723,1.3640387375602487,1.3008085791959008,1.251253482273722,1.1891029990271684,1.1437864714097734,1.1069937413822437,1.0764119660118348,1.0547971582749172,1.0446458346172647,1.0526775648310411,1.084494026278569,1.1413048407398,1.222823726081463,1.3185639911493896,1.418534495318856,1.5153738271847164,2.178009206830937,2.0351275959322033,1.887029539170796,1.7350729240621827,1.59813590741451,1.5343901728533407,1.4993213872617717,1.4682605670482252,1.4481483746368367,1.4235512003601096,1.3958039777880746,1.3702513081062568,1.3487817009162115,1.3375586597721993,1.3419476453942663,1.3640954772699008,1.4031852334458785,1.4601749601354608,1.5347115277874268,1.6193827897095856,2.3524923321563094,2.2231014533942077,2.088974933158153,1.9513089757368118,1.8274352340119382,1.7677422673948024,1.7422038313403265,1.7274068647759475,1.7178824754996183,1.7022357315615424,1.680544449315671,1.6565297020247565,1.6321752331790003,1.6113767101772525,1.6001774592932247,1.6024262735883423,1.6182369422838612,1.646323000730438,1.6871745660669966,1.7420000442601005],\"type\":\"contour\"},{\"hovertemplate\":\"%{text}\",\"line\":{\"color\":\"orange\"},\"marker\":{\"color\":\"orange\",\"size\":[8,5,5,5,5,5,5,5,5,5,5,5,5,5,5,5,5,5,5,5,5,5,5,5,5,5,5,5,5,5,8]},\"mode\":\"markers+lines\",\"name\":\"Classic SGD m=0.0\",\"text\":[\"Start Point<br>Loss: 1.3960449523925782\",\"Trajectory Point<br>Loss: 1.396025351524353\",\"Trajectory Point<br>Loss: 1.1683118053436279\",\"Trajectory Point<br>Loss: 0.9982068877220154\",\"Trajectory Point<br>Loss: 0.9980258009910583\",\"Trajectory Point<br>Loss: 0.8771174408912659\",\"Trajectory Point<br>Loss: 0.7744518064498901\",\"Trajectory Point<br>Loss: 0.7743603731155395\",\"Trajectory Point<br>Loss: 0.6931416335105895\",\"Trajectory Point<br>Loss: 0.6236296487808227\",\"Trajectory Point<br>Loss: 0.6236526748657226\",\"Trajectory Point<br>Loss: 0.5674551845550537\",\"Trajectory Point<br>Loss: 0.5226786334514618\",\"Trajectory Point<br>Loss: 0.5225628317356109\",\"Trajectory Point<br>Loss: 0.48613123779296874\",\"Trajectory Point<br>Loss: 0.45640169205665587\",\"Trajectory Point<br>Loss: 0.4563892554759979\",\"Trajectory Point<br>Loss: 0.4330246099472046\",\"Trajectory Point<br>Loss: 0.41509846076965334\",\"Trajectory Point<br>Loss: 0.41511311802864076\",\"Trajectory Point<br>Loss: 0.40079463391304015\",\"Trajectory Point<br>Loss: 0.39000759649276734\",\"Trajectory Point<br>Loss: 0.3899854899406433\",\"Trajectory Point<br>Loss: 0.3816011634349823\",\"Trajectory Point<br>Loss: 0.374851420545578\",\"Trajectory Point<br>Loss: 0.3748451882362366\",\"Trajectory Point<br>Loss: 0.36986541066169737\",\"Trajectory Point<br>Loss: 0.3665901687145233\",\"Trajectory Point<br>Loss: 0.3665935554504395\",\"Trajectory Point<br>Loss: 0.36390461831092835\",\"End Point<br>Loss: 0.3624576584339142\"],\"x\":[3.195769786834717,3.1957199573516846,2.582537889480591,2.053042411804199,2.052504539489746,1.6259969472885132,1.2270944118499756,1.2266689538955688,0.8768727779388428,0.5497427582740784,0.5497386455535889,0.2540547549724579,-0.008609078824520111,-0.009295174852013588,-0.24927835166454315,-0.4730444550514221,-0.47300398349761963,-0.6734241247177124,-0.8497794270515442,-0.8497005105018616,-1.0122956037521362,-1.1550954580307007,-1.1554996967315674,-1.2883788347244263,-1.4162832498550415,-1.4164190292358398,-1.5332164764404297,-1.6310678720474243,-1.6308194398880005,-1.7398873567581177,-1.824643611907959],\"y\":[1.6320654153823853,1.631888747215271,0.2695515751838684,-0.3326004445552826,-0.33354198932647705,-0.5691762566566467,-0.6851053237915039,-0.6855148673057556,-0.7056321501731873,-0.6678449511528015,-0.667305588722229,-0.5988039970397949,-0.5056424140930176,-0.5063849687576294,-0.4048561453819275,-0.28250813484191895,-0.28179284930229187,-0.16941244900226593,-0.06181976571679115,-0.06139662489295006,0.0537351593375206,0.1539631336927414,0.15397806465625763,0.24686187505722046,0.3337743282318115,0.33432161808013916,0.4323440194129944,0.5137671232223511,0.5134578943252563,0.5852808952331543,0.6643479466438293],\"type\":\"scatter\"},{\"hovertemplate\":\"%{text}\",\"line\":{\"color\":\"green\"},\"marker\":{\"color\":\"green\",\"size\":[8,5,5,5,5,5,5,5,5,5,5,5,5,5,5,5,5,5,5,5,5,5,5,5,5,5,5,5,5,5,8]},\"mode\":\"markers+lines\",\"name\":\"Classic SGD m=0.5\",\"text\":[\"Start Point<br>Loss: 1.3960453481674195\",\"Trajectory Point<br>Loss: 1.3960258224487305\",\"Trajectory Point<br>Loss: 0.9889616768836975\",\"Trajectory Point<br>Loss: 0.7579946478843689\",\"Trajectory Point<br>Loss: 0.7577677629470825\",\"Trajectory Point<br>Loss: 0.6045749787330628\",\"Trajectory Point<br>Loss: 0.5008191135883331\",\"Trajectory Point<br>Loss: 0.500754816198349\",\"Trajectory Point<br>Loss: 0.437896493768692\",\"Trajectory Point<br>Loss: 0.3988222768783569\",\"Trajectory Point<br>Loss: 0.3988104455471039\",\"Trajectory Point<br>Loss: 0.3776194394588471\",\"Trajectory Point<br>Loss: 0.3667203078746796\",\"Trajectory Point<br>Loss: 0.3667049308776855\",\"Trajectory Point<br>Loss: 0.36242295236587524\",\"Trajectory Point<br>Loss: 0.3626983174800873\",\"Trajectory Point<br>Loss: 0.3626990714073181\",\"Trajectory Point<br>Loss: 0.3660289976596832\",\"Trajectory Point<br>Loss: 0.3709674074172974\",\"Trajectory Point<br>Loss: 0.37097061405181886\",\"Trajectory Point<br>Loss: 0.3774301308631897\",\"Trajectory Point<br>Loss: 0.38448574113845824\",\"Trajectory Point<br>Loss: 0.3844991344451904\",\"Trajectory Point<br>Loss: 0.39253275709152224\",\"Trajectory Point<br>Loss: 0.4007900428771973\",\"Trajectory Point<br>Loss: 0.4008109479904175\",\"Trajectory Point<br>Loss: 0.4091305018424988\",\"Trajectory Point<br>Loss: 0.4160681251525879\",\"Trajectory Point<br>Loss: 0.41604427642822267\",\"Trajectory Point<br>Loss: 0.4249268708229065\",\"End Point<br>Loss: 0.4320148394584656\"],\"x\":[4.124940395355225,4.124902725219727,3.2820329666137695,2.6773886680603027,2.6767475605010986,2.140507221221924,1.6298836469650269,1.6294664144515991,1.173838496208191,0.7439252138137817,0.7437516450881958,0.36845558881759644,0.022832822054624557,0.02231333777308464,-0.2907547950744629,-0.5875259041786194,-0.587659478187561,-0.8559373617172241,-1.0864487886428833,-1.0866355895996094,-1.3072607517242432,-1.5065754652023315,-1.506895899772644,-1.6971688270568848,-1.8703908920288086,-1.8707064390182495,-2.0299415588378906,-2.1649155616760254,-2.1646978855133057,-2.312746524810791,-2.434723377227783],\"y\":[2.062331438064575,2.0621864795684814,0.30659210681915283,-0.33576536178588867,-0.33689960837364197,-0.6745359301567078,-0.8428884744644165,-0.843065619468689,-0.8911870121955872,-0.8519994616508484,-0.8516680598258972,-0.7683681845664978,-0.6476209163665771,-0.6481783390045166,-0.5257900357246399,-0.38744470477104187,-0.38619133830070496,-0.2465239316225052,-0.10110590606927872,-0.1008521169424057,0.039017386734485626,0.1867741346359253,0.18667544424533844,0.3045112192630768,0.4230363667011261,0.4233846366405487,0.5369501113891602,0.657438337802887,0.6578426957130432,0.744918704032898,0.84842449426651],\"type\":\"scatter\"},{\"hovertemplate\":\"%{text}\",\"line\":{\"color\":\"blue\"},\"marker\":{\"color\":\"blue\",\"size\":[8,5,5,5,5,5,5,5,5,5,5,5,5,5,5,5,5,5,5,5,5,5,5,5,5,5,5,5,5,5,8]},\"mode\":\"markers+lines\",\"name\":\"Classic SGD m=0.9\",\"text\":[\"Start Point<br>Loss: 1.3960453481674195\",\"Trajectory Point<br>Loss: 1.3960258224487305\",\"Trajectory Point<br>Loss: 0.5304424165725709\",\"Trajectory Point<br>Loss: 0.4068778076648712\",\"Trajectory Point<br>Loss: 0.4067962123394012\",\"Trajectory Point<br>Loss: 0.36788186535835266\",\"Trajectory Point<br>Loss: 0.34338364968299867\",\"Trajectory Point<br>Loss: 0.34335795335769653\",\"Trajectory Point<br>Loss: 0.3234490993976593\",\"Trajectory Point<br>Loss: 0.3071607858657837\",\"Trajectory Point<br>Loss: 0.30714970412254333\",\"Trajectory Point<br>Loss: 0.29401904740333556\",\"Trajectory Point<br>Loss: 0.2824925712108612\",\"Trajectory Point<br>Loss: 0.2824799397468567\",\"Trajectory Point<br>Loss: 0.2736046006917954\",\"Trajectory Point<br>Loss: 0.26833996460437776\",\"Trajectory Point<br>Loss: 0.2683181196451187\",\"Trajectory Point<br>Loss: 0.2637598968744278\",\"Trajectory Point<br>Loss: 0.26052731766700743\",\"Trajectory Point<br>Loss: 0.2605288917541504\",\"Trajectory Point<br>Loss: 0.26016556470394137\",\"Trajectory Point<br>Loss: 0.2607109766483307\",\"Trajectory Point<br>Loss: 0.26072170753479\",\"Trajectory Point<br>Loss: 0.26334143503904345\",\"Trajectory Point<br>Loss: 0.266612282204628\",\"Trajectory Point<br>Loss: 0.266621274292469\",\"Trajectory Point<br>Loss: 0.27167181124687195\",\"Trajectory Point<br>Loss: 0.2768774319887161\",\"Trajectory Point<br>Loss: 0.2768622104525566\",\"Trajectory Point<br>Loss: 0.2852252529859543\",\"End Point<br>Loss: 0.29312153458595275\"],\"x\":[8.088591575622559,8.088560104370117,6.407351970672607,5.2186784744262695,5.217672824859619,4.169168949127197,3.244370698928833,3.243429660797119,2.386012315750122,1.6120153665542603,1.6114319562911987,0.9155203104019165,0.24762959778308868,0.24701756238937378,-0.38303956389427185,-0.9689050912857056,-0.9692474007606506,-1.5276018381118774,-2.029923677444458,-2.0304229259490967,-2.508272647857666,-2.965851306915283,-2.966543436050415,-3.4096999168395996,-3.8144702911376953,-3.814893960952759,-4.195838451385498,-4.5343337059021,-4.534382343292236,-4.880066871643066,-5.163956165313721],\"y\":[3.875185489654541,3.8751046657562256,0.9028571844100952,-0.40178629755973816,-0.4032635986804962,-1.0914111137390137,-1.476378321647644,-1.4769368171691895,-1.63456392288208,-1.6572989225387573,-1.6573917865753174,-1.565545678138733,-1.3894903659820557,-1.389088749885559,-1.162172794342041,-0.9504929184913635,-0.9494286179542542,-0.6494530439376831,-0.32135578989982605,-0.32145214080810547,-0.04285027086734772,0.26757746934890747,0.26746001839637756,0.5312522649765015,0.8319298028945923,0.8316925168037415,1.0885090827941895,1.3806558847427368,1.3821958303451538,1.553624153137207,1.752316951751709],\"type\":\"scatter\"},{\"hovertemplate\":\"Loss: %{text}\",\"marker\":{\"color\":\"red\",\"size\":7,\"symbol\":\"star\"},\"mode\":\"markers\",\"name\":\"global minimum\",\"text\":[\"0.2775652986049652\"],\"x\":[7.932822741960223],\"y\":[1.7442782803585644],\"type\":\"scatter\"},{\"hovertemplate\":\"Loss: %{text}\",\"marker\":{\"color\":\"red\",\"size\":7,\"symbol\":\"cross\"},\"mode\":\"markers\",\"name\":\"min 0\",\"text\":[\"0.35871151843070986\"],\"x\":[-1.2961790436192562],\"y\":[0.28921466124685224],\"type\":\"scatter\"},{\"hovertemplate\":\"Loss: %{text}\",\"marker\":{\"color\":\"red\",\"size\":7,\"symbol\":\"square\"},\"mode\":\"markers\",\"name\":\"min 5\",\"text\":[\"0.3054031849861145\"],\"x\":[-1.7442324537979932],\"y\":[0.32724031649137864],\"type\":\"scatter\"},{\"hovertemplate\":\"Loss: %{text}\",\"marker\":{\"color\":\"red\",\"size\":7,\"symbol\":\"circle\"},\"mode\":\"markers\",\"name\":\"min 9\",\"text\":[\"0.260352781021595\"],\"x\":[-3.7689512654354704],\"y\":[0.4160639110364386],\"type\":\"scatter\"}],                        {\"template\":{\"data\":{\"histogram2dcontour\":[{\"type\":\"histogram2dcontour\",\"colorbar\":{\"outlinewidth\":0,\"ticks\":\"\"},\"colorscale\":[[0.0,\"#0d0887\"],[0.1111111111111111,\"#46039f\"],[0.2222222222222222,\"#7201a8\"],[0.3333333333333333,\"#9c179e\"],[0.4444444444444444,\"#bd3786\"],[0.5555555555555556,\"#d8576b\"],[0.6666666666666666,\"#ed7953\"],[0.7777777777777778,\"#fb9f3a\"],[0.8888888888888888,\"#fdca26\"],[1.0,\"#f0f921\"]]}],\"choropleth\":[{\"type\":\"choropleth\",\"colorbar\":{\"outlinewidth\":0,\"ticks\":\"\"}}],\"histogram2d\":[{\"type\":\"histogram2d\",\"colorbar\":{\"outlinewidth\":0,\"ticks\":\"\"},\"colorscale\":[[0.0,\"#0d0887\"],[0.1111111111111111,\"#46039f\"],[0.2222222222222222,\"#7201a8\"],[0.3333333333333333,\"#9c179e\"],[0.4444444444444444,\"#bd3786\"],[0.5555555555555556,\"#d8576b\"],[0.6666666666666666,\"#ed7953\"],[0.7777777777777778,\"#fb9f3a\"],[0.8888888888888888,\"#fdca26\"],[1.0,\"#f0f921\"]]}],\"heatmap\":[{\"type\":\"heatmap\",\"colorbar\":{\"outlinewidth\":0,\"ticks\":\"\"},\"colorscale\":[[0.0,\"#0d0887\"],[0.1111111111111111,\"#46039f\"],[0.2222222222222222,\"#7201a8\"],[0.3333333333333333,\"#9c179e\"],[0.4444444444444444,\"#bd3786\"],[0.5555555555555556,\"#d8576b\"],[0.6666666666666666,\"#ed7953\"],[0.7777777777777778,\"#fb9f3a\"],[0.8888888888888888,\"#fdca26\"],[1.0,\"#f0f921\"]]}],\"heatmapgl\":[{\"type\":\"heatmapgl\",\"colorbar\":{\"outlinewidth\":0,\"ticks\":\"\"},\"colorscale\":[[0.0,\"#0d0887\"],[0.1111111111111111,\"#46039f\"],[0.2222222222222222,\"#7201a8\"],[0.3333333333333333,\"#9c179e\"],[0.4444444444444444,\"#bd3786\"],[0.5555555555555556,\"#d8576b\"],[0.6666666666666666,\"#ed7953\"],[0.7777777777777778,\"#fb9f3a\"],[0.8888888888888888,\"#fdca26\"],[1.0,\"#f0f921\"]]}],\"contourcarpet\":[{\"type\":\"contourcarpet\",\"colorbar\":{\"outlinewidth\":0,\"ticks\":\"\"}}],\"contour\":[{\"type\":\"contour\",\"colorbar\":{\"outlinewidth\":0,\"ticks\":\"\"},\"colorscale\":[[0.0,\"#0d0887\"],[0.1111111111111111,\"#46039f\"],[0.2222222222222222,\"#7201a8\"],[0.3333333333333333,\"#9c179e\"],[0.4444444444444444,\"#bd3786\"],[0.5555555555555556,\"#d8576b\"],[0.6666666666666666,\"#ed7953\"],[0.7777777777777778,\"#fb9f3a\"],[0.8888888888888888,\"#fdca26\"],[1.0,\"#f0f921\"]]}],\"surface\":[{\"type\":\"surface\",\"colorbar\":{\"outlinewidth\":0,\"ticks\":\"\"},\"colorscale\":[[0.0,\"#0d0887\"],[0.1111111111111111,\"#46039f\"],[0.2222222222222222,\"#7201a8\"],[0.3333333333333333,\"#9c179e\"],[0.4444444444444444,\"#bd3786\"],[0.5555555555555556,\"#d8576b\"],[0.6666666666666666,\"#ed7953\"],[0.7777777777777778,\"#fb9f3a\"],[0.8888888888888888,\"#fdca26\"],[1.0,\"#f0f921\"]]}],\"mesh3d\":[{\"type\":\"mesh3d\",\"colorbar\":{\"outlinewidth\":0,\"ticks\":\"\"}}],\"scatter\":[{\"fillpattern\":{\"fillmode\":\"overlay\",\"size\":10,\"solidity\":0.2},\"type\":\"scatter\"}],\"parcoords\":[{\"type\":\"parcoords\",\"line\":{\"colorbar\":{\"outlinewidth\":0,\"ticks\":\"\"}}}],\"scatterpolargl\":[{\"type\":\"scatterpolargl\",\"marker\":{\"colorbar\":{\"outlinewidth\":0,\"ticks\":\"\"}}}],\"bar\":[{\"error_x\":{\"color\":\"#2a3f5f\"},\"error_y\":{\"color\":\"#2a3f5f\"},\"marker\":{\"line\":{\"color\":\"#E5ECF6\",\"width\":0.5},\"pattern\":{\"fillmode\":\"overlay\",\"size\":10,\"solidity\":0.2}},\"type\":\"bar\"}],\"scattergeo\":[{\"type\":\"scattergeo\",\"marker\":{\"colorbar\":{\"outlinewidth\":0,\"ticks\":\"\"}}}],\"scatterpolar\":[{\"type\":\"scatterpolar\",\"marker\":{\"colorbar\":{\"outlinewidth\":0,\"ticks\":\"\"}}}],\"histogram\":[{\"marker\":{\"pattern\":{\"fillmode\":\"overlay\",\"size\":10,\"solidity\":0.2}},\"type\":\"histogram\"}],\"scattergl\":[{\"type\":\"scattergl\",\"marker\":{\"colorbar\":{\"outlinewidth\":0,\"ticks\":\"\"}}}],\"scatter3d\":[{\"type\":\"scatter3d\",\"line\":{\"colorbar\":{\"outlinewidth\":0,\"ticks\":\"\"}},\"marker\":{\"colorbar\":{\"outlinewidth\":0,\"ticks\":\"\"}}}],\"scattermapbox\":[{\"type\":\"scattermapbox\",\"marker\":{\"colorbar\":{\"outlinewidth\":0,\"ticks\":\"\"}}}],\"scatterternary\":[{\"type\":\"scatterternary\",\"marker\":{\"colorbar\":{\"outlinewidth\":0,\"ticks\":\"\"}}}],\"scattercarpet\":[{\"type\":\"scattercarpet\",\"marker\":{\"colorbar\":{\"outlinewidth\":0,\"ticks\":\"\"}}}],\"carpet\":[{\"aaxis\":{\"endlinecolor\":\"#2a3f5f\",\"gridcolor\":\"white\",\"linecolor\":\"white\",\"minorgridcolor\":\"white\",\"startlinecolor\":\"#2a3f5f\"},\"baxis\":{\"endlinecolor\":\"#2a3f5f\",\"gridcolor\":\"white\",\"linecolor\":\"white\",\"minorgridcolor\":\"white\",\"startlinecolor\":\"#2a3f5f\"},\"type\":\"carpet\"}],\"table\":[{\"cells\":{\"fill\":{\"color\":\"#EBF0F8\"},\"line\":{\"color\":\"white\"}},\"header\":{\"fill\":{\"color\":\"#C8D4E3\"},\"line\":{\"color\":\"white\"}},\"type\":\"table\"}],\"barpolar\":[{\"marker\":{\"line\":{\"color\":\"#E5ECF6\",\"width\":0.5},\"pattern\":{\"fillmode\":\"overlay\",\"size\":10,\"solidity\":0.2}},\"type\":\"barpolar\"}],\"pie\":[{\"automargin\":true,\"type\":\"pie\"}]},\"layout\":{\"autotypenumbers\":\"strict\",\"colorway\":[\"#636efa\",\"#EF553B\",\"#00cc96\",\"#ab63fa\",\"#FFA15A\",\"#19d3f3\",\"#FF6692\",\"#B6E880\",\"#FF97FF\",\"#FECB52\"],\"font\":{\"color\":\"#2a3f5f\"},\"hovermode\":\"closest\",\"hoverlabel\":{\"align\":\"left\"},\"paper_bgcolor\":\"white\",\"plot_bgcolor\":\"#E5ECF6\",\"polar\":{\"bgcolor\":\"#E5ECF6\",\"angularaxis\":{\"gridcolor\":\"white\",\"linecolor\":\"white\",\"ticks\":\"\"},\"radialaxis\":{\"gridcolor\":\"white\",\"linecolor\":\"white\",\"ticks\":\"\"}},\"ternary\":{\"bgcolor\":\"#E5ECF6\",\"aaxis\":{\"gridcolor\":\"white\",\"linecolor\":\"white\",\"ticks\":\"\"},\"baxis\":{\"gridcolor\":\"white\",\"linecolor\":\"white\",\"ticks\":\"\"},\"caxis\":{\"gridcolor\":\"white\",\"linecolor\":\"white\",\"ticks\":\"\"}},\"coloraxis\":{\"colorbar\":{\"outlinewidth\":0,\"ticks\":\"\"}},\"colorscale\":{\"sequential\":[[0.0,\"#0d0887\"],[0.1111111111111111,\"#46039f\"],[0.2222222222222222,\"#7201a8\"],[0.3333333333333333,\"#9c179e\"],[0.4444444444444444,\"#bd3786\"],[0.5555555555555556,\"#d8576b\"],[0.6666666666666666,\"#ed7953\"],[0.7777777777777778,\"#fb9f3a\"],[0.8888888888888888,\"#fdca26\"],[1.0,\"#f0f921\"]],\"sequentialminus\":[[0.0,\"#0d0887\"],[0.1111111111111111,\"#46039f\"],[0.2222222222222222,\"#7201a8\"],[0.3333333333333333,\"#9c179e\"],[0.4444444444444444,\"#bd3786\"],[0.5555555555555556,\"#d8576b\"],[0.6666666666666666,\"#ed7953\"],[0.7777777777777778,\"#fb9f3a\"],[0.8888888888888888,\"#fdca26\"],[1.0,\"#f0f921\"]],\"diverging\":[[0,\"#8e0152\"],[0.1,\"#c51b7d\"],[0.2,\"#de77ae\"],[0.3,\"#f1b6da\"],[0.4,\"#fde0ef\"],[0.5,\"#f7f7f7\"],[0.6,\"#e6f5d0\"],[0.7,\"#b8e186\"],[0.8,\"#7fbc41\"],[0.9,\"#4d9221\"],[1,\"#276419\"]]},\"xaxis\":{\"gridcolor\":\"white\",\"linecolor\":\"white\",\"ticks\":\"\",\"title\":{\"standoff\":15},\"zerolinecolor\":\"white\",\"automargin\":true,\"zerolinewidth\":2},\"yaxis\":{\"gridcolor\":\"white\",\"linecolor\":\"white\",\"ticks\":\"\",\"title\":{\"standoff\":15},\"zerolinecolor\":\"white\",\"automargin\":true,\"zerolinewidth\":2},\"scene\":{\"xaxis\":{\"backgroundcolor\":\"#E5ECF6\",\"gridcolor\":\"white\",\"linecolor\":\"white\",\"showbackground\":true,\"ticks\":\"\",\"zerolinecolor\":\"white\",\"gridwidth\":2},\"yaxis\":{\"backgroundcolor\":\"#E5ECF6\",\"gridcolor\":\"white\",\"linecolor\":\"white\",\"showbackground\":true,\"ticks\":\"\",\"zerolinecolor\":\"white\",\"gridwidth\":2},\"zaxis\":{\"backgroundcolor\":\"#E5ECF6\",\"gridcolor\":\"white\",\"linecolor\":\"white\",\"showbackground\":true,\"ticks\":\"\",\"zerolinecolor\":\"white\",\"gridwidth\":2}},\"shapedefaults\":{\"line\":{\"color\":\"#2a3f5f\"}},\"annotationdefaults\":{\"arrowcolor\":\"#2a3f5f\",\"arrowhead\":0,\"arrowwidth\":1},\"geo\":{\"bgcolor\":\"white\",\"landcolor\":\"#E5ECF6\",\"subunitcolor\":\"white\",\"showland\":true,\"showlakes\":true,\"lakecolor\":\"white\"},\"title\":{\"x\":0.05},\"mapbox\":{\"style\":\"light\"}}},\"legend\":{\"orientation\":\"v\",\"x\":0,\"y\":0.0},\"title\":{\"text\":\"Contour Plot with trajectories Projection\"},\"xaxis\":{\"title\":{\"text\":\"PC1\"}},\"yaxis\":{\"title\":{\"text\":\"PC2\"}}},                        {\"responsive\": true}                    ).then(function(){\n",
       "                            \n",
       "var gd = document.getElementById('b19c4721-83ea-4146-881d-a574fe21b0cf');\n",
       "var x = new MutationObserver(function (mutations, observer) {{\n",
       "        var display = window.getComputedStyle(gd).display;\n",
       "        if (!display || display === 'none') {{\n",
       "            console.log([gd, 'removed!']);\n",
       "            Plotly.purge(gd);\n",
       "            observer.disconnect();\n",
       "        }}\n",
       "}});\n",
       "\n",
       "// Listen for the removal of the full notebook cells\n",
       "var notebookContainer = gd.closest('#notebook-container');\n",
       "if (notebookContainer) {{\n",
       "    x.observe(notebookContainer, {childList: true});\n",
       "}}\n",
       "\n",
       "// Listen for the clearing of the current output cell\n",
       "var outputEl = gd.closest('.output');\n",
       "if (outputEl) {{\n",
       "    x.observe(outputEl, {childList: true});\n",
       "}}\n",
       "\n",
       "                        })                };                });            </script>        </div>"
      ]
     },
     "metadata": {},
     "output_type": "display_data"
    }
   ],
   "source": [
    "fig2 = go.Figure(data=[go.Contour(x=xx.flatten(), y=yy.flatten(), z=np.log10(grid_losses.flatten()), \n",
    "                                  name= \"grid point\", colorscale='Viridis')])\n",
    "labels = [\"Start Point\"] + [\"Trajectory Point\"] * (len(trajectory_loss_reevaluted) - 2) + [\"End Point\"]\n",
    "sizes = [8] + [5] * (len(trajectory_loss_reevaluted) - 2) + [8]\n",
    "\n",
    "trajectories = []\n",
    "for i, rw in enumerate(new_reduced_weights):\n",
    "    traj = go.Scatter(\n",
    "        x=rw[:, 0],  # x-axis\n",
    "        y=rw[:, 1],  # y-axis\n",
    "        mode=\"markers+lines\",\n",
    "        line=dict(color=trajectory_colors[i % len(trajectory_colors)]),\n",
    "        marker=dict(color=trajectory_colors[i % len(trajectory_colors)], size=sizes),\n",
    "        name=trajectory_names[i],\n",
    "        text=[f\"{label}<br>Loss: {loss}\" for label, loss in zip(labels, trajectories_loss_reevaluted[i])],\n",
    "        hovertemplate='%{text}',\n",
    "    )\n",
    "    trajectories.append(traj)\n",
    "\n",
    "for traj in trajectories:\n",
    "    fig2.add_trace(traj)\n",
    "\n",
    "fig2.update_layout(\n",
    "    title='Contour Plot with trajectories Projection',\n",
    "    xaxis_title='PC1',\n",
    "    yaxis_title='PC2',\n",
    "    legend=dict(orientation=\"v\", x=1, y=1)\n",
    ")\n",
    "\n",
    "min_point = go.Scatter(\n",
    "    x=[xx[_min_x, _min_y]],\n",
    "    y=[yy[_min_x, _min_y]],\n",
    "    mode='markers',\n",
    "    marker=dict(\n",
    "        size=7,\n",
    "        color='red',\n",
    "        symbol='star',\n",
    "    ),\n",
    "    name=\"global minimum\",\n",
    "    text=[str(np.min(grid_losses))],\n",
    "    hovertemplate='Loss: %{text}'\n",
    ")\n",
    "\n",
    "fig2.add_trace(min_point)\n",
    "\n",
    "min_point_0 = go.Scatter(\n",
    "    x=[xx_0[_min_x_0, _min_y_0]],\n",
    "    y=[yy_0[_min_x_0, _min_y_0]],\n",
    "    mode='markers',\n",
    "    marker=dict(\n",
    "        size=7,\n",
    "        color='red',\n",
    "        symbol='cross',\n",
    "    ),\n",
    "    name=\"min 0\",\n",
    "    text=[str(np.min(grid_losses_0))],\n",
    "    hovertemplate='Loss: %{text}'\n",
    ")\n",
    "\n",
    "fig2.add_trace(min_point_0)\n",
    "\n",
    "min_point_5 = go.Scatter(\n",
    "    x=[xx_5[_min_x_5, _min_y_5]],\n",
    "    y=[yy_5[_min_x_5, _min_y_5]],\n",
    "    mode='markers',\n",
    "    marker=dict(\n",
    "        size=7,\n",
    "        color='red',\n",
    "        symbol='square',\n",
    "    ),\n",
    "    name=\"min 5\",\n",
    "    text=[str(np.min(grid_losses_5))],\n",
    "    hovertemplate='Loss: %{text}'\n",
    ")\n",
    "\n",
    "fig2.add_trace(min_point_5)\n",
    "\n",
    "min_point_9 = go.Scatter(\n",
    "    x=[xx_9[_min_x_9, _min_y_9]],\n",
    "    y=[yy_9[_min_x_9, _min_y_9]],\n",
    "    mode='markers',\n",
    "    marker=dict(\n",
    "        size=7,\n",
    "        color='red',\n",
    "        symbol='circle',\n",
    "    ),\n",
    "    name=\"min 9\",\n",
    "    text=[str(np.min(grid_losses_9))],\n",
    "    hovertemplate='Loss: %{text}'\n",
    ")\n",
    "\n",
    "fig2.add_trace(min_point_9)\n",
    "\n",
    "fig2.show()\n"
   ]
  },
  {
   "cell_type": "code",
   "execution_count": 35,
   "id": "d62c693c",
   "metadata": {},
   "outputs": [
    {
     "data": {
      "application/vnd.plotly.v1+json": {
       "config": {
        "plotlyServerURL": "https://plot.ly"
       },
       "data": [
        {
         "coloraxis": "coloraxis",
         "colorscale": [
          [
           0,
           "#440154"
          ],
          [
           0.1111111111111111,
           "#482878"
          ],
          [
           0.2222222222222222,
           "#3e4989"
          ],
          [
           0.3333333333333333,
           "#31688e"
          ],
          [
           0.4444444444444444,
           "#26828e"
          ],
          [
           0.5555555555555556,
           "#1f9e89"
          ],
          [
           0.6666666666666666,
           "#35b779"
          ],
          [
           0.7777777777777778,
           "#6ece58"
          ],
          [
           0.8888888888888888,
           "#b5de2b"
          ],
          [
           1,
           "#fde725"
          ]
         ],
         "contours": {
          "z": {
           "highlightcolor": "limegreen",
           "project": {
            "z": true
           },
           "show": true,
           "usecolormap": true
          }
         },
         "name": "grid point",
         "opacity": 0.8,
         "type": "surface",
         "x": [
          [
           -6.845057010650635,
           -6.0523601582175806,
           -5.259663305784526,
           -4.466966453351473,
           -3.6742696009184184,
           -2.881572748485364,
           -2.0888758960523104,
           -1.2961790436192562,
           -0.503482191186202,
           0.28921466124685224,
           1.0819115136799065,
           1.8746083661129607,
           2.667305218546014,
           3.460002070979069,
           4.252698923412122,
           5.0453957758451775,
           5.838092628278231,
           6.630789480711284,
           7.423486333144339,
           8.216183185577393
          ],
          [
           -6.845057010650635,
           -6.0523601582175806,
           -5.259663305784526,
           -4.466966453351473,
           -3.6742696009184184,
           -2.881572748485364,
           -2.0888758960523104,
           -1.2961790436192562,
           -0.503482191186202,
           0.28921466124685224,
           1.0819115136799065,
           1.8746083661129607,
           2.667305218546014,
           3.460002070979069,
           4.252698923412122,
           5.0453957758451775,
           5.838092628278231,
           6.630789480711284,
           7.423486333144339,
           8.216183185577393
          ],
          [
           -6.845057010650635,
           -6.0523601582175806,
           -5.259663305784526,
           -4.466966453351473,
           -3.6742696009184184,
           -2.881572748485364,
           -2.0888758960523104,
           -1.2961790436192562,
           -0.503482191186202,
           0.28921466124685224,
           1.0819115136799065,
           1.8746083661129607,
           2.667305218546014,
           3.460002070979069,
           4.252698923412122,
           5.0453957758451775,
           5.838092628278231,
           6.630789480711284,
           7.423486333144339,
           8.216183185577393
          ],
          [
           -6.845057010650635,
           -6.0523601582175806,
           -5.259663305784526,
           -4.466966453351473,
           -3.6742696009184184,
           -2.881572748485364,
           -2.0888758960523104,
           -1.2961790436192562,
           -0.503482191186202,
           0.28921466124685224,
           1.0819115136799065,
           1.8746083661129607,
           2.667305218546014,
           3.460002070979069,
           4.252698923412122,
           5.0453957758451775,
           5.838092628278231,
           6.630789480711284,
           7.423486333144339,
           8.216183185577393
          ],
          [
           -6.845057010650635,
           -6.0523601582175806,
           -5.259663305784526,
           -4.466966453351473,
           -3.6742696009184184,
           -2.881572748485364,
           -2.0888758960523104,
           -1.2961790436192562,
           -0.503482191186202,
           0.28921466124685224,
           1.0819115136799065,
           1.8746083661129607,
           2.667305218546014,
           3.460002070979069,
           4.252698923412122,
           5.0453957758451775,
           5.838092628278231,
           6.630789480711284,
           7.423486333144339,
           8.216183185577393
          ],
          [
           -6.845057010650635,
           -6.0523601582175806,
           -5.259663305784526,
           -4.466966453351473,
           -3.6742696009184184,
           -2.881572748485364,
           -2.0888758960523104,
           -1.2961790436192562,
           -0.503482191186202,
           0.28921466124685224,
           1.0819115136799065,
           1.8746083661129607,
           2.667305218546014,
           3.460002070979069,
           4.252698923412122,
           5.0453957758451775,
           5.838092628278231,
           6.630789480711284,
           7.423486333144339,
           8.216183185577393
          ],
          [
           -6.845057010650635,
           -6.0523601582175806,
           -5.259663305784526,
           -4.466966453351473,
           -3.6742696009184184,
           -2.881572748485364,
           -2.0888758960523104,
           -1.2961790436192562,
           -0.503482191186202,
           0.28921466124685224,
           1.0819115136799065,
           1.8746083661129607,
           2.667305218546014,
           3.460002070979069,
           4.252698923412122,
           5.0453957758451775,
           5.838092628278231,
           6.630789480711284,
           7.423486333144339,
           8.216183185577393
          ],
          [
           -6.845057010650635,
           -6.0523601582175806,
           -5.259663305784526,
           -4.466966453351473,
           -3.6742696009184184,
           -2.881572748485364,
           -2.0888758960523104,
           -1.2961790436192562,
           -0.503482191186202,
           0.28921466124685224,
           1.0819115136799065,
           1.8746083661129607,
           2.667305218546014,
           3.460002070979069,
           4.252698923412122,
           5.0453957758451775,
           5.838092628278231,
           6.630789480711284,
           7.423486333144339,
           8.216183185577393
          ],
          [
           -6.845057010650635,
           -6.0523601582175806,
           -5.259663305784526,
           -4.466966453351473,
           -3.6742696009184184,
           -2.881572748485364,
           -2.0888758960523104,
           -1.2961790436192562,
           -0.503482191186202,
           0.28921466124685224,
           1.0819115136799065,
           1.8746083661129607,
           2.667305218546014,
           3.460002070979069,
           4.252698923412122,
           5.0453957758451775,
           5.838092628278231,
           6.630789480711284,
           7.423486333144339,
           8.216183185577393
          ],
          [
           -6.845057010650635,
           -6.0523601582175806,
           -5.259663305784526,
           -4.466966453351473,
           -3.6742696009184184,
           -2.881572748485364,
           -2.0888758960523104,
           -1.2961790436192562,
           -0.503482191186202,
           0.28921466124685224,
           1.0819115136799065,
           1.8746083661129607,
           2.667305218546014,
           3.460002070979069,
           4.252698923412122,
           5.0453957758451775,
           5.838092628278231,
           6.630789480711284,
           7.423486333144339,
           8.216183185577393
          ],
          [
           -6.845057010650635,
           -6.0523601582175806,
           -5.259663305784526,
           -4.466966453351473,
           -3.6742696009184184,
           -2.881572748485364,
           -2.0888758960523104,
           -1.2961790436192562,
           -0.503482191186202,
           0.28921466124685224,
           1.0819115136799065,
           1.8746083661129607,
           2.667305218546014,
           3.460002070979069,
           4.252698923412122,
           5.0453957758451775,
           5.838092628278231,
           6.630789480711284,
           7.423486333144339,
           8.216183185577393
          ],
          [
           -6.845057010650635,
           -6.0523601582175806,
           -5.259663305784526,
           -4.466966453351473,
           -3.6742696009184184,
           -2.881572748485364,
           -2.0888758960523104,
           -1.2961790436192562,
           -0.503482191186202,
           0.28921466124685224,
           1.0819115136799065,
           1.8746083661129607,
           2.667305218546014,
           3.460002070979069,
           4.252698923412122,
           5.0453957758451775,
           5.838092628278231,
           6.630789480711284,
           7.423486333144339,
           8.216183185577393
          ],
          [
           -6.845057010650635,
           -6.0523601582175806,
           -5.259663305784526,
           -4.466966453351473,
           -3.6742696009184184,
           -2.881572748485364,
           -2.0888758960523104,
           -1.2961790436192562,
           -0.503482191186202,
           0.28921466124685224,
           1.0819115136799065,
           1.8746083661129607,
           2.667305218546014,
           3.460002070979069,
           4.252698923412122,
           5.0453957758451775,
           5.838092628278231,
           6.630789480711284,
           7.423486333144339,
           8.216183185577393
          ],
          [
           -6.845057010650635,
           -6.0523601582175806,
           -5.259663305784526,
           -4.466966453351473,
           -3.6742696009184184,
           -2.881572748485364,
           -2.0888758960523104,
           -1.2961790436192562,
           -0.503482191186202,
           0.28921466124685224,
           1.0819115136799065,
           1.8746083661129607,
           2.667305218546014,
           3.460002070979069,
           4.252698923412122,
           5.0453957758451775,
           5.838092628278231,
           6.630789480711284,
           7.423486333144339,
           8.216183185577393
          ],
          [
           -6.845057010650635,
           -6.0523601582175806,
           -5.259663305784526,
           -4.466966453351473,
           -3.6742696009184184,
           -2.881572748485364,
           -2.0888758960523104,
           -1.2961790436192562,
           -0.503482191186202,
           0.28921466124685224,
           1.0819115136799065,
           1.8746083661129607,
           2.667305218546014,
           3.460002070979069,
           4.252698923412122,
           5.0453957758451775,
           5.838092628278231,
           6.630789480711284,
           7.423486333144339,
           8.216183185577393
          ],
          [
           -6.845057010650635,
           -6.0523601582175806,
           -5.259663305784526,
           -4.466966453351473,
           -3.6742696009184184,
           -2.881572748485364,
           -2.0888758960523104,
           -1.2961790436192562,
           -0.503482191186202,
           0.28921466124685224,
           1.0819115136799065,
           1.8746083661129607,
           2.667305218546014,
           3.460002070979069,
           4.252698923412122,
           5.0453957758451775,
           5.838092628278231,
           6.630789480711284,
           7.423486333144339,
           8.216183185577393
          ],
          [
           -6.845057010650635,
           -6.0523601582175806,
           -5.259663305784526,
           -4.466966453351473,
           -3.6742696009184184,
           -2.881572748485364,
           -2.0888758960523104,
           -1.2961790436192562,
           -0.503482191186202,
           0.28921466124685224,
           1.0819115136799065,
           1.8746083661129607,
           2.667305218546014,
           3.460002070979069,
           4.252698923412122,
           5.0453957758451775,
           5.838092628278231,
           6.630789480711284,
           7.423486333144339,
           8.216183185577393
          ],
          [
           -6.845057010650635,
           -6.0523601582175806,
           -5.259663305784526,
           -4.466966453351473,
           -3.6742696009184184,
           -2.881572748485364,
           -2.0888758960523104,
           -1.2961790436192562,
           -0.503482191186202,
           0.28921466124685224,
           1.0819115136799065,
           1.8746083661129607,
           2.667305218546014,
           3.460002070979069,
           4.252698923412122,
           5.0453957758451775,
           5.838092628278231,
           6.630789480711284,
           7.423486333144339,
           8.216183185577393
          ],
          [
           -6.845057010650635,
           -6.0523601582175806,
           -5.259663305784526,
           -4.466966453351473,
           -3.6742696009184184,
           -2.881572748485364,
           -2.0888758960523104,
           -1.2961790436192562,
           -0.503482191186202,
           0.28921466124685224,
           1.0819115136799065,
           1.8746083661129607,
           2.667305218546014,
           3.460002070979069,
           4.252698923412122,
           5.0453957758451775,
           5.838092628278231,
           6.630789480711284,
           7.423486333144339,
           8.216183185577393
          ],
          [
           -6.845057010650635,
           -6.0523601582175806,
           -5.259663305784526,
           -4.466966453351473,
           -3.6742696009184184,
           -2.881572748485364,
           -2.0888758960523104,
           -1.2961790436192562,
           -0.503482191186202,
           0.28921466124685224,
           1.0819115136799065,
           1.8746083661129607,
           2.667305218546014,
           3.460002070979069,
           4.252698923412122,
           5.0453957758451775,
           5.838092628278231,
           6.630789480711284,
           7.423486333144339,
           8.216183185577393
          ]
         ],
         "y": [
          [
           -6.845057010650635,
           -6.845057010650635,
           -6.845057010650635,
           -6.845057010650635,
           -6.845057010650635,
           -6.845057010650635,
           -6.845057010650635,
           -6.845057010650635,
           -6.845057010650635,
           -6.845057010650635,
           -6.845057010650635,
           -6.845057010650635,
           -6.845057010650635,
           -6.845057010650635,
           -6.845057010650635,
           -6.845057010650635,
           -6.845057010650635,
           -6.845057010650635,
           -6.845057010650635,
           -6.845057010650635
          ],
          [
           -6.0523601582175806,
           -6.0523601582175806,
           -6.0523601582175806,
           -6.0523601582175806,
           -6.0523601582175806,
           -6.0523601582175806,
           -6.0523601582175806,
           -6.0523601582175806,
           -6.0523601582175806,
           -6.0523601582175806,
           -6.0523601582175806,
           -6.0523601582175806,
           -6.0523601582175806,
           -6.0523601582175806,
           -6.0523601582175806,
           -6.0523601582175806,
           -6.0523601582175806,
           -6.0523601582175806,
           -6.0523601582175806,
           -6.0523601582175806
          ],
          [
           -5.259663305784526,
           -5.259663305784526,
           -5.259663305784526,
           -5.259663305784526,
           -5.259663305784526,
           -5.259663305784526,
           -5.259663305784526,
           -5.259663305784526,
           -5.259663305784526,
           -5.259663305784526,
           -5.259663305784526,
           -5.259663305784526,
           -5.259663305784526,
           -5.259663305784526,
           -5.259663305784526,
           -5.259663305784526,
           -5.259663305784526,
           -5.259663305784526,
           -5.259663305784526,
           -5.259663305784526
          ],
          [
           -4.466966453351473,
           -4.466966453351473,
           -4.466966453351473,
           -4.466966453351473,
           -4.466966453351473,
           -4.466966453351473,
           -4.466966453351473,
           -4.466966453351473,
           -4.466966453351473,
           -4.466966453351473,
           -4.466966453351473,
           -4.466966453351473,
           -4.466966453351473,
           -4.466966453351473,
           -4.466966453351473,
           -4.466966453351473,
           -4.466966453351473,
           -4.466966453351473,
           -4.466966453351473,
           -4.466966453351473
          ],
          [
           -3.6742696009184184,
           -3.6742696009184184,
           -3.6742696009184184,
           -3.6742696009184184,
           -3.6742696009184184,
           -3.6742696009184184,
           -3.6742696009184184,
           -3.6742696009184184,
           -3.6742696009184184,
           -3.6742696009184184,
           -3.6742696009184184,
           -3.6742696009184184,
           -3.6742696009184184,
           -3.6742696009184184,
           -3.6742696009184184,
           -3.6742696009184184,
           -3.6742696009184184,
           -3.6742696009184184,
           -3.6742696009184184,
           -3.6742696009184184
          ],
          [
           -2.881572748485364,
           -2.881572748485364,
           -2.881572748485364,
           -2.881572748485364,
           -2.881572748485364,
           -2.881572748485364,
           -2.881572748485364,
           -2.881572748485364,
           -2.881572748485364,
           -2.881572748485364,
           -2.881572748485364,
           -2.881572748485364,
           -2.881572748485364,
           -2.881572748485364,
           -2.881572748485364,
           -2.881572748485364,
           -2.881572748485364,
           -2.881572748485364,
           -2.881572748485364,
           -2.881572748485364
          ],
          [
           -2.0888758960523104,
           -2.0888758960523104,
           -2.0888758960523104,
           -2.0888758960523104,
           -2.0888758960523104,
           -2.0888758960523104,
           -2.0888758960523104,
           -2.0888758960523104,
           -2.0888758960523104,
           -2.0888758960523104,
           -2.0888758960523104,
           -2.0888758960523104,
           -2.0888758960523104,
           -2.0888758960523104,
           -2.0888758960523104,
           -2.0888758960523104,
           -2.0888758960523104,
           -2.0888758960523104,
           -2.0888758960523104,
           -2.0888758960523104
          ],
          [
           -1.2961790436192562,
           -1.2961790436192562,
           -1.2961790436192562,
           -1.2961790436192562,
           -1.2961790436192562,
           -1.2961790436192562,
           -1.2961790436192562,
           -1.2961790436192562,
           -1.2961790436192562,
           -1.2961790436192562,
           -1.2961790436192562,
           -1.2961790436192562,
           -1.2961790436192562,
           -1.2961790436192562,
           -1.2961790436192562,
           -1.2961790436192562,
           -1.2961790436192562,
           -1.2961790436192562,
           -1.2961790436192562,
           -1.2961790436192562
          ],
          [
           -0.503482191186202,
           -0.503482191186202,
           -0.503482191186202,
           -0.503482191186202,
           -0.503482191186202,
           -0.503482191186202,
           -0.503482191186202,
           -0.503482191186202,
           -0.503482191186202,
           -0.503482191186202,
           -0.503482191186202,
           -0.503482191186202,
           -0.503482191186202,
           -0.503482191186202,
           -0.503482191186202,
           -0.503482191186202,
           -0.503482191186202,
           -0.503482191186202,
           -0.503482191186202,
           -0.503482191186202
          ],
          [
           0.28921466124685224,
           0.28921466124685224,
           0.28921466124685224,
           0.28921466124685224,
           0.28921466124685224,
           0.28921466124685224,
           0.28921466124685224,
           0.28921466124685224,
           0.28921466124685224,
           0.28921466124685224,
           0.28921466124685224,
           0.28921466124685224,
           0.28921466124685224,
           0.28921466124685224,
           0.28921466124685224,
           0.28921466124685224,
           0.28921466124685224,
           0.28921466124685224,
           0.28921466124685224,
           0.28921466124685224
          ],
          [
           1.0819115136799065,
           1.0819115136799065,
           1.0819115136799065,
           1.0819115136799065,
           1.0819115136799065,
           1.0819115136799065,
           1.0819115136799065,
           1.0819115136799065,
           1.0819115136799065,
           1.0819115136799065,
           1.0819115136799065,
           1.0819115136799065,
           1.0819115136799065,
           1.0819115136799065,
           1.0819115136799065,
           1.0819115136799065,
           1.0819115136799065,
           1.0819115136799065,
           1.0819115136799065,
           1.0819115136799065
          ],
          [
           1.8746083661129607,
           1.8746083661129607,
           1.8746083661129607,
           1.8746083661129607,
           1.8746083661129607,
           1.8746083661129607,
           1.8746083661129607,
           1.8746083661129607,
           1.8746083661129607,
           1.8746083661129607,
           1.8746083661129607,
           1.8746083661129607,
           1.8746083661129607,
           1.8746083661129607,
           1.8746083661129607,
           1.8746083661129607,
           1.8746083661129607,
           1.8746083661129607,
           1.8746083661129607,
           1.8746083661129607
          ],
          [
           2.667305218546014,
           2.667305218546014,
           2.667305218546014,
           2.667305218546014,
           2.667305218546014,
           2.667305218546014,
           2.667305218546014,
           2.667305218546014,
           2.667305218546014,
           2.667305218546014,
           2.667305218546014,
           2.667305218546014,
           2.667305218546014,
           2.667305218546014,
           2.667305218546014,
           2.667305218546014,
           2.667305218546014,
           2.667305218546014,
           2.667305218546014,
           2.667305218546014
          ],
          [
           3.460002070979069,
           3.460002070979069,
           3.460002070979069,
           3.460002070979069,
           3.460002070979069,
           3.460002070979069,
           3.460002070979069,
           3.460002070979069,
           3.460002070979069,
           3.460002070979069,
           3.460002070979069,
           3.460002070979069,
           3.460002070979069,
           3.460002070979069,
           3.460002070979069,
           3.460002070979069,
           3.460002070979069,
           3.460002070979069,
           3.460002070979069,
           3.460002070979069
          ],
          [
           4.252698923412122,
           4.252698923412122,
           4.252698923412122,
           4.252698923412122,
           4.252698923412122,
           4.252698923412122,
           4.252698923412122,
           4.252698923412122,
           4.252698923412122,
           4.252698923412122,
           4.252698923412122,
           4.252698923412122,
           4.252698923412122,
           4.252698923412122,
           4.252698923412122,
           4.252698923412122,
           4.252698923412122,
           4.252698923412122,
           4.252698923412122,
           4.252698923412122
          ],
          [
           5.0453957758451775,
           5.0453957758451775,
           5.0453957758451775,
           5.0453957758451775,
           5.0453957758451775,
           5.0453957758451775,
           5.0453957758451775,
           5.0453957758451775,
           5.0453957758451775,
           5.0453957758451775,
           5.0453957758451775,
           5.0453957758451775,
           5.0453957758451775,
           5.0453957758451775,
           5.0453957758451775,
           5.0453957758451775,
           5.0453957758451775,
           5.0453957758451775,
           5.0453957758451775,
           5.0453957758451775
          ],
          [
           5.838092628278231,
           5.838092628278231,
           5.838092628278231,
           5.838092628278231,
           5.838092628278231,
           5.838092628278231,
           5.838092628278231,
           5.838092628278231,
           5.838092628278231,
           5.838092628278231,
           5.838092628278231,
           5.838092628278231,
           5.838092628278231,
           5.838092628278231,
           5.838092628278231,
           5.838092628278231,
           5.838092628278231,
           5.838092628278231,
           5.838092628278231,
           5.838092628278231
          ],
          [
           6.630789480711284,
           6.630789480711284,
           6.630789480711284,
           6.630789480711284,
           6.630789480711284,
           6.630789480711284,
           6.630789480711284,
           6.630789480711284,
           6.630789480711284,
           6.630789480711284,
           6.630789480711284,
           6.630789480711284,
           6.630789480711284,
           6.630789480711284,
           6.630789480711284,
           6.630789480711284,
           6.630789480711284,
           6.630789480711284,
           6.630789480711284,
           6.630789480711284
          ],
          [
           7.423486333144339,
           7.423486333144339,
           7.423486333144339,
           7.423486333144339,
           7.423486333144339,
           7.423486333144339,
           7.423486333144339,
           7.423486333144339,
           7.423486333144339,
           7.423486333144339,
           7.423486333144339,
           7.423486333144339,
           7.423486333144339,
           7.423486333144339,
           7.423486333144339,
           7.423486333144339,
           7.423486333144339,
           7.423486333144339,
           7.423486333144339,
           7.423486333144339
          ],
          [
           8.216183185577393,
           8.216183185577393,
           8.216183185577393,
           8.216183185577393,
           8.216183185577393,
           8.216183185577393,
           8.216183185577393,
           8.216183185577393,
           8.216183185577393,
           8.216183185577393,
           8.216183185577393,
           8.216183185577393,
           8.216183185577393,
           8.216183185577393,
           8.216183185577393,
           8.216183185577393,
           8.216183185577393,
           8.216183185577393,
           8.216183185577393,
           8.216183185577393
          ]
         ],
         "z": [
          [
           87.06445454101562,
           76.76999182128907,
           67.22549953613282,
           58.45915926513672,
           50.48145392456055,
           43.36072817993164,
           37.10614096069336,
           31.74497231750488,
           27.310072787475587,
           23.74077471618652,
           21.074319958496094,
           19.36846589050293,
           18.77211115722656,
           20.470555419921876,
           23.57663345336914,
           26.909981719970702,
           30.600630102539064,
           34.6072014251709,
           38.72894563293457,
           42.87060765686035
          ],
          [
           60.43931141357422,
           53.21487535400391,
           46.462923278808596,
           40.194895916748045,
           34.467648077392575,
           29.324444564819338,
           24.77011206359863,
           20.866684313964843,
           17.592293585205077,
           15.053174114990235,
           13.273397859191894,
           12.207859701538085,
           11.910668505859375,
           13.313072059631347,
           15.589871116638184,
           18.05804028930664,
           20.809943075561524,
           23.766152536010743,
           26.832474099731446,
           29.849164263916016
          ],
          [
           40.27892658691406,
           35.47467283325195,
           30.952942944335938,
           26.727089630126954,
           22.82052102050781,
           19.26515869445801,
           16.1128100189209,
           13.386992977905274,
           11.092542681884765,
           9.311471907043456,
           8.107067710876464,
           7.457194555664063,
           7.352471844482422,
           8.410035557556153,
           10.013609812927246,
           11.813222023010255,
           13.828286613464355,
           15.940489888000489,
           18.149078607177735,
           20.349140155029296
          ],
          [
           25.545068493652344,
           22.482154382324218,
           19.64835735168457,
           16.987452459716796,
           14.511612692260742,
           12.23196502532959,
           10.176145809936523,
           8.3700013092041,
           6.849708672332763,
           5.648469026947022,
           4.825296615600586,
           4.420086882019043,
           4.437321710968018,
           5.171450157165527,
           6.248112335205078,
           7.518352210235595,
           8.935359934997559,
           10.441228966522218,
           11.975791697692872,
           13.615791320800781
          ],
          [
           15.584697882080079,
           13.577483578491211,
           11.811611407470703,
           10.222573886108398,
           8.761832818603516,
           7.416691918945313,
           6.187884999084472,
           5.084191171264648,
           4.133967882537842,
           3.3699827117919923,
           2.8277959774017334,
           2.562715085601807,
           2.6300921241760253,
           3.1130935779571534,
           3.8057523777008058,
           4.65817811126709,
           5.636864754486084,
           6.687911095428467,
           7.750571249389648,
           9.144645542144776
          ],
          [
           9.437999809265136,
           8.019012483215333,
           6.848247805786133,
           5.866139529418946,
           5.016974826049805,
           4.266865120697021,
           3.5931611236572265,
           2.9747184951782226,
           2.425979359817505,
           1.9744974313735961,
           1.6457698516845702,
           1.4819301950454713,
           1.5519347564697266,
           1.86104889087677,
           2.3098915700912475,
           2.885084408187866,
           3.5619371772766115,
           4.266902699661255,
           5.051581379699707,
           6.443102924346924
          ],
          [
           5.9524877151489255,
           4.84833835144043,
           3.9882948150634765,
           3.3138231101989746,
           2.7788000396728516,
           2.3411965419769287,
           1.9757388401031495,
           1.6588045879364013,
           1.3789825162887572,
           1.1413492433547974,
           0.9699376899719239,
           0.8958011353492736,
           0.9655956159591674,
           1.1819146823883058,
           1.5128212860107422,
           1.9407642055511474,
           2.41155243434906,
           2.9073753540039062,
           3.5888796798706055,
           4.62938614654541
          ],
          [
           4.017028214263916,
           3.116241904449463,
           2.431682307434082,
           1.9220758808135987,
           1.5398594619750976,
           1.2557189723968505,
           1.0464775476455688,
           0.8890996974945068,
           0.7658862203598023,
           0.6719105017662048,
           0.6193532876968384,
           0.6326553517341614,
           0.7378462034225464,
           0.9487171119689941,
           1.2512402360916137,
           1.6050813983917236,
           1.9772629577636718,
           2.3835532936096193,
           2.8693874267578123,
           3.4272979694366454
          ],
          [
           2.9668531509399414,
           2.1929646533966065,
           1.6199799022674561,
           1.201276399230957,
           0.9041974956512451,
           0.6984996095657349,
           0.5651376936912537,
           0.4892272276878357,
           0.45872703227996825,
           0.4681514358997345,
           0.5259209730148315,
           0.6484228562355041,
           0.8485465616226197,
           1.1226913955688476,
           1.4427562578201294,
           1.768942367362976,
           2.0661608432769776,
           2.3284561939239503,
           2.5647831859588623,
           2.7991235454559327
          ],
          [
           2.44676711769104,
           1.7498093784332276,
           1.2398789472579956,
           0.8750565338134766,
           0.6249804782867432,
           0.46477904834747313,
           0.37823026542663574,
           0.35871151843070986,
           0.4122973471164703,
           0.5499087044239044,
           0.7709883325576782,
           1.0509792900085448,
           1.3530315048217774,
           1.648946109199524,
           1.9098575038909913,
           2.111009996795654,
           2.2546727355957032,
           2.358400899887085,
           2.443309370422363,
           2.5358942752838134
          ],
          [
           2.2337286701202395,
           1.571943789291382,
           1.0993567445755006,
           0.7742625196456909,
           0.5651553814888001,
           0.4541902261734009,
           0.4408661480426788,
           0.5444904542922974,
           0.7844485855102539,
           1.1244529741287232,
           1.4758722133636475,
           1.7638418926239015,
           1.9733397296905517,
           2.1211730030059814,
           2.221281908798218,
           2.2810145820617675,
           2.3179379264831543,
           2.3435225719451904,
           2.37004040184021,
           2.4144444553375246
          ],
          [
           2.4805750900268553,
           1.7465964920043946,
           1.2482898906707764,
           0.9398903877258301,
           0.7970886024475098,
           0.8151041370391846,
           0.9930610906600952,
           1.294424362564087,
           1.6262916496276856,
           1.9024056121826172,
           2.0922402946472167,
           2.2056920848846437,
           2.2646462783813477,
           2.2912493103027343,
           2.3028013259887694,
           2.308796692276001,
           2.31325983505249,
           2.3222987281799314,
           2.3454851207733154,
           2.3928512699127196
          ],
          [
           3.5765286346435547,
           2.6257019638061525,
           1.9921355209350586,
           1.628346905517578,
           1.4978852575302124,
           1.5585108533859253,
           1.7387929079055786,
           1.9480147060394286,
           2.117776904296875,
           2.2255412155151366,
           2.2801732105255126,
           2.301362173461914,
           2.307002503967285,
           2.306675424575806,
           2.306424394607544,
           2.307317000579834,
           2.311520287322998,
           2.324359090423584,
           2.3493681571960447,
           2.39429939994812
          ],
          [
           4.674370742034912,
           3.4902870765686034,
           2.683652839279175,
           2.201432271194458,
           1.9902047138214112,
           1.9772475212097167,
           2.0662985023498535,
           2.1699164852142334,
           2.2447156909942625,
           2.28531224899292,
           2.3009463844299316,
           2.30473828086853,
           2.305276066207886,
           2.305887266921997,
           2.3066504276275634,
           2.3083095188140867,
           2.3136134433746336,
           2.3262666469573974,
           2.3487824436187745,
           2.3912554569244384
          ],
          [
           5.2646801528930665,
           3.9202102600097657,
           3.0022213020324706,
           2.4498691951751708,
           2.193102927017212,
           2.1379765670776365,
           2.177230976486206,
           2.233121405029297,
           2.2739602813720703,
           2.2946576625823973,
           2.3020376609802247,
           2.3042846614837647,
           2.305871911239624,
           2.306375675201416,
           2.306258271408081,
           2.3069988231658938,
           2.310684516143799,
           2.3217305061340334,
           2.347074949645996,
           2.3975427444458006
          ],
          [
           5.334859329223633,
           3.944933226776123,
           3.015510775756836,
           2.4779376750946045,
           2.2423598140716554,
           2.191664190673828,
           2.2172187786102295,
           2.254259115600586,
           2.2813909439086912,
           2.2962924518585206,
           2.3027062808990477,
           2.305713647842407,
           2.3059504901885988,
           2.304994192504883,
           2.3040552406311035,
           2.3041160430908203,
           2.308970082473755,
           2.323808093261719,
           2.358301698303223,
           2.4318597927093504
          ],
          [
           5.1188215675354005,
           3.793224864196777,
           2.9382226692199707,
           2.4643830253601076,
           2.2622105331420896,
           2.2159473110198973,
           2.2320013801574707,
           2.2644787525177,
           2.2873492095947268,
           2.299654058456421,
           2.3055532947540285,
           2.3066776428222657,
           2.3060276229858396,
           2.3041080516815184,
           2.303386080932617,
           2.3065280643463133,
           2.319315789794922,
           2.349861671066284,
           2.41340849609375,
           2.5421784896850586
          ],
          [
           4.876814962005615,
           3.6514396743774413,
           2.8719157527923582,
           2.4393043773651124,
           2.255420429229736,
           2.225334632873535,
           2.2489080295562744,
           2.275712950897217,
           2.294840065383911,
           2.3047529136657716,
           2.308419289398193,
           2.30890460395813,
           2.3071850795745847,
           2.3066346061706544,
           2.30978893661499,
           2.321731634902954,
           2.3539565277099608,
           2.421654390335083,
           2.5504290122985838,
           2.7805942207336427
          ],
          [
           4.66400318069458,
           3.4948184547424317,
           2.756376019668579,
           2.3858611450195313,
           2.257008190536499,
           2.243965245819092,
           2.2658466342926027,
           2.2885993339538575,
           2.3037529243469237,
           2.30986420249939,
           2.3139413677215575,
           2.3137451152801516,
           2.3135948238372803,
           2.3178003944396974,
           2.3322062244415283,
           2.365301937866211,
           2.4379419242858886,
           2.574796987915039,
           2.81210878868103,
           3.193202935028076
          ],
          [
           4.326667706298828,
           3.2683802253723147,
           2.654697890472412,
           2.363937041854858,
           2.274417428588867,
           2.269121259689331,
           2.2866723041534422,
           2.305248070907593,
           2.314304444885254,
           2.3213153972625733,
           2.3251049812316893,
           2.327490207672119,
           2.3335495265960695,
           2.350543701553345,
           2.389995142745972,
           2.4671994739532472,
           2.615122129058838,
           2.8683077739715577,
           3.2602845043182374,
           3.8342654376983645
          ]
         ]
        },
        {
         "line": {
          "color": "orange"
         },
         "marker": {
          "color": "orange",
          "size": 5
         },
         "mode": "markers+lines",
         "name": "Classic SGD m=0.0",
         "type": "scatter3d",
         "x": [
          3.195769786834717,
          3.1957199573516846,
          2.582537889480591,
          2.053042411804199,
          2.052504539489746,
          1.6259969472885132,
          1.2270944118499756,
          1.2266689538955688,
          0.8768727779388428,
          0.5497427582740784,
          0.5497386455535889,
          0.2540547549724579,
          -0.008609078824520111,
          -0.009295174852013588,
          -0.24927835166454315,
          -0.4730444550514221,
          -0.47300398349761963,
          -0.6734241247177124,
          -0.8497794270515442,
          -0.8497005105018616,
          -1.0122956037521362,
          -1.1550954580307007,
          -1.1554996967315674,
          -1.2883788347244263,
          -1.4162832498550415,
          -1.4164190292358398,
          -1.5332164764404297,
          -1.6310678720474243,
          -1.6308194398880005,
          -1.7398873567581177,
          -1.824643611907959
         ],
         "y": [
          1.6320654153823853,
          1.631888747215271,
          0.2695515751838684,
          -0.3326004445552826,
          -0.33354198932647705,
          -0.5691762566566467,
          -0.6851053237915039,
          -0.6855148673057556,
          -0.7056321501731873,
          -0.6678449511528015,
          -0.667305588722229,
          -0.5988039970397949,
          -0.5056424140930176,
          -0.5063849687576294,
          -0.4048561453819275,
          -0.28250813484191895,
          -0.28179284930229187,
          -0.16941244900226593,
          -0.06181976571679115,
          -0.06139662489295006,
          0.0537351593375206,
          0.1539631336927414,
          0.15397806465625763,
          0.24686187505722046,
          0.3337743282318115,
          0.33432161808013916,
          0.4323440194129944,
          0.5137671232223511,
          0.5134578943252563,
          0.5852808952331543,
          0.6643479466438293
         ],
         "z": [
          2.250978154373169,
          2.250942544555664,
          1.304236987876892,
          0.7419701807022094,
          0.7414701126098633,
          0.5917323077201844,
          0.5351646683216095,
          0.535127580499649,
          0.5117787858009338,
          0.49502304611206055,
          0.4949578327178955,
          0.47873003039360046,
          0.4601061384677887,
          0.4602062426567078,
          0.44077357406616213,
          0.4191720121383667,
          0.4190776580810547,
          0.400792231464386,
          0.38567316017150877,
          0.3856341205596924,
          0.37292269067764283,
          0.3646513846874237,
          0.36464363412857054,
          0.3594166454315186,
          0.35676661310195923,
          0.35676452527046204,
          0.3567438283443451,
          0.35891508998870847,
          0.35890192375183105,
          0.3622790039539337,
          0.36799924488067626
         ]
        },
        {
         "marker": {
          "color": "red",
          "size": 5
         },
         "mode": "markers",
         "name": "global minimum",
         "type": "scatter3d",
         "x": [
          -1.2961790436192562
         ],
         "y": [
          0.28921466124685224
         ],
         "z": [
          0.35871151843070986
         ]
        }
       ],
       "layout": {
        "coloraxis": {
         "cmax": 3.1659474433969463,
         "cmin": -0.5566348306033799,
         "colorbar": {
          "title": {
           "text": "Loss magnitude"
          }
         },
         "colorscale": [
          [
           0,
           "#440154"
          ],
          [
           0.1111111111111111,
           "#482878"
          ],
          [
           0.2222222222222222,
           "#3e4989"
          ],
          [
           0.3333333333333333,
           "#31688e"
          ],
          [
           0.4444444444444444,
           "#26828e"
          ],
          [
           0.5555555555555556,
           "#1f9e89"
          ],
          [
           0.6666666666666666,
           "#35b779"
          ],
          [
           0.7777777777777778,
           "#6ece58"
          ],
          [
           0.8888888888888888,
           "#b5de2b"
          ],
          [
           1,
           "#fde725"
          ]
         ]
        },
        "legend": {
         "orientation": "v",
         "x": 0,
         "y": 0.5
        },
        "scene": {
         "xaxis": {
          "title": {
           "text": "PC1"
          }
         },
         "yaxis": {
          "title": {
           "text": "PC2"
          }
         },
         "zaxis": {
          "title": {
           "text": " Loss"
          },
          "type": "log"
         }
        },
        "template": {
         "data": {
          "bar": [
           {
            "error_x": {
             "color": "#2a3f5f"
            },
            "error_y": {
             "color": "#2a3f5f"
            },
            "marker": {
             "line": {
              "color": "#E5ECF6",
              "width": 0.5
             },
             "pattern": {
              "fillmode": "overlay",
              "size": 10,
              "solidity": 0.2
             }
            },
            "type": "bar"
           }
          ],
          "barpolar": [
           {
            "marker": {
             "line": {
              "color": "#E5ECF6",
              "width": 0.5
             },
             "pattern": {
              "fillmode": "overlay",
              "size": 10,
              "solidity": 0.2
             }
            },
            "type": "barpolar"
           }
          ],
          "carpet": [
           {
            "aaxis": {
             "endlinecolor": "#2a3f5f",
             "gridcolor": "white",
             "linecolor": "white",
             "minorgridcolor": "white",
             "startlinecolor": "#2a3f5f"
            },
            "baxis": {
             "endlinecolor": "#2a3f5f",
             "gridcolor": "white",
             "linecolor": "white",
             "minorgridcolor": "white",
             "startlinecolor": "#2a3f5f"
            },
            "type": "carpet"
           }
          ],
          "choropleth": [
           {
            "colorbar": {
             "outlinewidth": 0,
             "ticks": ""
            },
            "type": "choropleth"
           }
          ],
          "contour": [
           {
            "colorbar": {
             "outlinewidth": 0,
             "ticks": ""
            },
            "colorscale": [
             [
              0,
              "#0d0887"
             ],
             [
              0.1111111111111111,
              "#46039f"
             ],
             [
              0.2222222222222222,
              "#7201a8"
             ],
             [
              0.3333333333333333,
              "#9c179e"
             ],
             [
              0.4444444444444444,
              "#bd3786"
             ],
             [
              0.5555555555555556,
              "#d8576b"
             ],
             [
              0.6666666666666666,
              "#ed7953"
             ],
             [
              0.7777777777777778,
              "#fb9f3a"
             ],
             [
              0.8888888888888888,
              "#fdca26"
             ],
             [
              1,
              "#f0f921"
             ]
            ],
            "type": "contour"
           }
          ],
          "contourcarpet": [
           {
            "colorbar": {
             "outlinewidth": 0,
             "ticks": ""
            },
            "type": "contourcarpet"
           }
          ],
          "heatmap": [
           {
            "colorbar": {
             "outlinewidth": 0,
             "ticks": ""
            },
            "colorscale": [
             [
              0,
              "#0d0887"
             ],
             [
              0.1111111111111111,
              "#46039f"
             ],
             [
              0.2222222222222222,
              "#7201a8"
             ],
             [
              0.3333333333333333,
              "#9c179e"
             ],
             [
              0.4444444444444444,
              "#bd3786"
             ],
             [
              0.5555555555555556,
              "#d8576b"
             ],
             [
              0.6666666666666666,
              "#ed7953"
             ],
             [
              0.7777777777777778,
              "#fb9f3a"
             ],
             [
              0.8888888888888888,
              "#fdca26"
             ],
             [
              1,
              "#f0f921"
             ]
            ],
            "type": "heatmap"
           }
          ],
          "heatmapgl": [
           {
            "colorbar": {
             "outlinewidth": 0,
             "ticks": ""
            },
            "colorscale": [
             [
              0,
              "#0d0887"
             ],
             [
              0.1111111111111111,
              "#46039f"
             ],
             [
              0.2222222222222222,
              "#7201a8"
             ],
             [
              0.3333333333333333,
              "#9c179e"
             ],
             [
              0.4444444444444444,
              "#bd3786"
             ],
             [
              0.5555555555555556,
              "#d8576b"
             ],
             [
              0.6666666666666666,
              "#ed7953"
             ],
             [
              0.7777777777777778,
              "#fb9f3a"
             ],
             [
              0.8888888888888888,
              "#fdca26"
             ],
             [
              1,
              "#f0f921"
             ]
            ],
            "type": "heatmapgl"
           }
          ],
          "histogram": [
           {
            "marker": {
             "pattern": {
              "fillmode": "overlay",
              "size": 10,
              "solidity": 0.2
             }
            },
            "type": "histogram"
           }
          ],
          "histogram2d": [
           {
            "colorbar": {
             "outlinewidth": 0,
             "ticks": ""
            },
            "colorscale": [
             [
              0,
              "#0d0887"
             ],
             [
              0.1111111111111111,
              "#46039f"
             ],
             [
              0.2222222222222222,
              "#7201a8"
             ],
             [
              0.3333333333333333,
              "#9c179e"
             ],
             [
              0.4444444444444444,
              "#bd3786"
             ],
             [
              0.5555555555555556,
              "#d8576b"
             ],
             [
              0.6666666666666666,
              "#ed7953"
             ],
             [
              0.7777777777777778,
              "#fb9f3a"
             ],
             [
              0.8888888888888888,
              "#fdca26"
             ],
             [
              1,
              "#f0f921"
             ]
            ],
            "type": "histogram2d"
           }
          ],
          "histogram2dcontour": [
           {
            "colorbar": {
             "outlinewidth": 0,
             "ticks": ""
            },
            "colorscale": [
             [
              0,
              "#0d0887"
             ],
             [
              0.1111111111111111,
              "#46039f"
             ],
             [
              0.2222222222222222,
              "#7201a8"
             ],
             [
              0.3333333333333333,
              "#9c179e"
             ],
             [
              0.4444444444444444,
              "#bd3786"
             ],
             [
              0.5555555555555556,
              "#d8576b"
             ],
             [
              0.6666666666666666,
              "#ed7953"
             ],
             [
              0.7777777777777778,
              "#fb9f3a"
             ],
             [
              0.8888888888888888,
              "#fdca26"
             ],
             [
              1,
              "#f0f921"
             ]
            ],
            "type": "histogram2dcontour"
           }
          ],
          "mesh3d": [
           {
            "colorbar": {
             "outlinewidth": 0,
             "ticks": ""
            },
            "type": "mesh3d"
           }
          ],
          "parcoords": [
           {
            "line": {
             "colorbar": {
              "outlinewidth": 0,
              "ticks": ""
             }
            },
            "type": "parcoords"
           }
          ],
          "pie": [
           {
            "automargin": true,
            "type": "pie"
           }
          ],
          "scatter": [
           {
            "fillpattern": {
             "fillmode": "overlay",
             "size": 10,
             "solidity": 0.2
            },
            "type": "scatter"
           }
          ],
          "scatter3d": [
           {
            "line": {
             "colorbar": {
              "outlinewidth": 0,
              "ticks": ""
             }
            },
            "marker": {
             "colorbar": {
              "outlinewidth": 0,
              "ticks": ""
             }
            },
            "type": "scatter3d"
           }
          ],
          "scattercarpet": [
           {
            "marker": {
             "colorbar": {
              "outlinewidth": 0,
              "ticks": ""
             }
            },
            "type": "scattercarpet"
           }
          ],
          "scattergeo": [
           {
            "marker": {
             "colorbar": {
              "outlinewidth": 0,
              "ticks": ""
             }
            },
            "type": "scattergeo"
           }
          ],
          "scattergl": [
           {
            "marker": {
             "colorbar": {
              "outlinewidth": 0,
              "ticks": ""
             }
            },
            "type": "scattergl"
           }
          ],
          "scattermapbox": [
           {
            "marker": {
             "colorbar": {
              "outlinewidth": 0,
              "ticks": ""
             }
            },
            "type": "scattermapbox"
           }
          ],
          "scatterpolar": [
           {
            "marker": {
             "colorbar": {
              "outlinewidth": 0,
              "ticks": ""
             }
            },
            "type": "scatterpolar"
           }
          ],
          "scatterpolargl": [
           {
            "marker": {
             "colorbar": {
              "outlinewidth": 0,
              "ticks": ""
             }
            },
            "type": "scatterpolargl"
           }
          ],
          "scatterternary": [
           {
            "marker": {
             "colorbar": {
              "outlinewidth": 0,
              "ticks": ""
             }
            },
            "type": "scatterternary"
           }
          ],
          "surface": [
           {
            "colorbar": {
             "outlinewidth": 0,
             "ticks": ""
            },
            "colorscale": [
             [
              0,
              "#0d0887"
             ],
             [
              0.1111111111111111,
              "#46039f"
             ],
             [
              0.2222222222222222,
              "#7201a8"
             ],
             [
              0.3333333333333333,
              "#9c179e"
             ],
             [
              0.4444444444444444,
              "#bd3786"
             ],
             [
              0.5555555555555556,
              "#d8576b"
             ],
             [
              0.6666666666666666,
              "#ed7953"
             ],
             [
              0.7777777777777778,
              "#fb9f3a"
             ],
             [
              0.8888888888888888,
              "#fdca26"
             ],
             [
              1,
              "#f0f921"
             ]
            ],
            "type": "surface"
           }
          ],
          "table": [
           {
            "cells": {
             "fill": {
              "color": "#EBF0F8"
             },
             "line": {
              "color": "white"
             }
            },
            "header": {
             "fill": {
              "color": "#C8D4E3"
             },
             "line": {
              "color": "white"
             }
            },
            "type": "table"
           }
          ]
         },
         "layout": {
          "annotationdefaults": {
           "arrowcolor": "#2a3f5f",
           "arrowhead": 0,
           "arrowwidth": 1
          },
          "autotypenumbers": "strict",
          "coloraxis": {
           "colorbar": {
            "outlinewidth": 0,
            "ticks": ""
           }
          },
          "colorscale": {
           "diverging": [
            [
             0,
             "#8e0152"
            ],
            [
             0.1,
             "#c51b7d"
            ],
            [
             0.2,
             "#de77ae"
            ],
            [
             0.3,
             "#f1b6da"
            ],
            [
             0.4,
             "#fde0ef"
            ],
            [
             0.5,
             "#f7f7f7"
            ],
            [
             0.6,
             "#e6f5d0"
            ],
            [
             0.7,
             "#b8e186"
            ],
            [
             0.8,
             "#7fbc41"
            ],
            [
             0.9,
             "#4d9221"
            ],
            [
             1,
             "#276419"
            ]
           ],
           "sequential": [
            [
             0,
             "#0d0887"
            ],
            [
             0.1111111111111111,
             "#46039f"
            ],
            [
             0.2222222222222222,
             "#7201a8"
            ],
            [
             0.3333333333333333,
             "#9c179e"
            ],
            [
             0.4444444444444444,
             "#bd3786"
            ],
            [
             0.5555555555555556,
             "#d8576b"
            ],
            [
             0.6666666666666666,
             "#ed7953"
            ],
            [
             0.7777777777777778,
             "#fb9f3a"
            ],
            [
             0.8888888888888888,
             "#fdca26"
            ],
            [
             1,
             "#f0f921"
            ]
           ],
           "sequentialminus": [
            [
             0,
             "#0d0887"
            ],
            [
             0.1111111111111111,
             "#46039f"
            ],
            [
             0.2222222222222222,
             "#7201a8"
            ],
            [
             0.3333333333333333,
             "#9c179e"
            ],
            [
             0.4444444444444444,
             "#bd3786"
            ],
            [
             0.5555555555555556,
             "#d8576b"
            ],
            [
             0.6666666666666666,
             "#ed7953"
            ],
            [
             0.7777777777777778,
             "#fb9f3a"
            ],
            [
             0.8888888888888888,
             "#fdca26"
            ],
            [
             1,
             "#f0f921"
            ]
           ]
          },
          "colorway": [
           "#636efa",
           "#EF553B",
           "#00cc96",
           "#ab63fa",
           "#FFA15A",
           "#19d3f3",
           "#FF6692",
           "#B6E880",
           "#FF97FF",
           "#FECB52"
          ],
          "font": {
           "color": "#2a3f5f"
          },
          "geo": {
           "bgcolor": "white",
           "lakecolor": "white",
           "landcolor": "#E5ECF6",
           "showlakes": true,
           "showland": true,
           "subunitcolor": "white"
          },
          "hoverlabel": {
           "align": "left"
          },
          "hovermode": "closest",
          "mapbox": {
           "style": "light"
          },
          "paper_bgcolor": "white",
          "plot_bgcolor": "#E5ECF6",
          "polar": {
           "angularaxis": {
            "gridcolor": "white",
            "linecolor": "white",
            "ticks": ""
           },
           "bgcolor": "#E5ECF6",
           "radialaxis": {
            "gridcolor": "white",
            "linecolor": "white",
            "ticks": ""
           }
          },
          "scene": {
           "xaxis": {
            "backgroundcolor": "#E5ECF6",
            "gridcolor": "white",
            "gridwidth": 2,
            "linecolor": "white",
            "showbackground": true,
            "ticks": "",
            "zerolinecolor": "white"
           },
           "yaxis": {
            "backgroundcolor": "#E5ECF6",
            "gridcolor": "white",
            "gridwidth": 2,
            "linecolor": "white",
            "showbackground": true,
            "ticks": "",
            "zerolinecolor": "white"
           },
           "zaxis": {
            "backgroundcolor": "#E5ECF6",
            "gridcolor": "white",
            "gridwidth": 2,
            "linecolor": "white",
            "showbackground": true,
            "ticks": "",
            "zerolinecolor": "white"
           }
          },
          "shapedefaults": {
           "line": {
            "color": "#2a3f5f"
           }
          },
          "ternary": {
           "aaxis": {
            "gridcolor": "white",
            "linecolor": "white",
            "ticks": ""
           },
           "baxis": {
            "gridcolor": "white",
            "linecolor": "white",
            "ticks": ""
           },
           "bgcolor": "#E5ECF6",
           "caxis": {
            "gridcolor": "white",
            "linecolor": "white",
            "ticks": ""
           }
          },
          "title": {
           "x": 0.05
          },
          "xaxis": {
           "automargin": true,
           "gridcolor": "white",
           "linecolor": "white",
           "ticks": "",
           "title": {
            "standoff": 15
           },
           "zerolinecolor": "white",
           "zerolinewidth": 2
          },
          "yaxis": {
           "automargin": true,
           "gridcolor": "white",
           "linecolor": "white",
           "ticks": "",
           "title": {
            "standoff": 15
           },
           "zerolinecolor": "white",
           "zerolinewidth": 2
          }
         }
        }
       }
      },
      "text/html": [
       "<div>                            <div id=\"35ae1a57-8111-48c0-aea2-6971dbb264ce\" class=\"plotly-graph-div\" style=\"height:525px; width:100%;\"></div>            <script type=\"text/javascript\">                require([\"plotly\"], function(Plotly) {                    window.PLOTLYENV=window.PLOTLYENV || {};                                    if (document.getElementById(\"35ae1a57-8111-48c0-aea2-6971dbb264ce\")) {                    Plotly.newPlot(                        \"35ae1a57-8111-48c0-aea2-6971dbb264ce\",                        [{\"coloraxis\":\"coloraxis\",\"colorscale\":[[0.0,\"#440154\"],[0.1111111111111111,\"#482878\"],[0.2222222222222222,\"#3e4989\"],[0.3333333333333333,\"#31688e\"],[0.4444444444444444,\"#26828e\"],[0.5555555555555556,\"#1f9e89\"],[0.6666666666666666,\"#35b779\"],[0.7777777777777778,\"#6ece58\"],[0.8888888888888888,\"#b5de2b\"],[1.0,\"#fde725\"]],\"name\":\"grid point\",\"opacity\":0.8,\"x\":[[-6.845057010650635,-6.0523601582175806,-5.259663305784526,-4.466966453351473,-3.6742696009184184,-2.881572748485364,-2.0888758960523104,-1.2961790436192562,-0.503482191186202,0.28921466124685224,1.0819115136799065,1.8746083661129607,2.667305218546014,3.460002070979069,4.252698923412122,5.0453957758451775,5.838092628278231,6.630789480711284,7.423486333144339,8.216183185577393],[-6.845057010650635,-6.0523601582175806,-5.259663305784526,-4.466966453351473,-3.6742696009184184,-2.881572748485364,-2.0888758960523104,-1.2961790436192562,-0.503482191186202,0.28921466124685224,1.0819115136799065,1.8746083661129607,2.667305218546014,3.460002070979069,4.252698923412122,5.0453957758451775,5.838092628278231,6.630789480711284,7.423486333144339,8.216183185577393],[-6.845057010650635,-6.0523601582175806,-5.259663305784526,-4.466966453351473,-3.6742696009184184,-2.881572748485364,-2.0888758960523104,-1.2961790436192562,-0.503482191186202,0.28921466124685224,1.0819115136799065,1.8746083661129607,2.667305218546014,3.460002070979069,4.252698923412122,5.0453957758451775,5.838092628278231,6.630789480711284,7.423486333144339,8.216183185577393],[-6.845057010650635,-6.0523601582175806,-5.259663305784526,-4.466966453351473,-3.6742696009184184,-2.881572748485364,-2.0888758960523104,-1.2961790436192562,-0.503482191186202,0.28921466124685224,1.0819115136799065,1.8746083661129607,2.667305218546014,3.460002070979069,4.252698923412122,5.0453957758451775,5.838092628278231,6.630789480711284,7.423486333144339,8.216183185577393],[-6.845057010650635,-6.0523601582175806,-5.259663305784526,-4.466966453351473,-3.6742696009184184,-2.881572748485364,-2.0888758960523104,-1.2961790436192562,-0.503482191186202,0.28921466124685224,1.0819115136799065,1.8746083661129607,2.667305218546014,3.460002070979069,4.252698923412122,5.0453957758451775,5.838092628278231,6.630789480711284,7.423486333144339,8.216183185577393],[-6.845057010650635,-6.0523601582175806,-5.259663305784526,-4.466966453351473,-3.6742696009184184,-2.881572748485364,-2.0888758960523104,-1.2961790436192562,-0.503482191186202,0.28921466124685224,1.0819115136799065,1.8746083661129607,2.667305218546014,3.460002070979069,4.252698923412122,5.0453957758451775,5.838092628278231,6.630789480711284,7.423486333144339,8.216183185577393],[-6.845057010650635,-6.0523601582175806,-5.259663305784526,-4.466966453351473,-3.6742696009184184,-2.881572748485364,-2.0888758960523104,-1.2961790436192562,-0.503482191186202,0.28921466124685224,1.0819115136799065,1.8746083661129607,2.667305218546014,3.460002070979069,4.252698923412122,5.0453957758451775,5.838092628278231,6.630789480711284,7.423486333144339,8.216183185577393],[-6.845057010650635,-6.0523601582175806,-5.259663305784526,-4.466966453351473,-3.6742696009184184,-2.881572748485364,-2.0888758960523104,-1.2961790436192562,-0.503482191186202,0.28921466124685224,1.0819115136799065,1.8746083661129607,2.667305218546014,3.460002070979069,4.252698923412122,5.0453957758451775,5.838092628278231,6.630789480711284,7.423486333144339,8.216183185577393],[-6.845057010650635,-6.0523601582175806,-5.259663305784526,-4.466966453351473,-3.6742696009184184,-2.881572748485364,-2.0888758960523104,-1.2961790436192562,-0.503482191186202,0.28921466124685224,1.0819115136799065,1.8746083661129607,2.667305218546014,3.460002070979069,4.252698923412122,5.0453957758451775,5.838092628278231,6.630789480711284,7.423486333144339,8.216183185577393],[-6.845057010650635,-6.0523601582175806,-5.259663305784526,-4.466966453351473,-3.6742696009184184,-2.881572748485364,-2.0888758960523104,-1.2961790436192562,-0.503482191186202,0.28921466124685224,1.0819115136799065,1.8746083661129607,2.667305218546014,3.460002070979069,4.252698923412122,5.0453957758451775,5.838092628278231,6.630789480711284,7.423486333144339,8.216183185577393],[-6.845057010650635,-6.0523601582175806,-5.259663305784526,-4.466966453351473,-3.6742696009184184,-2.881572748485364,-2.0888758960523104,-1.2961790436192562,-0.503482191186202,0.28921466124685224,1.0819115136799065,1.8746083661129607,2.667305218546014,3.460002070979069,4.252698923412122,5.0453957758451775,5.838092628278231,6.630789480711284,7.423486333144339,8.216183185577393],[-6.845057010650635,-6.0523601582175806,-5.259663305784526,-4.466966453351473,-3.6742696009184184,-2.881572748485364,-2.0888758960523104,-1.2961790436192562,-0.503482191186202,0.28921466124685224,1.0819115136799065,1.8746083661129607,2.667305218546014,3.460002070979069,4.252698923412122,5.0453957758451775,5.838092628278231,6.630789480711284,7.423486333144339,8.216183185577393],[-6.845057010650635,-6.0523601582175806,-5.259663305784526,-4.466966453351473,-3.6742696009184184,-2.881572748485364,-2.0888758960523104,-1.2961790436192562,-0.503482191186202,0.28921466124685224,1.0819115136799065,1.8746083661129607,2.667305218546014,3.460002070979069,4.252698923412122,5.0453957758451775,5.838092628278231,6.630789480711284,7.423486333144339,8.216183185577393],[-6.845057010650635,-6.0523601582175806,-5.259663305784526,-4.466966453351473,-3.6742696009184184,-2.881572748485364,-2.0888758960523104,-1.2961790436192562,-0.503482191186202,0.28921466124685224,1.0819115136799065,1.8746083661129607,2.667305218546014,3.460002070979069,4.252698923412122,5.0453957758451775,5.838092628278231,6.630789480711284,7.423486333144339,8.216183185577393],[-6.845057010650635,-6.0523601582175806,-5.259663305784526,-4.466966453351473,-3.6742696009184184,-2.881572748485364,-2.0888758960523104,-1.2961790436192562,-0.503482191186202,0.28921466124685224,1.0819115136799065,1.8746083661129607,2.667305218546014,3.460002070979069,4.252698923412122,5.0453957758451775,5.838092628278231,6.630789480711284,7.423486333144339,8.216183185577393],[-6.845057010650635,-6.0523601582175806,-5.259663305784526,-4.466966453351473,-3.6742696009184184,-2.881572748485364,-2.0888758960523104,-1.2961790436192562,-0.503482191186202,0.28921466124685224,1.0819115136799065,1.8746083661129607,2.667305218546014,3.460002070979069,4.252698923412122,5.0453957758451775,5.838092628278231,6.630789480711284,7.423486333144339,8.216183185577393],[-6.845057010650635,-6.0523601582175806,-5.259663305784526,-4.466966453351473,-3.6742696009184184,-2.881572748485364,-2.0888758960523104,-1.2961790436192562,-0.503482191186202,0.28921466124685224,1.0819115136799065,1.8746083661129607,2.667305218546014,3.460002070979069,4.252698923412122,5.0453957758451775,5.838092628278231,6.630789480711284,7.423486333144339,8.216183185577393],[-6.845057010650635,-6.0523601582175806,-5.259663305784526,-4.466966453351473,-3.6742696009184184,-2.881572748485364,-2.0888758960523104,-1.2961790436192562,-0.503482191186202,0.28921466124685224,1.0819115136799065,1.8746083661129607,2.667305218546014,3.460002070979069,4.252698923412122,5.0453957758451775,5.838092628278231,6.630789480711284,7.423486333144339,8.216183185577393],[-6.845057010650635,-6.0523601582175806,-5.259663305784526,-4.466966453351473,-3.6742696009184184,-2.881572748485364,-2.0888758960523104,-1.2961790436192562,-0.503482191186202,0.28921466124685224,1.0819115136799065,1.8746083661129607,2.667305218546014,3.460002070979069,4.252698923412122,5.0453957758451775,5.838092628278231,6.630789480711284,7.423486333144339,8.216183185577393],[-6.845057010650635,-6.0523601582175806,-5.259663305784526,-4.466966453351473,-3.6742696009184184,-2.881572748485364,-2.0888758960523104,-1.2961790436192562,-0.503482191186202,0.28921466124685224,1.0819115136799065,1.8746083661129607,2.667305218546014,3.460002070979069,4.252698923412122,5.0453957758451775,5.838092628278231,6.630789480711284,7.423486333144339,8.216183185577393]],\"y\":[[-6.845057010650635,-6.845057010650635,-6.845057010650635,-6.845057010650635,-6.845057010650635,-6.845057010650635,-6.845057010650635,-6.845057010650635,-6.845057010650635,-6.845057010650635,-6.845057010650635,-6.845057010650635,-6.845057010650635,-6.845057010650635,-6.845057010650635,-6.845057010650635,-6.845057010650635,-6.845057010650635,-6.845057010650635,-6.845057010650635],[-6.0523601582175806,-6.0523601582175806,-6.0523601582175806,-6.0523601582175806,-6.0523601582175806,-6.0523601582175806,-6.0523601582175806,-6.0523601582175806,-6.0523601582175806,-6.0523601582175806,-6.0523601582175806,-6.0523601582175806,-6.0523601582175806,-6.0523601582175806,-6.0523601582175806,-6.0523601582175806,-6.0523601582175806,-6.0523601582175806,-6.0523601582175806,-6.0523601582175806],[-5.259663305784526,-5.259663305784526,-5.259663305784526,-5.259663305784526,-5.259663305784526,-5.259663305784526,-5.259663305784526,-5.259663305784526,-5.259663305784526,-5.259663305784526,-5.259663305784526,-5.259663305784526,-5.259663305784526,-5.259663305784526,-5.259663305784526,-5.259663305784526,-5.259663305784526,-5.259663305784526,-5.259663305784526,-5.259663305784526],[-4.466966453351473,-4.466966453351473,-4.466966453351473,-4.466966453351473,-4.466966453351473,-4.466966453351473,-4.466966453351473,-4.466966453351473,-4.466966453351473,-4.466966453351473,-4.466966453351473,-4.466966453351473,-4.466966453351473,-4.466966453351473,-4.466966453351473,-4.466966453351473,-4.466966453351473,-4.466966453351473,-4.466966453351473,-4.466966453351473],[-3.6742696009184184,-3.6742696009184184,-3.6742696009184184,-3.6742696009184184,-3.6742696009184184,-3.6742696009184184,-3.6742696009184184,-3.6742696009184184,-3.6742696009184184,-3.6742696009184184,-3.6742696009184184,-3.6742696009184184,-3.6742696009184184,-3.6742696009184184,-3.6742696009184184,-3.6742696009184184,-3.6742696009184184,-3.6742696009184184,-3.6742696009184184,-3.6742696009184184],[-2.881572748485364,-2.881572748485364,-2.881572748485364,-2.881572748485364,-2.881572748485364,-2.881572748485364,-2.881572748485364,-2.881572748485364,-2.881572748485364,-2.881572748485364,-2.881572748485364,-2.881572748485364,-2.881572748485364,-2.881572748485364,-2.881572748485364,-2.881572748485364,-2.881572748485364,-2.881572748485364,-2.881572748485364,-2.881572748485364],[-2.0888758960523104,-2.0888758960523104,-2.0888758960523104,-2.0888758960523104,-2.0888758960523104,-2.0888758960523104,-2.0888758960523104,-2.0888758960523104,-2.0888758960523104,-2.0888758960523104,-2.0888758960523104,-2.0888758960523104,-2.0888758960523104,-2.0888758960523104,-2.0888758960523104,-2.0888758960523104,-2.0888758960523104,-2.0888758960523104,-2.0888758960523104,-2.0888758960523104],[-1.2961790436192562,-1.2961790436192562,-1.2961790436192562,-1.2961790436192562,-1.2961790436192562,-1.2961790436192562,-1.2961790436192562,-1.2961790436192562,-1.2961790436192562,-1.2961790436192562,-1.2961790436192562,-1.2961790436192562,-1.2961790436192562,-1.2961790436192562,-1.2961790436192562,-1.2961790436192562,-1.2961790436192562,-1.2961790436192562,-1.2961790436192562,-1.2961790436192562],[-0.503482191186202,-0.503482191186202,-0.503482191186202,-0.503482191186202,-0.503482191186202,-0.503482191186202,-0.503482191186202,-0.503482191186202,-0.503482191186202,-0.503482191186202,-0.503482191186202,-0.503482191186202,-0.503482191186202,-0.503482191186202,-0.503482191186202,-0.503482191186202,-0.503482191186202,-0.503482191186202,-0.503482191186202,-0.503482191186202],[0.28921466124685224,0.28921466124685224,0.28921466124685224,0.28921466124685224,0.28921466124685224,0.28921466124685224,0.28921466124685224,0.28921466124685224,0.28921466124685224,0.28921466124685224,0.28921466124685224,0.28921466124685224,0.28921466124685224,0.28921466124685224,0.28921466124685224,0.28921466124685224,0.28921466124685224,0.28921466124685224,0.28921466124685224,0.28921466124685224],[1.0819115136799065,1.0819115136799065,1.0819115136799065,1.0819115136799065,1.0819115136799065,1.0819115136799065,1.0819115136799065,1.0819115136799065,1.0819115136799065,1.0819115136799065,1.0819115136799065,1.0819115136799065,1.0819115136799065,1.0819115136799065,1.0819115136799065,1.0819115136799065,1.0819115136799065,1.0819115136799065,1.0819115136799065,1.0819115136799065],[1.8746083661129607,1.8746083661129607,1.8746083661129607,1.8746083661129607,1.8746083661129607,1.8746083661129607,1.8746083661129607,1.8746083661129607,1.8746083661129607,1.8746083661129607,1.8746083661129607,1.8746083661129607,1.8746083661129607,1.8746083661129607,1.8746083661129607,1.8746083661129607,1.8746083661129607,1.8746083661129607,1.8746083661129607,1.8746083661129607],[2.667305218546014,2.667305218546014,2.667305218546014,2.667305218546014,2.667305218546014,2.667305218546014,2.667305218546014,2.667305218546014,2.667305218546014,2.667305218546014,2.667305218546014,2.667305218546014,2.667305218546014,2.667305218546014,2.667305218546014,2.667305218546014,2.667305218546014,2.667305218546014,2.667305218546014,2.667305218546014],[3.460002070979069,3.460002070979069,3.460002070979069,3.460002070979069,3.460002070979069,3.460002070979069,3.460002070979069,3.460002070979069,3.460002070979069,3.460002070979069,3.460002070979069,3.460002070979069,3.460002070979069,3.460002070979069,3.460002070979069,3.460002070979069,3.460002070979069,3.460002070979069,3.460002070979069,3.460002070979069],[4.252698923412122,4.252698923412122,4.252698923412122,4.252698923412122,4.252698923412122,4.252698923412122,4.252698923412122,4.252698923412122,4.252698923412122,4.252698923412122,4.252698923412122,4.252698923412122,4.252698923412122,4.252698923412122,4.252698923412122,4.252698923412122,4.252698923412122,4.252698923412122,4.252698923412122,4.252698923412122],[5.0453957758451775,5.0453957758451775,5.0453957758451775,5.0453957758451775,5.0453957758451775,5.0453957758451775,5.0453957758451775,5.0453957758451775,5.0453957758451775,5.0453957758451775,5.0453957758451775,5.0453957758451775,5.0453957758451775,5.0453957758451775,5.0453957758451775,5.0453957758451775,5.0453957758451775,5.0453957758451775,5.0453957758451775,5.0453957758451775],[5.838092628278231,5.838092628278231,5.838092628278231,5.838092628278231,5.838092628278231,5.838092628278231,5.838092628278231,5.838092628278231,5.838092628278231,5.838092628278231,5.838092628278231,5.838092628278231,5.838092628278231,5.838092628278231,5.838092628278231,5.838092628278231,5.838092628278231,5.838092628278231,5.838092628278231,5.838092628278231],[6.630789480711284,6.630789480711284,6.630789480711284,6.630789480711284,6.630789480711284,6.630789480711284,6.630789480711284,6.630789480711284,6.630789480711284,6.630789480711284,6.630789480711284,6.630789480711284,6.630789480711284,6.630789480711284,6.630789480711284,6.630789480711284,6.630789480711284,6.630789480711284,6.630789480711284,6.630789480711284],[7.423486333144339,7.423486333144339,7.423486333144339,7.423486333144339,7.423486333144339,7.423486333144339,7.423486333144339,7.423486333144339,7.423486333144339,7.423486333144339,7.423486333144339,7.423486333144339,7.423486333144339,7.423486333144339,7.423486333144339,7.423486333144339,7.423486333144339,7.423486333144339,7.423486333144339,7.423486333144339],[8.216183185577393,8.216183185577393,8.216183185577393,8.216183185577393,8.216183185577393,8.216183185577393,8.216183185577393,8.216183185577393,8.216183185577393,8.216183185577393,8.216183185577393,8.216183185577393,8.216183185577393,8.216183185577393,8.216183185577393,8.216183185577393,8.216183185577393,8.216183185577393,8.216183185577393,8.216183185577393]],\"z\":[[87.06445454101562,76.76999182128907,67.22549953613282,58.45915926513672,50.48145392456055,43.36072817993164,37.10614096069336,31.74497231750488,27.310072787475587,23.74077471618652,21.074319958496094,19.36846589050293,18.77211115722656,20.470555419921876,23.57663345336914,26.909981719970702,30.600630102539064,34.6072014251709,38.72894563293457,42.87060765686035],[60.43931141357422,53.21487535400391,46.462923278808596,40.194895916748045,34.467648077392575,29.324444564819338,24.77011206359863,20.866684313964843,17.592293585205077,15.053174114990235,13.273397859191894,12.207859701538085,11.910668505859375,13.313072059631347,15.589871116638184,18.05804028930664,20.809943075561524,23.766152536010743,26.832474099731446,29.849164263916016],[40.27892658691406,35.47467283325195,30.952942944335938,26.727089630126954,22.82052102050781,19.26515869445801,16.1128100189209,13.386992977905274,11.092542681884765,9.311471907043456,8.107067710876464,7.457194555664063,7.352471844482422,8.410035557556153,10.013609812927246,11.813222023010255,13.828286613464355,15.940489888000489,18.149078607177735,20.349140155029296],[25.545068493652344,22.482154382324218,19.64835735168457,16.987452459716796,14.511612692260742,12.23196502532959,10.176145809936523,8.3700013092041,6.849708672332763,5.648469026947022,4.825296615600586,4.420086882019043,4.437321710968018,5.171450157165527,6.248112335205078,7.518352210235595,8.935359934997559,10.441228966522218,11.975791697692872,13.615791320800781],[15.584697882080079,13.577483578491211,11.811611407470703,10.222573886108398,8.761832818603516,7.416691918945313,6.187884999084472,5.084191171264648,4.133967882537842,3.3699827117919923,2.8277959774017334,2.562715085601807,2.6300921241760253,3.1130935779571534,3.8057523777008058,4.65817811126709,5.636864754486084,6.687911095428467,7.750571249389648,9.144645542144776],[9.437999809265136,8.019012483215333,6.848247805786133,5.866139529418946,5.016974826049805,4.266865120697021,3.5931611236572265,2.9747184951782226,2.425979359817505,1.9744974313735961,1.6457698516845702,1.4819301950454713,1.5519347564697266,1.86104889087677,2.3098915700912475,2.885084408187866,3.5619371772766115,4.266902699661255,5.051581379699707,6.443102924346924],[5.9524877151489255,4.84833835144043,3.9882948150634765,3.3138231101989746,2.7788000396728516,2.3411965419769287,1.9757388401031495,1.6588045879364013,1.3789825162887572,1.1413492433547974,0.9699376899719239,0.8958011353492736,0.9655956159591674,1.1819146823883058,1.5128212860107422,1.9407642055511474,2.41155243434906,2.9073753540039062,3.5888796798706055,4.62938614654541],[4.017028214263916,3.116241904449463,2.431682307434082,1.9220758808135987,1.5398594619750976,1.2557189723968505,1.0464775476455688,0.8890996974945068,0.7658862203598023,0.6719105017662048,0.6193532876968384,0.6326553517341614,0.7378462034225464,0.9487171119689941,1.2512402360916137,1.6050813983917236,1.9772629577636718,2.3835532936096193,2.8693874267578123,3.4272979694366454],[2.9668531509399414,2.1929646533966065,1.6199799022674561,1.201276399230957,0.9041974956512451,0.6984996095657349,0.5651376936912537,0.4892272276878357,0.45872703227996825,0.4681514358997345,0.5259209730148315,0.6484228562355041,0.8485465616226197,1.1226913955688476,1.4427562578201294,1.768942367362976,2.0661608432769776,2.3284561939239503,2.5647831859588623,2.7991235454559327],[2.44676711769104,1.7498093784332276,1.2398789472579956,0.8750565338134766,0.6249804782867432,0.46477904834747313,0.37823026542663574,0.35871151843070986,0.4122973471164703,0.5499087044239044,0.7709883325576782,1.0509792900085448,1.3530315048217774,1.648946109199524,1.9098575038909913,2.111009996795654,2.2546727355957032,2.358400899887085,2.443309370422363,2.5358942752838134],[2.2337286701202395,1.571943789291382,1.0993567445755006,0.7742625196456909,0.5651553814888001,0.4541902261734009,0.4408661480426788,0.5444904542922974,0.7844485855102539,1.1244529741287232,1.4758722133636475,1.7638418926239015,1.9733397296905517,2.1211730030059814,2.221281908798218,2.2810145820617675,2.3179379264831543,2.3435225719451904,2.37004040184021,2.4144444553375246],[2.4805750900268553,1.7465964920043946,1.2482898906707764,0.9398903877258301,0.7970886024475098,0.8151041370391846,0.9930610906600952,1.294424362564087,1.6262916496276856,1.9024056121826172,2.0922402946472167,2.2056920848846437,2.2646462783813477,2.2912493103027343,2.3028013259887694,2.308796692276001,2.31325983505249,2.3222987281799314,2.3454851207733154,2.3928512699127196],[3.5765286346435547,2.6257019638061525,1.9921355209350586,1.628346905517578,1.4978852575302124,1.5585108533859253,1.7387929079055786,1.9480147060394286,2.117776904296875,2.2255412155151366,2.2801732105255126,2.301362173461914,2.307002503967285,2.306675424575806,2.306424394607544,2.307317000579834,2.311520287322998,2.324359090423584,2.3493681571960447,2.39429939994812],[4.674370742034912,3.4902870765686034,2.683652839279175,2.201432271194458,1.9902047138214112,1.9772475212097167,2.0662985023498535,2.1699164852142334,2.2447156909942625,2.28531224899292,2.3009463844299316,2.30473828086853,2.305276066207886,2.305887266921997,2.3066504276275634,2.3083095188140867,2.3136134433746336,2.3262666469573974,2.3487824436187745,2.3912554569244384],[5.2646801528930665,3.9202102600097657,3.0022213020324706,2.4498691951751708,2.193102927017212,2.1379765670776365,2.177230976486206,2.233121405029297,2.2739602813720703,2.2946576625823973,2.3020376609802247,2.3042846614837647,2.305871911239624,2.306375675201416,2.306258271408081,2.3069988231658938,2.310684516143799,2.3217305061340334,2.347074949645996,2.3975427444458006],[5.334859329223633,3.944933226776123,3.015510775756836,2.4779376750946045,2.2423598140716554,2.191664190673828,2.2172187786102295,2.254259115600586,2.2813909439086912,2.2962924518585206,2.3027062808990477,2.305713647842407,2.3059504901885988,2.304994192504883,2.3040552406311035,2.3041160430908203,2.308970082473755,2.323808093261719,2.358301698303223,2.4318597927093504],[5.1188215675354005,3.793224864196777,2.9382226692199707,2.4643830253601076,2.2622105331420896,2.2159473110198973,2.2320013801574707,2.2644787525177,2.2873492095947268,2.299654058456421,2.3055532947540285,2.3066776428222657,2.3060276229858396,2.3041080516815184,2.303386080932617,2.3065280643463133,2.319315789794922,2.349861671066284,2.41340849609375,2.5421784896850586],[4.876814962005615,3.6514396743774413,2.8719157527923582,2.4393043773651124,2.255420429229736,2.225334632873535,2.2489080295562744,2.275712950897217,2.294840065383911,2.3047529136657716,2.308419289398193,2.30890460395813,2.3071850795745847,2.3066346061706544,2.30978893661499,2.321731634902954,2.3539565277099608,2.421654390335083,2.5504290122985838,2.7805942207336427],[4.66400318069458,3.4948184547424317,2.756376019668579,2.3858611450195313,2.257008190536499,2.243965245819092,2.2658466342926027,2.2885993339538575,2.3037529243469237,2.30986420249939,2.3139413677215575,2.3137451152801516,2.3135948238372803,2.3178003944396974,2.3322062244415283,2.365301937866211,2.4379419242858886,2.574796987915039,2.81210878868103,3.193202935028076],[4.326667706298828,3.2683802253723147,2.654697890472412,2.363937041854858,2.274417428588867,2.269121259689331,2.2866723041534422,2.305248070907593,2.314304444885254,2.3213153972625733,2.3251049812316893,2.327490207672119,2.3335495265960695,2.350543701553345,2.389995142745972,2.4671994739532472,2.615122129058838,2.8683077739715577,3.2602845043182374,3.8342654376983645]],\"type\":\"surface\",\"contours\":{\"z\":{\"project\":{\"z\":true},\"highlightcolor\":\"limegreen\",\"show\":true,\"usecolormap\":true}}},{\"line\":{\"color\":\"orange\"},\"marker\":{\"color\":\"orange\",\"size\":5},\"mode\":\"markers+lines\",\"name\":\"Classic SGD m=0.0\",\"x\":[3.195769786834717,3.1957199573516846,2.582537889480591,2.053042411804199,2.052504539489746,1.6259969472885132,1.2270944118499756,1.2266689538955688,0.8768727779388428,0.5497427582740784,0.5497386455535889,0.2540547549724579,-0.008609078824520111,-0.009295174852013588,-0.24927835166454315,-0.4730444550514221,-0.47300398349761963,-0.6734241247177124,-0.8497794270515442,-0.8497005105018616,-1.0122956037521362,-1.1550954580307007,-1.1554996967315674,-1.2883788347244263,-1.4162832498550415,-1.4164190292358398,-1.5332164764404297,-1.6310678720474243,-1.6308194398880005,-1.7398873567581177,-1.824643611907959],\"y\":[1.6320654153823853,1.631888747215271,0.2695515751838684,-0.3326004445552826,-0.33354198932647705,-0.5691762566566467,-0.6851053237915039,-0.6855148673057556,-0.7056321501731873,-0.6678449511528015,-0.667305588722229,-0.5988039970397949,-0.5056424140930176,-0.5063849687576294,-0.4048561453819275,-0.28250813484191895,-0.28179284930229187,-0.16941244900226593,-0.06181976571679115,-0.06139662489295006,0.0537351593375206,0.1539631336927414,0.15397806465625763,0.24686187505722046,0.3337743282318115,0.33432161808013916,0.4323440194129944,0.5137671232223511,0.5134578943252563,0.5852808952331543,0.6643479466438293],\"z\":[2.250978154373169,2.250942544555664,1.304236987876892,0.7419701807022094,0.7414701126098633,0.5917323077201844,0.5351646683216095,0.535127580499649,0.5117787858009338,0.49502304611206055,0.4949578327178955,0.47873003039360046,0.4601061384677887,0.4602062426567078,0.44077357406616213,0.4191720121383667,0.4190776580810547,0.400792231464386,0.38567316017150877,0.3856341205596924,0.37292269067764283,0.3646513846874237,0.36464363412857054,0.3594166454315186,0.35676661310195923,0.35676452527046204,0.3567438283443451,0.35891508998870847,0.35890192375183105,0.3622790039539337,0.36799924488067626],\"type\":\"scatter3d\"},{\"marker\":{\"color\":\"red\",\"size\":5},\"mode\":\"markers\",\"name\":\"global minimum\",\"x\":[-1.2961790436192562],\"y\":[0.28921466124685224],\"z\":[0.35871151843070986],\"type\":\"scatter3d\"}],                        {\"coloraxis\":{\"cmax\":3.1659474433969463,\"cmin\":-0.5566348306033799,\"colorbar\":{\"title\":{\"text\":\"Loss magnitude\"}},\"colorscale\":[[0.0,\"#440154\"],[0.1111111111111111,\"#482878\"],[0.2222222222222222,\"#3e4989\"],[0.3333333333333333,\"#31688e\"],[0.4444444444444444,\"#26828e\"],[0.5555555555555556,\"#1f9e89\"],[0.6666666666666666,\"#35b779\"],[0.7777777777777778,\"#6ece58\"],[0.8888888888888888,\"#b5de2b\"],[1.0,\"#fde725\"]]},\"scene\":{\"xaxis\":{\"title\":{\"text\":\"PC1\"}},\"yaxis\":{\"title\":{\"text\":\"PC2\"}},\"zaxis\":{\"title\":{\"text\":\" Loss\"},\"type\":\"log\"}},\"template\":{\"data\":{\"histogram2dcontour\":[{\"type\":\"histogram2dcontour\",\"colorbar\":{\"outlinewidth\":0,\"ticks\":\"\"},\"colorscale\":[[0.0,\"#0d0887\"],[0.1111111111111111,\"#46039f\"],[0.2222222222222222,\"#7201a8\"],[0.3333333333333333,\"#9c179e\"],[0.4444444444444444,\"#bd3786\"],[0.5555555555555556,\"#d8576b\"],[0.6666666666666666,\"#ed7953\"],[0.7777777777777778,\"#fb9f3a\"],[0.8888888888888888,\"#fdca26\"],[1.0,\"#f0f921\"]]}],\"choropleth\":[{\"type\":\"choropleth\",\"colorbar\":{\"outlinewidth\":0,\"ticks\":\"\"}}],\"histogram2d\":[{\"type\":\"histogram2d\",\"colorbar\":{\"outlinewidth\":0,\"ticks\":\"\"},\"colorscale\":[[0.0,\"#0d0887\"],[0.1111111111111111,\"#46039f\"],[0.2222222222222222,\"#7201a8\"],[0.3333333333333333,\"#9c179e\"],[0.4444444444444444,\"#bd3786\"],[0.5555555555555556,\"#d8576b\"],[0.6666666666666666,\"#ed7953\"],[0.7777777777777778,\"#fb9f3a\"],[0.8888888888888888,\"#fdca26\"],[1.0,\"#f0f921\"]]}],\"heatmap\":[{\"type\":\"heatmap\",\"colorbar\":{\"outlinewidth\":0,\"ticks\":\"\"},\"colorscale\":[[0.0,\"#0d0887\"],[0.1111111111111111,\"#46039f\"],[0.2222222222222222,\"#7201a8\"],[0.3333333333333333,\"#9c179e\"],[0.4444444444444444,\"#bd3786\"],[0.5555555555555556,\"#d8576b\"],[0.6666666666666666,\"#ed7953\"],[0.7777777777777778,\"#fb9f3a\"],[0.8888888888888888,\"#fdca26\"],[1.0,\"#f0f921\"]]}],\"heatmapgl\":[{\"type\":\"heatmapgl\",\"colorbar\":{\"outlinewidth\":0,\"ticks\":\"\"},\"colorscale\":[[0.0,\"#0d0887\"],[0.1111111111111111,\"#46039f\"],[0.2222222222222222,\"#7201a8\"],[0.3333333333333333,\"#9c179e\"],[0.4444444444444444,\"#bd3786\"],[0.5555555555555556,\"#d8576b\"],[0.6666666666666666,\"#ed7953\"],[0.7777777777777778,\"#fb9f3a\"],[0.8888888888888888,\"#fdca26\"],[1.0,\"#f0f921\"]]}],\"contourcarpet\":[{\"type\":\"contourcarpet\",\"colorbar\":{\"outlinewidth\":0,\"ticks\":\"\"}}],\"contour\":[{\"type\":\"contour\",\"colorbar\":{\"outlinewidth\":0,\"ticks\":\"\"},\"colorscale\":[[0.0,\"#0d0887\"],[0.1111111111111111,\"#46039f\"],[0.2222222222222222,\"#7201a8\"],[0.3333333333333333,\"#9c179e\"],[0.4444444444444444,\"#bd3786\"],[0.5555555555555556,\"#d8576b\"],[0.6666666666666666,\"#ed7953\"],[0.7777777777777778,\"#fb9f3a\"],[0.8888888888888888,\"#fdca26\"],[1.0,\"#f0f921\"]]}],\"surface\":[{\"type\":\"surface\",\"colorbar\":{\"outlinewidth\":0,\"ticks\":\"\"},\"colorscale\":[[0.0,\"#0d0887\"],[0.1111111111111111,\"#46039f\"],[0.2222222222222222,\"#7201a8\"],[0.3333333333333333,\"#9c179e\"],[0.4444444444444444,\"#bd3786\"],[0.5555555555555556,\"#d8576b\"],[0.6666666666666666,\"#ed7953\"],[0.7777777777777778,\"#fb9f3a\"],[0.8888888888888888,\"#fdca26\"],[1.0,\"#f0f921\"]]}],\"mesh3d\":[{\"type\":\"mesh3d\",\"colorbar\":{\"outlinewidth\":0,\"ticks\":\"\"}}],\"scatter\":[{\"fillpattern\":{\"fillmode\":\"overlay\",\"size\":10,\"solidity\":0.2},\"type\":\"scatter\"}],\"parcoords\":[{\"type\":\"parcoords\",\"line\":{\"colorbar\":{\"outlinewidth\":0,\"ticks\":\"\"}}}],\"scatterpolargl\":[{\"type\":\"scatterpolargl\",\"marker\":{\"colorbar\":{\"outlinewidth\":0,\"ticks\":\"\"}}}],\"bar\":[{\"error_x\":{\"color\":\"#2a3f5f\"},\"error_y\":{\"color\":\"#2a3f5f\"},\"marker\":{\"line\":{\"color\":\"#E5ECF6\",\"width\":0.5},\"pattern\":{\"fillmode\":\"overlay\",\"size\":10,\"solidity\":0.2}},\"type\":\"bar\"}],\"scattergeo\":[{\"type\":\"scattergeo\",\"marker\":{\"colorbar\":{\"outlinewidth\":0,\"ticks\":\"\"}}}],\"scatterpolar\":[{\"type\":\"scatterpolar\",\"marker\":{\"colorbar\":{\"outlinewidth\":0,\"ticks\":\"\"}}}],\"histogram\":[{\"marker\":{\"pattern\":{\"fillmode\":\"overlay\",\"size\":10,\"solidity\":0.2}},\"type\":\"histogram\"}],\"scattergl\":[{\"type\":\"scattergl\",\"marker\":{\"colorbar\":{\"outlinewidth\":0,\"ticks\":\"\"}}}],\"scatter3d\":[{\"type\":\"scatter3d\",\"line\":{\"colorbar\":{\"outlinewidth\":0,\"ticks\":\"\"}},\"marker\":{\"colorbar\":{\"outlinewidth\":0,\"ticks\":\"\"}}}],\"scattermapbox\":[{\"type\":\"scattermapbox\",\"marker\":{\"colorbar\":{\"outlinewidth\":0,\"ticks\":\"\"}}}],\"scatterternary\":[{\"type\":\"scatterternary\",\"marker\":{\"colorbar\":{\"outlinewidth\":0,\"ticks\":\"\"}}}],\"scattercarpet\":[{\"type\":\"scattercarpet\",\"marker\":{\"colorbar\":{\"outlinewidth\":0,\"ticks\":\"\"}}}],\"carpet\":[{\"aaxis\":{\"endlinecolor\":\"#2a3f5f\",\"gridcolor\":\"white\",\"linecolor\":\"white\",\"minorgridcolor\":\"white\",\"startlinecolor\":\"#2a3f5f\"},\"baxis\":{\"endlinecolor\":\"#2a3f5f\",\"gridcolor\":\"white\",\"linecolor\":\"white\",\"minorgridcolor\":\"white\",\"startlinecolor\":\"#2a3f5f\"},\"type\":\"carpet\"}],\"table\":[{\"cells\":{\"fill\":{\"color\":\"#EBF0F8\"},\"line\":{\"color\":\"white\"}},\"header\":{\"fill\":{\"color\":\"#C8D4E3\"},\"line\":{\"color\":\"white\"}},\"type\":\"table\"}],\"barpolar\":[{\"marker\":{\"line\":{\"color\":\"#E5ECF6\",\"width\":0.5},\"pattern\":{\"fillmode\":\"overlay\",\"size\":10,\"solidity\":0.2}},\"type\":\"barpolar\"}],\"pie\":[{\"automargin\":true,\"type\":\"pie\"}]},\"layout\":{\"autotypenumbers\":\"strict\",\"colorway\":[\"#636efa\",\"#EF553B\",\"#00cc96\",\"#ab63fa\",\"#FFA15A\",\"#19d3f3\",\"#FF6692\",\"#B6E880\",\"#FF97FF\",\"#FECB52\"],\"font\":{\"color\":\"#2a3f5f\"},\"hovermode\":\"closest\",\"hoverlabel\":{\"align\":\"left\"},\"paper_bgcolor\":\"white\",\"plot_bgcolor\":\"#E5ECF6\",\"polar\":{\"bgcolor\":\"#E5ECF6\",\"angularaxis\":{\"gridcolor\":\"white\",\"linecolor\":\"white\",\"ticks\":\"\"},\"radialaxis\":{\"gridcolor\":\"white\",\"linecolor\":\"white\",\"ticks\":\"\"}},\"ternary\":{\"bgcolor\":\"#E5ECF6\",\"aaxis\":{\"gridcolor\":\"white\",\"linecolor\":\"white\",\"ticks\":\"\"},\"baxis\":{\"gridcolor\":\"white\",\"linecolor\":\"white\",\"ticks\":\"\"},\"caxis\":{\"gridcolor\":\"white\",\"linecolor\":\"white\",\"ticks\":\"\"}},\"coloraxis\":{\"colorbar\":{\"outlinewidth\":0,\"ticks\":\"\"}},\"colorscale\":{\"sequential\":[[0.0,\"#0d0887\"],[0.1111111111111111,\"#46039f\"],[0.2222222222222222,\"#7201a8\"],[0.3333333333333333,\"#9c179e\"],[0.4444444444444444,\"#bd3786\"],[0.5555555555555556,\"#d8576b\"],[0.6666666666666666,\"#ed7953\"],[0.7777777777777778,\"#fb9f3a\"],[0.8888888888888888,\"#fdca26\"],[1.0,\"#f0f921\"]],\"sequentialminus\":[[0.0,\"#0d0887\"],[0.1111111111111111,\"#46039f\"],[0.2222222222222222,\"#7201a8\"],[0.3333333333333333,\"#9c179e\"],[0.4444444444444444,\"#bd3786\"],[0.5555555555555556,\"#d8576b\"],[0.6666666666666666,\"#ed7953\"],[0.7777777777777778,\"#fb9f3a\"],[0.8888888888888888,\"#fdca26\"],[1.0,\"#f0f921\"]],\"diverging\":[[0,\"#8e0152\"],[0.1,\"#c51b7d\"],[0.2,\"#de77ae\"],[0.3,\"#f1b6da\"],[0.4,\"#fde0ef\"],[0.5,\"#f7f7f7\"],[0.6,\"#e6f5d0\"],[0.7,\"#b8e186\"],[0.8,\"#7fbc41\"],[0.9,\"#4d9221\"],[1,\"#276419\"]]},\"xaxis\":{\"gridcolor\":\"white\",\"linecolor\":\"white\",\"ticks\":\"\",\"title\":{\"standoff\":15},\"zerolinecolor\":\"white\",\"automargin\":true,\"zerolinewidth\":2},\"yaxis\":{\"gridcolor\":\"white\",\"linecolor\":\"white\",\"ticks\":\"\",\"title\":{\"standoff\":15},\"zerolinecolor\":\"white\",\"automargin\":true,\"zerolinewidth\":2},\"scene\":{\"xaxis\":{\"backgroundcolor\":\"#E5ECF6\",\"gridcolor\":\"white\",\"linecolor\":\"white\",\"showbackground\":true,\"ticks\":\"\",\"zerolinecolor\":\"white\",\"gridwidth\":2},\"yaxis\":{\"backgroundcolor\":\"#E5ECF6\",\"gridcolor\":\"white\",\"linecolor\":\"white\",\"showbackground\":true,\"ticks\":\"\",\"zerolinecolor\":\"white\",\"gridwidth\":2},\"zaxis\":{\"backgroundcolor\":\"#E5ECF6\",\"gridcolor\":\"white\",\"linecolor\":\"white\",\"showbackground\":true,\"ticks\":\"\",\"zerolinecolor\":\"white\",\"gridwidth\":2}},\"shapedefaults\":{\"line\":{\"color\":\"#2a3f5f\"}},\"annotationdefaults\":{\"arrowcolor\":\"#2a3f5f\",\"arrowhead\":0,\"arrowwidth\":1},\"geo\":{\"bgcolor\":\"white\",\"landcolor\":\"#E5ECF6\",\"subunitcolor\":\"white\",\"showland\":true,\"showlakes\":true,\"lakecolor\":\"white\"},\"title\":{\"x\":0.05},\"mapbox\":{\"style\":\"light\"}}},\"legend\":{\"orientation\":\"v\",\"x\":0,\"y\":0.5}},                        {\"responsive\": true}                    ).then(function(){\n",
       "                            \n",
       "var gd = document.getElementById('35ae1a57-8111-48c0-aea2-6971dbb264ce');\n",
       "var x = new MutationObserver(function (mutations, observer) {{\n",
       "        var display = window.getComputedStyle(gd).display;\n",
       "        if (!display || display === 'none') {{\n",
       "            console.log([gd, 'removed!']);\n",
       "            Plotly.purge(gd);\n",
       "            observer.disconnect();\n",
       "        }}\n",
       "}});\n",
       "\n",
       "// Listen for the removal of the full notebook cells\n",
       "var notebookContainer = gd.closest('#notebook-container');\n",
       "if (notebookContainer) {{\n",
       "    x.observe(notebookContainer, {childList: true});\n",
       "}}\n",
       "\n",
       "// Listen for the clearing of the current output cell\n",
       "var outputEl = gd.closest('.output');\n",
       "if (outputEl) {{\n",
       "    x.observe(outputEl, {childList: true});\n",
       "}}\n",
       "\n",
       "                        })                };                });            </script>        </div>"
      ]
     },
     "metadata": {},
     "output_type": "display_data"
    }
   ],
   "source": [
    "surface = go.Surface(\n",
    "    x=xx_0,\n",
    "    y=yy_0,\n",
    "    z=grid_losses_0,\n",
    "    opacity=0.8,\n",
    "    name=\"grid point\",\n",
    "    coloraxis=\"coloraxis\",\n",
    "    colorscale=\"Viridis\",\n",
    ")\n",
    "\n",
    "trajectory_names = [\n",
    "    \"Classic SGD m=0.0\",\n",
    "    \"Classic SGD m=0.5\",\n",
    "    \"Classic SGD m=0.9\",\n",
    "]\n",
    "trajectory_colors = ['orange', 'green', 'blue', 'yellow', 'purple', 'cyan', 'magenta']  # Define more colors if you have more trajectories\n",
    "trajectories = []\n",
    "for i, (rw, tl) in enumerate(zip([new_reduced_weights[0]], trajectories_loss_reevaluted_0)):\n",
    "    traj = go.Scatter3d(\n",
    "        x=rw[:, 0],\n",
    "        y=rw[:, 1],\n",
    "        z=tl,\n",
    "        mode=\"markers+lines\",\n",
    "        line=dict(color=trajectory_colors[i % len(trajectory_colors)]),\n",
    "        marker=dict(color=trajectory_colors[i % len(trajectory_colors)], size=5),\n",
    "        name=trajectory_names[i],\n",
    "    )\n",
    "    trajectories.append(traj)\n",
    "\n",
    "layout = go.Layout(\n",
    "    scene=dict(xaxis_title=\"PC1\", yaxis_title=\"PC2\", zaxis_title=\" Loss\", zaxis=dict(type='log')),\n",
    "    coloraxis=dict(colorbar=dict(title=\"Loss magnitude\"), \n",
    "                   colorscale=\"Viridis\",\n",
    "                   cmin=np.log10(grid_losses.min()),  \n",
    "                    cmax=np.log10(grid_losses.max()),\n",
    "    ),\n",
    ")   \n",
    "\n",
    "fig = go.Figure(data=[surface]+ trajectories, layout=layout)\n",
    "\n",
    "fig.data[0].update(contours_z=dict(show=True, usecolormap=True,\n",
    "                              highlightcolor=\"limegreen\", project_z=True))\n",
    "\n",
    "_min_x_0, _min_y_0 = np.unravel_index(np.argmin(grid_losses_0), grid_losses_0.shape)\n",
    "min_point_0 = go.Scatter3d(\n",
    "    x=[xx_0[_min_x_0, _min_y_0]],\n",
    "    y=[yy_0[_min_x_0, _min_y_0]],\n",
    "    z=[grid_losses_0[_min_x_0, _min_y_0]],\n",
    "    mode='markers',\n",
    "    marker=dict(\n",
    "        size=5,\n",
    "        color='red',\n",
    "    ),\n",
    "    name=\"global minimum\"\n",
    ")\n",
    "\n",
    "fig.add_trace(min_point_0)\n",
    "\n",
    "fig.update_layout(legend=dict(orientation=\"v\", x=0, y=0.5))\n",
    "\n",
    "fig.show()"
   ]
  },
  {
   "cell_type": "code",
   "execution_count": 36,
   "id": "8d9c6d9d",
   "metadata": {},
   "outputs": [
    {
     "data": {
      "application/vnd.plotly.v1+json": {
       "config": {
        "plotlyServerURL": "https://plot.ly"
       },
       "data": [
        {
         "coloraxis": "coloraxis",
         "colorscale": [
          [
           0,
           "#440154"
          ],
          [
           0.1111111111111111,
           "#482878"
          ],
          [
           0.2222222222222222,
           "#3e4989"
          ],
          [
           0.3333333333333333,
           "#31688e"
          ],
          [
           0.4444444444444444,
           "#26828e"
          ],
          [
           0.5555555555555556,
           "#1f9e89"
          ],
          [
           0.6666666666666666,
           "#35b779"
          ],
          [
           0.7777777777777778,
           "#6ece58"
          ],
          [
           0.8888888888888888,
           "#b5de2b"
          ],
          [
           1,
           "#fde725"
          ]
         ],
         "contours": {
          "z": {
           "highlightcolor": "limegreen",
           "project": {
            "z": true
           },
           "show": true,
           "usecolormap": true
          }
         },
         "name": "grid point",
         "opacity": 0.8,
         "type": "surface",
         "x": [
          [
           -8.994387149810791,
           -7.958650764666105,
           -6.92291437952142,
           -5.887177994376735,
           -4.851441609232049,
           -3.8157052240873632,
           -2.779968838942678,
           -1.7442324537979932,
           -0.7084960686533073,
           0.32724031649137864,
           1.3629767016360645,
           2.3987130867807487,
           3.4344494719254346,
           4.4701858570701205,
           5.505922242214805,
           6.5416586273594906,
           7.5773950125041765,
           8.61313139764886,
           9.648867782793548,
           10.684604167938232
          ],
          [
           -8.994387149810791,
           -7.958650764666105,
           -6.92291437952142,
           -5.887177994376735,
           -4.851441609232049,
           -3.8157052240873632,
           -2.779968838942678,
           -1.7442324537979932,
           -0.7084960686533073,
           0.32724031649137864,
           1.3629767016360645,
           2.3987130867807487,
           3.4344494719254346,
           4.4701858570701205,
           5.505922242214805,
           6.5416586273594906,
           7.5773950125041765,
           8.61313139764886,
           9.648867782793548,
           10.684604167938232
          ],
          [
           -8.994387149810791,
           -7.958650764666105,
           -6.92291437952142,
           -5.887177994376735,
           -4.851441609232049,
           -3.8157052240873632,
           -2.779968838942678,
           -1.7442324537979932,
           -0.7084960686533073,
           0.32724031649137864,
           1.3629767016360645,
           2.3987130867807487,
           3.4344494719254346,
           4.4701858570701205,
           5.505922242214805,
           6.5416586273594906,
           7.5773950125041765,
           8.61313139764886,
           9.648867782793548,
           10.684604167938232
          ],
          [
           -8.994387149810791,
           -7.958650764666105,
           -6.92291437952142,
           -5.887177994376735,
           -4.851441609232049,
           -3.8157052240873632,
           -2.779968838942678,
           -1.7442324537979932,
           -0.7084960686533073,
           0.32724031649137864,
           1.3629767016360645,
           2.3987130867807487,
           3.4344494719254346,
           4.4701858570701205,
           5.505922242214805,
           6.5416586273594906,
           7.5773950125041765,
           8.61313139764886,
           9.648867782793548,
           10.684604167938232
          ],
          [
           -8.994387149810791,
           -7.958650764666105,
           -6.92291437952142,
           -5.887177994376735,
           -4.851441609232049,
           -3.8157052240873632,
           -2.779968838942678,
           -1.7442324537979932,
           -0.7084960686533073,
           0.32724031649137864,
           1.3629767016360645,
           2.3987130867807487,
           3.4344494719254346,
           4.4701858570701205,
           5.505922242214805,
           6.5416586273594906,
           7.5773950125041765,
           8.61313139764886,
           9.648867782793548,
           10.684604167938232
          ],
          [
           -8.994387149810791,
           -7.958650764666105,
           -6.92291437952142,
           -5.887177994376735,
           -4.851441609232049,
           -3.8157052240873632,
           -2.779968838942678,
           -1.7442324537979932,
           -0.7084960686533073,
           0.32724031649137864,
           1.3629767016360645,
           2.3987130867807487,
           3.4344494719254346,
           4.4701858570701205,
           5.505922242214805,
           6.5416586273594906,
           7.5773950125041765,
           8.61313139764886,
           9.648867782793548,
           10.684604167938232
          ],
          [
           -8.994387149810791,
           -7.958650764666105,
           -6.92291437952142,
           -5.887177994376735,
           -4.851441609232049,
           -3.8157052240873632,
           -2.779968838942678,
           -1.7442324537979932,
           -0.7084960686533073,
           0.32724031649137864,
           1.3629767016360645,
           2.3987130867807487,
           3.4344494719254346,
           4.4701858570701205,
           5.505922242214805,
           6.5416586273594906,
           7.5773950125041765,
           8.61313139764886,
           9.648867782793548,
           10.684604167938232
          ],
          [
           -8.994387149810791,
           -7.958650764666105,
           -6.92291437952142,
           -5.887177994376735,
           -4.851441609232049,
           -3.8157052240873632,
           -2.779968838942678,
           -1.7442324537979932,
           -0.7084960686533073,
           0.32724031649137864,
           1.3629767016360645,
           2.3987130867807487,
           3.4344494719254346,
           4.4701858570701205,
           5.505922242214805,
           6.5416586273594906,
           7.5773950125041765,
           8.61313139764886,
           9.648867782793548,
           10.684604167938232
          ],
          [
           -8.994387149810791,
           -7.958650764666105,
           -6.92291437952142,
           -5.887177994376735,
           -4.851441609232049,
           -3.8157052240873632,
           -2.779968838942678,
           -1.7442324537979932,
           -0.7084960686533073,
           0.32724031649137864,
           1.3629767016360645,
           2.3987130867807487,
           3.4344494719254346,
           4.4701858570701205,
           5.505922242214805,
           6.5416586273594906,
           7.5773950125041765,
           8.61313139764886,
           9.648867782793548,
           10.684604167938232
          ],
          [
           -8.994387149810791,
           -7.958650764666105,
           -6.92291437952142,
           -5.887177994376735,
           -4.851441609232049,
           -3.8157052240873632,
           -2.779968838942678,
           -1.7442324537979932,
           -0.7084960686533073,
           0.32724031649137864,
           1.3629767016360645,
           2.3987130867807487,
           3.4344494719254346,
           4.4701858570701205,
           5.505922242214805,
           6.5416586273594906,
           7.5773950125041765,
           8.61313139764886,
           9.648867782793548,
           10.684604167938232
          ],
          [
           -8.994387149810791,
           -7.958650764666105,
           -6.92291437952142,
           -5.887177994376735,
           -4.851441609232049,
           -3.8157052240873632,
           -2.779968838942678,
           -1.7442324537979932,
           -0.7084960686533073,
           0.32724031649137864,
           1.3629767016360645,
           2.3987130867807487,
           3.4344494719254346,
           4.4701858570701205,
           5.505922242214805,
           6.5416586273594906,
           7.5773950125041765,
           8.61313139764886,
           9.648867782793548,
           10.684604167938232
          ],
          [
           -8.994387149810791,
           -7.958650764666105,
           -6.92291437952142,
           -5.887177994376735,
           -4.851441609232049,
           -3.8157052240873632,
           -2.779968838942678,
           -1.7442324537979932,
           -0.7084960686533073,
           0.32724031649137864,
           1.3629767016360645,
           2.3987130867807487,
           3.4344494719254346,
           4.4701858570701205,
           5.505922242214805,
           6.5416586273594906,
           7.5773950125041765,
           8.61313139764886,
           9.648867782793548,
           10.684604167938232
          ],
          [
           -8.994387149810791,
           -7.958650764666105,
           -6.92291437952142,
           -5.887177994376735,
           -4.851441609232049,
           -3.8157052240873632,
           -2.779968838942678,
           -1.7442324537979932,
           -0.7084960686533073,
           0.32724031649137864,
           1.3629767016360645,
           2.3987130867807487,
           3.4344494719254346,
           4.4701858570701205,
           5.505922242214805,
           6.5416586273594906,
           7.5773950125041765,
           8.61313139764886,
           9.648867782793548,
           10.684604167938232
          ],
          [
           -8.994387149810791,
           -7.958650764666105,
           -6.92291437952142,
           -5.887177994376735,
           -4.851441609232049,
           -3.8157052240873632,
           -2.779968838942678,
           -1.7442324537979932,
           -0.7084960686533073,
           0.32724031649137864,
           1.3629767016360645,
           2.3987130867807487,
           3.4344494719254346,
           4.4701858570701205,
           5.505922242214805,
           6.5416586273594906,
           7.5773950125041765,
           8.61313139764886,
           9.648867782793548,
           10.684604167938232
          ],
          [
           -8.994387149810791,
           -7.958650764666105,
           -6.92291437952142,
           -5.887177994376735,
           -4.851441609232049,
           -3.8157052240873632,
           -2.779968838942678,
           -1.7442324537979932,
           -0.7084960686533073,
           0.32724031649137864,
           1.3629767016360645,
           2.3987130867807487,
           3.4344494719254346,
           4.4701858570701205,
           5.505922242214805,
           6.5416586273594906,
           7.5773950125041765,
           8.61313139764886,
           9.648867782793548,
           10.684604167938232
          ],
          [
           -8.994387149810791,
           -7.958650764666105,
           -6.92291437952142,
           -5.887177994376735,
           -4.851441609232049,
           -3.8157052240873632,
           -2.779968838942678,
           -1.7442324537979932,
           -0.7084960686533073,
           0.32724031649137864,
           1.3629767016360645,
           2.3987130867807487,
           3.4344494719254346,
           4.4701858570701205,
           5.505922242214805,
           6.5416586273594906,
           7.5773950125041765,
           8.61313139764886,
           9.648867782793548,
           10.684604167938232
          ],
          [
           -8.994387149810791,
           -7.958650764666105,
           -6.92291437952142,
           -5.887177994376735,
           -4.851441609232049,
           -3.8157052240873632,
           -2.779968838942678,
           -1.7442324537979932,
           -0.7084960686533073,
           0.32724031649137864,
           1.3629767016360645,
           2.3987130867807487,
           3.4344494719254346,
           4.4701858570701205,
           5.505922242214805,
           6.5416586273594906,
           7.5773950125041765,
           8.61313139764886,
           9.648867782793548,
           10.684604167938232
          ],
          [
           -8.994387149810791,
           -7.958650764666105,
           -6.92291437952142,
           -5.887177994376735,
           -4.851441609232049,
           -3.8157052240873632,
           -2.779968838942678,
           -1.7442324537979932,
           -0.7084960686533073,
           0.32724031649137864,
           1.3629767016360645,
           2.3987130867807487,
           3.4344494719254346,
           4.4701858570701205,
           5.505922242214805,
           6.5416586273594906,
           7.5773950125041765,
           8.61313139764886,
           9.648867782793548,
           10.684604167938232
          ],
          [
           -8.994387149810791,
           -7.958650764666105,
           -6.92291437952142,
           -5.887177994376735,
           -4.851441609232049,
           -3.8157052240873632,
           -2.779968838942678,
           -1.7442324537979932,
           -0.7084960686533073,
           0.32724031649137864,
           1.3629767016360645,
           2.3987130867807487,
           3.4344494719254346,
           4.4701858570701205,
           5.505922242214805,
           6.5416586273594906,
           7.5773950125041765,
           8.61313139764886,
           9.648867782793548,
           10.684604167938232
          ],
          [
           -8.994387149810791,
           -7.958650764666105,
           -6.92291437952142,
           -5.887177994376735,
           -4.851441609232049,
           -3.8157052240873632,
           -2.779968838942678,
           -1.7442324537979932,
           -0.7084960686533073,
           0.32724031649137864,
           1.3629767016360645,
           2.3987130867807487,
           3.4344494719254346,
           4.4701858570701205,
           5.505922242214805,
           6.5416586273594906,
           7.5773950125041765,
           8.61313139764886,
           9.648867782793548,
           10.684604167938232
          ]
         ],
         "y": [
          [
           -8.994387149810791,
           -8.994387149810791,
           -8.994387149810791,
           -8.994387149810791,
           -8.994387149810791,
           -8.994387149810791,
           -8.994387149810791,
           -8.994387149810791,
           -8.994387149810791,
           -8.994387149810791,
           -8.994387149810791,
           -8.994387149810791,
           -8.994387149810791,
           -8.994387149810791,
           -8.994387149810791,
           -8.994387149810791,
           -8.994387149810791,
           -8.994387149810791,
           -8.994387149810791,
           -8.994387149810791
          ],
          [
           -7.958650764666105,
           -7.958650764666105,
           -7.958650764666105,
           -7.958650764666105,
           -7.958650764666105,
           -7.958650764666105,
           -7.958650764666105,
           -7.958650764666105,
           -7.958650764666105,
           -7.958650764666105,
           -7.958650764666105,
           -7.958650764666105,
           -7.958650764666105,
           -7.958650764666105,
           -7.958650764666105,
           -7.958650764666105,
           -7.958650764666105,
           -7.958650764666105,
           -7.958650764666105,
           -7.958650764666105
          ],
          [
           -6.92291437952142,
           -6.92291437952142,
           -6.92291437952142,
           -6.92291437952142,
           -6.92291437952142,
           -6.92291437952142,
           -6.92291437952142,
           -6.92291437952142,
           -6.92291437952142,
           -6.92291437952142,
           -6.92291437952142,
           -6.92291437952142,
           -6.92291437952142,
           -6.92291437952142,
           -6.92291437952142,
           -6.92291437952142,
           -6.92291437952142,
           -6.92291437952142,
           -6.92291437952142,
           -6.92291437952142
          ],
          [
           -5.887177994376735,
           -5.887177994376735,
           -5.887177994376735,
           -5.887177994376735,
           -5.887177994376735,
           -5.887177994376735,
           -5.887177994376735,
           -5.887177994376735,
           -5.887177994376735,
           -5.887177994376735,
           -5.887177994376735,
           -5.887177994376735,
           -5.887177994376735,
           -5.887177994376735,
           -5.887177994376735,
           -5.887177994376735,
           -5.887177994376735,
           -5.887177994376735,
           -5.887177994376735,
           -5.887177994376735
          ],
          [
           -4.851441609232049,
           -4.851441609232049,
           -4.851441609232049,
           -4.851441609232049,
           -4.851441609232049,
           -4.851441609232049,
           -4.851441609232049,
           -4.851441609232049,
           -4.851441609232049,
           -4.851441609232049,
           -4.851441609232049,
           -4.851441609232049,
           -4.851441609232049,
           -4.851441609232049,
           -4.851441609232049,
           -4.851441609232049,
           -4.851441609232049,
           -4.851441609232049,
           -4.851441609232049,
           -4.851441609232049
          ],
          [
           -3.8157052240873632,
           -3.8157052240873632,
           -3.8157052240873632,
           -3.8157052240873632,
           -3.8157052240873632,
           -3.8157052240873632,
           -3.8157052240873632,
           -3.8157052240873632,
           -3.8157052240873632,
           -3.8157052240873632,
           -3.8157052240873632,
           -3.8157052240873632,
           -3.8157052240873632,
           -3.8157052240873632,
           -3.8157052240873632,
           -3.8157052240873632,
           -3.8157052240873632,
           -3.8157052240873632,
           -3.8157052240873632,
           -3.8157052240873632
          ],
          [
           -2.779968838942678,
           -2.779968838942678,
           -2.779968838942678,
           -2.779968838942678,
           -2.779968838942678,
           -2.779968838942678,
           -2.779968838942678,
           -2.779968838942678,
           -2.779968838942678,
           -2.779968838942678,
           -2.779968838942678,
           -2.779968838942678,
           -2.779968838942678,
           -2.779968838942678,
           -2.779968838942678,
           -2.779968838942678,
           -2.779968838942678,
           -2.779968838942678,
           -2.779968838942678,
           -2.779968838942678
          ],
          [
           -1.7442324537979932,
           -1.7442324537979932,
           -1.7442324537979932,
           -1.7442324537979932,
           -1.7442324537979932,
           -1.7442324537979932,
           -1.7442324537979932,
           -1.7442324537979932,
           -1.7442324537979932,
           -1.7442324537979932,
           -1.7442324537979932,
           -1.7442324537979932,
           -1.7442324537979932,
           -1.7442324537979932,
           -1.7442324537979932,
           -1.7442324537979932,
           -1.7442324537979932,
           -1.7442324537979932,
           -1.7442324537979932,
           -1.7442324537979932
          ],
          [
           -0.7084960686533073,
           -0.7084960686533073,
           -0.7084960686533073,
           -0.7084960686533073,
           -0.7084960686533073,
           -0.7084960686533073,
           -0.7084960686533073,
           -0.7084960686533073,
           -0.7084960686533073,
           -0.7084960686533073,
           -0.7084960686533073,
           -0.7084960686533073,
           -0.7084960686533073,
           -0.7084960686533073,
           -0.7084960686533073,
           -0.7084960686533073,
           -0.7084960686533073,
           -0.7084960686533073,
           -0.7084960686533073,
           -0.7084960686533073
          ],
          [
           0.32724031649137864,
           0.32724031649137864,
           0.32724031649137864,
           0.32724031649137864,
           0.32724031649137864,
           0.32724031649137864,
           0.32724031649137864,
           0.32724031649137864,
           0.32724031649137864,
           0.32724031649137864,
           0.32724031649137864,
           0.32724031649137864,
           0.32724031649137864,
           0.32724031649137864,
           0.32724031649137864,
           0.32724031649137864,
           0.32724031649137864,
           0.32724031649137864,
           0.32724031649137864,
           0.32724031649137864
          ],
          [
           1.3629767016360645,
           1.3629767016360645,
           1.3629767016360645,
           1.3629767016360645,
           1.3629767016360645,
           1.3629767016360645,
           1.3629767016360645,
           1.3629767016360645,
           1.3629767016360645,
           1.3629767016360645,
           1.3629767016360645,
           1.3629767016360645,
           1.3629767016360645,
           1.3629767016360645,
           1.3629767016360645,
           1.3629767016360645,
           1.3629767016360645,
           1.3629767016360645,
           1.3629767016360645,
           1.3629767016360645
          ],
          [
           2.3987130867807487,
           2.3987130867807487,
           2.3987130867807487,
           2.3987130867807487,
           2.3987130867807487,
           2.3987130867807487,
           2.3987130867807487,
           2.3987130867807487,
           2.3987130867807487,
           2.3987130867807487,
           2.3987130867807487,
           2.3987130867807487,
           2.3987130867807487,
           2.3987130867807487,
           2.3987130867807487,
           2.3987130867807487,
           2.3987130867807487,
           2.3987130867807487,
           2.3987130867807487,
           2.3987130867807487
          ],
          [
           3.4344494719254346,
           3.4344494719254346,
           3.4344494719254346,
           3.4344494719254346,
           3.4344494719254346,
           3.4344494719254346,
           3.4344494719254346,
           3.4344494719254346,
           3.4344494719254346,
           3.4344494719254346,
           3.4344494719254346,
           3.4344494719254346,
           3.4344494719254346,
           3.4344494719254346,
           3.4344494719254346,
           3.4344494719254346,
           3.4344494719254346,
           3.4344494719254346,
           3.4344494719254346,
           3.4344494719254346
          ],
          [
           4.4701858570701205,
           4.4701858570701205,
           4.4701858570701205,
           4.4701858570701205,
           4.4701858570701205,
           4.4701858570701205,
           4.4701858570701205,
           4.4701858570701205,
           4.4701858570701205,
           4.4701858570701205,
           4.4701858570701205,
           4.4701858570701205,
           4.4701858570701205,
           4.4701858570701205,
           4.4701858570701205,
           4.4701858570701205,
           4.4701858570701205,
           4.4701858570701205,
           4.4701858570701205,
           4.4701858570701205
          ],
          [
           5.505922242214805,
           5.505922242214805,
           5.505922242214805,
           5.505922242214805,
           5.505922242214805,
           5.505922242214805,
           5.505922242214805,
           5.505922242214805,
           5.505922242214805,
           5.505922242214805,
           5.505922242214805,
           5.505922242214805,
           5.505922242214805,
           5.505922242214805,
           5.505922242214805,
           5.505922242214805,
           5.505922242214805,
           5.505922242214805,
           5.505922242214805,
           5.505922242214805
          ],
          [
           6.5416586273594906,
           6.5416586273594906,
           6.5416586273594906,
           6.5416586273594906,
           6.5416586273594906,
           6.5416586273594906,
           6.5416586273594906,
           6.5416586273594906,
           6.5416586273594906,
           6.5416586273594906,
           6.5416586273594906,
           6.5416586273594906,
           6.5416586273594906,
           6.5416586273594906,
           6.5416586273594906,
           6.5416586273594906,
           6.5416586273594906,
           6.5416586273594906,
           6.5416586273594906,
           6.5416586273594906
          ],
          [
           7.5773950125041765,
           7.5773950125041765,
           7.5773950125041765,
           7.5773950125041765,
           7.5773950125041765,
           7.5773950125041765,
           7.5773950125041765,
           7.5773950125041765,
           7.5773950125041765,
           7.5773950125041765,
           7.5773950125041765,
           7.5773950125041765,
           7.5773950125041765,
           7.5773950125041765,
           7.5773950125041765,
           7.5773950125041765,
           7.5773950125041765,
           7.5773950125041765,
           7.5773950125041765,
           7.5773950125041765
          ],
          [
           8.61313139764886,
           8.61313139764886,
           8.61313139764886,
           8.61313139764886,
           8.61313139764886,
           8.61313139764886,
           8.61313139764886,
           8.61313139764886,
           8.61313139764886,
           8.61313139764886,
           8.61313139764886,
           8.61313139764886,
           8.61313139764886,
           8.61313139764886,
           8.61313139764886,
           8.61313139764886,
           8.61313139764886,
           8.61313139764886,
           8.61313139764886,
           8.61313139764886
          ],
          [
           9.648867782793548,
           9.648867782793548,
           9.648867782793548,
           9.648867782793548,
           9.648867782793548,
           9.648867782793548,
           9.648867782793548,
           9.648867782793548,
           9.648867782793548,
           9.648867782793548,
           9.648867782793548,
           9.648867782793548,
           9.648867782793548,
           9.648867782793548,
           9.648867782793548,
           9.648867782793548,
           9.648867782793548,
           9.648867782793548,
           9.648867782793548,
           9.648867782793548
          ],
          [
           10.684604167938232,
           10.684604167938232,
           10.684604167938232,
           10.684604167938232,
           10.684604167938232,
           10.684604167938232,
           10.684604167938232,
           10.684604167938232,
           10.684604167938232,
           10.684604167938232,
           10.684604167938232,
           10.684604167938232,
           10.684604167938232,
           10.684604167938232,
           10.684604167938232,
           10.684604167938232,
           10.684604167938232,
           10.684604167938232,
           10.684604167938232,
           10.684604167938232
          ]
         ],
         "z": [
          [
           46.94510701904297,
           43.416032373046875,
           40.26230057983398,
           37.447736553955075,
           34.865665600585935,
           32.51241496582031,
           30.341492944335936,
           28.216122692871092,
           26.115993911743164,
           24.10989158630371,
           22.230950592041015,
           20.55601889038086,
           19.20962012939453,
           18.397349757385253,
           18.165252770996094,
           18.36792092895508,
           18.819305563354494,
           19.63477311859131,
           21.78723821411133,
           25.9386989074707
          ],
          [
           32.97597133789063,
           30.162059826660155,
           27.64792443847656,
           25.384165283203124,
           23.379473150634766,
           21.538636126708983,
           19.844808654785155,
           18.265152825927736,
           16.712188317871092,
           15.222525758361817,
           13.841074453735352,
           12.62882305908203,
           11.686128987121583,
           11.164798205566406,
           11.179288688659668,
           11.512524722290038,
           12.01028797302246,
           12.869075137329101,
           14.982821704101562,
           18.78872981567383
          ],
          [
           22.883138903808593,
           20.67668542480469,
           18.740343002319335,
           17.017105645751954,
           15.463291021728516,
           14.069266833496094,
           12.793728915405273,
           11.598694821166992,
           10.471017782592773,
           9.391608555603028,
           8.39401166381836,
           7.531683515167236,
           6.855021759796142,
           6.510564882659912,
           6.622988594818115,
           6.99596383895874,
           7.493152513885498,
           8.376767429351807,
           10.39137096862793,
           14.393762255859375
          ],
          [
           15.689297161865234,
           13.948969757080079,
           12.464889959716796,
           11.176765412902832,
           10.047500439453126,
           9.02219849243164,
           8.094699745178223,
           7.246209060668945,
           6.451868270874024,
           5.703078633880615,
           5.00383803024292,
           4.393821710205078,
           3.91639525680542,
           3.6718384883880617,
           3.787430828857422,
           4.129542496871948,
           4.606152029800415,
           5.53196731262207,
           7.507568949890136,
           11.905095401000976
          ],
          [
           10.719474435424805,
           9.28401916809082,
           8.129931639099121,
           7.173431423950196,
           6.359049432373047,
           5.6462392852783205,
           5.008050811767578,
           4.422790828704834,
           3.8919149421691897,
           3.399733806991577,
           2.941928298950195,
           2.5305056182861327,
           2.1997444511413575,
           2.031667204284668,
           2.131349317932129,
           2.43184035949707,
           2.9071737892150877,
           3.8791617294311522,
           5.99132737197876,
           9.649650532531739
          ],
          [
           7.34969160079956,
           6.160463216400147,
           5.231790312194824,
           4.499721719360352,
           3.9071933250427247,
           3.4157334938049315,
           2.99027127494812,
           2.614866277694702,
           2.2785979541778563,
           1.976184292602539,
           1.6984768505096435,
           1.444399483680725,
           1.2386826642990112,
           1.1522397146224976,
           1.2712890003204347,
           1.562195528793335,
           2.042193217086792,
           3.0060566890716554,
           4.932754311370849,
           7.380099526214599
          ],
          [
           5.123027951049805,
           4.097396011352539,
           3.336948914718628,
           2.7694748680114745,
           2.332464830780029,
           1.9884888973236083,
           1.7106526111602782,
           1.4788325201034547,
           1.2826040069580078,
           1.1130607494354248,
           0.9636963979721069,
           0.8315373781204224,
           0.7394409998893737,
           0.7492719347000122,
           0.9130873123168946,
           1.2054562292098998,
           1.6956666278839112,
           2.5598278686523437,
           3.8837422256469725,
           5.334162884521485
          ],
          [
           3.7239332710266115,
           2.813423508453369,
           2.1549308666229248,
           1.689828695678711,
           1.356927711868286,
           1.1161344347000122,
           0.9369181768417358,
           0.8018706310272217,
           0.6990371007919312,
           0.6223750002861023,
           0.5662035325050354,
           0.5342319127082825,
           0.5504600100517273,
           0.6595054767608642,
           0.8847535132408142,
           1.2255612344741822,
           1.6942226835250855,
           2.318058917236328,
           3.035027529525757,
           3.7564517368316652
          ],
          [
           2.93459213180542,
           2.0658555850982667,
           1.4787363204956054,
           1.0754182987213134,
           0.8049821705818176,
           0.6261335945129395,
           0.5094681118011475,
           0.4375588441848755,
           0.4023752185821533,
           0.3988850893497467,
           0.42874373025894164,
           0.504510985994339,
           0.6530853865623474,
           0.8930802545547485,
           1.215761775779724,
           1.5863439043045044,
           1.9652557874679566,
           2.3085320446014403,
           2.610753713989258,
           2.8946048042297363
          ],
          [
           3.0420656284332277,
           1.8695884735107422,
           1.1802898685455323,
           0.7799354448318482,
           0.5397058377742767,
           0.39880131916999817,
           0.3254017828464508,
           0.3054031849861145,
           0.3423085109233856,
           0.44727883620262143,
           0.6306874084472657,
           0.8877033754348755,
           1.1922870689392089,
           1.5113762437820435,
           1.8120497285842896,
           2.0587888204574587,
           2.234661827087402,
           2.3507440536499025,
           2.4396461170196533,
           2.5289112831115723
          ],
          [
           4.441981343078614,
           2.752902645492554,
           1.6412397624969481,
           0.9707547838211059,
           0.6088185752868652,
           0.4472968547821045,
           0.4198829478263855,
           0.5086852289199829,
           0.725379028892517,
           1.04853351020813,
           1.3946116744995116,
           1.6887730640411378,
           1.9162922159194946,
           2.0867395610809325,
           2.2070200408935547,
           2.2780917236328126,
           2.314599435043335,
           2.3350403942108153,
           2.3534214725494387,
           2.3933741413116456
          ],
          [
           6.11035184173584,
           4.185944071197509,
           2.8276279541015623,
           1.9268029857635498,
           1.3973274211883544,
           1.1741589557647705,
           1.1977177860260009,
           1.3927223136901856,
           1.6579234355926513,
           1.9013715141296386,
           2.081122462463379,
           2.194356420516968,
           2.257953094482422,
           2.290021039581299,
           2.3039176742553713,
           2.3083025959014893,
           2.309896229171753,
           2.3167006538391113,
           2.3327411640167237,
           2.3777296581268312
          ],
          [
           6.670436329650879,
           4.773348657226562,
           3.428196363067627,
           2.540516898345947,
           2.0352470771789553,
           1.8428014911651611,
           1.8703557441711425,
           2.001794556427002,
           2.138637413406372,
           2.232859970855713,
           2.282809875869751,
           2.303583225631714,
           2.3085558052062987,
           2.3071161975860597,
           2.3044771476745605,
           2.304850889968872,
           2.30970852394104,
           2.3211494094848635,
           2.3457927532196043,
           2.4004829219818116
          ],
          [
           6.428145892333984,
           4.647741323852539,
           3.4012648902893066,
           2.605404484939575,
           2.1858670894622803,
           2.0498104824066163,
           2.079856406021118,
           2.1658766437530517,
           2.2397769454956054,
           2.2833657623291015,
           2.302711407470703,
           2.3072149291992186,
           2.307040104675293,
           2.3064422580718995,
           2.3072087535858152,
           2.3107611366271974,
           2.3173169921875,
           2.3310104888916015,
           2.36023165473938,
           2.430145275115967
          ],
          [
           5.940628704833984,
           4.341938159942627,
           3.2547995742797853,
           2.586120304489136,
           2.2564060188293458,
           2.157854644393921,
           2.1812464595794676,
           2.2373066146850586,
           2.279544105911255,
           2.3004479743957518,
           2.3068340667724607,
           2.3094686832427977,
           2.310744634628296,
           2.312126153945923,
           2.315438787460327,
           2.320213087463379,
           2.3272673278808593,
           2.340629804611206,
           2.3722453048706056,
           2.467054605484009
          ],
          [
           5.587347953796387,
           4.150967485046387,
           3.191114872741699,
           2.6172658370971678,
           2.3389617916107177,
           2.255160725402832,
           2.261926270675659,
           2.283220830154419,
           2.2983306617736816,
           2.308666199874878,
           2.3144501781463624,
           2.317280480194092,
           2.320287438201904,
           2.3224205108642577,
           2.3283725769042967,
           2.3377240577697753,
           2.3507938064575193,
           2.3780811218261717,
           2.4519931968688966,
           2.6505776775360106
          ],
          [
           5.412218743896484,
           4.115458290863037,
           3.2494309432983397,
           2.7202830432891845,
           2.445178387451172,
           2.3338932319641112,
           2.3068991329193116,
           2.309800159454346,
           2.319014677429199,
           2.3273680156707766,
           2.3327846523284914,
           2.33982276763916,
           2.3502982334136964,
           2.3612058055877685,
           2.375797448348999,
           2.4042350589752197,
           2.4556620456695555,
           2.5624538738250733,
           2.789458561706543,
           3.240231703567505
          ],
          [
           5.465178993225098,
           4.201621995544434,
           3.3457636360168457,
           2.81635013961792,
           2.532869128417969,
           2.4048042686462403,
           2.360171323776245,
           2.3532568466186525,
           2.358324392700195,
           2.3689786140441895,
           2.3861033477783202,
           2.41414147567749,
           2.4542658851623536,
           2.498006733703613,
           2.5520349925994874,
           2.6480474685668947,
           2.8324115226745605,
           3.156494599533081,
           3.6884708450317385,
           4.5176962379455565
          ],
          [
           5.546339756774902,
           4.328682338714599,
           3.503944367980957,
           2.971232632446289,
           2.669544758987427,
           2.5201600494384766,
           2.457871424484253,
           2.439232850265503,
           2.449455298614502,
           2.4856574012756347,
           2.5531445419311525,
           2.6509829051971434,
           2.7713476848602294,
           2.9019108646392824,
           3.0656325622558596,
           3.3420540740966795,
           3.801756568145752,
           4.47141129989624,
           5.405525804901123,
           6.70685527267456
          ],
          [
           5.810514253234864,
           4.6145136856079105,
           3.784822048950195,
           3.243446642303467,
           2.9169453086853028,
           2.7296443538665773,
           2.6398491901397705,
           2.6258242748260496,
           2.6825988285064697,
           2.8140491790771485,
           3.0129961570739745,
           3.2579659465789796,
           3.5177552612304686,
           3.8066586154937743,
           4.195503316879273,
           4.800499774169922,
           5.657538645935059,
           6.762453608703614,
           8.178256535339356,
           10.041591215515137
          ]
         ]
        },
        {
         "line": {
          "color": "green"
         },
         "marker": {
          "color": "green",
          "size": 5
         },
         "mode": "markers+lines",
         "name": "Classic SGD m=0.5",
         "type": "scatter3d",
         "x": [
          4.124940395355225,
          4.124902725219727,
          3.2820329666137695,
          2.6773886680603027,
          2.6767475605010986,
          2.140507221221924,
          1.6298836469650269,
          1.6294664144515991,
          1.173838496208191,
          0.7439252138137817,
          0.7437516450881958,
          0.36845558881759644,
          0.022832822054624557,
          0.02231333777308464,
          -0.2907547950744629,
          -0.5875259041786194,
          -0.587659478187561,
          -0.8559373617172241,
          -1.0864487886428833,
          -1.0866355895996094,
          -1.3072607517242432,
          -1.5065754652023315,
          -1.506895899772644,
          -1.6971688270568848,
          -1.8703908920288086,
          -1.8707064390182495,
          -2.0299415588378906,
          -2.1649155616760254,
          -2.1646978855133057,
          -2.312746524810791,
          -2.434723377227783
         ],
         "y": [
          2.062331438064575,
          2.0621864795684814,
          0.30659210681915283,
          -0.33576536178588867,
          -0.33689960837364197,
          -0.6745359301567078,
          -0.8428884744644165,
          -0.843065619468689,
          -0.8911870121955872,
          -0.8519994616508484,
          -0.8516680598258972,
          -0.7683681845664978,
          -0.6476209163665771,
          -0.6481783390045166,
          -0.5257900357246399,
          -0.38744470477104187,
          -0.38619133830070496,
          -0.2465239316225052,
          -0.10110590606927872,
          -0.1008521169424057,
          0.039017386734485626,
          0.1867741346359253,
          0.18667544424533844,
          0.3045112192630768,
          0.4230363667011261,
          0.4233846366405487,
          0.5369501113891602,
          0.657438337802887,
          0.6578426957130432,
          0.744918704032898,
          0.84842449426651
         ],
         "z": [
          2.239166811752319,
          2.2391398563385008,
          1.1308091161727905,
          0.6284669036865235,
          0.6279704149246216,
          0.4832012341499329,
          0.44210836129188535,
          0.44209218645095827,
          0.42916130867004393,
          0.41840633745193484,
          0.41837119245529175,
          0.40565217647552493,
          0.3895599927902222,
          0.3896177519798279,
          0.3741384395122528,
          0.3578683097839355,
          0.35774420971870424,
          0.3428659127235413,
          0.3296150824546814,
          0.32959556074142454,
          0.3190479410171509,
          0.3108266918182373,
          0.3108271842956543,
          0.3061356107711792,
          0.30367718634605406,
          0.3036746409893036,
          0.3036670934200287,
          0.30669426155090335,
          0.3067147231578827,
          0.3105881433963776,
          0.31798785614967345
         ]
        },
        {
         "marker": {
          "color": "red",
          "size": 5
         },
         "mode": "markers",
         "name": "global minimum",
         "type": "scatter3d",
         "x": [
          -1.7442324537979932
         ],
         "y": [
          0.32724031649137864
         ],
         "z": [
          0.3054031849861145
         ]
        }
       ],
       "layout": {
        "coloraxis": {
         "cmax": 3.1659474433969463,
         "cmin": -0.5566348306033799,
         "colorbar": {
          "title": {
           "text": "Loss magnitude"
          }
         },
         "colorscale": [
          [
           0,
           "#440154"
          ],
          [
           0.1111111111111111,
           "#482878"
          ],
          [
           0.2222222222222222,
           "#3e4989"
          ],
          [
           0.3333333333333333,
           "#31688e"
          ],
          [
           0.4444444444444444,
           "#26828e"
          ],
          [
           0.5555555555555556,
           "#1f9e89"
          ],
          [
           0.6666666666666666,
           "#35b779"
          ],
          [
           0.7777777777777778,
           "#6ece58"
          ],
          [
           0.8888888888888888,
           "#b5de2b"
          ],
          [
           1,
           "#fde725"
          ]
         ]
        },
        "legend": {
         "orientation": "v",
         "x": 0,
         "y": 0.5
        },
        "scene": {
         "xaxis": {
          "title": {
           "text": "PC1"
          }
         },
         "yaxis": {
          "title": {
           "text": "PC2"
          }
         },
         "zaxis": {
          "title": {
           "text": " Loss"
          },
          "type": "log"
         }
        },
        "template": {
         "data": {
          "bar": [
           {
            "error_x": {
             "color": "#2a3f5f"
            },
            "error_y": {
             "color": "#2a3f5f"
            },
            "marker": {
             "line": {
              "color": "#E5ECF6",
              "width": 0.5
             },
             "pattern": {
              "fillmode": "overlay",
              "size": 10,
              "solidity": 0.2
             }
            },
            "type": "bar"
           }
          ],
          "barpolar": [
           {
            "marker": {
             "line": {
              "color": "#E5ECF6",
              "width": 0.5
             },
             "pattern": {
              "fillmode": "overlay",
              "size": 10,
              "solidity": 0.2
             }
            },
            "type": "barpolar"
           }
          ],
          "carpet": [
           {
            "aaxis": {
             "endlinecolor": "#2a3f5f",
             "gridcolor": "white",
             "linecolor": "white",
             "minorgridcolor": "white",
             "startlinecolor": "#2a3f5f"
            },
            "baxis": {
             "endlinecolor": "#2a3f5f",
             "gridcolor": "white",
             "linecolor": "white",
             "minorgridcolor": "white",
             "startlinecolor": "#2a3f5f"
            },
            "type": "carpet"
           }
          ],
          "choropleth": [
           {
            "colorbar": {
             "outlinewidth": 0,
             "ticks": ""
            },
            "type": "choropleth"
           }
          ],
          "contour": [
           {
            "colorbar": {
             "outlinewidth": 0,
             "ticks": ""
            },
            "colorscale": [
             [
              0,
              "#0d0887"
             ],
             [
              0.1111111111111111,
              "#46039f"
             ],
             [
              0.2222222222222222,
              "#7201a8"
             ],
             [
              0.3333333333333333,
              "#9c179e"
             ],
             [
              0.4444444444444444,
              "#bd3786"
             ],
             [
              0.5555555555555556,
              "#d8576b"
             ],
             [
              0.6666666666666666,
              "#ed7953"
             ],
             [
              0.7777777777777778,
              "#fb9f3a"
             ],
             [
              0.8888888888888888,
              "#fdca26"
             ],
             [
              1,
              "#f0f921"
             ]
            ],
            "type": "contour"
           }
          ],
          "contourcarpet": [
           {
            "colorbar": {
             "outlinewidth": 0,
             "ticks": ""
            },
            "type": "contourcarpet"
           }
          ],
          "heatmap": [
           {
            "colorbar": {
             "outlinewidth": 0,
             "ticks": ""
            },
            "colorscale": [
             [
              0,
              "#0d0887"
             ],
             [
              0.1111111111111111,
              "#46039f"
             ],
             [
              0.2222222222222222,
              "#7201a8"
             ],
             [
              0.3333333333333333,
              "#9c179e"
             ],
             [
              0.4444444444444444,
              "#bd3786"
             ],
             [
              0.5555555555555556,
              "#d8576b"
             ],
             [
              0.6666666666666666,
              "#ed7953"
             ],
             [
              0.7777777777777778,
              "#fb9f3a"
             ],
             [
              0.8888888888888888,
              "#fdca26"
             ],
             [
              1,
              "#f0f921"
             ]
            ],
            "type": "heatmap"
           }
          ],
          "heatmapgl": [
           {
            "colorbar": {
             "outlinewidth": 0,
             "ticks": ""
            },
            "colorscale": [
             [
              0,
              "#0d0887"
             ],
             [
              0.1111111111111111,
              "#46039f"
             ],
             [
              0.2222222222222222,
              "#7201a8"
             ],
             [
              0.3333333333333333,
              "#9c179e"
             ],
             [
              0.4444444444444444,
              "#bd3786"
             ],
             [
              0.5555555555555556,
              "#d8576b"
             ],
             [
              0.6666666666666666,
              "#ed7953"
             ],
             [
              0.7777777777777778,
              "#fb9f3a"
             ],
             [
              0.8888888888888888,
              "#fdca26"
             ],
             [
              1,
              "#f0f921"
             ]
            ],
            "type": "heatmapgl"
           }
          ],
          "histogram": [
           {
            "marker": {
             "pattern": {
              "fillmode": "overlay",
              "size": 10,
              "solidity": 0.2
             }
            },
            "type": "histogram"
           }
          ],
          "histogram2d": [
           {
            "colorbar": {
             "outlinewidth": 0,
             "ticks": ""
            },
            "colorscale": [
             [
              0,
              "#0d0887"
             ],
             [
              0.1111111111111111,
              "#46039f"
             ],
             [
              0.2222222222222222,
              "#7201a8"
             ],
             [
              0.3333333333333333,
              "#9c179e"
             ],
             [
              0.4444444444444444,
              "#bd3786"
             ],
             [
              0.5555555555555556,
              "#d8576b"
             ],
             [
              0.6666666666666666,
              "#ed7953"
             ],
             [
              0.7777777777777778,
              "#fb9f3a"
             ],
             [
              0.8888888888888888,
              "#fdca26"
             ],
             [
              1,
              "#f0f921"
             ]
            ],
            "type": "histogram2d"
           }
          ],
          "histogram2dcontour": [
           {
            "colorbar": {
             "outlinewidth": 0,
             "ticks": ""
            },
            "colorscale": [
             [
              0,
              "#0d0887"
             ],
             [
              0.1111111111111111,
              "#46039f"
             ],
             [
              0.2222222222222222,
              "#7201a8"
             ],
             [
              0.3333333333333333,
              "#9c179e"
             ],
             [
              0.4444444444444444,
              "#bd3786"
             ],
             [
              0.5555555555555556,
              "#d8576b"
             ],
             [
              0.6666666666666666,
              "#ed7953"
             ],
             [
              0.7777777777777778,
              "#fb9f3a"
             ],
             [
              0.8888888888888888,
              "#fdca26"
             ],
             [
              1,
              "#f0f921"
             ]
            ],
            "type": "histogram2dcontour"
           }
          ],
          "mesh3d": [
           {
            "colorbar": {
             "outlinewidth": 0,
             "ticks": ""
            },
            "type": "mesh3d"
           }
          ],
          "parcoords": [
           {
            "line": {
             "colorbar": {
              "outlinewidth": 0,
              "ticks": ""
             }
            },
            "type": "parcoords"
           }
          ],
          "pie": [
           {
            "automargin": true,
            "type": "pie"
           }
          ],
          "scatter": [
           {
            "fillpattern": {
             "fillmode": "overlay",
             "size": 10,
             "solidity": 0.2
            },
            "type": "scatter"
           }
          ],
          "scatter3d": [
           {
            "line": {
             "colorbar": {
              "outlinewidth": 0,
              "ticks": ""
             }
            },
            "marker": {
             "colorbar": {
              "outlinewidth": 0,
              "ticks": ""
             }
            },
            "type": "scatter3d"
           }
          ],
          "scattercarpet": [
           {
            "marker": {
             "colorbar": {
              "outlinewidth": 0,
              "ticks": ""
             }
            },
            "type": "scattercarpet"
           }
          ],
          "scattergeo": [
           {
            "marker": {
             "colorbar": {
              "outlinewidth": 0,
              "ticks": ""
             }
            },
            "type": "scattergeo"
           }
          ],
          "scattergl": [
           {
            "marker": {
             "colorbar": {
              "outlinewidth": 0,
              "ticks": ""
             }
            },
            "type": "scattergl"
           }
          ],
          "scattermapbox": [
           {
            "marker": {
             "colorbar": {
              "outlinewidth": 0,
              "ticks": ""
             }
            },
            "type": "scattermapbox"
           }
          ],
          "scatterpolar": [
           {
            "marker": {
             "colorbar": {
              "outlinewidth": 0,
              "ticks": ""
             }
            },
            "type": "scatterpolar"
           }
          ],
          "scatterpolargl": [
           {
            "marker": {
             "colorbar": {
              "outlinewidth": 0,
              "ticks": ""
             }
            },
            "type": "scatterpolargl"
           }
          ],
          "scatterternary": [
           {
            "marker": {
             "colorbar": {
              "outlinewidth": 0,
              "ticks": ""
             }
            },
            "type": "scatterternary"
           }
          ],
          "surface": [
           {
            "colorbar": {
             "outlinewidth": 0,
             "ticks": ""
            },
            "colorscale": [
             [
              0,
              "#0d0887"
             ],
             [
              0.1111111111111111,
              "#46039f"
             ],
             [
              0.2222222222222222,
              "#7201a8"
             ],
             [
              0.3333333333333333,
              "#9c179e"
             ],
             [
              0.4444444444444444,
              "#bd3786"
             ],
             [
              0.5555555555555556,
              "#d8576b"
             ],
             [
              0.6666666666666666,
              "#ed7953"
             ],
             [
              0.7777777777777778,
              "#fb9f3a"
             ],
             [
              0.8888888888888888,
              "#fdca26"
             ],
             [
              1,
              "#f0f921"
             ]
            ],
            "type": "surface"
           }
          ],
          "table": [
           {
            "cells": {
             "fill": {
              "color": "#EBF0F8"
             },
             "line": {
              "color": "white"
             }
            },
            "header": {
             "fill": {
              "color": "#C8D4E3"
             },
             "line": {
              "color": "white"
             }
            },
            "type": "table"
           }
          ]
         },
         "layout": {
          "annotationdefaults": {
           "arrowcolor": "#2a3f5f",
           "arrowhead": 0,
           "arrowwidth": 1
          },
          "autotypenumbers": "strict",
          "coloraxis": {
           "colorbar": {
            "outlinewidth": 0,
            "ticks": ""
           }
          },
          "colorscale": {
           "diverging": [
            [
             0,
             "#8e0152"
            ],
            [
             0.1,
             "#c51b7d"
            ],
            [
             0.2,
             "#de77ae"
            ],
            [
             0.3,
             "#f1b6da"
            ],
            [
             0.4,
             "#fde0ef"
            ],
            [
             0.5,
             "#f7f7f7"
            ],
            [
             0.6,
             "#e6f5d0"
            ],
            [
             0.7,
             "#b8e186"
            ],
            [
             0.8,
             "#7fbc41"
            ],
            [
             0.9,
             "#4d9221"
            ],
            [
             1,
             "#276419"
            ]
           ],
           "sequential": [
            [
             0,
             "#0d0887"
            ],
            [
             0.1111111111111111,
             "#46039f"
            ],
            [
             0.2222222222222222,
             "#7201a8"
            ],
            [
             0.3333333333333333,
             "#9c179e"
            ],
            [
             0.4444444444444444,
             "#bd3786"
            ],
            [
             0.5555555555555556,
             "#d8576b"
            ],
            [
             0.6666666666666666,
             "#ed7953"
            ],
            [
             0.7777777777777778,
             "#fb9f3a"
            ],
            [
             0.8888888888888888,
             "#fdca26"
            ],
            [
             1,
             "#f0f921"
            ]
           ],
           "sequentialminus": [
            [
             0,
             "#0d0887"
            ],
            [
             0.1111111111111111,
             "#46039f"
            ],
            [
             0.2222222222222222,
             "#7201a8"
            ],
            [
             0.3333333333333333,
             "#9c179e"
            ],
            [
             0.4444444444444444,
             "#bd3786"
            ],
            [
             0.5555555555555556,
             "#d8576b"
            ],
            [
             0.6666666666666666,
             "#ed7953"
            ],
            [
             0.7777777777777778,
             "#fb9f3a"
            ],
            [
             0.8888888888888888,
             "#fdca26"
            ],
            [
             1,
             "#f0f921"
            ]
           ]
          },
          "colorway": [
           "#636efa",
           "#EF553B",
           "#00cc96",
           "#ab63fa",
           "#FFA15A",
           "#19d3f3",
           "#FF6692",
           "#B6E880",
           "#FF97FF",
           "#FECB52"
          ],
          "font": {
           "color": "#2a3f5f"
          },
          "geo": {
           "bgcolor": "white",
           "lakecolor": "white",
           "landcolor": "#E5ECF6",
           "showlakes": true,
           "showland": true,
           "subunitcolor": "white"
          },
          "hoverlabel": {
           "align": "left"
          },
          "hovermode": "closest",
          "mapbox": {
           "style": "light"
          },
          "paper_bgcolor": "white",
          "plot_bgcolor": "#E5ECF6",
          "polar": {
           "angularaxis": {
            "gridcolor": "white",
            "linecolor": "white",
            "ticks": ""
           },
           "bgcolor": "#E5ECF6",
           "radialaxis": {
            "gridcolor": "white",
            "linecolor": "white",
            "ticks": ""
           }
          },
          "scene": {
           "xaxis": {
            "backgroundcolor": "#E5ECF6",
            "gridcolor": "white",
            "gridwidth": 2,
            "linecolor": "white",
            "showbackground": true,
            "ticks": "",
            "zerolinecolor": "white"
           },
           "yaxis": {
            "backgroundcolor": "#E5ECF6",
            "gridcolor": "white",
            "gridwidth": 2,
            "linecolor": "white",
            "showbackground": true,
            "ticks": "",
            "zerolinecolor": "white"
           },
           "zaxis": {
            "backgroundcolor": "#E5ECF6",
            "gridcolor": "white",
            "gridwidth": 2,
            "linecolor": "white",
            "showbackground": true,
            "ticks": "",
            "zerolinecolor": "white"
           }
          },
          "shapedefaults": {
           "line": {
            "color": "#2a3f5f"
           }
          },
          "ternary": {
           "aaxis": {
            "gridcolor": "white",
            "linecolor": "white",
            "ticks": ""
           },
           "baxis": {
            "gridcolor": "white",
            "linecolor": "white",
            "ticks": ""
           },
           "bgcolor": "#E5ECF6",
           "caxis": {
            "gridcolor": "white",
            "linecolor": "white",
            "ticks": ""
           }
          },
          "title": {
           "x": 0.05
          },
          "xaxis": {
           "automargin": true,
           "gridcolor": "white",
           "linecolor": "white",
           "ticks": "",
           "title": {
            "standoff": 15
           },
           "zerolinecolor": "white",
           "zerolinewidth": 2
          },
          "yaxis": {
           "automargin": true,
           "gridcolor": "white",
           "linecolor": "white",
           "ticks": "",
           "title": {
            "standoff": 15
           },
           "zerolinecolor": "white",
           "zerolinewidth": 2
          }
         }
        }
       }
      },
      "text/html": [
       "<div>                            <div id=\"a3121018-dc72-44c1-a5bc-e89709f010a3\" class=\"plotly-graph-div\" style=\"height:525px; width:100%;\"></div>            <script type=\"text/javascript\">                require([\"plotly\"], function(Plotly) {                    window.PLOTLYENV=window.PLOTLYENV || {};                                    if (document.getElementById(\"a3121018-dc72-44c1-a5bc-e89709f010a3\")) {                    Plotly.newPlot(                        \"a3121018-dc72-44c1-a5bc-e89709f010a3\",                        [{\"coloraxis\":\"coloraxis\",\"colorscale\":[[0.0,\"#440154\"],[0.1111111111111111,\"#482878\"],[0.2222222222222222,\"#3e4989\"],[0.3333333333333333,\"#31688e\"],[0.4444444444444444,\"#26828e\"],[0.5555555555555556,\"#1f9e89\"],[0.6666666666666666,\"#35b779\"],[0.7777777777777778,\"#6ece58\"],[0.8888888888888888,\"#b5de2b\"],[1.0,\"#fde725\"]],\"name\":\"grid point\",\"opacity\":0.8,\"x\":[[-8.994387149810791,-7.958650764666105,-6.92291437952142,-5.887177994376735,-4.851441609232049,-3.8157052240873632,-2.779968838942678,-1.7442324537979932,-0.7084960686533073,0.32724031649137864,1.3629767016360645,2.3987130867807487,3.4344494719254346,4.4701858570701205,5.505922242214805,6.5416586273594906,7.5773950125041765,8.61313139764886,9.648867782793548,10.684604167938232],[-8.994387149810791,-7.958650764666105,-6.92291437952142,-5.887177994376735,-4.851441609232049,-3.8157052240873632,-2.779968838942678,-1.7442324537979932,-0.7084960686533073,0.32724031649137864,1.3629767016360645,2.3987130867807487,3.4344494719254346,4.4701858570701205,5.505922242214805,6.5416586273594906,7.5773950125041765,8.61313139764886,9.648867782793548,10.684604167938232],[-8.994387149810791,-7.958650764666105,-6.92291437952142,-5.887177994376735,-4.851441609232049,-3.8157052240873632,-2.779968838942678,-1.7442324537979932,-0.7084960686533073,0.32724031649137864,1.3629767016360645,2.3987130867807487,3.4344494719254346,4.4701858570701205,5.505922242214805,6.5416586273594906,7.5773950125041765,8.61313139764886,9.648867782793548,10.684604167938232],[-8.994387149810791,-7.958650764666105,-6.92291437952142,-5.887177994376735,-4.851441609232049,-3.8157052240873632,-2.779968838942678,-1.7442324537979932,-0.7084960686533073,0.32724031649137864,1.3629767016360645,2.3987130867807487,3.4344494719254346,4.4701858570701205,5.505922242214805,6.5416586273594906,7.5773950125041765,8.61313139764886,9.648867782793548,10.684604167938232],[-8.994387149810791,-7.958650764666105,-6.92291437952142,-5.887177994376735,-4.851441609232049,-3.8157052240873632,-2.779968838942678,-1.7442324537979932,-0.7084960686533073,0.32724031649137864,1.3629767016360645,2.3987130867807487,3.4344494719254346,4.4701858570701205,5.505922242214805,6.5416586273594906,7.5773950125041765,8.61313139764886,9.648867782793548,10.684604167938232],[-8.994387149810791,-7.958650764666105,-6.92291437952142,-5.887177994376735,-4.851441609232049,-3.8157052240873632,-2.779968838942678,-1.7442324537979932,-0.7084960686533073,0.32724031649137864,1.3629767016360645,2.3987130867807487,3.4344494719254346,4.4701858570701205,5.505922242214805,6.5416586273594906,7.5773950125041765,8.61313139764886,9.648867782793548,10.684604167938232],[-8.994387149810791,-7.958650764666105,-6.92291437952142,-5.887177994376735,-4.851441609232049,-3.8157052240873632,-2.779968838942678,-1.7442324537979932,-0.7084960686533073,0.32724031649137864,1.3629767016360645,2.3987130867807487,3.4344494719254346,4.4701858570701205,5.505922242214805,6.5416586273594906,7.5773950125041765,8.61313139764886,9.648867782793548,10.684604167938232],[-8.994387149810791,-7.958650764666105,-6.92291437952142,-5.887177994376735,-4.851441609232049,-3.8157052240873632,-2.779968838942678,-1.7442324537979932,-0.7084960686533073,0.32724031649137864,1.3629767016360645,2.3987130867807487,3.4344494719254346,4.4701858570701205,5.505922242214805,6.5416586273594906,7.5773950125041765,8.61313139764886,9.648867782793548,10.684604167938232],[-8.994387149810791,-7.958650764666105,-6.92291437952142,-5.887177994376735,-4.851441609232049,-3.8157052240873632,-2.779968838942678,-1.7442324537979932,-0.7084960686533073,0.32724031649137864,1.3629767016360645,2.3987130867807487,3.4344494719254346,4.4701858570701205,5.505922242214805,6.5416586273594906,7.5773950125041765,8.61313139764886,9.648867782793548,10.684604167938232],[-8.994387149810791,-7.958650764666105,-6.92291437952142,-5.887177994376735,-4.851441609232049,-3.8157052240873632,-2.779968838942678,-1.7442324537979932,-0.7084960686533073,0.32724031649137864,1.3629767016360645,2.3987130867807487,3.4344494719254346,4.4701858570701205,5.505922242214805,6.5416586273594906,7.5773950125041765,8.61313139764886,9.648867782793548,10.684604167938232],[-8.994387149810791,-7.958650764666105,-6.92291437952142,-5.887177994376735,-4.851441609232049,-3.8157052240873632,-2.779968838942678,-1.7442324537979932,-0.7084960686533073,0.32724031649137864,1.3629767016360645,2.3987130867807487,3.4344494719254346,4.4701858570701205,5.505922242214805,6.5416586273594906,7.5773950125041765,8.61313139764886,9.648867782793548,10.684604167938232],[-8.994387149810791,-7.958650764666105,-6.92291437952142,-5.887177994376735,-4.851441609232049,-3.8157052240873632,-2.779968838942678,-1.7442324537979932,-0.7084960686533073,0.32724031649137864,1.3629767016360645,2.3987130867807487,3.4344494719254346,4.4701858570701205,5.505922242214805,6.5416586273594906,7.5773950125041765,8.61313139764886,9.648867782793548,10.684604167938232],[-8.994387149810791,-7.958650764666105,-6.92291437952142,-5.887177994376735,-4.851441609232049,-3.8157052240873632,-2.779968838942678,-1.7442324537979932,-0.7084960686533073,0.32724031649137864,1.3629767016360645,2.3987130867807487,3.4344494719254346,4.4701858570701205,5.505922242214805,6.5416586273594906,7.5773950125041765,8.61313139764886,9.648867782793548,10.684604167938232],[-8.994387149810791,-7.958650764666105,-6.92291437952142,-5.887177994376735,-4.851441609232049,-3.8157052240873632,-2.779968838942678,-1.7442324537979932,-0.7084960686533073,0.32724031649137864,1.3629767016360645,2.3987130867807487,3.4344494719254346,4.4701858570701205,5.505922242214805,6.5416586273594906,7.5773950125041765,8.61313139764886,9.648867782793548,10.684604167938232],[-8.994387149810791,-7.958650764666105,-6.92291437952142,-5.887177994376735,-4.851441609232049,-3.8157052240873632,-2.779968838942678,-1.7442324537979932,-0.7084960686533073,0.32724031649137864,1.3629767016360645,2.3987130867807487,3.4344494719254346,4.4701858570701205,5.505922242214805,6.5416586273594906,7.5773950125041765,8.61313139764886,9.648867782793548,10.684604167938232],[-8.994387149810791,-7.958650764666105,-6.92291437952142,-5.887177994376735,-4.851441609232049,-3.8157052240873632,-2.779968838942678,-1.7442324537979932,-0.7084960686533073,0.32724031649137864,1.3629767016360645,2.3987130867807487,3.4344494719254346,4.4701858570701205,5.505922242214805,6.5416586273594906,7.5773950125041765,8.61313139764886,9.648867782793548,10.684604167938232],[-8.994387149810791,-7.958650764666105,-6.92291437952142,-5.887177994376735,-4.851441609232049,-3.8157052240873632,-2.779968838942678,-1.7442324537979932,-0.7084960686533073,0.32724031649137864,1.3629767016360645,2.3987130867807487,3.4344494719254346,4.4701858570701205,5.505922242214805,6.5416586273594906,7.5773950125041765,8.61313139764886,9.648867782793548,10.684604167938232],[-8.994387149810791,-7.958650764666105,-6.92291437952142,-5.887177994376735,-4.851441609232049,-3.8157052240873632,-2.779968838942678,-1.7442324537979932,-0.7084960686533073,0.32724031649137864,1.3629767016360645,2.3987130867807487,3.4344494719254346,4.4701858570701205,5.505922242214805,6.5416586273594906,7.5773950125041765,8.61313139764886,9.648867782793548,10.684604167938232],[-8.994387149810791,-7.958650764666105,-6.92291437952142,-5.887177994376735,-4.851441609232049,-3.8157052240873632,-2.779968838942678,-1.7442324537979932,-0.7084960686533073,0.32724031649137864,1.3629767016360645,2.3987130867807487,3.4344494719254346,4.4701858570701205,5.505922242214805,6.5416586273594906,7.5773950125041765,8.61313139764886,9.648867782793548,10.684604167938232],[-8.994387149810791,-7.958650764666105,-6.92291437952142,-5.887177994376735,-4.851441609232049,-3.8157052240873632,-2.779968838942678,-1.7442324537979932,-0.7084960686533073,0.32724031649137864,1.3629767016360645,2.3987130867807487,3.4344494719254346,4.4701858570701205,5.505922242214805,6.5416586273594906,7.5773950125041765,8.61313139764886,9.648867782793548,10.684604167938232]],\"y\":[[-8.994387149810791,-8.994387149810791,-8.994387149810791,-8.994387149810791,-8.994387149810791,-8.994387149810791,-8.994387149810791,-8.994387149810791,-8.994387149810791,-8.994387149810791,-8.994387149810791,-8.994387149810791,-8.994387149810791,-8.994387149810791,-8.994387149810791,-8.994387149810791,-8.994387149810791,-8.994387149810791,-8.994387149810791,-8.994387149810791],[-7.958650764666105,-7.958650764666105,-7.958650764666105,-7.958650764666105,-7.958650764666105,-7.958650764666105,-7.958650764666105,-7.958650764666105,-7.958650764666105,-7.958650764666105,-7.958650764666105,-7.958650764666105,-7.958650764666105,-7.958650764666105,-7.958650764666105,-7.958650764666105,-7.958650764666105,-7.958650764666105,-7.958650764666105,-7.958650764666105],[-6.92291437952142,-6.92291437952142,-6.92291437952142,-6.92291437952142,-6.92291437952142,-6.92291437952142,-6.92291437952142,-6.92291437952142,-6.92291437952142,-6.92291437952142,-6.92291437952142,-6.92291437952142,-6.92291437952142,-6.92291437952142,-6.92291437952142,-6.92291437952142,-6.92291437952142,-6.92291437952142,-6.92291437952142,-6.92291437952142],[-5.887177994376735,-5.887177994376735,-5.887177994376735,-5.887177994376735,-5.887177994376735,-5.887177994376735,-5.887177994376735,-5.887177994376735,-5.887177994376735,-5.887177994376735,-5.887177994376735,-5.887177994376735,-5.887177994376735,-5.887177994376735,-5.887177994376735,-5.887177994376735,-5.887177994376735,-5.887177994376735,-5.887177994376735,-5.887177994376735],[-4.851441609232049,-4.851441609232049,-4.851441609232049,-4.851441609232049,-4.851441609232049,-4.851441609232049,-4.851441609232049,-4.851441609232049,-4.851441609232049,-4.851441609232049,-4.851441609232049,-4.851441609232049,-4.851441609232049,-4.851441609232049,-4.851441609232049,-4.851441609232049,-4.851441609232049,-4.851441609232049,-4.851441609232049,-4.851441609232049],[-3.8157052240873632,-3.8157052240873632,-3.8157052240873632,-3.8157052240873632,-3.8157052240873632,-3.8157052240873632,-3.8157052240873632,-3.8157052240873632,-3.8157052240873632,-3.8157052240873632,-3.8157052240873632,-3.8157052240873632,-3.8157052240873632,-3.8157052240873632,-3.8157052240873632,-3.8157052240873632,-3.8157052240873632,-3.8157052240873632,-3.8157052240873632,-3.8157052240873632],[-2.779968838942678,-2.779968838942678,-2.779968838942678,-2.779968838942678,-2.779968838942678,-2.779968838942678,-2.779968838942678,-2.779968838942678,-2.779968838942678,-2.779968838942678,-2.779968838942678,-2.779968838942678,-2.779968838942678,-2.779968838942678,-2.779968838942678,-2.779968838942678,-2.779968838942678,-2.779968838942678,-2.779968838942678,-2.779968838942678],[-1.7442324537979932,-1.7442324537979932,-1.7442324537979932,-1.7442324537979932,-1.7442324537979932,-1.7442324537979932,-1.7442324537979932,-1.7442324537979932,-1.7442324537979932,-1.7442324537979932,-1.7442324537979932,-1.7442324537979932,-1.7442324537979932,-1.7442324537979932,-1.7442324537979932,-1.7442324537979932,-1.7442324537979932,-1.7442324537979932,-1.7442324537979932,-1.7442324537979932],[-0.7084960686533073,-0.7084960686533073,-0.7084960686533073,-0.7084960686533073,-0.7084960686533073,-0.7084960686533073,-0.7084960686533073,-0.7084960686533073,-0.7084960686533073,-0.7084960686533073,-0.7084960686533073,-0.7084960686533073,-0.7084960686533073,-0.7084960686533073,-0.7084960686533073,-0.7084960686533073,-0.7084960686533073,-0.7084960686533073,-0.7084960686533073,-0.7084960686533073],[0.32724031649137864,0.32724031649137864,0.32724031649137864,0.32724031649137864,0.32724031649137864,0.32724031649137864,0.32724031649137864,0.32724031649137864,0.32724031649137864,0.32724031649137864,0.32724031649137864,0.32724031649137864,0.32724031649137864,0.32724031649137864,0.32724031649137864,0.32724031649137864,0.32724031649137864,0.32724031649137864,0.32724031649137864,0.32724031649137864],[1.3629767016360645,1.3629767016360645,1.3629767016360645,1.3629767016360645,1.3629767016360645,1.3629767016360645,1.3629767016360645,1.3629767016360645,1.3629767016360645,1.3629767016360645,1.3629767016360645,1.3629767016360645,1.3629767016360645,1.3629767016360645,1.3629767016360645,1.3629767016360645,1.3629767016360645,1.3629767016360645,1.3629767016360645,1.3629767016360645],[2.3987130867807487,2.3987130867807487,2.3987130867807487,2.3987130867807487,2.3987130867807487,2.3987130867807487,2.3987130867807487,2.3987130867807487,2.3987130867807487,2.3987130867807487,2.3987130867807487,2.3987130867807487,2.3987130867807487,2.3987130867807487,2.3987130867807487,2.3987130867807487,2.3987130867807487,2.3987130867807487,2.3987130867807487,2.3987130867807487],[3.4344494719254346,3.4344494719254346,3.4344494719254346,3.4344494719254346,3.4344494719254346,3.4344494719254346,3.4344494719254346,3.4344494719254346,3.4344494719254346,3.4344494719254346,3.4344494719254346,3.4344494719254346,3.4344494719254346,3.4344494719254346,3.4344494719254346,3.4344494719254346,3.4344494719254346,3.4344494719254346,3.4344494719254346,3.4344494719254346],[4.4701858570701205,4.4701858570701205,4.4701858570701205,4.4701858570701205,4.4701858570701205,4.4701858570701205,4.4701858570701205,4.4701858570701205,4.4701858570701205,4.4701858570701205,4.4701858570701205,4.4701858570701205,4.4701858570701205,4.4701858570701205,4.4701858570701205,4.4701858570701205,4.4701858570701205,4.4701858570701205,4.4701858570701205,4.4701858570701205],[5.505922242214805,5.505922242214805,5.505922242214805,5.505922242214805,5.505922242214805,5.505922242214805,5.505922242214805,5.505922242214805,5.505922242214805,5.505922242214805,5.505922242214805,5.505922242214805,5.505922242214805,5.505922242214805,5.505922242214805,5.505922242214805,5.505922242214805,5.505922242214805,5.505922242214805,5.505922242214805],[6.5416586273594906,6.5416586273594906,6.5416586273594906,6.5416586273594906,6.5416586273594906,6.5416586273594906,6.5416586273594906,6.5416586273594906,6.5416586273594906,6.5416586273594906,6.5416586273594906,6.5416586273594906,6.5416586273594906,6.5416586273594906,6.5416586273594906,6.5416586273594906,6.5416586273594906,6.5416586273594906,6.5416586273594906,6.5416586273594906],[7.5773950125041765,7.5773950125041765,7.5773950125041765,7.5773950125041765,7.5773950125041765,7.5773950125041765,7.5773950125041765,7.5773950125041765,7.5773950125041765,7.5773950125041765,7.5773950125041765,7.5773950125041765,7.5773950125041765,7.5773950125041765,7.5773950125041765,7.5773950125041765,7.5773950125041765,7.5773950125041765,7.5773950125041765,7.5773950125041765],[8.61313139764886,8.61313139764886,8.61313139764886,8.61313139764886,8.61313139764886,8.61313139764886,8.61313139764886,8.61313139764886,8.61313139764886,8.61313139764886,8.61313139764886,8.61313139764886,8.61313139764886,8.61313139764886,8.61313139764886,8.61313139764886,8.61313139764886,8.61313139764886,8.61313139764886,8.61313139764886],[9.648867782793548,9.648867782793548,9.648867782793548,9.648867782793548,9.648867782793548,9.648867782793548,9.648867782793548,9.648867782793548,9.648867782793548,9.648867782793548,9.648867782793548,9.648867782793548,9.648867782793548,9.648867782793548,9.648867782793548,9.648867782793548,9.648867782793548,9.648867782793548,9.648867782793548,9.648867782793548],[10.684604167938232,10.684604167938232,10.684604167938232,10.684604167938232,10.684604167938232,10.684604167938232,10.684604167938232,10.684604167938232,10.684604167938232,10.684604167938232,10.684604167938232,10.684604167938232,10.684604167938232,10.684604167938232,10.684604167938232,10.684604167938232,10.684604167938232,10.684604167938232,10.684604167938232,10.684604167938232]],\"z\":[[46.94510701904297,43.416032373046875,40.26230057983398,37.447736553955075,34.865665600585935,32.51241496582031,30.341492944335936,28.216122692871092,26.115993911743164,24.10989158630371,22.230950592041015,20.55601889038086,19.20962012939453,18.397349757385253,18.165252770996094,18.36792092895508,18.819305563354494,19.63477311859131,21.78723821411133,25.9386989074707],[32.97597133789063,30.162059826660155,27.64792443847656,25.384165283203124,23.379473150634766,21.538636126708983,19.844808654785155,18.265152825927736,16.712188317871092,15.222525758361817,13.841074453735352,12.62882305908203,11.686128987121583,11.164798205566406,11.179288688659668,11.512524722290038,12.01028797302246,12.869075137329101,14.982821704101562,18.78872981567383],[22.883138903808593,20.67668542480469,18.740343002319335,17.017105645751954,15.463291021728516,14.069266833496094,12.793728915405273,11.598694821166992,10.471017782592773,9.391608555603028,8.39401166381836,7.531683515167236,6.855021759796142,6.510564882659912,6.622988594818115,6.99596383895874,7.493152513885498,8.376767429351807,10.39137096862793,14.393762255859375],[15.689297161865234,13.948969757080079,12.464889959716796,11.176765412902832,10.047500439453126,9.02219849243164,8.094699745178223,7.246209060668945,6.451868270874024,5.703078633880615,5.00383803024292,4.393821710205078,3.91639525680542,3.6718384883880617,3.787430828857422,4.129542496871948,4.606152029800415,5.53196731262207,7.507568949890136,11.905095401000976],[10.719474435424805,9.28401916809082,8.129931639099121,7.173431423950196,6.359049432373047,5.6462392852783205,5.008050811767578,4.422790828704834,3.8919149421691897,3.399733806991577,2.941928298950195,2.5305056182861327,2.1997444511413575,2.031667204284668,2.131349317932129,2.43184035949707,2.9071737892150877,3.8791617294311522,5.99132737197876,9.649650532531739],[7.34969160079956,6.160463216400147,5.231790312194824,4.499721719360352,3.9071933250427247,3.4157334938049315,2.99027127494812,2.614866277694702,2.2785979541778563,1.976184292602539,1.6984768505096435,1.444399483680725,1.2386826642990112,1.1522397146224976,1.2712890003204347,1.562195528793335,2.042193217086792,3.0060566890716554,4.932754311370849,7.380099526214599],[5.123027951049805,4.097396011352539,3.336948914718628,2.7694748680114745,2.332464830780029,1.9884888973236083,1.7106526111602782,1.4788325201034547,1.2826040069580078,1.1130607494354248,0.9636963979721069,0.8315373781204224,0.7394409998893737,0.7492719347000122,0.9130873123168946,1.2054562292098998,1.6956666278839112,2.5598278686523437,3.8837422256469725,5.334162884521485],[3.7239332710266115,2.813423508453369,2.1549308666229248,1.689828695678711,1.356927711868286,1.1161344347000122,0.9369181768417358,0.8018706310272217,0.6990371007919312,0.6223750002861023,0.5662035325050354,0.5342319127082825,0.5504600100517273,0.6595054767608642,0.8847535132408142,1.2255612344741822,1.6942226835250855,2.318058917236328,3.035027529525757,3.7564517368316652],[2.93459213180542,2.0658555850982667,1.4787363204956054,1.0754182987213134,0.8049821705818176,0.6261335945129395,0.5094681118011475,0.4375588441848755,0.4023752185821533,0.3988850893497467,0.42874373025894164,0.504510985994339,0.6530853865623474,0.8930802545547485,1.215761775779724,1.5863439043045044,1.9652557874679566,2.3085320446014403,2.610753713989258,2.8946048042297363],[3.0420656284332277,1.8695884735107422,1.1802898685455323,0.7799354448318482,0.5397058377742767,0.39880131916999817,0.3254017828464508,0.3054031849861145,0.3423085109233856,0.44727883620262143,0.6306874084472657,0.8877033754348755,1.1922870689392089,1.5113762437820435,1.8120497285842896,2.0587888204574587,2.234661827087402,2.3507440536499025,2.4396461170196533,2.5289112831115723],[4.441981343078614,2.752902645492554,1.6412397624969481,0.9707547838211059,0.6088185752868652,0.4472968547821045,0.4198829478263855,0.5086852289199829,0.725379028892517,1.04853351020813,1.3946116744995116,1.6887730640411378,1.9162922159194946,2.0867395610809325,2.2070200408935547,2.2780917236328126,2.314599435043335,2.3350403942108153,2.3534214725494387,2.3933741413116456],[6.11035184173584,4.185944071197509,2.8276279541015623,1.9268029857635498,1.3973274211883544,1.1741589557647705,1.1977177860260009,1.3927223136901856,1.6579234355926513,1.9013715141296386,2.081122462463379,2.194356420516968,2.257953094482422,2.290021039581299,2.3039176742553713,2.3083025959014893,2.309896229171753,2.3167006538391113,2.3327411640167237,2.3777296581268312],[6.670436329650879,4.773348657226562,3.428196363067627,2.540516898345947,2.0352470771789553,1.8428014911651611,1.8703557441711425,2.001794556427002,2.138637413406372,2.232859970855713,2.282809875869751,2.303583225631714,2.3085558052062987,2.3071161975860597,2.3044771476745605,2.304850889968872,2.30970852394104,2.3211494094848635,2.3457927532196043,2.4004829219818116],[6.428145892333984,4.647741323852539,3.4012648902893066,2.605404484939575,2.1858670894622803,2.0498104824066163,2.079856406021118,2.1658766437530517,2.2397769454956054,2.2833657623291015,2.302711407470703,2.3072149291992186,2.307040104675293,2.3064422580718995,2.3072087535858152,2.3107611366271974,2.3173169921875,2.3310104888916015,2.36023165473938,2.430145275115967],[5.940628704833984,4.341938159942627,3.2547995742797853,2.586120304489136,2.2564060188293458,2.157854644393921,2.1812464595794676,2.2373066146850586,2.279544105911255,2.3004479743957518,2.3068340667724607,2.3094686832427977,2.310744634628296,2.312126153945923,2.315438787460327,2.320213087463379,2.3272673278808593,2.340629804611206,2.3722453048706056,2.467054605484009],[5.587347953796387,4.150967485046387,3.191114872741699,2.6172658370971678,2.3389617916107177,2.255160725402832,2.261926270675659,2.283220830154419,2.2983306617736816,2.308666199874878,2.3144501781463624,2.317280480194092,2.320287438201904,2.3224205108642577,2.3283725769042967,2.3377240577697753,2.3507938064575193,2.3780811218261717,2.4519931968688966,2.6505776775360106],[5.412218743896484,4.115458290863037,3.2494309432983397,2.7202830432891845,2.445178387451172,2.3338932319641112,2.3068991329193116,2.309800159454346,2.319014677429199,2.3273680156707766,2.3327846523284914,2.33982276763916,2.3502982334136964,2.3612058055877685,2.375797448348999,2.4042350589752197,2.4556620456695555,2.5624538738250733,2.789458561706543,3.240231703567505],[5.465178993225098,4.201621995544434,3.3457636360168457,2.81635013961792,2.532869128417969,2.4048042686462403,2.360171323776245,2.3532568466186525,2.358324392700195,2.3689786140441895,2.3861033477783202,2.41414147567749,2.4542658851623536,2.498006733703613,2.5520349925994874,2.6480474685668947,2.8324115226745605,3.156494599533081,3.6884708450317385,4.5176962379455565],[5.546339756774902,4.328682338714599,3.503944367980957,2.971232632446289,2.669544758987427,2.5201600494384766,2.457871424484253,2.439232850265503,2.449455298614502,2.4856574012756347,2.5531445419311525,2.6509829051971434,2.7713476848602294,2.9019108646392824,3.0656325622558596,3.3420540740966795,3.801756568145752,4.47141129989624,5.405525804901123,6.70685527267456],[5.810514253234864,4.6145136856079105,3.784822048950195,3.243446642303467,2.9169453086853028,2.7296443538665773,2.6398491901397705,2.6258242748260496,2.6825988285064697,2.8140491790771485,3.0129961570739745,3.2579659465789796,3.5177552612304686,3.8066586154937743,4.195503316879273,4.800499774169922,5.657538645935059,6.762453608703614,8.178256535339356,10.041591215515137]],\"type\":\"surface\",\"contours\":{\"z\":{\"project\":{\"z\":true},\"highlightcolor\":\"limegreen\",\"show\":true,\"usecolormap\":true}}},{\"line\":{\"color\":\"green\"},\"marker\":{\"color\":\"green\",\"size\":5},\"mode\":\"markers+lines\",\"name\":\"Classic SGD m=0.5\",\"x\":[4.124940395355225,4.124902725219727,3.2820329666137695,2.6773886680603027,2.6767475605010986,2.140507221221924,1.6298836469650269,1.6294664144515991,1.173838496208191,0.7439252138137817,0.7437516450881958,0.36845558881759644,0.022832822054624557,0.02231333777308464,-0.2907547950744629,-0.5875259041786194,-0.587659478187561,-0.8559373617172241,-1.0864487886428833,-1.0866355895996094,-1.3072607517242432,-1.5065754652023315,-1.506895899772644,-1.6971688270568848,-1.8703908920288086,-1.8707064390182495,-2.0299415588378906,-2.1649155616760254,-2.1646978855133057,-2.312746524810791,-2.434723377227783],\"y\":[2.062331438064575,2.0621864795684814,0.30659210681915283,-0.33576536178588867,-0.33689960837364197,-0.6745359301567078,-0.8428884744644165,-0.843065619468689,-0.8911870121955872,-0.8519994616508484,-0.8516680598258972,-0.7683681845664978,-0.6476209163665771,-0.6481783390045166,-0.5257900357246399,-0.38744470477104187,-0.38619133830070496,-0.2465239316225052,-0.10110590606927872,-0.1008521169424057,0.039017386734485626,0.1867741346359253,0.18667544424533844,0.3045112192630768,0.4230363667011261,0.4233846366405487,0.5369501113891602,0.657438337802887,0.6578426957130432,0.744918704032898,0.84842449426651],\"z\":[2.239166811752319,2.2391398563385008,1.1308091161727905,0.6284669036865235,0.6279704149246216,0.4832012341499329,0.44210836129188535,0.44209218645095827,0.42916130867004393,0.41840633745193484,0.41837119245529175,0.40565217647552493,0.3895599927902222,0.3896177519798279,0.3741384395122528,0.3578683097839355,0.35774420971870424,0.3428659127235413,0.3296150824546814,0.32959556074142454,0.3190479410171509,0.3108266918182373,0.3108271842956543,0.3061356107711792,0.30367718634605406,0.3036746409893036,0.3036670934200287,0.30669426155090335,0.3067147231578827,0.3105881433963776,0.31798785614967345],\"type\":\"scatter3d\"},{\"marker\":{\"color\":\"red\",\"size\":5},\"mode\":\"markers\",\"name\":\"global minimum\",\"x\":[-1.7442324537979932],\"y\":[0.32724031649137864],\"z\":[0.3054031849861145],\"type\":\"scatter3d\"}],                        {\"coloraxis\":{\"cmax\":3.1659474433969463,\"cmin\":-0.5566348306033799,\"colorbar\":{\"title\":{\"text\":\"Loss magnitude\"}},\"colorscale\":[[0.0,\"#440154\"],[0.1111111111111111,\"#482878\"],[0.2222222222222222,\"#3e4989\"],[0.3333333333333333,\"#31688e\"],[0.4444444444444444,\"#26828e\"],[0.5555555555555556,\"#1f9e89\"],[0.6666666666666666,\"#35b779\"],[0.7777777777777778,\"#6ece58\"],[0.8888888888888888,\"#b5de2b\"],[1.0,\"#fde725\"]]},\"scene\":{\"xaxis\":{\"title\":{\"text\":\"PC1\"}},\"yaxis\":{\"title\":{\"text\":\"PC2\"}},\"zaxis\":{\"title\":{\"text\":\" Loss\"},\"type\":\"log\"}},\"template\":{\"data\":{\"histogram2dcontour\":[{\"type\":\"histogram2dcontour\",\"colorbar\":{\"outlinewidth\":0,\"ticks\":\"\"},\"colorscale\":[[0.0,\"#0d0887\"],[0.1111111111111111,\"#46039f\"],[0.2222222222222222,\"#7201a8\"],[0.3333333333333333,\"#9c179e\"],[0.4444444444444444,\"#bd3786\"],[0.5555555555555556,\"#d8576b\"],[0.6666666666666666,\"#ed7953\"],[0.7777777777777778,\"#fb9f3a\"],[0.8888888888888888,\"#fdca26\"],[1.0,\"#f0f921\"]]}],\"choropleth\":[{\"type\":\"choropleth\",\"colorbar\":{\"outlinewidth\":0,\"ticks\":\"\"}}],\"histogram2d\":[{\"type\":\"histogram2d\",\"colorbar\":{\"outlinewidth\":0,\"ticks\":\"\"},\"colorscale\":[[0.0,\"#0d0887\"],[0.1111111111111111,\"#46039f\"],[0.2222222222222222,\"#7201a8\"],[0.3333333333333333,\"#9c179e\"],[0.4444444444444444,\"#bd3786\"],[0.5555555555555556,\"#d8576b\"],[0.6666666666666666,\"#ed7953\"],[0.7777777777777778,\"#fb9f3a\"],[0.8888888888888888,\"#fdca26\"],[1.0,\"#f0f921\"]]}],\"heatmap\":[{\"type\":\"heatmap\",\"colorbar\":{\"outlinewidth\":0,\"ticks\":\"\"},\"colorscale\":[[0.0,\"#0d0887\"],[0.1111111111111111,\"#46039f\"],[0.2222222222222222,\"#7201a8\"],[0.3333333333333333,\"#9c179e\"],[0.4444444444444444,\"#bd3786\"],[0.5555555555555556,\"#d8576b\"],[0.6666666666666666,\"#ed7953\"],[0.7777777777777778,\"#fb9f3a\"],[0.8888888888888888,\"#fdca26\"],[1.0,\"#f0f921\"]]}],\"heatmapgl\":[{\"type\":\"heatmapgl\",\"colorbar\":{\"outlinewidth\":0,\"ticks\":\"\"},\"colorscale\":[[0.0,\"#0d0887\"],[0.1111111111111111,\"#46039f\"],[0.2222222222222222,\"#7201a8\"],[0.3333333333333333,\"#9c179e\"],[0.4444444444444444,\"#bd3786\"],[0.5555555555555556,\"#d8576b\"],[0.6666666666666666,\"#ed7953\"],[0.7777777777777778,\"#fb9f3a\"],[0.8888888888888888,\"#fdca26\"],[1.0,\"#f0f921\"]]}],\"contourcarpet\":[{\"type\":\"contourcarpet\",\"colorbar\":{\"outlinewidth\":0,\"ticks\":\"\"}}],\"contour\":[{\"type\":\"contour\",\"colorbar\":{\"outlinewidth\":0,\"ticks\":\"\"},\"colorscale\":[[0.0,\"#0d0887\"],[0.1111111111111111,\"#46039f\"],[0.2222222222222222,\"#7201a8\"],[0.3333333333333333,\"#9c179e\"],[0.4444444444444444,\"#bd3786\"],[0.5555555555555556,\"#d8576b\"],[0.6666666666666666,\"#ed7953\"],[0.7777777777777778,\"#fb9f3a\"],[0.8888888888888888,\"#fdca26\"],[1.0,\"#f0f921\"]]}],\"surface\":[{\"type\":\"surface\",\"colorbar\":{\"outlinewidth\":0,\"ticks\":\"\"},\"colorscale\":[[0.0,\"#0d0887\"],[0.1111111111111111,\"#46039f\"],[0.2222222222222222,\"#7201a8\"],[0.3333333333333333,\"#9c179e\"],[0.4444444444444444,\"#bd3786\"],[0.5555555555555556,\"#d8576b\"],[0.6666666666666666,\"#ed7953\"],[0.7777777777777778,\"#fb9f3a\"],[0.8888888888888888,\"#fdca26\"],[1.0,\"#f0f921\"]]}],\"mesh3d\":[{\"type\":\"mesh3d\",\"colorbar\":{\"outlinewidth\":0,\"ticks\":\"\"}}],\"scatter\":[{\"fillpattern\":{\"fillmode\":\"overlay\",\"size\":10,\"solidity\":0.2},\"type\":\"scatter\"}],\"parcoords\":[{\"type\":\"parcoords\",\"line\":{\"colorbar\":{\"outlinewidth\":0,\"ticks\":\"\"}}}],\"scatterpolargl\":[{\"type\":\"scatterpolargl\",\"marker\":{\"colorbar\":{\"outlinewidth\":0,\"ticks\":\"\"}}}],\"bar\":[{\"error_x\":{\"color\":\"#2a3f5f\"},\"error_y\":{\"color\":\"#2a3f5f\"},\"marker\":{\"line\":{\"color\":\"#E5ECF6\",\"width\":0.5},\"pattern\":{\"fillmode\":\"overlay\",\"size\":10,\"solidity\":0.2}},\"type\":\"bar\"}],\"scattergeo\":[{\"type\":\"scattergeo\",\"marker\":{\"colorbar\":{\"outlinewidth\":0,\"ticks\":\"\"}}}],\"scatterpolar\":[{\"type\":\"scatterpolar\",\"marker\":{\"colorbar\":{\"outlinewidth\":0,\"ticks\":\"\"}}}],\"histogram\":[{\"marker\":{\"pattern\":{\"fillmode\":\"overlay\",\"size\":10,\"solidity\":0.2}},\"type\":\"histogram\"}],\"scattergl\":[{\"type\":\"scattergl\",\"marker\":{\"colorbar\":{\"outlinewidth\":0,\"ticks\":\"\"}}}],\"scatter3d\":[{\"type\":\"scatter3d\",\"line\":{\"colorbar\":{\"outlinewidth\":0,\"ticks\":\"\"}},\"marker\":{\"colorbar\":{\"outlinewidth\":0,\"ticks\":\"\"}}}],\"scattermapbox\":[{\"type\":\"scattermapbox\",\"marker\":{\"colorbar\":{\"outlinewidth\":0,\"ticks\":\"\"}}}],\"scatterternary\":[{\"type\":\"scatterternary\",\"marker\":{\"colorbar\":{\"outlinewidth\":0,\"ticks\":\"\"}}}],\"scattercarpet\":[{\"type\":\"scattercarpet\",\"marker\":{\"colorbar\":{\"outlinewidth\":0,\"ticks\":\"\"}}}],\"carpet\":[{\"aaxis\":{\"endlinecolor\":\"#2a3f5f\",\"gridcolor\":\"white\",\"linecolor\":\"white\",\"minorgridcolor\":\"white\",\"startlinecolor\":\"#2a3f5f\"},\"baxis\":{\"endlinecolor\":\"#2a3f5f\",\"gridcolor\":\"white\",\"linecolor\":\"white\",\"minorgridcolor\":\"white\",\"startlinecolor\":\"#2a3f5f\"},\"type\":\"carpet\"}],\"table\":[{\"cells\":{\"fill\":{\"color\":\"#EBF0F8\"},\"line\":{\"color\":\"white\"}},\"header\":{\"fill\":{\"color\":\"#C8D4E3\"},\"line\":{\"color\":\"white\"}},\"type\":\"table\"}],\"barpolar\":[{\"marker\":{\"line\":{\"color\":\"#E5ECF6\",\"width\":0.5},\"pattern\":{\"fillmode\":\"overlay\",\"size\":10,\"solidity\":0.2}},\"type\":\"barpolar\"}],\"pie\":[{\"automargin\":true,\"type\":\"pie\"}]},\"layout\":{\"autotypenumbers\":\"strict\",\"colorway\":[\"#636efa\",\"#EF553B\",\"#00cc96\",\"#ab63fa\",\"#FFA15A\",\"#19d3f3\",\"#FF6692\",\"#B6E880\",\"#FF97FF\",\"#FECB52\"],\"font\":{\"color\":\"#2a3f5f\"},\"hovermode\":\"closest\",\"hoverlabel\":{\"align\":\"left\"},\"paper_bgcolor\":\"white\",\"plot_bgcolor\":\"#E5ECF6\",\"polar\":{\"bgcolor\":\"#E5ECF6\",\"angularaxis\":{\"gridcolor\":\"white\",\"linecolor\":\"white\",\"ticks\":\"\"},\"radialaxis\":{\"gridcolor\":\"white\",\"linecolor\":\"white\",\"ticks\":\"\"}},\"ternary\":{\"bgcolor\":\"#E5ECF6\",\"aaxis\":{\"gridcolor\":\"white\",\"linecolor\":\"white\",\"ticks\":\"\"},\"baxis\":{\"gridcolor\":\"white\",\"linecolor\":\"white\",\"ticks\":\"\"},\"caxis\":{\"gridcolor\":\"white\",\"linecolor\":\"white\",\"ticks\":\"\"}},\"coloraxis\":{\"colorbar\":{\"outlinewidth\":0,\"ticks\":\"\"}},\"colorscale\":{\"sequential\":[[0.0,\"#0d0887\"],[0.1111111111111111,\"#46039f\"],[0.2222222222222222,\"#7201a8\"],[0.3333333333333333,\"#9c179e\"],[0.4444444444444444,\"#bd3786\"],[0.5555555555555556,\"#d8576b\"],[0.6666666666666666,\"#ed7953\"],[0.7777777777777778,\"#fb9f3a\"],[0.8888888888888888,\"#fdca26\"],[1.0,\"#f0f921\"]],\"sequentialminus\":[[0.0,\"#0d0887\"],[0.1111111111111111,\"#46039f\"],[0.2222222222222222,\"#7201a8\"],[0.3333333333333333,\"#9c179e\"],[0.4444444444444444,\"#bd3786\"],[0.5555555555555556,\"#d8576b\"],[0.6666666666666666,\"#ed7953\"],[0.7777777777777778,\"#fb9f3a\"],[0.8888888888888888,\"#fdca26\"],[1.0,\"#f0f921\"]],\"diverging\":[[0,\"#8e0152\"],[0.1,\"#c51b7d\"],[0.2,\"#de77ae\"],[0.3,\"#f1b6da\"],[0.4,\"#fde0ef\"],[0.5,\"#f7f7f7\"],[0.6,\"#e6f5d0\"],[0.7,\"#b8e186\"],[0.8,\"#7fbc41\"],[0.9,\"#4d9221\"],[1,\"#276419\"]]},\"xaxis\":{\"gridcolor\":\"white\",\"linecolor\":\"white\",\"ticks\":\"\",\"title\":{\"standoff\":15},\"zerolinecolor\":\"white\",\"automargin\":true,\"zerolinewidth\":2},\"yaxis\":{\"gridcolor\":\"white\",\"linecolor\":\"white\",\"ticks\":\"\",\"title\":{\"standoff\":15},\"zerolinecolor\":\"white\",\"automargin\":true,\"zerolinewidth\":2},\"scene\":{\"xaxis\":{\"backgroundcolor\":\"#E5ECF6\",\"gridcolor\":\"white\",\"linecolor\":\"white\",\"showbackground\":true,\"ticks\":\"\",\"zerolinecolor\":\"white\",\"gridwidth\":2},\"yaxis\":{\"backgroundcolor\":\"#E5ECF6\",\"gridcolor\":\"white\",\"linecolor\":\"white\",\"showbackground\":true,\"ticks\":\"\",\"zerolinecolor\":\"white\",\"gridwidth\":2},\"zaxis\":{\"backgroundcolor\":\"#E5ECF6\",\"gridcolor\":\"white\",\"linecolor\":\"white\",\"showbackground\":true,\"ticks\":\"\",\"zerolinecolor\":\"white\",\"gridwidth\":2}},\"shapedefaults\":{\"line\":{\"color\":\"#2a3f5f\"}},\"annotationdefaults\":{\"arrowcolor\":\"#2a3f5f\",\"arrowhead\":0,\"arrowwidth\":1},\"geo\":{\"bgcolor\":\"white\",\"landcolor\":\"#E5ECF6\",\"subunitcolor\":\"white\",\"showland\":true,\"showlakes\":true,\"lakecolor\":\"white\"},\"title\":{\"x\":0.05},\"mapbox\":{\"style\":\"light\"}}},\"legend\":{\"orientation\":\"v\",\"x\":0,\"y\":0.5}},                        {\"responsive\": true}                    ).then(function(){\n",
       "                            \n",
       "var gd = document.getElementById('a3121018-dc72-44c1-a5bc-e89709f010a3');\n",
       "var x = new MutationObserver(function (mutations, observer) {{\n",
       "        var display = window.getComputedStyle(gd).display;\n",
       "        if (!display || display === 'none') {{\n",
       "            console.log([gd, 'removed!']);\n",
       "            Plotly.purge(gd);\n",
       "            observer.disconnect();\n",
       "        }}\n",
       "}});\n",
       "\n",
       "// Listen for the removal of the full notebook cells\n",
       "var notebookContainer = gd.closest('#notebook-container');\n",
       "if (notebookContainer) {{\n",
       "    x.observe(notebookContainer, {childList: true});\n",
       "}}\n",
       "\n",
       "// Listen for the clearing of the current output cell\n",
       "var outputEl = gd.closest('.output');\n",
       "if (outputEl) {{\n",
       "    x.observe(outputEl, {childList: true});\n",
       "}}\n",
       "\n",
       "                        })                };                });            </script>        </div>"
      ]
     },
     "metadata": {},
     "output_type": "display_data"
    }
   ],
   "source": [
    "surface = go.Surface(\n",
    "    x=xx_5,\n",
    "    y=yy_5,\n",
    "    z=grid_losses_5,\n",
    "    opacity=0.8,\n",
    "    name=\"grid point\",\n",
    "    coloraxis=\"coloraxis\",\n",
    "    colorscale=\"Viridis\",\n",
    ")\n",
    "\n",
    "trajectory_names = [\n",
    "    \"Classic SGD m=0.5\",\n",
    "    \"Classic SGD m=0.9\",\n",
    "]\n",
    "trajectory_colors = ['green', 'blue', 'yellow', 'purple', 'cyan', 'magenta']  # Define more colors if you have more trajectories\n",
    "trajectories = []\n",
    "for i, (rw, tl) in enumerate(zip([new_reduced_weights[1]], trajectories_loss_reevaluted_5)):\n",
    "    traj = go.Scatter3d(\n",
    "        x=rw[:, 0],\n",
    "        y=rw[:, 1],\n",
    "        z=tl,\n",
    "        mode=\"markers+lines\",\n",
    "        line=dict(color=trajectory_colors[i % len(trajectory_colors)]),\n",
    "        marker=dict(color=trajectory_colors[i % len(trajectory_colors)], size=5),\n",
    "        name=trajectory_names[i],\n",
    "    )\n",
    "    trajectories.append(traj)\n",
    "\n",
    "layout = go.Layout(\n",
    "    scene=dict(xaxis_title=\"PC1\", yaxis_title=\"PC2\", zaxis_title=\" Loss\", zaxis=dict(type='log')),\n",
    "    coloraxis=dict(colorbar=dict(title=\"Loss magnitude\"), \n",
    "                   colorscale=\"Viridis\",\n",
    "                   cmin=np.log10(grid_losses.min()),  \n",
    "                    cmax=np.log10(grid_losses.max()),\n",
    "    ),\n",
    ")   \n",
    "\n",
    "fig = go.Figure(data=[surface]+ trajectories, layout=layout)\n",
    "\n",
    "fig.data[0].update(contours_z=dict(show=True, usecolormap=True,\n",
    "                              highlightcolor=\"limegreen\", project_z=True))\n",
    "\n",
    "_min_x_5, _min_y_5 = np.unravel_index(np.argmin(grid_losses_5), grid_losses_5.shape)\n",
    "min_point_5 = go.Scatter3d(\n",
    "    x=[xx_5[_min_x_5, _min_y_5]],\n",
    "    y=[yy_5[_min_x_5, _min_y_5]],\n",
    "    z=[grid_losses_5[_min_x_5, _min_y_5]],\n",
    "    mode='markers',\n",
    "    marker=dict(\n",
    "        size=5,\n",
    "        color='red',\n",
    "    ),\n",
    "    name=\"global minimum\"\n",
    ")\n",
    "\n",
    "fig.add_trace(min_point_5)\n",
    "\n",
    "fig.update_layout(legend=dict(orientation=\"v\", x=0, y=0.5))\n",
    "\n",
    "fig.show()"
   ]
  },
  {
   "cell_type": "code",
   "execution_count": 38,
   "id": "e35f3038",
   "metadata": {},
   "outputs": [
    {
     "data": {
      "application/vnd.plotly.v1+json": {
       "config": {
        "plotlyServerURL": "https://plot.ly"
       },
       "data": [
        {
         "coloraxis": "coloraxis",
         "colorscale": [
          [
           0,
           "#440154"
          ],
          [
           0.1111111111111111,
           "#482878"
          ],
          [
           0.2222222222222222,
           "#3e4989"
          ],
          [
           0.3333333333333333,
           "#31688e"
          ],
          [
           0.4444444444444444,
           "#26828e"
          ],
          [
           0.5555555555555556,
           "#1f9e89"
          ],
          [
           0.6666666666666666,
           "#35b779"
          ],
          [
           0.7777777777777778,
           "#6ece58"
          ],
          [
           0.8888888888888888,
           "#b5de2b"
          ],
          [
           1,
           "#fde725"
          ]
         ],
         "contours": {
          "z": {
           "highlightcolor": "limegreen",
           "project": {
            "z": true
           },
           "show": true,
           "usecolormap": true
          }
         },
         "name": "grid point",
         "opacity": 0.8,
         "type": "surface",
         "x": [
          [
           -18.416504383087158,
           -16.323996794851205,
           -14.231489206615247,
           -12.138981618379292,
           -10.046474030143337,
           -7.953966441907381,
           -5.861458853671426,
           -3.7689512654354704,
           -1.676443677199515,
           0.4160639110364386,
           2.5085714992723958,
           4.601079087508353,
           6.6935866757443065,
           8.78609426398026,
           10.878601852216217,
           12.971109440452175,
           15.063617028688128,
           17.15612461692408,
           19.248632205160035,
           21.341139793395996
          ],
          [
           -18.416504383087158,
           -16.323996794851205,
           -14.231489206615247,
           -12.138981618379292,
           -10.046474030143337,
           -7.953966441907381,
           -5.861458853671426,
           -3.7689512654354704,
           -1.676443677199515,
           0.4160639110364386,
           2.5085714992723958,
           4.601079087508353,
           6.6935866757443065,
           8.78609426398026,
           10.878601852216217,
           12.971109440452175,
           15.063617028688128,
           17.15612461692408,
           19.248632205160035,
           21.341139793395996
          ],
          [
           -18.416504383087158,
           -16.323996794851205,
           -14.231489206615247,
           -12.138981618379292,
           -10.046474030143337,
           -7.953966441907381,
           -5.861458853671426,
           -3.7689512654354704,
           -1.676443677199515,
           0.4160639110364386,
           2.5085714992723958,
           4.601079087508353,
           6.6935866757443065,
           8.78609426398026,
           10.878601852216217,
           12.971109440452175,
           15.063617028688128,
           17.15612461692408,
           19.248632205160035,
           21.341139793395996
          ],
          [
           -18.416504383087158,
           -16.323996794851205,
           -14.231489206615247,
           -12.138981618379292,
           -10.046474030143337,
           -7.953966441907381,
           -5.861458853671426,
           -3.7689512654354704,
           -1.676443677199515,
           0.4160639110364386,
           2.5085714992723958,
           4.601079087508353,
           6.6935866757443065,
           8.78609426398026,
           10.878601852216217,
           12.971109440452175,
           15.063617028688128,
           17.15612461692408,
           19.248632205160035,
           21.341139793395996
          ],
          [
           -18.416504383087158,
           -16.323996794851205,
           -14.231489206615247,
           -12.138981618379292,
           -10.046474030143337,
           -7.953966441907381,
           -5.861458853671426,
           -3.7689512654354704,
           -1.676443677199515,
           0.4160639110364386,
           2.5085714992723958,
           4.601079087508353,
           6.6935866757443065,
           8.78609426398026,
           10.878601852216217,
           12.971109440452175,
           15.063617028688128,
           17.15612461692408,
           19.248632205160035,
           21.341139793395996
          ],
          [
           -18.416504383087158,
           -16.323996794851205,
           -14.231489206615247,
           -12.138981618379292,
           -10.046474030143337,
           -7.953966441907381,
           -5.861458853671426,
           -3.7689512654354704,
           -1.676443677199515,
           0.4160639110364386,
           2.5085714992723958,
           4.601079087508353,
           6.6935866757443065,
           8.78609426398026,
           10.878601852216217,
           12.971109440452175,
           15.063617028688128,
           17.15612461692408,
           19.248632205160035,
           21.341139793395996
          ],
          [
           -18.416504383087158,
           -16.323996794851205,
           -14.231489206615247,
           -12.138981618379292,
           -10.046474030143337,
           -7.953966441907381,
           -5.861458853671426,
           -3.7689512654354704,
           -1.676443677199515,
           0.4160639110364386,
           2.5085714992723958,
           4.601079087508353,
           6.6935866757443065,
           8.78609426398026,
           10.878601852216217,
           12.971109440452175,
           15.063617028688128,
           17.15612461692408,
           19.248632205160035,
           21.341139793395996
          ],
          [
           -18.416504383087158,
           -16.323996794851205,
           -14.231489206615247,
           -12.138981618379292,
           -10.046474030143337,
           -7.953966441907381,
           -5.861458853671426,
           -3.7689512654354704,
           -1.676443677199515,
           0.4160639110364386,
           2.5085714992723958,
           4.601079087508353,
           6.6935866757443065,
           8.78609426398026,
           10.878601852216217,
           12.971109440452175,
           15.063617028688128,
           17.15612461692408,
           19.248632205160035,
           21.341139793395996
          ],
          [
           -18.416504383087158,
           -16.323996794851205,
           -14.231489206615247,
           -12.138981618379292,
           -10.046474030143337,
           -7.953966441907381,
           -5.861458853671426,
           -3.7689512654354704,
           -1.676443677199515,
           0.4160639110364386,
           2.5085714992723958,
           4.601079087508353,
           6.6935866757443065,
           8.78609426398026,
           10.878601852216217,
           12.971109440452175,
           15.063617028688128,
           17.15612461692408,
           19.248632205160035,
           21.341139793395996
          ],
          [
           -18.416504383087158,
           -16.323996794851205,
           -14.231489206615247,
           -12.138981618379292,
           -10.046474030143337,
           -7.953966441907381,
           -5.861458853671426,
           -3.7689512654354704,
           -1.676443677199515,
           0.4160639110364386,
           2.5085714992723958,
           4.601079087508353,
           6.6935866757443065,
           8.78609426398026,
           10.878601852216217,
           12.971109440452175,
           15.063617028688128,
           17.15612461692408,
           19.248632205160035,
           21.341139793395996
          ],
          [
           -18.416504383087158,
           -16.323996794851205,
           -14.231489206615247,
           -12.138981618379292,
           -10.046474030143337,
           -7.953966441907381,
           -5.861458853671426,
           -3.7689512654354704,
           -1.676443677199515,
           0.4160639110364386,
           2.5085714992723958,
           4.601079087508353,
           6.6935866757443065,
           8.78609426398026,
           10.878601852216217,
           12.971109440452175,
           15.063617028688128,
           17.15612461692408,
           19.248632205160035,
           21.341139793395996
          ],
          [
           -18.416504383087158,
           -16.323996794851205,
           -14.231489206615247,
           -12.138981618379292,
           -10.046474030143337,
           -7.953966441907381,
           -5.861458853671426,
           -3.7689512654354704,
           -1.676443677199515,
           0.4160639110364386,
           2.5085714992723958,
           4.601079087508353,
           6.6935866757443065,
           8.78609426398026,
           10.878601852216217,
           12.971109440452175,
           15.063617028688128,
           17.15612461692408,
           19.248632205160035,
           21.341139793395996
          ],
          [
           -18.416504383087158,
           -16.323996794851205,
           -14.231489206615247,
           -12.138981618379292,
           -10.046474030143337,
           -7.953966441907381,
           -5.861458853671426,
           -3.7689512654354704,
           -1.676443677199515,
           0.4160639110364386,
           2.5085714992723958,
           4.601079087508353,
           6.6935866757443065,
           8.78609426398026,
           10.878601852216217,
           12.971109440452175,
           15.063617028688128,
           17.15612461692408,
           19.248632205160035,
           21.341139793395996
          ],
          [
           -18.416504383087158,
           -16.323996794851205,
           -14.231489206615247,
           -12.138981618379292,
           -10.046474030143337,
           -7.953966441907381,
           -5.861458853671426,
           -3.7689512654354704,
           -1.676443677199515,
           0.4160639110364386,
           2.5085714992723958,
           4.601079087508353,
           6.6935866757443065,
           8.78609426398026,
           10.878601852216217,
           12.971109440452175,
           15.063617028688128,
           17.15612461692408,
           19.248632205160035,
           21.341139793395996
          ],
          [
           -18.416504383087158,
           -16.323996794851205,
           -14.231489206615247,
           -12.138981618379292,
           -10.046474030143337,
           -7.953966441907381,
           -5.861458853671426,
           -3.7689512654354704,
           -1.676443677199515,
           0.4160639110364386,
           2.5085714992723958,
           4.601079087508353,
           6.6935866757443065,
           8.78609426398026,
           10.878601852216217,
           12.971109440452175,
           15.063617028688128,
           17.15612461692408,
           19.248632205160035,
           21.341139793395996
          ],
          [
           -18.416504383087158,
           -16.323996794851205,
           -14.231489206615247,
           -12.138981618379292,
           -10.046474030143337,
           -7.953966441907381,
           -5.861458853671426,
           -3.7689512654354704,
           -1.676443677199515,
           0.4160639110364386,
           2.5085714992723958,
           4.601079087508353,
           6.6935866757443065,
           8.78609426398026,
           10.878601852216217,
           12.971109440452175,
           15.063617028688128,
           17.15612461692408,
           19.248632205160035,
           21.341139793395996
          ],
          [
           -18.416504383087158,
           -16.323996794851205,
           -14.231489206615247,
           -12.138981618379292,
           -10.046474030143337,
           -7.953966441907381,
           -5.861458853671426,
           -3.7689512654354704,
           -1.676443677199515,
           0.4160639110364386,
           2.5085714992723958,
           4.601079087508353,
           6.6935866757443065,
           8.78609426398026,
           10.878601852216217,
           12.971109440452175,
           15.063617028688128,
           17.15612461692408,
           19.248632205160035,
           21.341139793395996
          ],
          [
           -18.416504383087158,
           -16.323996794851205,
           -14.231489206615247,
           -12.138981618379292,
           -10.046474030143337,
           -7.953966441907381,
           -5.861458853671426,
           -3.7689512654354704,
           -1.676443677199515,
           0.4160639110364386,
           2.5085714992723958,
           4.601079087508353,
           6.6935866757443065,
           8.78609426398026,
           10.878601852216217,
           12.971109440452175,
           15.063617028688128,
           17.15612461692408,
           19.248632205160035,
           21.341139793395996
          ],
          [
           -18.416504383087158,
           -16.323996794851205,
           -14.231489206615247,
           -12.138981618379292,
           -10.046474030143337,
           -7.953966441907381,
           -5.861458853671426,
           -3.7689512654354704,
           -1.676443677199515,
           0.4160639110364386,
           2.5085714992723958,
           4.601079087508353,
           6.6935866757443065,
           8.78609426398026,
           10.878601852216217,
           12.971109440452175,
           15.063617028688128,
           17.15612461692408,
           19.248632205160035,
           21.341139793395996
          ],
          [
           -18.416504383087158,
           -16.323996794851205,
           -14.231489206615247,
           -12.138981618379292,
           -10.046474030143337,
           -7.953966441907381,
           -5.861458853671426,
           -3.7689512654354704,
           -1.676443677199515,
           0.4160639110364386,
           2.5085714992723958,
           4.601079087508353,
           6.6935866757443065,
           8.78609426398026,
           10.878601852216217,
           12.971109440452175,
           15.063617028688128,
           17.15612461692408,
           19.248632205160035,
           21.341139793395996
          ]
         ],
         "y": [
          [
           -18.416504383087158,
           -18.416504383087158,
           -18.416504383087158,
           -18.416504383087158,
           -18.416504383087158,
           -18.416504383087158,
           -18.416504383087158,
           -18.416504383087158,
           -18.416504383087158,
           -18.416504383087158,
           -18.416504383087158,
           -18.416504383087158,
           -18.416504383087158,
           -18.416504383087158,
           -18.416504383087158,
           -18.416504383087158,
           -18.416504383087158,
           -18.416504383087158,
           -18.416504383087158,
           -18.416504383087158
          ],
          [
           -16.323996794851205,
           -16.323996794851205,
           -16.323996794851205,
           -16.323996794851205,
           -16.323996794851205,
           -16.323996794851205,
           -16.323996794851205,
           -16.323996794851205,
           -16.323996794851205,
           -16.323996794851205,
           -16.323996794851205,
           -16.323996794851205,
           -16.323996794851205,
           -16.323996794851205,
           -16.323996794851205,
           -16.323996794851205,
           -16.323996794851205,
           -16.323996794851205,
           -16.323996794851205,
           -16.323996794851205
          ],
          [
           -14.231489206615247,
           -14.231489206615247,
           -14.231489206615247,
           -14.231489206615247,
           -14.231489206615247,
           -14.231489206615247,
           -14.231489206615247,
           -14.231489206615247,
           -14.231489206615247,
           -14.231489206615247,
           -14.231489206615247,
           -14.231489206615247,
           -14.231489206615247,
           -14.231489206615247,
           -14.231489206615247,
           -14.231489206615247,
           -14.231489206615247,
           -14.231489206615247,
           -14.231489206615247,
           -14.231489206615247
          ],
          [
           -12.138981618379292,
           -12.138981618379292,
           -12.138981618379292,
           -12.138981618379292,
           -12.138981618379292,
           -12.138981618379292,
           -12.138981618379292,
           -12.138981618379292,
           -12.138981618379292,
           -12.138981618379292,
           -12.138981618379292,
           -12.138981618379292,
           -12.138981618379292,
           -12.138981618379292,
           -12.138981618379292,
           -12.138981618379292,
           -12.138981618379292,
           -12.138981618379292,
           -12.138981618379292,
           -12.138981618379292
          ],
          [
           -10.046474030143337,
           -10.046474030143337,
           -10.046474030143337,
           -10.046474030143337,
           -10.046474030143337,
           -10.046474030143337,
           -10.046474030143337,
           -10.046474030143337,
           -10.046474030143337,
           -10.046474030143337,
           -10.046474030143337,
           -10.046474030143337,
           -10.046474030143337,
           -10.046474030143337,
           -10.046474030143337,
           -10.046474030143337,
           -10.046474030143337,
           -10.046474030143337,
           -10.046474030143337,
           -10.046474030143337
          ],
          [
           -7.953966441907381,
           -7.953966441907381,
           -7.953966441907381,
           -7.953966441907381,
           -7.953966441907381,
           -7.953966441907381,
           -7.953966441907381,
           -7.953966441907381,
           -7.953966441907381,
           -7.953966441907381,
           -7.953966441907381,
           -7.953966441907381,
           -7.953966441907381,
           -7.953966441907381,
           -7.953966441907381,
           -7.953966441907381,
           -7.953966441907381,
           -7.953966441907381,
           -7.953966441907381,
           -7.953966441907381
          ],
          [
           -5.861458853671426,
           -5.861458853671426,
           -5.861458853671426,
           -5.861458853671426,
           -5.861458853671426,
           -5.861458853671426,
           -5.861458853671426,
           -5.861458853671426,
           -5.861458853671426,
           -5.861458853671426,
           -5.861458853671426,
           -5.861458853671426,
           -5.861458853671426,
           -5.861458853671426,
           -5.861458853671426,
           -5.861458853671426,
           -5.861458853671426,
           -5.861458853671426,
           -5.861458853671426,
           -5.861458853671426
          ],
          [
           -3.7689512654354704,
           -3.7689512654354704,
           -3.7689512654354704,
           -3.7689512654354704,
           -3.7689512654354704,
           -3.7689512654354704,
           -3.7689512654354704,
           -3.7689512654354704,
           -3.7689512654354704,
           -3.7689512654354704,
           -3.7689512654354704,
           -3.7689512654354704,
           -3.7689512654354704,
           -3.7689512654354704,
           -3.7689512654354704,
           -3.7689512654354704,
           -3.7689512654354704,
           -3.7689512654354704,
           -3.7689512654354704,
           -3.7689512654354704
          ],
          [
           -1.676443677199515,
           -1.676443677199515,
           -1.676443677199515,
           -1.676443677199515,
           -1.676443677199515,
           -1.676443677199515,
           -1.676443677199515,
           -1.676443677199515,
           -1.676443677199515,
           -1.676443677199515,
           -1.676443677199515,
           -1.676443677199515,
           -1.676443677199515,
           -1.676443677199515,
           -1.676443677199515,
           -1.676443677199515,
           -1.676443677199515,
           -1.676443677199515,
           -1.676443677199515,
           -1.676443677199515
          ],
          [
           0.4160639110364386,
           0.4160639110364386,
           0.4160639110364386,
           0.4160639110364386,
           0.4160639110364386,
           0.4160639110364386,
           0.4160639110364386,
           0.4160639110364386,
           0.4160639110364386,
           0.4160639110364386,
           0.4160639110364386,
           0.4160639110364386,
           0.4160639110364386,
           0.4160639110364386,
           0.4160639110364386,
           0.4160639110364386,
           0.4160639110364386,
           0.4160639110364386,
           0.4160639110364386,
           0.4160639110364386
          ],
          [
           2.5085714992723958,
           2.5085714992723958,
           2.5085714992723958,
           2.5085714992723958,
           2.5085714992723958,
           2.5085714992723958,
           2.5085714992723958,
           2.5085714992723958,
           2.5085714992723958,
           2.5085714992723958,
           2.5085714992723958,
           2.5085714992723958,
           2.5085714992723958,
           2.5085714992723958,
           2.5085714992723958,
           2.5085714992723958,
           2.5085714992723958,
           2.5085714992723958,
           2.5085714992723958,
           2.5085714992723958
          ],
          [
           4.601079087508353,
           4.601079087508353,
           4.601079087508353,
           4.601079087508353,
           4.601079087508353,
           4.601079087508353,
           4.601079087508353,
           4.601079087508353,
           4.601079087508353,
           4.601079087508353,
           4.601079087508353,
           4.601079087508353,
           4.601079087508353,
           4.601079087508353,
           4.601079087508353,
           4.601079087508353,
           4.601079087508353,
           4.601079087508353,
           4.601079087508353,
           4.601079087508353
          ],
          [
           6.6935866757443065,
           6.6935866757443065,
           6.6935866757443065,
           6.6935866757443065,
           6.6935866757443065,
           6.6935866757443065,
           6.6935866757443065,
           6.6935866757443065,
           6.6935866757443065,
           6.6935866757443065,
           6.6935866757443065,
           6.6935866757443065,
           6.6935866757443065,
           6.6935866757443065,
           6.6935866757443065,
           6.6935866757443065,
           6.6935866757443065,
           6.6935866757443065,
           6.6935866757443065,
           6.6935866757443065
          ],
          [
           8.78609426398026,
           8.78609426398026,
           8.78609426398026,
           8.78609426398026,
           8.78609426398026,
           8.78609426398026,
           8.78609426398026,
           8.78609426398026,
           8.78609426398026,
           8.78609426398026,
           8.78609426398026,
           8.78609426398026,
           8.78609426398026,
           8.78609426398026,
           8.78609426398026,
           8.78609426398026,
           8.78609426398026,
           8.78609426398026,
           8.78609426398026,
           8.78609426398026
          ],
          [
           10.878601852216217,
           10.878601852216217,
           10.878601852216217,
           10.878601852216217,
           10.878601852216217,
           10.878601852216217,
           10.878601852216217,
           10.878601852216217,
           10.878601852216217,
           10.878601852216217,
           10.878601852216217,
           10.878601852216217,
           10.878601852216217,
           10.878601852216217,
           10.878601852216217,
           10.878601852216217,
           10.878601852216217,
           10.878601852216217,
           10.878601852216217,
           10.878601852216217
          ],
          [
           12.971109440452175,
           12.971109440452175,
           12.971109440452175,
           12.971109440452175,
           12.971109440452175,
           12.971109440452175,
           12.971109440452175,
           12.971109440452175,
           12.971109440452175,
           12.971109440452175,
           12.971109440452175,
           12.971109440452175,
           12.971109440452175,
           12.971109440452175,
           12.971109440452175,
           12.971109440452175,
           12.971109440452175,
           12.971109440452175,
           12.971109440452175,
           12.971109440452175
          ],
          [
           15.063617028688128,
           15.063617028688128,
           15.063617028688128,
           15.063617028688128,
           15.063617028688128,
           15.063617028688128,
           15.063617028688128,
           15.063617028688128,
           15.063617028688128,
           15.063617028688128,
           15.063617028688128,
           15.063617028688128,
           15.063617028688128,
           15.063617028688128,
           15.063617028688128,
           15.063617028688128,
           15.063617028688128,
           15.063617028688128,
           15.063617028688128,
           15.063617028688128
          ],
          [
           17.15612461692408,
           17.15612461692408,
           17.15612461692408,
           17.15612461692408,
           17.15612461692408,
           17.15612461692408,
           17.15612461692408,
           17.15612461692408,
           17.15612461692408,
           17.15612461692408,
           17.15612461692408,
           17.15612461692408,
           17.15612461692408,
           17.15612461692408,
           17.15612461692408,
           17.15612461692408,
           17.15612461692408,
           17.15612461692408,
           17.15612461692408,
           17.15612461692408
          ],
          [
           19.248632205160035,
           19.248632205160035,
           19.248632205160035,
           19.248632205160035,
           19.248632205160035,
           19.248632205160035,
           19.248632205160035,
           19.248632205160035,
           19.248632205160035,
           19.248632205160035,
           19.248632205160035,
           19.248632205160035,
           19.248632205160035,
           19.248632205160035,
           19.248632205160035,
           19.248632205160035,
           19.248632205160035,
           19.248632205160035,
           19.248632205160035,
           19.248632205160035
          ],
          [
           21.341139793395996,
           21.341139793395996,
           21.341139793395996,
           21.341139793395996,
           21.341139793395996,
           21.341139793395996,
           21.341139793395996,
           21.341139793395996,
           21.341139793395996,
           21.341139793395996,
           21.341139793395996,
           21.341139793395996,
           21.341139793395996,
           21.341139793395996,
           21.341139793395996,
           21.341139793395996,
           21.341139793395996,
           21.341139793395996,
           21.341139793395996,
           21.341139793395996
          ]
         ],
         "z": [
          [
           48.521949819946286,
           43.38401087341309,
           38.894321240234376,
           34.98128359680176,
           31.617002139282228,
           28.745061404418944,
           26.275982527160643,
           24.173574337768553,
           22.4436086227417,
           21.108627941894532,
           20.173978035736084,
           19.611484635162352,
           19.610320708465576,
           20.58115149230957,
           23.16810305480957,
           29.586439715576173,
           44.64998836059571,
           71.14145216064453,
           108.0701255859375,
           164.38471572265624
          ],
          [
           35.479727258300784,
           31.397167568969728,
           27.847789056396483,
           24.770021893310545,
           22.115384786987306,
           19.866490951538086,
           17.947897360229494,
           16.337770687103273,
           14.993926421356202,
           13.929002815246582,
           13.186374628067016,
           12.708776523971558,
           12.594067190170287,
           13.072995177078248,
           14.662182147216797,
           18.899605783081054,
           29.968093688964842,
           50.298769897460936,
           81.00017705078125,
           128.00236044921874
          ],
          [
           25.59177113647461,
           22.32675580596924,
           19.559411515808105,
           17.190661779785156,
           15.15620295562744,
           13.433761807250976,
           11.980366725158692,
           10.75795958328247,
           9.749367728424073,
           8.939846965026856,
           8.348813138961791,
           7.9649784530639645,
           7.833837471389771,
           8.057652563667297,
           8.97882914276123,
           11.705124493408203,
           19.74479437561035,
           35.21672888183594,
           61.15842840576172,
           97.96508900146485
          ],
          [
           18.221910992431642,
           15.615355475616456,
           13.459524593353272,
           11.643119519042969,
           10.129339588165283,
           8.858409577178955,
           7.776227053833008,
           6.880067812347412,
           6.138696979522705,
           5.542726029968262,
           5.095248152923584,
           4.799496582412719,
           4.6750321184158325,
           4.772502363872528,
           5.282826399993897,
           7.00153803024292,
           12.796520356750488,
           24.636648638916014,
           45.98638514404297,
           72.74066220703125
          ],
          [
           12.779760995483398,
           10.746256318664551,
           9.07413038482666,
           7.702337434387207,
           6.571941523361206,
           5.651440866851806,
           4.887582891464233,
           4.250276806640625,
           3.729211321258545,
           3.309050012969971,
           2.984129042816162,
           2.763942880344391,
           2.6543030695438383,
           2.6913498759269716,
           2.966671481323242,
           4.048129863739014,
           8.210731509399414,
           17.548883212280273,
           33.65953525390625,
           51.77816053466797
          ],
          [
           8.848798960876465,
           7.258458891296387,
           5.988758364868164,
           4.96284245262146,
           4.139931283187866,
           3.4816783197402956,
           2.952141020011902,
           2.522287832260132,
           2.173079642868042,
           1.8930321182250978,
           1.6720373666763306,
           1.5165513450145722,
           1.4297461474895476,
           1.438237917470932,
           1.5915105704784394,
           2.3013295696258544,
           5.301162986755371,
           12.631954928588867,
           23.424872143554687,
           34.855740325927734
          ],
          [
           6.105553476476669,
           4.858922779464722,
           3.879467073059082,
           3.116141807508469,
           2.527293231344223,
           2.0670932371139528,
           1.7073838552474976,
           1.4269194927215576,
           1.2071481031417848,
           1.033631820678711,
           0.8986067086219788,
           0.7986635561466217,
           0.742477203631401,
           0.7465869656562805,
           0.8550292903184891,
           1.4031377880096436,
           3.614476619720459,
           8.7031882522583,
           15.133985958862304,
           21.67071040344238
          ],
          [
           4.22548976463261,
           3.234204979915917,
           2.491559807384014,
           1.926497795546055,
           1.5025951234459878,
           1.186304596364498,
           0.9489412009239196,
           0.7724631004810333,
           0.6426886389732361,
           0.5469558821678162,
           0.4788058125972748,
           0.4338087704181671,
           0.4183783168554306,
           0.4507396502733231,
           0.5949644506931305,
           1.1592659786224366,
           2.6933808139801023,
           5.487667370605469,
           8.751097020721435,
           12.117841577148438
          ],
          [
           2.9976332780838013,
           2.178777509529865,
           1.596337378196139,
           1.181799304880947,
           0.8810069770008325,
           0.6653989970713854,
           0.5147419035553932,
           0.4131051198244095,
           0.3488996070861816,
           0.315515078496933,
           0.3099450565338135,
           0.3338976130485535,
           0.39991481080055236,
           0.5449998016834259,
           0.8667527370452881,
           1.470406526374817,
           2.2899373043060303,
           3.4527036445617676,
           5.407702404785156,
           9.351208026123047
          ],
          [
           2.270988028740883,
           1.548770888900756,
           1.0659109763849002,
           0.7432158148971386,
           0.5284695593118668,
           0.3886080370903015,
           0.3024798020362854,
           0.260352781021595,
           0.261318860411644,
           0.31311774582862856,
           0.43228798508644106,
           0.6353433911323547,
           0.9190683276176452,
           1.2504388126373291,
           1.6164582525253295,
           2.0014756113052368,
           2.36419730758667,
           3.115273029708862,
           4.9975916862487795,
           8.4570705368042
          ],
          [
           1.9768229938401376,
           1.2618991295928135,
           0.8133838863717392,
           0.5381817061625421,
           0.37510799880325796,
           0.28919014139175414,
           0.2668708575725555,
           0.31584253888130187,
           0.46773824138641357,
           0.758351722240448,
           1.153897413444519,
           1.5282731405258179,
           1.8041980443954468,
           1.9982256381988526,
           2.1564018756866457,
           2.2717683666229247,
           2.4553954681396486,
           3.0655883560180666,
           4.586086317443848,
           7.413499342346191
          ],
          [
           2.1732978644013405,
           1.3542685404539108,
           0.8484386751413345,
           0.56083908598423,
           0.42553111255168913,
           0.4099743425130844,
           0.5209029178619384,
           0.7895870206832886,
           1.2017794149398804,
           1.6306482721328734,
           1.9499872116088868,
           2.1370028228759765,
           2.2305458183288573,
           2.2785339252471926,
           2.2977996795654296,
           2.3258666313171386,
           2.4739045776367186,
           3.0377521839141846,
           4.477915366363526,
           7.525938907623291
          ],
          [
           2.9928978328704834,
           1.9600054248809815,
           1.3150137621879578,
           0.9652484529495239,
           0.851459355354309,
           0.9480913880348205,
           1.230247383785248,
           1.5976418268203736,
           1.9180977514266968,
           2.1332555210113524,
           2.248096500015259,
           2.2952247772216796,
           2.309168249130249,
           2.310880366897583,
           2.314215612411499,
           2.3481499240875245,
           2.524890799331665,
           3.2081175506591797,
           5.162670587158203,
           9.663486708068847
          ],
          [
           4.149839545059204,
           2.9496085289001464,
           2.1746875474929808,
           1.7535547578811645,
           1.6290354551315307,
           1.7150428838729859,
           1.8987475093841553,
           2.079257312011719,
           2.2064249111175536,
           2.2755839447021486,
           2.304637571334839,
           2.3123945350646973,
           2.3124920051574707,
           2.3163329750061035,
           2.333186926651001,
           2.4138501419067384,
           2.7363489768981935,
           3.842050503921509,
           6.874288678741455,
           13.342682292175294
          ],
          [
           4.7669604225158695,
           3.603922678756714,
           2.8360694173812866,
           2.3871706516265867,
           2.1827675228118895,
           2.1416558811187745,
           2.1846505699157714,
           2.2460786838531495,
           2.2905779266357422,
           2.310138271713257,
           2.3142685035705566,
           2.314412241744995,
           2.3157918758392335,
           2.3271082805633543,
           2.390351304626465,
           2.6663196983337403,
           3.524512056350708,
           5.623111184692383,
           10.045607775878906,
           18.688986572265627
          ],
          [
           5.167072605895996,
           3.9903840476989747,
           3.1794100902557374,
           2.6772930484771726,
           2.4137875942230225,
           2.3132600242614747,
           2.300010343551636,
           2.3143283821105958,
           2.324487491226196,
           2.3265778884887696,
           2.3237044174194335,
           2.3199323612213134,
           2.3285852611541746,
           2.4024526573181153,
           2.709366732788086,
           3.5833070499420168,
           5.562727198791504,
           9.37043082962036,
           16.06192554168701,
           27.522311337280275
          ],
          [
           5.327791036987304,
           4.159965732192993,
           3.3573472442626953,
           2.8460271953582765,
           2.5548020698547362,
           2.419635305786133,
           2.3719509006500243,
           2.358674716949463,
           2.3525905117034913,
           2.348378260803223,
           2.3417668117523194,
           2.3539980628967285,
           2.463061432647705,
           2.870663006591797,
           3.8904799766540528,
           6.00093272857666,
           9.895624169921875,
           16.352895698547364,
           26.658493692016602,
           42.885545397949215
          ],
          [
           5.497244509887695,
           4.336169720840454,
           3.5164296073913572,
           2.981355029296875,
           2.668838942337036,
           2.510313668823242,
           2.4413770011901854,
           2.4135745429992674,
           2.402521727371216,
           2.399817457962036,
           2.429159362792969,
           2.5926486213684083,
           3.146482601547241,
           4.464208547210693,
           7.037528121185303,
           11.504900900268554,
           18.625182522583007,
           29.42277783203125,
           45.44928766479492,
           69.03414912109375
          ],
          [
           5.722034754180908,
           4.541073717498779,
           3.708652540588379,
           3.1615528079986572,
           2.8278269901275634,
           2.64873377532959,
           2.572282339477539,
           2.5439833431243897,
           2.5447680053710937,
           2.6072204502105714,
           2.8699918266296387,
           3.6510044105529786,
           5.433989847564697,
           8.77570807647705,
           14.297598963928223,
           22.65637203979492,
           34.826804580688474,
           52.175655010986326,
           76.62844857177734,
           110.81310688476563
          ],
          [
           6.040270378112793,
           4.866048986053467,
           4.029235290527343,
           3.466446742630005,
           3.1312700775146483,
           2.9714042167663575,
           2.905459172439575,
           2.895525252532959,
           2.9899085639953613,
           3.3919796588897704,
           4.519716730499267,
           6.966070766448975,
           11.29718825378418,
           18.102290391540528,
           28.104705355834962,
           42.178357421875,
           61.60428161621094,
           88.15129738769531,
           124.1819642944336,
           172.84968173828125
          ]
         ]
        },
        {
         "line": {
          "color": "blue"
         },
         "marker": {
          "color": "blue",
          "size": 5
         },
         "mode": "markers+lines",
         "name": "Classic SGD m=0.9",
         "type": "scatter3d",
         "x": [
          8.088591575622559,
          8.088560104370117,
          6.407351970672607,
          5.2186784744262695,
          5.217672824859619,
          4.169168949127197,
          3.244370698928833,
          3.243429660797119,
          2.386012315750122,
          1.6120153665542603,
          1.6114319562911987,
          0.9155203104019165,
          0.24762959778308868,
          0.24701756238937378,
          -0.38303956389427185,
          -0.9689050912857056,
          -0.9692474007606506,
          -1.5276018381118774,
          -2.029923677444458,
          -2.0304229259490967,
          -2.508272647857666,
          -2.965851306915283,
          -2.966543436050415,
          -3.4096999168395996,
          -3.8144702911376953,
          -3.814893960952759,
          -4.195838451385498,
          -4.5343337059021,
          -4.534382343292236,
          -4.880066871643066,
          -5.163956165313721
         ],
         "y": [
          3.875185489654541,
          3.8751046657562256,
          0.9028571844100952,
          -0.40178629755973816,
          -0.4032635986804962,
          -1.0914111137390137,
          -1.476378321647644,
          -1.4769368171691895,
          -1.63456392288208,
          -1.6572989225387573,
          -1.6573917865753174,
          -1.565545678138733,
          -1.3894903659820557,
          -1.389088749885559,
          -1.162172794342041,
          -0.9504929184913635,
          -0.9494286179542542,
          -0.6494530439376831,
          -0.32135578989982605,
          -0.32145214080810547,
          -0.04285027086734772,
          0.26757746934890747,
          0.26746001839637756,
          0.5312522649765015,
          0.8319298028945923,
          0.8316925168037415,
          1.0885090827941895,
          1.3806558847427368,
          1.3821958303451538,
          1.553624153137207,
          1.752316951751709
         ],
         "z": [
          2.200052585220337,
          2.2000414680480955,
          1.0884704252243043,
          0.4875048149585724,
          0.48713009157180787,
          0.34596853761672974,
          0.3140482313632965,
          0.3140339825630188,
          0.3083934950351715,
          0.3081808994293213,
          0.3081854496002197,
          0.30621067962646487,
          0.30134439764022825,
          0.3013287661552429,
          0.2943657351493835,
          0.2885720260620117,
          0.2885248250484467,
          0.2794232446193695,
          0.27031675462722776,
          0.27032317736148836,
          0.26416294581890104,
          0.25835617277622225,
          0.25836217133998873,
          0.25490330612659456,
          0.25200493203401564,
          0.2520092895388603,
          0.2508766501903534,
          0.2506128384709358,
          0.250613943362236,
          0.25148513561487196,
          0.2529703966617584
         ]
        },
        {
         "marker": {
          "color": "red",
          "size": 5
         },
         "mode": "markers",
         "name": "global minimum",
         "type": "scatter3d",
         "x": [
          -3.7689512654354704
         ],
         "y": [
          0.4160639110364386
         ],
         "z": [
          0.260352781021595
         ]
        }
       ],
       "layout": {
        "coloraxis": {
         "cmax": 3.1659474433969463,
         "cmin": -0.5566348306033799,
         "colorbar": {
          "title": {
           "text": "Loss magnitude"
          }
         },
         "colorscale": [
          [
           0,
           "#440154"
          ],
          [
           0.1111111111111111,
           "#482878"
          ],
          [
           0.2222222222222222,
           "#3e4989"
          ],
          [
           0.3333333333333333,
           "#31688e"
          ],
          [
           0.4444444444444444,
           "#26828e"
          ],
          [
           0.5555555555555556,
           "#1f9e89"
          ],
          [
           0.6666666666666666,
           "#35b779"
          ],
          [
           0.7777777777777778,
           "#6ece58"
          ],
          [
           0.8888888888888888,
           "#b5de2b"
          ],
          [
           1,
           "#fde725"
          ]
         ]
        },
        "legend": {
         "orientation": "v",
         "x": 0,
         "y": 0.5
        },
        "scene": {
         "xaxis": {
          "title": {
           "text": "PC1"
          }
         },
         "yaxis": {
          "title": {
           "text": "PC2"
          }
         },
         "zaxis": {
          "title": {
           "text": " Loss"
          },
          "type": "log"
         }
        },
        "template": {
         "data": {
          "bar": [
           {
            "error_x": {
             "color": "#2a3f5f"
            },
            "error_y": {
             "color": "#2a3f5f"
            },
            "marker": {
             "line": {
              "color": "#E5ECF6",
              "width": 0.5
             },
             "pattern": {
              "fillmode": "overlay",
              "size": 10,
              "solidity": 0.2
             }
            },
            "type": "bar"
           }
          ],
          "barpolar": [
           {
            "marker": {
             "line": {
              "color": "#E5ECF6",
              "width": 0.5
             },
             "pattern": {
              "fillmode": "overlay",
              "size": 10,
              "solidity": 0.2
             }
            },
            "type": "barpolar"
           }
          ],
          "carpet": [
           {
            "aaxis": {
             "endlinecolor": "#2a3f5f",
             "gridcolor": "white",
             "linecolor": "white",
             "minorgridcolor": "white",
             "startlinecolor": "#2a3f5f"
            },
            "baxis": {
             "endlinecolor": "#2a3f5f",
             "gridcolor": "white",
             "linecolor": "white",
             "minorgridcolor": "white",
             "startlinecolor": "#2a3f5f"
            },
            "type": "carpet"
           }
          ],
          "choropleth": [
           {
            "colorbar": {
             "outlinewidth": 0,
             "ticks": ""
            },
            "type": "choropleth"
           }
          ],
          "contour": [
           {
            "colorbar": {
             "outlinewidth": 0,
             "ticks": ""
            },
            "colorscale": [
             [
              0,
              "#0d0887"
             ],
             [
              0.1111111111111111,
              "#46039f"
             ],
             [
              0.2222222222222222,
              "#7201a8"
             ],
             [
              0.3333333333333333,
              "#9c179e"
             ],
             [
              0.4444444444444444,
              "#bd3786"
             ],
             [
              0.5555555555555556,
              "#d8576b"
             ],
             [
              0.6666666666666666,
              "#ed7953"
             ],
             [
              0.7777777777777778,
              "#fb9f3a"
             ],
             [
              0.8888888888888888,
              "#fdca26"
             ],
             [
              1,
              "#f0f921"
             ]
            ],
            "type": "contour"
           }
          ],
          "contourcarpet": [
           {
            "colorbar": {
             "outlinewidth": 0,
             "ticks": ""
            },
            "type": "contourcarpet"
           }
          ],
          "heatmap": [
           {
            "colorbar": {
             "outlinewidth": 0,
             "ticks": ""
            },
            "colorscale": [
             [
              0,
              "#0d0887"
             ],
             [
              0.1111111111111111,
              "#46039f"
             ],
             [
              0.2222222222222222,
              "#7201a8"
             ],
             [
              0.3333333333333333,
              "#9c179e"
             ],
             [
              0.4444444444444444,
              "#bd3786"
             ],
             [
              0.5555555555555556,
              "#d8576b"
             ],
             [
              0.6666666666666666,
              "#ed7953"
             ],
             [
              0.7777777777777778,
              "#fb9f3a"
             ],
             [
              0.8888888888888888,
              "#fdca26"
             ],
             [
              1,
              "#f0f921"
             ]
            ],
            "type": "heatmap"
           }
          ],
          "heatmapgl": [
           {
            "colorbar": {
             "outlinewidth": 0,
             "ticks": ""
            },
            "colorscale": [
             [
              0,
              "#0d0887"
             ],
             [
              0.1111111111111111,
              "#46039f"
             ],
             [
              0.2222222222222222,
              "#7201a8"
             ],
             [
              0.3333333333333333,
              "#9c179e"
             ],
             [
              0.4444444444444444,
              "#bd3786"
             ],
             [
              0.5555555555555556,
              "#d8576b"
             ],
             [
              0.6666666666666666,
              "#ed7953"
             ],
             [
              0.7777777777777778,
              "#fb9f3a"
             ],
             [
              0.8888888888888888,
              "#fdca26"
             ],
             [
              1,
              "#f0f921"
             ]
            ],
            "type": "heatmapgl"
           }
          ],
          "histogram": [
           {
            "marker": {
             "pattern": {
              "fillmode": "overlay",
              "size": 10,
              "solidity": 0.2
             }
            },
            "type": "histogram"
           }
          ],
          "histogram2d": [
           {
            "colorbar": {
             "outlinewidth": 0,
             "ticks": ""
            },
            "colorscale": [
             [
              0,
              "#0d0887"
             ],
             [
              0.1111111111111111,
              "#46039f"
             ],
             [
              0.2222222222222222,
              "#7201a8"
             ],
             [
              0.3333333333333333,
              "#9c179e"
             ],
             [
              0.4444444444444444,
              "#bd3786"
             ],
             [
              0.5555555555555556,
              "#d8576b"
             ],
             [
              0.6666666666666666,
              "#ed7953"
             ],
             [
              0.7777777777777778,
              "#fb9f3a"
             ],
             [
              0.8888888888888888,
              "#fdca26"
             ],
             [
              1,
              "#f0f921"
             ]
            ],
            "type": "histogram2d"
           }
          ],
          "histogram2dcontour": [
           {
            "colorbar": {
             "outlinewidth": 0,
             "ticks": ""
            },
            "colorscale": [
             [
              0,
              "#0d0887"
             ],
             [
              0.1111111111111111,
              "#46039f"
             ],
             [
              0.2222222222222222,
              "#7201a8"
             ],
             [
              0.3333333333333333,
              "#9c179e"
             ],
             [
              0.4444444444444444,
              "#bd3786"
             ],
             [
              0.5555555555555556,
              "#d8576b"
             ],
             [
              0.6666666666666666,
              "#ed7953"
             ],
             [
              0.7777777777777778,
              "#fb9f3a"
             ],
             [
              0.8888888888888888,
              "#fdca26"
             ],
             [
              1,
              "#f0f921"
             ]
            ],
            "type": "histogram2dcontour"
           }
          ],
          "mesh3d": [
           {
            "colorbar": {
             "outlinewidth": 0,
             "ticks": ""
            },
            "type": "mesh3d"
           }
          ],
          "parcoords": [
           {
            "line": {
             "colorbar": {
              "outlinewidth": 0,
              "ticks": ""
             }
            },
            "type": "parcoords"
           }
          ],
          "pie": [
           {
            "automargin": true,
            "type": "pie"
           }
          ],
          "scatter": [
           {
            "fillpattern": {
             "fillmode": "overlay",
             "size": 10,
             "solidity": 0.2
            },
            "type": "scatter"
           }
          ],
          "scatter3d": [
           {
            "line": {
             "colorbar": {
              "outlinewidth": 0,
              "ticks": ""
             }
            },
            "marker": {
             "colorbar": {
              "outlinewidth": 0,
              "ticks": ""
             }
            },
            "type": "scatter3d"
           }
          ],
          "scattercarpet": [
           {
            "marker": {
             "colorbar": {
              "outlinewidth": 0,
              "ticks": ""
             }
            },
            "type": "scattercarpet"
           }
          ],
          "scattergeo": [
           {
            "marker": {
             "colorbar": {
              "outlinewidth": 0,
              "ticks": ""
             }
            },
            "type": "scattergeo"
           }
          ],
          "scattergl": [
           {
            "marker": {
             "colorbar": {
              "outlinewidth": 0,
              "ticks": ""
             }
            },
            "type": "scattergl"
           }
          ],
          "scattermapbox": [
           {
            "marker": {
             "colorbar": {
              "outlinewidth": 0,
              "ticks": ""
             }
            },
            "type": "scattermapbox"
           }
          ],
          "scatterpolar": [
           {
            "marker": {
             "colorbar": {
              "outlinewidth": 0,
              "ticks": ""
             }
            },
            "type": "scatterpolar"
           }
          ],
          "scatterpolargl": [
           {
            "marker": {
             "colorbar": {
              "outlinewidth": 0,
              "ticks": ""
             }
            },
            "type": "scatterpolargl"
           }
          ],
          "scatterternary": [
           {
            "marker": {
             "colorbar": {
              "outlinewidth": 0,
              "ticks": ""
             }
            },
            "type": "scatterternary"
           }
          ],
          "surface": [
           {
            "colorbar": {
             "outlinewidth": 0,
             "ticks": ""
            },
            "colorscale": [
             [
              0,
              "#0d0887"
             ],
             [
              0.1111111111111111,
              "#46039f"
             ],
             [
              0.2222222222222222,
              "#7201a8"
             ],
             [
              0.3333333333333333,
              "#9c179e"
             ],
             [
              0.4444444444444444,
              "#bd3786"
             ],
             [
              0.5555555555555556,
              "#d8576b"
             ],
             [
              0.6666666666666666,
              "#ed7953"
             ],
             [
              0.7777777777777778,
              "#fb9f3a"
             ],
             [
              0.8888888888888888,
              "#fdca26"
             ],
             [
              1,
              "#f0f921"
             ]
            ],
            "type": "surface"
           }
          ],
          "table": [
           {
            "cells": {
             "fill": {
              "color": "#EBF0F8"
             },
             "line": {
              "color": "white"
             }
            },
            "header": {
             "fill": {
              "color": "#C8D4E3"
             },
             "line": {
              "color": "white"
             }
            },
            "type": "table"
           }
          ]
         },
         "layout": {
          "annotationdefaults": {
           "arrowcolor": "#2a3f5f",
           "arrowhead": 0,
           "arrowwidth": 1
          },
          "autotypenumbers": "strict",
          "coloraxis": {
           "colorbar": {
            "outlinewidth": 0,
            "ticks": ""
           }
          },
          "colorscale": {
           "diverging": [
            [
             0,
             "#8e0152"
            ],
            [
             0.1,
             "#c51b7d"
            ],
            [
             0.2,
             "#de77ae"
            ],
            [
             0.3,
             "#f1b6da"
            ],
            [
             0.4,
             "#fde0ef"
            ],
            [
             0.5,
             "#f7f7f7"
            ],
            [
             0.6,
             "#e6f5d0"
            ],
            [
             0.7,
             "#b8e186"
            ],
            [
             0.8,
             "#7fbc41"
            ],
            [
             0.9,
             "#4d9221"
            ],
            [
             1,
             "#276419"
            ]
           ],
           "sequential": [
            [
             0,
             "#0d0887"
            ],
            [
             0.1111111111111111,
             "#46039f"
            ],
            [
             0.2222222222222222,
             "#7201a8"
            ],
            [
             0.3333333333333333,
             "#9c179e"
            ],
            [
             0.4444444444444444,
             "#bd3786"
            ],
            [
             0.5555555555555556,
             "#d8576b"
            ],
            [
             0.6666666666666666,
             "#ed7953"
            ],
            [
             0.7777777777777778,
             "#fb9f3a"
            ],
            [
             0.8888888888888888,
             "#fdca26"
            ],
            [
             1,
             "#f0f921"
            ]
           ],
           "sequentialminus": [
            [
             0,
             "#0d0887"
            ],
            [
             0.1111111111111111,
             "#46039f"
            ],
            [
             0.2222222222222222,
             "#7201a8"
            ],
            [
             0.3333333333333333,
             "#9c179e"
            ],
            [
             0.4444444444444444,
             "#bd3786"
            ],
            [
             0.5555555555555556,
             "#d8576b"
            ],
            [
             0.6666666666666666,
             "#ed7953"
            ],
            [
             0.7777777777777778,
             "#fb9f3a"
            ],
            [
             0.8888888888888888,
             "#fdca26"
            ],
            [
             1,
             "#f0f921"
            ]
           ]
          },
          "colorway": [
           "#636efa",
           "#EF553B",
           "#00cc96",
           "#ab63fa",
           "#FFA15A",
           "#19d3f3",
           "#FF6692",
           "#B6E880",
           "#FF97FF",
           "#FECB52"
          ],
          "font": {
           "color": "#2a3f5f"
          },
          "geo": {
           "bgcolor": "white",
           "lakecolor": "white",
           "landcolor": "#E5ECF6",
           "showlakes": true,
           "showland": true,
           "subunitcolor": "white"
          },
          "hoverlabel": {
           "align": "left"
          },
          "hovermode": "closest",
          "mapbox": {
           "style": "light"
          },
          "paper_bgcolor": "white",
          "plot_bgcolor": "#E5ECF6",
          "polar": {
           "angularaxis": {
            "gridcolor": "white",
            "linecolor": "white",
            "ticks": ""
           },
           "bgcolor": "#E5ECF6",
           "radialaxis": {
            "gridcolor": "white",
            "linecolor": "white",
            "ticks": ""
           }
          },
          "scene": {
           "xaxis": {
            "backgroundcolor": "#E5ECF6",
            "gridcolor": "white",
            "gridwidth": 2,
            "linecolor": "white",
            "showbackground": true,
            "ticks": "",
            "zerolinecolor": "white"
           },
           "yaxis": {
            "backgroundcolor": "#E5ECF6",
            "gridcolor": "white",
            "gridwidth": 2,
            "linecolor": "white",
            "showbackground": true,
            "ticks": "",
            "zerolinecolor": "white"
           },
           "zaxis": {
            "backgroundcolor": "#E5ECF6",
            "gridcolor": "white",
            "gridwidth": 2,
            "linecolor": "white",
            "showbackground": true,
            "ticks": "",
            "zerolinecolor": "white"
           }
          },
          "shapedefaults": {
           "line": {
            "color": "#2a3f5f"
           }
          },
          "ternary": {
           "aaxis": {
            "gridcolor": "white",
            "linecolor": "white",
            "ticks": ""
           },
           "baxis": {
            "gridcolor": "white",
            "linecolor": "white",
            "ticks": ""
           },
           "bgcolor": "#E5ECF6",
           "caxis": {
            "gridcolor": "white",
            "linecolor": "white",
            "ticks": ""
           }
          },
          "title": {
           "x": 0.05
          },
          "xaxis": {
           "automargin": true,
           "gridcolor": "white",
           "linecolor": "white",
           "ticks": "",
           "title": {
            "standoff": 15
           },
           "zerolinecolor": "white",
           "zerolinewidth": 2
          },
          "yaxis": {
           "automargin": true,
           "gridcolor": "white",
           "linecolor": "white",
           "ticks": "",
           "title": {
            "standoff": 15
           },
           "zerolinecolor": "white",
           "zerolinewidth": 2
          }
         }
        }
       }
      },
      "text/html": [
       "<div>                            <div id=\"3f33bd70-4aca-462e-b79a-5d6525e3c6b1\" class=\"plotly-graph-div\" style=\"height:525px; width:100%;\"></div>            <script type=\"text/javascript\">                require([\"plotly\"], function(Plotly) {                    window.PLOTLYENV=window.PLOTLYENV || {};                                    if (document.getElementById(\"3f33bd70-4aca-462e-b79a-5d6525e3c6b1\")) {                    Plotly.newPlot(                        \"3f33bd70-4aca-462e-b79a-5d6525e3c6b1\",                        [{\"coloraxis\":\"coloraxis\",\"colorscale\":[[0.0,\"#440154\"],[0.1111111111111111,\"#482878\"],[0.2222222222222222,\"#3e4989\"],[0.3333333333333333,\"#31688e\"],[0.4444444444444444,\"#26828e\"],[0.5555555555555556,\"#1f9e89\"],[0.6666666666666666,\"#35b779\"],[0.7777777777777778,\"#6ece58\"],[0.8888888888888888,\"#b5de2b\"],[1.0,\"#fde725\"]],\"name\":\"grid point\",\"opacity\":0.8,\"x\":[[-18.416504383087158,-16.323996794851205,-14.231489206615247,-12.138981618379292,-10.046474030143337,-7.953966441907381,-5.861458853671426,-3.7689512654354704,-1.676443677199515,0.4160639110364386,2.5085714992723958,4.601079087508353,6.6935866757443065,8.78609426398026,10.878601852216217,12.971109440452175,15.063617028688128,17.15612461692408,19.248632205160035,21.341139793395996],[-18.416504383087158,-16.323996794851205,-14.231489206615247,-12.138981618379292,-10.046474030143337,-7.953966441907381,-5.861458853671426,-3.7689512654354704,-1.676443677199515,0.4160639110364386,2.5085714992723958,4.601079087508353,6.6935866757443065,8.78609426398026,10.878601852216217,12.971109440452175,15.063617028688128,17.15612461692408,19.248632205160035,21.341139793395996],[-18.416504383087158,-16.323996794851205,-14.231489206615247,-12.138981618379292,-10.046474030143337,-7.953966441907381,-5.861458853671426,-3.7689512654354704,-1.676443677199515,0.4160639110364386,2.5085714992723958,4.601079087508353,6.6935866757443065,8.78609426398026,10.878601852216217,12.971109440452175,15.063617028688128,17.15612461692408,19.248632205160035,21.341139793395996],[-18.416504383087158,-16.323996794851205,-14.231489206615247,-12.138981618379292,-10.046474030143337,-7.953966441907381,-5.861458853671426,-3.7689512654354704,-1.676443677199515,0.4160639110364386,2.5085714992723958,4.601079087508353,6.6935866757443065,8.78609426398026,10.878601852216217,12.971109440452175,15.063617028688128,17.15612461692408,19.248632205160035,21.341139793395996],[-18.416504383087158,-16.323996794851205,-14.231489206615247,-12.138981618379292,-10.046474030143337,-7.953966441907381,-5.861458853671426,-3.7689512654354704,-1.676443677199515,0.4160639110364386,2.5085714992723958,4.601079087508353,6.6935866757443065,8.78609426398026,10.878601852216217,12.971109440452175,15.063617028688128,17.15612461692408,19.248632205160035,21.341139793395996],[-18.416504383087158,-16.323996794851205,-14.231489206615247,-12.138981618379292,-10.046474030143337,-7.953966441907381,-5.861458853671426,-3.7689512654354704,-1.676443677199515,0.4160639110364386,2.5085714992723958,4.601079087508353,6.6935866757443065,8.78609426398026,10.878601852216217,12.971109440452175,15.063617028688128,17.15612461692408,19.248632205160035,21.341139793395996],[-18.416504383087158,-16.323996794851205,-14.231489206615247,-12.138981618379292,-10.046474030143337,-7.953966441907381,-5.861458853671426,-3.7689512654354704,-1.676443677199515,0.4160639110364386,2.5085714992723958,4.601079087508353,6.6935866757443065,8.78609426398026,10.878601852216217,12.971109440452175,15.063617028688128,17.15612461692408,19.248632205160035,21.341139793395996],[-18.416504383087158,-16.323996794851205,-14.231489206615247,-12.138981618379292,-10.046474030143337,-7.953966441907381,-5.861458853671426,-3.7689512654354704,-1.676443677199515,0.4160639110364386,2.5085714992723958,4.601079087508353,6.6935866757443065,8.78609426398026,10.878601852216217,12.971109440452175,15.063617028688128,17.15612461692408,19.248632205160035,21.341139793395996],[-18.416504383087158,-16.323996794851205,-14.231489206615247,-12.138981618379292,-10.046474030143337,-7.953966441907381,-5.861458853671426,-3.7689512654354704,-1.676443677199515,0.4160639110364386,2.5085714992723958,4.601079087508353,6.6935866757443065,8.78609426398026,10.878601852216217,12.971109440452175,15.063617028688128,17.15612461692408,19.248632205160035,21.341139793395996],[-18.416504383087158,-16.323996794851205,-14.231489206615247,-12.138981618379292,-10.046474030143337,-7.953966441907381,-5.861458853671426,-3.7689512654354704,-1.676443677199515,0.4160639110364386,2.5085714992723958,4.601079087508353,6.6935866757443065,8.78609426398026,10.878601852216217,12.971109440452175,15.063617028688128,17.15612461692408,19.248632205160035,21.341139793395996],[-18.416504383087158,-16.323996794851205,-14.231489206615247,-12.138981618379292,-10.046474030143337,-7.953966441907381,-5.861458853671426,-3.7689512654354704,-1.676443677199515,0.4160639110364386,2.5085714992723958,4.601079087508353,6.6935866757443065,8.78609426398026,10.878601852216217,12.971109440452175,15.063617028688128,17.15612461692408,19.248632205160035,21.341139793395996],[-18.416504383087158,-16.323996794851205,-14.231489206615247,-12.138981618379292,-10.046474030143337,-7.953966441907381,-5.861458853671426,-3.7689512654354704,-1.676443677199515,0.4160639110364386,2.5085714992723958,4.601079087508353,6.6935866757443065,8.78609426398026,10.878601852216217,12.971109440452175,15.063617028688128,17.15612461692408,19.248632205160035,21.341139793395996],[-18.416504383087158,-16.323996794851205,-14.231489206615247,-12.138981618379292,-10.046474030143337,-7.953966441907381,-5.861458853671426,-3.7689512654354704,-1.676443677199515,0.4160639110364386,2.5085714992723958,4.601079087508353,6.6935866757443065,8.78609426398026,10.878601852216217,12.971109440452175,15.063617028688128,17.15612461692408,19.248632205160035,21.341139793395996],[-18.416504383087158,-16.323996794851205,-14.231489206615247,-12.138981618379292,-10.046474030143337,-7.953966441907381,-5.861458853671426,-3.7689512654354704,-1.676443677199515,0.4160639110364386,2.5085714992723958,4.601079087508353,6.6935866757443065,8.78609426398026,10.878601852216217,12.971109440452175,15.063617028688128,17.15612461692408,19.248632205160035,21.341139793395996],[-18.416504383087158,-16.323996794851205,-14.231489206615247,-12.138981618379292,-10.046474030143337,-7.953966441907381,-5.861458853671426,-3.7689512654354704,-1.676443677199515,0.4160639110364386,2.5085714992723958,4.601079087508353,6.6935866757443065,8.78609426398026,10.878601852216217,12.971109440452175,15.063617028688128,17.15612461692408,19.248632205160035,21.341139793395996],[-18.416504383087158,-16.323996794851205,-14.231489206615247,-12.138981618379292,-10.046474030143337,-7.953966441907381,-5.861458853671426,-3.7689512654354704,-1.676443677199515,0.4160639110364386,2.5085714992723958,4.601079087508353,6.6935866757443065,8.78609426398026,10.878601852216217,12.971109440452175,15.063617028688128,17.15612461692408,19.248632205160035,21.341139793395996],[-18.416504383087158,-16.323996794851205,-14.231489206615247,-12.138981618379292,-10.046474030143337,-7.953966441907381,-5.861458853671426,-3.7689512654354704,-1.676443677199515,0.4160639110364386,2.5085714992723958,4.601079087508353,6.6935866757443065,8.78609426398026,10.878601852216217,12.971109440452175,15.063617028688128,17.15612461692408,19.248632205160035,21.341139793395996],[-18.416504383087158,-16.323996794851205,-14.231489206615247,-12.138981618379292,-10.046474030143337,-7.953966441907381,-5.861458853671426,-3.7689512654354704,-1.676443677199515,0.4160639110364386,2.5085714992723958,4.601079087508353,6.6935866757443065,8.78609426398026,10.878601852216217,12.971109440452175,15.063617028688128,17.15612461692408,19.248632205160035,21.341139793395996],[-18.416504383087158,-16.323996794851205,-14.231489206615247,-12.138981618379292,-10.046474030143337,-7.953966441907381,-5.861458853671426,-3.7689512654354704,-1.676443677199515,0.4160639110364386,2.5085714992723958,4.601079087508353,6.6935866757443065,8.78609426398026,10.878601852216217,12.971109440452175,15.063617028688128,17.15612461692408,19.248632205160035,21.341139793395996],[-18.416504383087158,-16.323996794851205,-14.231489206615247,-12.138981618379292,-10.046474030143337,-7.953966441907381,-5.861458853671426,-3.7689512654354704,-1.676443677199515,0.4160639110364386,2.5085714992723958,4.601079087508353,6.6935866757443065,8.78609426398026,10.878601852216217,12.971109440452175,15.063617028688128,17.15612461692408,19.248632205160035,21.341139793395996]],\"y\":[[-18.416504383087158,-18.416504383087158,-18.416504383087158,-18.416504383087158,-18.416504383087158,-18.416504383087158,-18.416504383087158,-18.416504383087158,-18.416504383087158,-18.416504383087158,-18.416504383087158,-18.416504383087158,-18.416504383087158,-18.416504383087158,-18.416504383087158,-18.416504383087158,-18.416504383087158,-18.416504383087158,-18.416504383087158,-18.416504383087158],[-16.323996794851205,-16.323996794851205,-16.323996794851205,-16.323996794851205,-16.323996794851205,-16.323996794851205,-16.323996794851205,-16.323996794851205,-16.323996794851205,-16.323996794851205,-16.323996794851205,-16.323996794851205,-16.323996794851205,-16.323996794851205,-16.323996794851205,-16.323996794851205,-16.323996794851205,-16.323996794851205,-16.323996794851205,-16.323996794851205],[-14.231489206615247,-14.231489206615247,-14.231489206615247,-14.231489206615247,-14.231489206615247,-14.231489206615247,-14.231489206615247,-14.231489206615247,-14.231489206615247,-14.231489206615247,-14.231489206615247,-14.231489206615247,-14.231489206615247,-14.231489206615247,-14.231489206615247,-14.231489206615247,-14.231489206615247,-14.231489206615247,-14.231489206615247,-14.231489206615247],[-12.138981618379292,-12.138981618379292,-12.138981618379292,-12.138981618379292,-12.138981618379292,-12.138981618379292,-12.138981618379292,-12.138981618379292,-12.138981618379292,-12.138981618379292,-12.138981618379292,-12.138981618379292,-12.138981618379292,-12.138981618379292,-12.138981618379292,-12.138981618379292,-12.138981618379292,-12.138981618379292,-12.138981618379292,-12.138981618379292],[-10.046474030143337,-10.046474030143337,-10.046474030143337,-10.046474030143337,-10.046474030143337,-10.046474030143337,-10.046474030143337,-10.046474030143337,-10.046474030143337,-10.046474030143337,-10.046474030143337,-10.046474030143337,-10.046474030143337,-10.046474030143337,-10.046474030143337,-10.046474030143337,-10.046474030143337,-10.046474030143337,-10.046474030143337,-10.046474030143337],[-7.953966441907381,-7.953966441907381,-7.953966441907381,-7.953966441907381,-7.953966441907381,-7.953966441907381,-7.953966441907381,-7.953966441907381,-7.953966441907381,-7.953966441907381,-7.953966441907381,-7.953966441907381,-7.953966441907381,-7.953966441907381,-7.953966441907381,-7.953966441907381,-7.953966441907381,-7.953966441907381,-7.953966441907381,-7.953966441907381],[-5.861458853671426,-5.861458853671426,-5.861458853671426,-5.861458853671426,-5.861458853671426,-5.861458853671426,-5.861458853671426,-5.861458853671426,-5.861458853671426,-5.861458853671426,-5.861458853671426,-5.861458853671426,-5.861458853671426,-5.861458853671426,-5.861458853671426,-5.861458853671426,-5.861458853671426,-5.861458853671426,-5.861458853671426,-5.861458853671426],[-3.7689512654354704,-3.7689512654354704,-3.7689512654354704,-3.7689512654354704,-3.7689512654354704,-3.7689512654354704,-3.7689512654354704,-3.7689512654354704,-3.7689512654354704,-3.7689512654354704,-3.7689512654354704,-3.7689512654354704,-3.7689512654354704,-3.7689512654354704,-3.7689512654354704,-3.7689512654354704,-3.7689512654354704,-3.7689512654354704,-3.7689512654354704,-3.7689512654354704],[-1.676443677199515,-1.676443677199515,-1.676443677199515,-1.676443677199515,-1.676443677199515,-1.676443677199515,-1.676443677199515,-1.676443677199515,-1.676443677199515,-1.676443677199515,-1.676443677199515,-1.676443677199515,-1.676443677199515,-1.676443677199515,-1.676443677199515,-1.676443677199515,-1.676443677199515,-1.676443677199515,-1.676443677199515,-1.676443677199515],[0.4160639110364386,0.4160639110364386,0.4160639110364386,0.4160639110364386,0.4160639110364386,0.4160639110364386,0.4160639110364386,0.4160639110364386,0.4160639110364386,0.4160639110364386,0.4160639110364386,0.4160639110364386,0.4160639110364386,0.4160639110364386,0.4160639110364386,0.4160639110364386,0.4160639110364386,0.4160639110364386,0.4160639110364386,0.4160639110364386],[2.5085714992723958,2.5085714992723958,2.5085714992723958,2.5085714992723958,2.5085714992723958,2.5085714992723958,2.5085714992723958,2.5085714992723958,2.5085714992723958,2.5085714992723958,2.5085714992723958,2.5085714992723958,2.5085714992723958,2.5085714992723958,2.5085714992723958,2.5085714992723958,2.5085714992723958,2.5085714992723958,2.5085714992723958,2.5085714992723958],[4.601079087508353,4.601079087508353,4.601079087508353,4.601079087508353,4.601079087508353,4.601079087508353,4.601079087508353,4.601079087508353,4.601079087508353,4.601079087508353,4.601079087508353,4.601079087508353,4.601079087508353,4.601079087508353,4.601079087508353,4.601079087508353,4.601079087508353,4.601079087508353,4.601079087508353,4.601079087508353],[6.6935866757443065,6.6935866757443065,6.6935866757443065,6.6935866757443065,6.6935866757443065,6.6935866757443065,6.6935866757443065,6.6935866757443065,6.6935866757443065,6.6935866757443065,6.6935866757443065,6.6935866757443065,6.6935866757443065,6.6935866757443065,6.6935866757443065,6.6935866757443065,6.6935866757443065,6.6935866757443065,6.6935866757443065,6.6935866757443065],[8.78609426398026,8.78609426398026,8.78609426398026,8.78609426398026,8.78609426398026,8.78609426398026,8.78609426398026,8.78609426398026,8.78609426398026,8.78609426398026,8.78609426398026,8.78609426398026,8.78609426398026,8.78609426398026,8.78609426398026,8.78609426398026,8.78609426398026,8.78609426398026,8.78609426398026,8.78609426398026],[10.878601852216217,10.878601852216217,10.878601852216217,10.878601852216217,10.878601852216217,10.878601852216217,10.878601852216217,10.878601852216217,10.878601852216217,10.878601852216217,10.878601852216217,10.878601852216217,10.878601852216217,10.878601852216217,10.878601852216217,10.878601852216217,10.878601852216217,10.878601852216217,10.878601852216217,10.878601852216217],[12.971109440452175,12.971109440452175,12.971109440452175,12.971109440452175,12.971109440452175,12.971109440452175,12.971109440452175,12.971109440452175,12.971109440452175,12.971109440452175,12.971109440452175,12.971109440452175,12.971109440452175,12.971109440452175,12.971109440452175,12.971109440452175,12.971109440452175,12.971109440452175,12.971109440452175,12.971109440452175],[15.063617028688128,15.063617028688128,15.063617028688128,15.063617028688128,15.063617028688128,15.063617028688128,15.063617028688128,15.063617028688128,15.063617028688128,15.063617028688128,15.063617028688128,15.063617028688128,15.063617028688128,15.063617028688128,15.063617028688128,15.063617028688128,15.063617028688128,15.063617028688128,15.063617028688128,15.063617028688128],[17.15612461692408,17.15612461692408,17.15612461692408,17.15612461692408,17.15612461692408,17.15612461692408,17.15612461692408,17.15612461692408,17.15612461692408,17.15612461692408,17.15612461692408,17.15612461692408,17.15612461692408,17.15612461692408,17.15612461692408,17.15612461692408,17.15612461692408,17.15612461692408,17.15612461692408,17.15612461692408],[19.248632205160035,19.248632205160035,19.248632205160035,19.248632205160035,19.248632205160035,19.248632205160035,19.248632205160035,19.248632205160035,19.248632205160035,19.248632205160035,19.248632205160035,19.248632205160035,19.248632205160035,19.248632205160035,19.248632205160035,19.248632205160035,19.248632205160035,19.248632205160035,19.248632205160035,19.248632205160035],[21.341139793395996,21.341139793395996,21.341139793395996,21.341139793395996,21.341139793395996,21.341139793395996,21.341139793395996,21.341139793395996,21.341139793395996,21.341139793395996,21.341139793395996,21.341139793395996,21.341139793395996,21.341139793395996,21.341139793395996,21.341139793395996,21.341139793395996,21.341139793395996,21.341139793395996,21.341139793395996]],\"z\":[[48.521949819946286,43.38401087341309,38.894321240234376,34.98128359680176,31.617002139282228,28.745061404418944,26.275982527160643,24.173574337768553,22.4436086227417,21.108627941894532,20.173978035736084,19.611484635162352,19.610320708465576,20.58115149230957,23.16810305480957,29.586439715576173,44.64998836059571,71.14145216064453,108.0701255859375,164.38471572265624],[35.479727258300784,31.397167568969728,27.847789056396483,24.770021893310545,22.115384786987306,19.866490951538086,17.947897360229494,16.337770687103273,14.993926421356202,13.929002815246582,13.186374628067016,12.708776523971558,12.594067190170287,13.072995177078248,14.662182147216797,18.899605783081054,29.968093688964842,50.298769897460936,81.00017705078125,128.00236044921874],[25.59177113647461,22.32675580596924,19.559411515808105,17.190661779785156,15.15620295562744,13.433761807250976,11.980366725158692,10.75795958328247,9.749367728424073,8.939846965026856,8.348813138961791,7.9649784530639645,7.833837471389771,8.057652563667297,8.97882914276123,11.705124493408203,19.74479437561035,35.21672888183594,61.15842840576172,97.96508900146485],[18.221910992431642,15.615355475616456,13.459524593353272,11.643119519042969,10.129339588165283,8.858409577178955,7.776227053833008,6.880067812347412,6.138696979522705,5.542726029968262,5.095248152923584,4.799496582412719,4.6750321184158325,4.772502363872528,5.282826399993897,7.00153803024292,12.796520356750488,24.636648638916014,45.98638514404297,72.74066220703125],[12.779760995483398,10.746256318664551,9.07413038482666,7.702337434387207,6.571941523361206,5.651440866851806,4.887582891464233,4.250276806640625,3.729211321258545,3.309050012969971,2.984129042816162,2.763942880344391,2.6543030695438383,2.6913498759269716,2.966671481323242,4.048129863739014,8.210731509399414,17.548883212280273,33.65953525390625,51.77816053466797],[8.848798960876465,7.258458891296387,5.988758364868164,4.96284245262146,4.139931283187866,3.4816783197402956,2.952141020011902,2.522287832260132,2.173079642868042,1.8930321182250978,1.6720373666763306,1.5165513450145722,1.4297461474895476,1.438237917470932,1.5915105704784394,2.3013295696258544,5.301162986755371,12.631954928588867,23.424872143554687,34.855740325927734],[6.105553476476669,4.858922779464722,3.879467073059082,3.116141807508469,2.527293231344223,2.0670932371139528,1.7073838552474976,1.4269194927215576,1.2071481031417848,1.033631820678711,0.8986067086219788,0.7986635561466217,0.742477203631401,0.7465869656562805,0.8550292903184891,1.4031377880096436,3.614476619720459,8.7031882522583,15.133985958862304,21.67071040344238],[4.22548976463261,3.234204979915917,2.491559807384014,1.926497795546055,1.5025951234459878,1.186304596364498,0.9489412009239196,0.7724631004810333,0.6426886389732361,0.5469558821678162,0.4788058125972748,0.4338087704181671,0.4183783168554306,0.4507396502733231,0.5949644506931305,1.1592659786224366,2.6933808139801023,5.487667370605469,8.751097020721435,12.117841577148438],[2.9976332780838013,2.178777509529865,1.596337378196139,1.181799304880947,0.8810069770008325,0.6653989970713854,0.5147419035553932,0.4131051198244095,0.3488996070861816,0.315515078496933,0.3099450565338135,0.3338976130485535,0.39991481080055236,0.5449998016834259,0.8667527370452881,1.470406526374817,2.2899373043060303,3.4527036445617676,5.407702404785156,9.351208026123047],[2.270988028740883,1.548770888900756,1.0659109763849002,0.7432158148971386,0.5284695593118668,0.3886080370903015,0.3024798020362854,0.260352781021595,0.261318860411644,0.31311774582862856,0.43228798508644106,0.6353433911323547,0.9190683276176452,1.2504388126373291,1.6164582525253295,2.0014756113052368,2.36419730758667,3.115273029708862,4.9975916862487795,8.4570705368042],[1.9768229938401376,1.2618991295928135,0.8133838863717392,0.5381817061625421,0.37510799880325796,0.28919014139175414,0.2668708575725555,0.31584253888130187,0.46773824138641357,0.758351722240448,1.153897413444519,1.5282731405258179,1.8041980443954468,1.9982256381988526,2.1564018756866457,2.2717683666229247,2.4553954681396486,3.0655883560180666,4.586086317443848,7.413499342346191],[2.1732978644013405,1.3542685404539108,0.8484386751413345,0.56083908598423,0.42553111255168913,0.4099743425130844,0.5209029178619384,0.7895870206832886,1.2017794149398804,1.6306482721328734,1.9499872116088868,2.1370028228759765,2.2305458183288573,2.2785339252471926,2.2977996795654296,2.3258666313171386,2.4739045776367186,3.0377521839141846,4.477915366363526,7.525938907623291],[2.9928978328704834,1.9600054248809815,1.3150137621879578,0.9652484529495239,0.851459355354309,0.9480913880348205,1.230247383785248,1.5976418268203736,1.9180977514266968,2.1332555210113524,2.248096500015259,2.2952247772216796,2.309168249130249,2.310880366897583,2.314215612411499,2.3481499240875245,2.524890799331665,3.2081175506591797,5.162670587158203,9.663486708068847],[4.149839545059204,2.9496085289001464,2.1746875474929808,1.7535547578811645,1.6290354551315307,1.7150428838729859,1.8987475093841553,2.079257312011719,2.2064249111175536,2.2755839447021486,2.304637571334839,2.3123945350646973,2.3124920051574707,2.3163329750061035,2.333186926651001,2.4138501419067384,2.7363489768981935,3.842050503921509,6.874288678741455,13.342682292175294],[4.7669604225158695,3.603922678756714,2.8360694173812866,2.3871706516265867,2.1827675228118895,2.1416558811187745,2.1846505699157714,2.2460786838531495,2.2905779266357422,2.310138271713257,2.3142685035705566,2.314412241744995,2.3157918758392335,2.3271082805633543,2.390351304626465,2.6663196983337403,3.524512056350708,5.623111184692383,10.045607775878906,18.688986572265627],[5.167072605895996,3.9903840476989747,3.1794100902557374,2.6772930484771726,2.4137875942230225,2.3132600242614747,2.300010343551636,2.3143283821105958,2.324487491226196,2.3265778884887696,2.3237044174194335,2.3199323612213134,2.3285852611541746,2.4024526573181153,2.709366732788086,3.5833070499420168,5.562727198791504,9.37043082962036,16.06192554168701,27.522311337280275],[5.327791036987304,4.159965732192993,3.3573472442626953,2.8460271953582765,2.5548020698547362,2.419635305786133,2.3719509006500243,2.358674716949463,2.3525905117034913,2.348378260803223,2.3417668117523194,2.3539980628967285,2.463061432647705,2.870663006591797,3.8904799766540528,6.00093272857666,9.895624169921875,16.352895698547364,26.658493692016602,42.885545397949215],[5.497244509887695,4.336169720840454,3.5164296073913572,2.981355029296875,2.668838942337036,2.510313668823242,2.4413770011901854,2.4135745429992674,2.402521727371216,2.399817457962036,2.429159362792969,2.5926486213684083,3.146482601547241,4.464208547210693,7.037528121185303,11.504900900268554,18.625182522583007,29.42277783203125,45.44928766479492,69.03414912109375],[5.722034754180908,4.541073717498779,3.708652540588379,3.1615528079986572,2.8278269901275634,2.64873377532959,2.572282339477539,2.5439833431243897,2.5447680053710937,2.6072204502105714,2.8699918266296387,3.6510044105529786,5.433989847564697,8.77570807647705,14.297598963928223,22.65637203979492,34.826804580688474,52.175655010986326,76.62844857177734,110.81310688476563],[6.040270378112793,4.866048986053467,4.029235290527343,3.466446742630005,3.1312700775146483,2.9714042167663575,2.905459172439575,2.895525252532959,2.9899085639953613,3.3919796588897704,4.519716730499267,6.966070766448975,11.29718825378418,18.102290391540528,28.104705355834962,42.178357421875,61.60428161621094,88.15129738769531,124.1819642944336,172.84968173828125]],\"type\":\"surface\",\"contours\":{\"z\":{\"project\":{\"z\":true},\"highlightcolor\":\"limegreen\",\"show\":true,\"usecolormap\":true}}},{\"line\":{\"color\":\"blue\"},\"marker\":{\"color\":\"blue\",\"size\":5},\"mode\":\"markers+lines\",\"name\":\"Classic SGD m=0.9\",\"x\":[8.088591575622559,8.088560104370117,6.407351970672607,5.2186784744262695,5.217672824859619,4.169168949127197,3.244370698928833,3.243429660797119,2.386012315750122,1.6120153665542603,1.6114319562911987,0.9155203104019165,0.24762959778308868,0.24701756238937378,-0.38303956389427185,-0.9689050912857056,-0.9692474007606506,-1.5276018381118774,-2.029923677444458,-2.0304229259490967,-2.508272647857666,-2.965851306915283,-2.966543436050415,-3.4096999168395996,-3.8144702911376953,-3.814893960952759,-4.195838451385498,-4.5343337059021,-4.534382343292236,-4.880066871643066,-5.163956165313721],\"y\":[3.875185489654541,3.8751046657562256,0.9028571844100952,-0.40178629755973816,-0.4032635986804962,-1.0914111137390137,-1.476378321647644,-1.4769368171691895,-1.63456392288208,-1.6572989225387573,-1.6573917865753174,-1.565545678138733,-1.3894903659820557,-1.389088749885559,-1.162172794342041,-0.9504929184913635,-0.9494286179542542,-0.6494530439376831,-0.32135578989982605,-0.32145214080810547,-0.04285027086734772,0.26757746934890747,0.26746001839637756,0.5312522649765015,0.8319298028945923,0.8316925168037415,1.0885090827941895,1.3806558847427368,1.3821958303451538,1.553624153137207,1.752316951751709],\"z\":[2.200052585220337,2.2000414680480955,1.0884704252243043,0.4875048149585724,0.48713009157180787,0.34596853761672974,0.3140482313632965,0.3140339825630188,0.3083934950351715,0.3081808994293213,0.3081854496002197,0.30621067962646487,0.30134439764022825,0.3013287661552429,0.2943657351493835,0.2885720260620117,0.2885248250484467,0.2794232446193695,0.27031675462722776,0.27032317736148836,0.26416294581890104,0.25835617277622225,0.25836217133998873,0.25490330612659456,0.25200493203401564,0.2520092895388603,0.2508766501903534,0.2506128384709358,0.250613943362236,0.25148513561487196,0.2529703966617584],\"type\":\"scatter3d\"},{\"marker\":{\"color\":\"red\",\"size\":5},\"mode\":\"markers\",\"name\":\"global minimum\",\"x\":[-3.7689512654354704],\"y\":[0.4160639110364386],\"z\":[0.260352781021595],\"type\":\"scatter3d\"}],                        {\"coloraxis\":{\"cmax\":3.1659474433969463,\"cmin\":-0.5566348306033799,\"colorbar\":{\"title\":{\"text\":\"Loss magnitude\"}},\"colorscale\":[[0.0,\"#440154\"],[0.1111111111111111,\"#482878\"],[0.2222222222222222,\"#3e4989\"],[0.3333333333333333,\"#31688e\"],[0.4444444444444444,\"#26828e\"],[0.5555555555555556,\"#1f9e89\"],[0.6666666666666666,\"#35b779\"],[0.7777777777777778,\"#6ece58\"],[0.8888888888888888,\"#b5de2b\"],[1.0,\"#fde725\"]]},\"scene\":{\"xaxis\":{\"title\":{\"text\":\"PC1\"}},\"yaxis\":{\"title\":{\"text\":\"PC2\"}},\"zaxis\":{\"title\":{\"text\":\" Loss\"},\"type\":\"log\"}},\"template\":{\"data\":{\"histogram2dcontour\":[{\"type\":\"histogram2dcontour\",\"colorbar\":{\"outlinewidth\":0,\"ticks\":\"\"},\"colorscale\":[[0.0,\"#0d0887\"],[0.1111111111111111,\"#46039f\"],[0.2222222222222222,\"#7201a8\"],[0.3333333333333333,\"#9c179e\"],[0.4444444444444444,\"#bd3786\"],[0.5555555555555556,\"#d8576b\"],[0.6666666666666666,\"#ed7953\"],[0.7777777777777778,\"#fb9f3a\"],[0.8888888888888888,\"#fdca26\"],[1.0,\"#f0f921\"]]}],\"choropleth\":[{\"type\":\"choropleth\",\"colorbar\":{\"outlinewidth\":0,\"ticks\":\"\"}}],\"histogram2d\":[{\"type\":\"histogram2d\",\"colorbar\":{\"outlinewidth\":0,\"ticks\":\"\"},\"colorscale\":[[0.0,\"#0d0887\"],[0.1111111111111111,\"#46039f\"],[0.2222222222222222,\"#7201a8\"],[0.3333333333333333,\"#9c179e\"],[0.4444444444444444,\"#bd3786\"],[0.5555555555555556,\"#d8576b\"],[0.6666666666666666,\"#ed7953\"],[0.7777777777777778,\"#fb9f3a\"],[0.8888888888888888,\"#fdca26\"],[1.0,\"#f0f921\"]]}],\"heatmap\":[{\"type\":\"heatmap\",\"colorbar\":{\"outlinewidth\":0,\"ticks\":\"\"},\"colorscale\":[[0.0,\"#0d0887\"],[0.1111111111111111,\"#46039f\"],[0.2222222222222222,\"#7201a8\"],[0.3333333333333333,\"#9c179e\"],[0.4444444444444444,\"#bd3786\"],[0.5555555555555556,\"#d8576b\"],[0.6666666666666666,\"#ed7953\"],[0.7777777777777778,\"#fb9f3a\"],[0.8888888888888888,\"#fdca26\"],[1.0,\"#f0f921\"]]}],\"heatmapgl\":[{\"type\":\"heatmapgl\",\"colorbar\":{\"outlinewidth\":0,\"ticks\":\"\"},\"colorscale\":[[0.0,\"#0d0887\"],[0.1111111111111111,\"#46039f\"],[0.2222222222222222,\"#7201a8\"],[0.3333333333333333,\"#9c179e\"],[0.4444444444444444,\"#bd3786\"],[0.5555555555555556,\"#d8576b\"],[0.6666666666666666,\"#ed7953\"],[0.7777777777777778,\"#fb9f3a\"],[0.8888888888888888,\"#fdca26\"],[1.0,\"#f0f921\"]]}],\"contourcarpet\":[{\"type\":\"contourcarpet\",\"colorbar\":{\"outlinewidth\":0,\"ticks\":\"\"}}],\"contour\":[{\"type\":\"contour\",\"colorbar\":{\"outlinewidth\":0,\"ticks\":\"\"},\"colorscale\":[[0.0,\"#0d0887\"],[0.1111111111111111,\"#46039f\"],[0.2222222222222222,\"#7201a8\"],[0.3333333333333333,\"#9c179e\"],[0.4444444444444444,\"#bd3786\"],[0.5555555555555556,\"#d8576b\"],[0.6666666666666666,\"#ed7953\"],[0.7777777777777778,\"#fb9f3a\"],[0.8888888888888888,\"#fdca26\"],[1.0,\"#f0f921\"]]}],\"surface\":[{\"type\":\"surface\",\"colorbar\":{\"outlinewidth\":0,\"ticks\":\"\"},\"colorscale\":[[0.0,\"#0d0887\"],[0.1111111111111111,\"#46039f\"],[0.2222222222222222,\"#7201a8\"],[0.3333333333333333,\"#9c179e\"],[0.4444444444444444,\"#bd3786\"],[0.5555555555555556,\"#d8576b\"],[0.6666666666666666,\"#ed7953\"],[0.7777777777777778,\"#fb9f3a\"],[0.8888888888888888,\"#fdca26\"],[1.0,\"#f0f921\"]]}],\"mesh3d\":[{\"type\":\"mesh3d\",\"colorbar\":{\"outlinewidth\":0,\"ticks\":\"\"}}],\"scatter\":[{\"fillpattern\":{\"fillmode\":\"overlay\",\"size\":10,\"solidity\":0.2},\"type\":\"scatter\"}],\"parcoords\":[{\"type\":\"parcoords\",\"line\":{\"colorbar\":{\"outlinewidth\":0,\"ticks\":\"\"}}}],\"scatterpolargl\":[{\"type\":\"scatterpolargl\",\"marker\":{\"colorbar\":{\"outlinewidth\":0,\"ticks\":\"\"}}}],\"bar\":[{\"error_x\":{\"color\":\"#2a3f5f\"},\"error_y\":{\"color\":\"#2a3f5f\"},\"marker\":{\"line\":{\"color\":\"#E5ECF6\",\"width\":0.5},\"pattern\":{\"fillmode\":\"overlay\",\"size\":10,\"solidity\":0.2}},\"type\":\"bar\"}],\"scattergeo\":[{\"type\":\"scattergeo\",\"marker\":{\"colorbar\":{\"outlinewidth\":0,\"ticks\":\"\"}}}],\"scatterpolar\":[{\"type\":\"scatterpolar\",\"marker\":{\"colorbar\":{\"outlinewidth\":0,\"ticks\":\"\"}}}],\"histogram\":[{\"marker\":{\"pattern\":{\"fillmode\":\"overlay\",\"size\":10,\"solidity\":0.2}},\"type\":\"histogram\"}],\"scattergl\":[{\"type\":\"scattergl\",\"marker\":{\"colorbar\":{\"outlinewidth\":0,\"ticks\":\"\"}}}],\"scatter3d\":[{\"type\":\"scatter3d\",\"line\":{\"colorbar\":{\"outlinewidth\":0,\"ticks\":\"\"}},\"marker\":{\"colorbar\":{\"outlinewidth\":0,\"ticks\":\"\"}}}],\"scattermapbox\":[{\"type\":\"scattermapbox\",\"marker\":{\"colorbar\":{\"outlinewidth\":0,\"ticks\":\"\"}}}],\"scatterternary\":[{\"type\":\"scatterternary\",\"marker\":{\"colorbar\":{\"outlinewidth\":0,\"ticks\":\"\"}}}],\"scattercarpet\":[{\"type\":\"scattercarpet\",\"marker\":{\"colorbar\":{\"outlinewidth\":0,\"ticks\":\"\"}}}],\"carpet\":[{\"aaxis\":{\"endlinecolor\":\"#2a3f5f\",\"gridcolor\":\"white\",\"linecolor\":\"white\",\"minorgridcolor\":\"white\",\"startlinecolor\":\"#2a3f5f\"},\"baxis\":{\"endlinecolor\":\"#2a3f5f\",\"gridcolor\":\"white\",\"linecolor\":\"white\",\"minorgridcolor\":\"white\",\"startlinecolor\":\"#2a3f5f\"},\"type\":\"carpet\"}],\"table\":[{\"cells\":{\"fill\":{\"color\":\"#EBF0F8\"},\"line\":{\"color\":\"white\"}},\"header\":{\"fill\":{\"color\":\"#C8D4E3\"},\"line\":{\"color\":\"white\"}},\"type\":\"table\"}],\"barpolar\":[{\"marker\":{\"line\":{\"color\":\"#E5ECF6\",\"width\":0.5},\"pattern\":{\"fillmode\":\"overlay\",\"size\":10,\"solidity\":0.2}},\"type\":\"barpolar\"}],\"pie\":[{\"automargin\":true,\"type\":\"pie\"}]},\"layout\":{\"autotypenumbers\":\"strict\",\"colorway\":[\"#636efa\",\"#EF553B\",\"#00cc96\",\"#ab63fa\",\"#FFA15A\",\"#19d3f3\",\"#FF6692\",\"#B6E880\",\"#FF97FF\",\"#FECB52\"],\"font\":{\"color\":\"#2a3f5f\"},\"hovermode\":\"closest\",\"hoverlabel\":{\"align\":\"left\"},\"paper_bgcolor\":\"white\",\"plot_bgcolor\":\"#E5ECF6\",\"polar\":{\"bgcolor\":\"#E5ECF6\",\"angularaxis\":{\"gridcolor\":\"white\",\"linecolor\":\"white\",\"ticks\":\"\"},\"radialaxis\":{\"gridcolor\":\"white\",\"linecolor\":\"white\",\"ticks\":\"\"}},\"ternary\":{\"bgcolor\":\"#E5ECF6\",\"aaxis\":{\"gridcolor\":\"white\",\"linecolor\":\"white\",\"ticks\":\"\"},\"baxis\":{\"gridcolor\":\"white\",\"linecolor\":\"white\",\"ticks\":\"\"},\"caxis\":{\"gridcolor\":\"white\",\"linecolor\":\"white\",\"ticks\":\"\"}},\"coloraxis\":{\"colorbar\":{\"outlinewidth\":0,\"ticks\":\"\"}},\"colorscale\":{\"sequential\":[[0.0,\"#0d0887\"],[0.1111111111111111,\"#46039f\"],[0.2222222222222222,\"#7201a8\"],[0.3333333333333333,\"#9c179e\"],[0.4444444444444444,\"#bd3786\"],[0.5555555555555556,\"#d8576b\"],[0.6666666666666666,\"#ed7953\"],[0.7777777777777778,\"#fb9f3a\"],[0.8888888888888888,\"#fdca26\"],[1.0,\"#f0f921\"]],\"sequentialminus\":[[0.0,\"#0d0887\"],[0.1111111111111111,\"#46039f\"],[0.2222222222222222,\"#7201a8\"],[0.3333333333333333,\"#9c179e\"],[0.4444444444444444,\"#bd3786\"],[0.5555555555555556,\"#d8576b\"],[0.6666666666666666,\"#ed7953\"],[0.7777777777777778,\"#fb9f3a\"],[0.8888888888888888,\"#fdca26\"],[1.0,\"#f0f921\"]],\"diverging\":[[0,\"#8e0152\"],[0.1,\"#c51b7d\"],[0.2,\"#de77ae\"],[0.3,\"#f1b6da\"],[0.4,\"#fde0ef\"],[0.5,\"#f7f7f7\"],[0.6,\"#e6f5d0\"],[0.7,\"#b8e186\"],[0.8,\"#7fbc41\"],[0.9,\"#4d9221\"],[1,\"#276419\"]]},\"xaxis\":{\"gridcolor\":\"white\",\"linecolor\":\"white\",\"ticks\":\"\",\"title\":{\"standoff\":15},\"zerolinecolor\":\"white\",\"automargin\":true,\"zerolinewidth\":2},\"yaxis\":{\"gridcolor\":\"white\",\"linecolor\":\"white\",\"ticks\":\"\",\"title\":{\"standoff\":15},\"zerolinecolor\":\"white\",\"automargin\":true,\"zerolinewidth\":2},\"scene\":{\"xaxis\":{\"backgroundcolor\":\"#E5ECF6\",\"gridcolor\":\"white\",\"linecolor\":\"white\",\"showbackground\":true,\"ticks\":\"\",\"zerolinecolor\":\"white\",\"gridwidth\":2},\"yaxis\":{\"backgroundcolor\":\"#E5ECF6\",\"gridcolor\":\"white\",\"linecolor\":\"white\",\"showbackground\":true,\"ticks\":\"\",\"zerolinecolor\":\"white\",\"gridwidth\":2},\"zaxis\":{\"backgroundcolor\":\"#E5ECF6\",\"gridcolor\":\"white\",\"linecolor\":\"white\",\"showbackground\":true,\"ticks\":\"\",\"zerolinecolor\":\"white\",\"gridwidth\":2}},\"shapedefaults\":{\"line\":{\"color\":\"#2a3f5f\"}},\"annotationdefaults\":{\"arrowcolor\":\"#2a3f5f\",\"arrowhead\":0,\"arrowwidth\":1},\"geo\":{\"bgcolor\":\"white\",\"landcolor\":\"#E5ECF6\",\"subunitcolor\":\"white\",\"showland\":true,\"showlakes\":true,\"lakecolor\":\"white\"},\"title\":{\"x\":0.05},\"mapbox\":{\"style\":\"light\"}}},\"legend\":{\"orientation\":\"v\",\"x\":0,\"y\":0.5}},                        {\"responsive\": true}                    ).then(function(){\n",
       "                            \n",
       "var gd = document.getElementById('3f33bd70-4aca-462e-b79a-5d6525e3c6b1');\n",
       "var x = new MutationObserver(function (mutations, observer) {{\n",
       "        var display = window.getComputedStyle(gd).display;\n",
       "        if (!display || display === 'none') {{\n",
       "            console.log([gd, 'removed!']);\n",
       "            Plotly.purge(gd);\n",
       "            observer.disconnect();\n",
       "        }}\n",
       "}});\n",
       "\n",
       "// Listen for the removal of the full notebook cells\n",
       "var notebookContainer = gd.closest('#notebook-container');\n",
       "if (notebookContainer) {{\n",
       "    x.observe(notebookContainer, {childList: true});\n",
       "}}\n",
       "\n",
       "// Listen for the clearing of the current output cell\n",
       "var outputEl = gd.closest('.output');\n",
       "if (outputEl) {{\n",
       "    x.observe(outputEl, {childList: true});\n",
       "}}\n",
       "\n",
       "                        })                };                });            </script>        </div>"
      ]
     },
     "metadata": {},
     "output_type": "display_data"
    }
   ],
   "source": [
    "surface = go.Surface(\n",
    "    x=xx_9,\n",
    "    y=yy_9,\n",
    "    z=grid_losses_9,\n",
    "    opacity=0.8,\n",
    "    name=\"grid point\",\n",
    "    coloraxis=\"coloraxis\",\n",
    "    colorscale=\"Viridis\",\n",
    ")\n",
    "\n",
    "trajectory_names = [\n",
    "    \"Classic SGD m=0.9\",\n",
    "]\n",
    "trajectory_colors = ['blue', 'yellow', 'purple', 'cyan', 'magenta']  # Define more colors if you have more trajectories\n",
    "trajectories = []\n",
    "for i, (rw, tl) in enumerate(zip([new_reduced_weights[2]], trajectories_loss_reevaluted_9)):\n",
    "    traj = go.Scatter3d(\n",
    "        x=rw[:, 0],\n",
    "        y=rw[:, 1],\n",
    "        z=tl,\n",
    "        mode=\"markers+lines\",\n",
    "        line=dict(color=trajectory_colors[i % len(trajectory_colors)]),\n",
    "        marker=dict(color=trajectory_colors[i % len(trajectory_colors)], size=5),\n",
    "        name=trajectory_names[i],\n",
    "    )\n",
    "    trajectories.append(traj)\n",
    "\n",
    "layout = go.Layout(\n",
    "    scene=dict(xaxis_title=\"PC1\", yaxis_title=\"PC2\", zaxis_title=\" Loss\", zaxis=dict(type='log')),\n",
    "    coloraxis=dict(colorbar=dict(title=\"Loss magnitude\"), \n",
    "                   colorscale=\"Viridis\",\n",
    "                   cmin=np.log10(grid_losses.min()),  \n",
    "                    cmax=np.log10(grid_losses.max()),\n",
    "    ),\n",
    ")   \n",
    "\n",
    "fig = go.Figure(data=[surface]+ trajectories, layout=layout)\n",
    "\n",
    "fig.data[0].update(contours_z=dict(show=True, usecolormap=True,\n",
    "                              highlightcolor=\"limegreen\", project_z=True))\n",
    "\n",
    "_min_x_9, _min_y_9 = np.unravel_index(np.argmin(grid_losses_9), grid_losses_9.shape)\n",
    "min_point_9 = go.Scatter3d(\n",
    "    x=[xx_9[_min_x_9, _min_y_9]],\n",
    "    y=[yy_9[_min_x_9, _min_y_9]],\n",
    "    z=[grid_losses_9[_min_x_9, _min_y_9]],\n",
    "    mode='markers',\n",
    "    marker=dict(\n",
    "        size=5,\n",
    "        color='red',\n",
    "    ),\n",
    "    name=\"global minimum\"\n",
    ")\n",
    "\n",
    "fig.add_trace(min_point_9)\n",
    "\n",
    "fig.update_layout(legend=dict(orientation=\"v\", x=0, y=0.5))\n",
    "\n",
    "fig.show()"
   ]
  },
  {
   "cell_type": "code",
   "execution_count": null,
   "id": "fa69b6b1",
   "metadata": {},
   "outputs": [],
   "source": [
    "pio.write_html(fig, \"5_3d.html\")\n",
    "pio.write_html(fig2, \"5_contour.html\")"
   ]
  },
  {
   "cell_type": "markdown",
   "id": "a925ff82",
   "metadata": {},
   "source": [
    "try pca fit on the 3 (maybe add standardize for each before) than, find the rotation matrix to pca1 space for w2 and w3, potentially add translation so they have same origin  "
   ]
  },
  {
   "cell_type": "code",
   "execution_count": null,
   "id": "137281a6",
   "metadata": {},
   "outputs": [],
   "source": [
    "loaded_weights_np = np.concatenate([w_0, w_5, w_9], axis=0)\n",
    "\n",
    "scaler = StandardScaler()\n",
    "\n",
    "#standardized_weights0 = scaler.fit_transform(w_0)\n",
    "#standardized_weights05 = scaler.fit_transform(w_5)\n",
    "#standardized_weights09 = scaler.fit_transform(w_9)\n",
    "#all_weights = np.concatenate([standardized_weights0, standardized_weights05, standardized_weights09], axis=0)\n",
    "\n",
    "all_weights = scaler.fit_transform(loaded_weights_np)\n",
    "\n",
    "pca = PCA(n_components=2)\n",
    "pca.fit(all_weights)\n",
    "\n",
    "#projected_weights0 = pca.transform(standardized_weights0)\n",
    "#projected_weights5 = pca.transform(standardized_weights05)\n",
    "#projected_weights9 = pca.transform(standardized_weights09)\n",
    "\n",
    "projected_weights0 = pca.transform(all_weights[:len_w,:])\n",
    "projected_weights5 = pca.transform(all_weights[len_w:2*len_w,:])\n",
    "projected_weights9 = pca.transform(all_weights[2*len_w:,:])\n",
    "\n",
    "\n",
    "\n",
    "\n",
    "#projected_weights0 = pca.fit_transform(w_0)\n",
    "#projected_weights5 = pca.fit_transform(w_5)\n",
    "#projected_weights9 = pca.fit_transform(w_9)\n",
    "\n",
    "print(projected_weights0[0,:], projected_weights5[0,:], projected_weights9[0,:])\n",
    "print(projected_weights0[-1,:], projected_weights5[-1,:], projected_weights9[-1,:])\n",
    "\n",
    "plt.plot(projected_weights0[:,0],projected_weights0[:,1], marker=\"x\")\n",
    "plt.plot(projected_weights5[:,0],projected_weights5[:,1], marker=\"s\")\n",
    "plt.plot(projected_weights9[:,0],projected_weights9[:,1], marker=\"o\")\n",
    "plt.show()\n",
    "\n",
    "reduced_weights = [projected_weights0, projected_weights5, projected_weights9]\n",
    "\n",
    "loaded_weights_np = [w_0, w_5, w_9]\n",
    "\n",
    "classic_model = m_0"
   ]
  }
 ],
 "metadata": {
  "kernelspec": {
   "display_name": "Python (base)",
   "language": "python",
   "name": "base"
  },
  "language_info": {
   "codemirror_mode": {
    "name": "ipython",
    "version": 3
   },
   "file_extension": ".py",
   "mimetype": "text/x-python",
   "name": "python",
   "nbconvert_exporter": "python",
   "pygments_lexer": "ipython3",
   "version": "3.10.9"
  }
 },
 "nbformat": 4,
 "nbformat_minor": 5
}
