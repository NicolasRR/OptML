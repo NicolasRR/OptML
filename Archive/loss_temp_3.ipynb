{
 "cells": [
  {
   "cell_type": "code",
   "execution_count": 14,
   "id": "3f6a76e3",
   "metadata": {},
   "outputs": [],
   "source": [
    "from sklearn.decomposition import PCA\n",
    "import plotly.io as pio\n",
    "import plotly.graph_objs as go\n",
    "import numpy as np\n",
    "import torch\n",
    "import os\n",
    "from tqdm import tqdm\n",
    "from common import _get_model, create_testloader, LOSS_FUNC\n",
    "\n",
    "DEFAULT_GRID_SIZE = 50\n",
    "DEFAULT_BATCH_SIZE = 128\n",
    "\n",
    "\n",
    "\n",
    "\n",
    "def set_weights(model, weights):\n",
    "    weight_dict = {}\n",
    "    idx = 0\n",
    "    for key, param in model.state_dict().items():\n",
    "        size = int(np.prod(param.shape))\n",
    "        weight_dict[key] = torch.tensor(weights[idx : idx + size]).view(param.shape)\n",
    "        idx += size\n",
    "\n",
    "    model.load_state_dict(weight_dict)\n",
    "    return model\n"
   ]
  },
  {
   "cell_type": "code",
   "execution_count": 57,
   "id": "bd4056e7",
   "metadata": {},
   "outputs": [
    {
     "data": {
      "text/plain": [
       "(61706,)"
      ]
     },
     "execution_count": 57,
     "metadata": {},
     "output_type": "execute_result"
    }
   ],
   "source": [
    "loaded_weights_np = np.load(\"fashion_mnist_async_4_100_0005_00_32_6_SGD_spe3_val_weights.npy\")\n",
    "weights = loaded_weights_np[0]\n",
    "weights.shape"
   ]
  },
  {
   "cell_type": "code",
   "execution_count": 15,
   "id": "a6d80b85",
   "metadata": {},
   "outputs": [],
   "source": [
    "batch_size = DEFAULT_BATCH_SIZE\n",
    "subfolder = \"\"\n",
    "grid_size = 20\n",
    "path_grid_losses = \"\"\n",
    "path_grid_xx = \"\"\n",
    "path_grid_yy = \"\"\n",
    "grid_save=True"
   ]
  },
  {
   "cell_type": "code",
   "execution_count": 37,
   "id": "bb9be674",
   "metadata": {},
   "outputs": [
    {
     "data": {
      "text/html": [
       "<style>#sk-container-id-3 {color: black;background-color: white;}#sk-container-id-3 pre{padding: 0;}#sk-container-id-3 div.sk-toggleable {background-color: white;}#sk-container-id-3 label.sk-toggleable__label {cursor: pointer;display: block;width: 100%;margin-bottom: 0;padding: 0.3em;box-sizing: border-box;text-align: center;}#sk-container-id-3 label.sk-toggleable__label-arrow:before {content: \"▸\";float: left;margin-right: 0.25em;color: #696969;}#sk-container-id-3 label.sk-toggleable__label-arrow:hover:before {color: black;}#sk-container-id-3 div.sk-estimator:hover label.sk-toggleable__label-arrow:before {color: black;}#sk-container-id-3 div.sk-toggleable__content {max-height: 0;max-width: 0;overflow: hidden;text-align: left;background-color: #f0f8ff;}#sk-container-id-3 div.sk-toggleable__content pre {margin: 0.2em;color: black;border-radius: 0.25em;background-color: #f0f8ff;}#sk-container-id-3 input.sk-toggleable__control:checked~div.sk-toggleable__content {max-height: 200px;max-width: 100%;overflow: auto;}#sk-container-id-3 input.sk-toggleable__control:checked~label.sk-toggleable__label-arrow:before {content: \"▾\";}#sk-container-id-3 div.sk-estimator input.sk-toggleable__control:checked~label.sk-toggleable__label {background-color: #d4ebff;}#sk-container-id-3 div.sk-label input.sk-toggleable__control:checked~label.sk-toggleable__label {background-color: #d4ebff;}#sk-container-id-3 input.sk-hidden--visually {border: 0;clip: rect(1px 1px 1px 1px);clip: rect(1px, 1px, 1px, 1px);height: 1px;margin: -1px;overflow: hidden;padding: 0;position: absolute;width: 1px;}#sk-container-id-3 div.sk-estimator {font-family: monospace;background-color: #f0f8ff;border: 1px dotted black;border-radius: 0.25em;box-sizing: border-box;margin-bottom: 0.5em;}#sk-container-id-3 div.sk-estimator:hover {background-color: #d4ebff;}#sk-container-id-3 div.sk-parallel-item::after {content: \"\";width: 100%;border-bottom: 1px solid gray;flex-grow: 1;}#sk-container-id-3 div.sk-label:hover label.sk-toggleable__label {background-color: #d4ebff;}#sk-container-id-3 div.sk-serial::before {content: \"\";position: absolute;border-left: 1px solid gray;box-sizing: border-box;top: 0;bottom: 0;left: 50%;z-index: 0;}#sk-container-id-3 div.sk-serial {display: flex;flex-direction: column;align-items: center;background-color: white;padding-right: 0.2em;padding-left: 0.2em;position: relative;}#sk-container-id-3 div.sk-item {position: relative;z-index: 1;}#sk-container-id-3 div.sk-parallel {display: flex;align-items: stretch;justify-content: center;background-color: white;position: relative;}#sk-container-id-3 div.sk-item::before, #sk-container-id-3 div.sk-parallel-item::before {content: \"\";position: absolute;border-left: 1px solid gray;box-sizing: border-box;top: 0;bottom: 0;left: 50%;z-index: -1;}#sk-container-id-3 div.sk-parallel-item {display: flex;flex-direction: column;z-index: 1;position: relative;background-color: white;}#sk-container-id-3 div.sk-parallel-item:first-child::after {align-self: flex-end;width: 50%;}#sk-container-id-3 div.sk-parallel-item:last-child::after {align-self: flex-start;width: 50%;}#sk-container-id-3 div.sk-parallel-item:only-child::after {width: 0;}#sk-container-id-3 div.sk-dashed-wrapped {border: 1px dashed gray;margin: 0 0.4em 0.5em 0.4em;box-sizing: border-box;padding-bottom: 0.4em;background-color: white;}#sk-container-id-3 div.sk-label label {font-family: monospace;font-weight: bold;display: inline-block;line-height: 1.2em;}#sk-container-id-3 div.sk-label-container {text-align: center;}#sk-container-id-3 div.sk-container {/* jupyter's `normalize.less` sets `[hidden] { display: none; }` but bootstrap.min.css set `[hidden] { display: none !important; }` so we also need the `!important` here to be able to override the default hidden behavior on the sphinx rendered scikit-learn.org. See: https://github.com/scikit-learn/scikit-learn/issues/21755 */display: inline-block !important;position: relative;}#sk-container-id-3 div.sk-text-repr-fallback {display: none;}</style><div id=\"sk-container-id-3\" class=\"sk-top-container\"><div class=\"sk-text-repr-fallback\"><pre>PCA(n_components=2)</pre><b>In a Jupyter environment, please rerun this cell to show the HTML representation or trust the notebook. <br />On GitHub, the HTML representation is unable to render, please try loading this page with nbviewer.org.</b></div><div class=\"sk-container\" hidden><div class=\"sk-item\"><div class=\"sk-estimator sk-toggleable\"><input class=\"sk-toggleable__control sk-hidden--visually\" id=\"sk-estimator-id-3\" type=\"checkbox\" checked><label for=\"sk-estimator-id-3\" class=\"sk-toggleable__label sk-toggleable__label-arrow\">PCA</label><div class=\"sk-toggleable__content\"><pre>PCA(n_components=2)</pre></div></div></div></div></div>"
      ],
      "text/plain": [
       "PCA(n_components=2)"
      ]
     },
     "execution_count": 37,
     "metadata": {},
     "output_type": "execute_result"
    }
   ],
   "source": [
    "async_m00_model = \"fashion_mnist_async_4_100_0005_00_32_6_SGD_spe3_val_model.pt\"\n",
    "classic_model = async_m00_model\n",
    "\n",
    "async_m00_weights= \"fashion_mnist_async_4_100_0005_00_32_6_SGD_spe3_val_weights.npy\"\n",
    "async_m50_weights= \"fashion_mnist_async_4_100_0005_05_32_6_SGD_spe3_val_weights.npy\"\n",
    "async_m90_weights= \"fashion_mnist_async_4_100_0005_09_32_6_SGD_spe3_val_weights.npy\"\n",
    "async_m95_weights= \"fashion_mnist_async_4_100_0005_095_32_6_SGD_spe3_val_weights.npy\"\n",
    "#async_m99_weights= \"fashion_mnist_async_4_100_0005_099_32_6_SGD_spe3_val_weights.npy\"\n",
    "#async_alr_weights= \"fashion_mnist_async_4_100_0001_09_32_6_ADAM_spe3_val_weights.npy\"\n",
    "\n",
    "#weights_paths = [classic_weights, async_m00_weights, async_m50_weights, async_m90_weights, async_m95_weights, async_m99_weights, async_alr_weights,]\n",
    "#weights_paths = [classic_weights, async_m00_weights, async_m50_weights, async_m90_weights, async_m95_weights, async_m99_weights,]\n",
    "#weights_paths = [async_m00_weights, async_m50_weights, async_m90_weights, async_m95_weights, async_m99_weights, async_alr_weights,]\n",
    "weights_paths = [async_m00_weights, async_m50_weights, async_m90_weights, async_m95_weights, ]\n",
    "loaded_weights_np = []\n",
    "for wp in weights_paths:\n",
    "    loaded_weights_np.append(np.load(wp))\n",
    "    if \"classic\" in wp:\n",
    "        print(f\"Saved weights shape: {loaded_weights_np[-1].shape}\")\n",
    "#%%\n",
    "# perform PCA on the classic weights loaded_weights_np[0], remember the transformation to apply it to the other saved weights\n",
    "pca = PCA(n_components=2)\n",
    "\n",
    "# Convert the 3D list to a NumPy array\n",
    "matrix_array = np.array(loaded_weights_np)\n",
    "# Reshape the array to combine the matrices horizontally\n",
    "combined_matrix = np.vstack(matrix_array)\n",
    "pca.fit(combined_matrix)"
   ]
  },
  {
   "cell_type": "code",
   "execution_count": 31,
   "id": "e6b8bbb7",
   "metadata": {},
   "outputs": [
    {
     "data": {
      "text/plain": [
       "(4, 18, 61706)"
      ]
     },
     "execution_count": 31,
     "metadata": {},
     "output_type": "execute_result"
    }
   ],
   "source": [
    "matrix_array.shape"
   ]
  },
  {
   "cell_type": "code",
   "execution_count": 29,
   "id": "913b9923",
   "metadata": {},
   "outputs": [
    {
     "data": {
      "text/plain": [
       "(4, 18, 61706)"
      ]
     },
     "execution_count": 29,
     "metadata": {},
     "output_type": "execute_result"
    }
   ],
   "source": [
    "matrix_array.shape"
   ]
  },
  {
   "cell_type": "code",
   "execution_count": 32,
   "id": "b9a9df46",
   "metadata": {},
   "outputs": [
    {
     "data": {
      "text/plain": [
       "(72, 61706)"
      ]
     },
     "execution_count": 32,
     "metadata": {},
     "output_type": "execute_result"
    }
   ],
   "source": [
    "combined_matrix.shape"
   ]
  },
  {
   "cell_type": "code",
   "execution_count": 39,
   "id": "51de1ee1",
   "metadata": {},
   "outputs": [
    {
     "name": "stdout",
     "output_type": "stream",
     "text": [
      "[[-3.883755  -5.031143 ]\n",
      " [-4.0169983 -5.3292594]\n",
      " [-4.0386176 -5.4277287]\n",
      " [-4.038676  -5.4281178]\n",
      " [-4.0517344 -5.509659 ]\n",
      " [-4.060385  -5.5777564]\n",
      " [-4.0605984 -5.5776186]\n",
      " [-4.060439  -5.6292663]\n",
      " [-4.0636187 -5.667843 ]\n",
      " [-4.0629797 -5.6676064]\n",
      " [-4.0599074 -5.700501 ]\n",
      " [-4.0593667 -5.724924 ]\n",
      " [-4.059468  -5.7251525]\n",
      " [-4.055594  -5.747815 ]\n",
      " [-4.053155  -5.764484 ]\n",
      " [-4.0529003 -5.7653646]\n",
      " [-4.0448437 -5.780241 ]\n",
      " [-4.0466905 -5.797509 ]]\n",
      "[[-3.8837574 -5.031147 ]\n",
      " [-4.017     -5.329259 ]\n",
      " [-4.038618  -5.42773  ]\n",
      " [-4.038678  -5.428119 ]\n",
      " [-4.051736  -5.5096574]\n",
      " [-4.060386  -5.57776  ]\n",
      " [-4.0605984 -5.5776196]\n",
      " [-4.060441  -5.6292663]\n",
      " [-4.063618  -5.667843 ]\n",
      " [-4.0629816 -5.6676064]\n",
      " [-4.059908  -5.700499 ]\n",
      " [-4.0593677 -5.724928 ]\n",
      " [-4.05947   -5.725153 ]\n",
      " [-4.055595  -5.747817 ]\n",
      " [-4.053157  -5.7644873]\n",
      " [-4.0529013 -5.7653637]\n",
      " [-4.0448437 -5.780242 ]\n",
      " [-4.0466914 -5.797509 ]]\n"
     ]
    }
   ],
   "source": [
    "print(pca.fit_transform(combined_matrix)[:18,])\n",
    "pca.fit(combined_matrix)\n",
    "\n",
    "print(pca.transform(combined_matrix[:18,]))"
   ]
  },
  {
   "cell_type": "code",
   "execution_count": 53,
   "id": "1c0bbbb5",
   "metadata": {},
   "outputs": [],
   "source": [
    "a = [[1,2,3],[4,5,6],[7,8,9]]"
   ]
  },
  {
   "cell_type": "code",
   "execution_count": 55,
   "id": "0ff02c81",
   "metadata": {},
   "outputs": [
    {
     "name": "stdout",
     "output_type": "stream",
     "text": [
      "0 [1, 2, 3]\n",
      "1 [4, 5, 6]\n",
      "2 [7, 8, 9]\n"
     ]
    }
   ],
   "source": [
    "for i, w in enumerate((a)):\n",
    "    print(i, w)"
   ]
  },
  {
   "cell_type": "code",
   "execution_count": 56,
   "id": "7b824bfb",
   "metadata": {},
   "outputs": [
    {
     "name": "stdout",
     "output_type": "stream",
     "text": [
      "0 [7, 8, 9]\n",
      "1 [4, 5, 6]\n",
      "2 [1, 2, 3]\n"
     ]
    }
   ],
   "source": [
    "for i, w in enumerate(reversed(a)):\n",
    "    print(i, w)"
   ]
  },
  {
   "cell_type": "code",
   "execution_count": 42,
   "id": "f45862a5",
   "metadata": {},
   "outputs": [],
   "source": [
    "\n",
    "reduced_weights = []\n",
    "for i, w in enumerate(reversed(loaded_weights_np)):\n",
    "    #if i == 0:\n",
    "    #    reduced_weights.append(pca.fit(w))\n",
    "\n",
    "    reduced_weights.append(pca.transform(w))"
   ]
  },
  {
   "cell_type": "code",
   "execution_count": 45,
   "id": "02141251",
   "metadata": {},
   "outputs": [
    {
     "data": {
      "text/plain": [
       "(18, 2)"
      ]
     },
     "execution_count": 45,
     "metadata": {},
     "output_type": "execute_result"
    }
   ],
   "source": [
    "reduced_weights[0].shape"
   ]
  },
  {
   "cell_type": "code",
   "execution_count": 47,
   "id": "01722367",
   "metadata": {},
   "outputs": [
    {
     "data": {
      "image/png": "[encoded data removed]",
      "text/plain": [
       "<Figure size 640x480 with 1 Axes>"
      ]
     },
     "metadata": {},
     "output_type": "display_data"
    }
   ],
   "source": [
    "from matplotlib import pyplot as plt\n",
    "\n",
    "plt.plot(reduced_weights[0][:,0],reduced_weights[0][:,1])\n",
    "plt.plot(reduced_weights[1][:,0],reduced_weights[1][:,1])\n",
    "plt.plot(reduced_weights[2][:,0],reduced_weights[2][:,1])\n",
    "plt.plot(reduced_weights[3][:,0],reduced_weights[3][:,1])\n",
    "\n",
    "plt.show()"
   ]
  },
  {
   "cell_type": "code",
   "execution_count": null,
   "id": "dd3ac8a4",
   "metadata": {},
   "outputs": [],
   "source": [
    "\n",
    "reduced_weights = []\n",
    "_min_w = 99999999\n",
    "_max_w = 0\n",
    "#for i, w in enumerate(loaded_weights_np):\n",
    "for i, w in enumerate(reversed(loaded_weights_np)):\n",
    "    #if i == 0:\n",
    "    #    reduced_weights.append(pca.fit(w))\n",
    "\n",
    "    reduced_weights.append(pca.transform(w))\n",
    "\n",
    "    _min = np.min(reduced_weights[-1])\n",
    "    _max = np.max(reduced_weights[-1])\n",
    "\n",
    "    if _min < _min_w:\n",
    "        _min_w = _min\n",
    "    if _max > _max_w:\n",
    "        _max_w = _max \n",
    "\n",
    "\n",
    "_min_w = _min_w -1\n",
    "_max_w = _max_w +1\n",
    "\n",
    "if path_grid_losses is None and path_grid_xx is None and path_grid_yy is None:\n",
    "    grid_range_x = np.linspace(_min_w, _max_w, grid_size)\n",
    "    grid_range_y = np.linspace(_min_w, _max_w, grid_size)\n",
    "\n",
    "    xx, yy = np.meshgrid(grid_range_x, grid_range_y)\n",
    "\n",
    "    grid_points = np.column_stack((xx.ravel(), yy.ravel()))\n",
    "    grid_weights = pca.inverse_transform(grid_points)\n",
    "\n",
    "for i, rw in enumerate(reduced_weights):\n",
    "    #if i != 0:\n",
    "        #loaded_weights_np[i] = pca.inverse_transform(rw)\n",
    "    loaded_weights_np[i] = pca.inverse_transform(rw)\n",
    "\n",
    "loader = create_testloader(classic_model, batch_size)\n",
    "if \"alt_model\" in classic_model:\n",
    "    model = _get_model(classic_model, LOSS_FUNC, alt_model=True)\n",
    "else:\n",
    "    model = _get_model(classic_model, LOSS_FUNC, alt_model=False)\n",
    "\n",
    "model.load_state_dict(torch.load(classic_model))\n",
    "model.eval()\n",
    "\n",
    "# Grid training\n",
    "if path_grid_losses is None and path_grid_xx is None and path_grid_yy is None:\n",
    "\n",
    "\n",
    "    grid_losses = []\n",
    "\n",
    "    progress_bar = tqdm(\n",
    "        total=len(grid_weights),\n",
    "        desc=\"Computing loss of grid weights\",\n",
    "        unit=\"model_weights\",\n",
    "    )\n",
    "\n",
    "    with torch.no_grad():\n",
    "        for weights in grid_weights:\n",
    "            model = set_weights(model, weights)\n",
    "\n",
    "            running_loss = 0.0\n",
    "            for inputs, labels in loader:\n",
    "                outputs = model(inputs)\n",
    "                loss = LOSS_FUNC(outputs, labels)\n",
    "                running_loss += loss.item() * inputs.size(0)\n",
    "\n",
    "            grid_losses.append(running_loss / len(loader.dataset))\n",
    "            progress_bar.update(1)\n",
    "            progress_bar.set_postfix(grid_loss=grid_losses[-1])\n",
    "\n",
    "    progress_bar.close()\n",
    "\n",
    "    grid_losses = np.array(grid_losses).reshape(grid_size, grid_size)\n",
    "\n",
    "    if grid_save:\n",
    "\n",
    "        model_filename = os.path.basename(classic_model)\n",
    "        model_basename, _ = os.path.splitext(model_filename)\n",
    "\n",
    "        if len(subfolder) > 0:\n",
    "            if not os.path.exists(subfolder):\n",
    "                os.makedirs(subfolder)\n",
    "\n",
    "        np.save(f\"{model_basename}_grid_losses.npy\", grid_losses)\n",
    "        np.save(f\"{model_basename}_grid_xx.npy\", xx)\n",
    "        np.save(f\"{model_basename}_grid_yy.npy\", yy)\n",
    "        print(f\"Saved grid losses to: {f'{model_basename}_grid_losses.npy'}\")\n",
    "        print(f\"Saved grid xx to: {f'{model_basename}_grid_xx.npy'}\")\n",
    "        print(f\"Saved grid yy to: {f'{model_basename}_grid_yy.npy'}\")\n",
    "else:\n",
    "    xx = np.load(path_grid_xx)\n",
    "    yy = np.load(path_grid_yy)\n",
    "    grid_losses = np.load(path_grid_losses)\n",
    "    print(\"Loadded grid_losses, grid_xx and grid_yy\")\n",
    "\n",
    "# trajectories evaluationa\n",
    "trajectories_loss_reevaluted = []\n",
    "for w in loaded_weights_np:\n",
    "    trajectory_loss_reevaluted = []\n",
    "    progress_bar2 = tqdm(\n",
    "        total=len(w),\n",
    "        desc=\"Computing loss of trajectory weights\",\n",
    "        unit=\"model_weights\",\n",
    "    )\n",
    "\n",
    "    with torch.no_grad():\n",
    "        for weights in w:\n",
    "            model = set_weights(model, weights)\n",
    "\n",
    "            running_loss = 0.0\n",
    "            for inputs, labels in loader:\n",
    "                outputs = model(inputs)\n",
    "                loss = LOSS_FUNC(outputs, labels)\n",
    "                running_loss += loss.item() * inputs.size(0)\n",
    "\n",
    "            trajectory_loss_reevaluted.append(running_loss / len(loader.dataset))\n",
    "            progress_bar2.update(1)\n",
    "            progress_bar2.set_postfix(trajectory_loss=trajectory_loss_reevaluted[-1])\n",
    "\n",
    "    progress_bar2.close()\n",
    "    trajectories_loss_reevaluted.append(trajectory_loss_reevaluted)"
   ]
  },
  {
   "cell_type": "code",
   "execution_count": null,
   "id": "44540c76",
   "metadata": {},
   "outputs": [],
   "source": [
    "\n",
    "\n",
    "\n",
    "\n",
    "surface = go.Surface(\n",
    "    x=xx,\n",
    "    y=yy,\n",
    "    z=grid_losses,\n",
    "    opacity=0.8,\n",
    "    name=\"grid point\",\n",
    "    coloraxis=\"coloraxis\",\n",
    "    colorscale=\"Viridis\",\n",
    ")\n",
    "\n",
    "trajectory_names = [\n",
    "    #\"Classic SGD m=0.0\",\n",
    "    \"Async SGD m=0.0\",\n",
    "    \"Async SGD m=0.50\",\n",
    "    \"Async SGD m=0.90\",\n",
    "    \"Async SGD m=0.95\",\n",
    "    #\"Async SGD m=0.99\",\n",
    "    #\"Async ADAM\",\n",
    "]\n",
    "trajectory_names = trajectory_names[::-1] #uncomment if you reversed above\n",
    "trajectory_colors = ['orange', 'green', 'blue', 'yellow', 'purple', 'cyan', 'magenta']  # Define more colors if you have more trajectories\n",
    "trajectories = []\n",
    "for i, (rw, tl) in enumerate(zip(reduced_weights, trajectories_loss_reevaluted)):\n",
    "    traj = go.Scatter3d(\n",
    "        x=rw[:, 0],\n",
    "        y=rw[:, 1],\n",
    "        z=tl,\n",
    "        mode=\"markers+lines\",\n",
    "        line=dict(color=trajectory_colors[i % len(trajectory_colors)]),\n",
    "        marker=dict(color=trajectory_colors[i % len(trajectory_colors)], size=5),\n",
    "        name=trajectory_names[i],\n",
    "    )\n",
    "    trajectories.append(traj)\n",
    "\n",
    "layout = go.Layout(\n",
    "    scene=dict(xaxis_title=\"PC1\", yaxis_title=\"PC2\", zaxis_title=\" Loss\", zaxis=dict(type='log')),\n",
    "    coloraxis=dict(colorbar=dict(title=\"Loss magnitude\"), \n",
    "                   colorscale=\"Viridis\",\n",
    "                   cmin=np.log10(grid_losses.min()),  \n",
    "                    cmax=np.log10(grid_losses.max()),\n",
    "    ),\n",
    ")   \n",
    "\n",
    "fig = go.Figure(data=[surface]+ trajectories, layout=layout)\n",
    "\n",
    "fig.data[0].update(contours_z=dict(show=True, usecolormap=True,\n",
    "                              highlightcolor=\"limegreen\", project_z=True))\n",
    "\n",
    "_min_x, _min_y = np.unravel_index(np.argmin(grid_losses), grid_losses.shape)\n",
    "min_point = go.Scatter3d(\n",
    "    x=[xx[_min_x, _min_y]],\n",
    "    y=[yy[_min_x, _min_y]],\n",
    "    z=[grid_losses[_min_x, _min_y]],\n",
    "    mode='markers',\n",
    "    marker=dict(\n",
    "        size=5,\n",
    "        color='red',\n",
    "    ),\n",
    "    name=\"global minimum\"\n",
    ")\n",
    "\n",
    "fig.add_trace(min_point)\n",
    "\n",
    "fig.update_layout(legend=dict(orientation=\"v\", x=0, y=0.5))\n",
    "\n",
    "\n",
    "fig2 = go.Figure(data=[go.Contour(x=xx.flatten(), y=yy.flatten(), z=np.log10(grid_losses.flatten()), colorscale='Viridis')])\n",
    "\n",
    "trajectories = []\n",
    "for i, rw in enumerate(reduced_weights):\n",
    "    traj = go.Scatter(\n",
    "        x=rw[:, 0],  # x-axis\n",
    "        y=rw[:, 1],  # y-axis\n",
    "        mode=\"markers+lines\",\n",
    "        line=dict(color=trajectory_colors[i % len(trajectory_colors)]),\n",
    "        marker=dict(color=trajectory_colors[i % len(trajectory_colors)], size=5),\n",
    "        name=trajectory_names[i],\n",
    "    )\n",
    "    trajectories.append(traj)\n",
    "\n",
    "for traj in trajectories:\n",
    "    fig2.add_trace(traj)\n",
    "\n",
    "fig2.update_layout(\n",
    "    title='Contour Plot with trajectories Projection',\n",
    "    xaxis_title='X',\n",
    "    yaxis_title='Y',\n",
    "    legend=dict(orientation=\"v\", x=0, y=0.5)\n",
    ")\n",
    "\n"
   ]
  }
 ],
 "metadata": {
  "kernelspec": {
   "display_name": "Python (base)",
   "language": "python",
   "name": "base"
  },
  "language_info": {
   "codemirror_mode": {
    "name": "ipython",
    "version": 3
   },
   "file_extension": ".py",
   "mimetype": "text/x-python",
   "name": "python",
   "nbconvert_exporter": "python",
   "pygments_lexer": "ipython3",
   "version": "3.10.9"
  }
 },
 "nbformat": 4,
 "nbformat_minor": 5
}
